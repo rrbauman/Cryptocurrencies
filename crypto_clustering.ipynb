{
 "cells": [
  {
   "cell_type": "markdown",
   "metadata": {},
   "source": [
    "# Clustering Crypto"
   ]
  },
  {
   "cell_type": "code",
   "execution_count": 2,
   "metadata": {},
   "outputs": [],
   "source": [
    "# Initial imports\n",
    "import pandas as pd\n",
    "import hvplot.pandas\n",
    "from path import Path\n",
    "import plotly.express as px\n",
    "from sklearn.preprocessing import StandardScaler, MinMaxScaler\n",
    "from sklearn.decomposition import PCA\n",
    "from sklearn.cluster import KMeans\n"
   ]
  },
  {
   "cell_type": "markdown",
   "metadata": {},
   "source": [
    "### Deliverable 1: Preprocessing the Data for PCA"
   ]
  },
  {
   "cell_type": "code",
   "execution_count": 11,
   "metadata": {},
   "outputs": [
    {
     "data": {
      "text/html": [
       "<div>\n",
       "<style scoped>\n",
       "    .dataframe tbody tr th:only-of-type {\n",
       "        vertical-align: middle;\n",
       "    }\n",
       "\n",
       "    .dataframe tbody tr th {\n",
       "        vertical-align: top;\n",
       "    }\n",
       "\n",
       "    .dataframe thead th {\n",
       "        text-align: right;\n",
       "    }\n",
       "</style>\n",
       "<table border=\"1\" class=\"dataframe\">\n",
       "  <thead>\n",
       "    <tr style=\"text-align: right;\">\n",
       "      <th></th>\n",
       "      <th>CoinName</th>\n",
       "      <th>Algorithm</th>\n",
       "      <th>IsTrading</th>\n",
       "      <th>ProofType</th>\n",
       "      <th>TotalCoinsMined</th>\n",
       "      <th>TotalCoinSupply</th>\n",
       "    </tr>\n",
       "  </thead>\n",
       "  <tbody>\n",
       "    <tr>\n",
       "      <th>42</th>\n",
       "      <td>42 Coin</td>\n",
       "      <td>Scrypt</td>\n",
       "      <td>True</td>\n",
       "      <td>PoW/PoS</td>\n",
       "      <td>4.199995e+01</td>\n",
       "      <td>42</td>\n",
       "    </tr>\n",
       "    <tr>\n",
       "      <th>365</th>\n",
       "      <td>365Coin</td>\n",
       "      <td>X11</td>\n",
       "      <td>True</td>\n",
       "      <td>PoW/PoS</td>\n",
       "      <td>NaN</td>\n",
       "      <td>2300000000</td>\n",
       "    </tr>\n",
       "    <tr>\n",
       "      <th>404</th>\n",
       "      <td>404Coin</td>\n",
       "      <td>Scrypt</td>\n",
       "      <td>True</td>\n",
       "      <td>PoW/PoS</td>\n",
       "      <td>1.055185e+09</td>\n",
       "      <td>532000000</td>\n",
       "    </tr>\n",
       "    <tr>\n",
       "      <th>611</th>\n",
       "      <td>SixEleven</td>\n",
       "      <td>SHA-256</td>\n",
       "      <td>True</td>\n",
       "      <td>PoW</td>\n",
       "      <td>NaN</td>\n",
       "      <td>611000</td>\n",
       "    </tr>\n",
       "    <tr>\n",
       "      <th>808</th>\n",
       "      <td>808</td>\n",
       "      <td>SHA-256</td>\n",
       "      <td>True</td>\n",
       "      <td>PoW/PoS</td>\n",
       "      <td>0.000000e+00</td>\n",
       "      <td>0</td>\n",
       "    </tr>\n",
       "  </tbody>\n",
       "</table>\n",
       "</div>"
      ],
      "text/plain": [
       "      CoinName Algorithm  IsTrading ProofType  TotalCoinsMined TotalCoinSupply\n",
       "42     42 Coin    Scrypt       True   PoW/PoS     4.199995e+01              42\n",
       "365    365Coin       X11       True   PoW/PoS              NaN      2300000000\n",
       "404    404Coin    Scrypt       True   PoW/PoS     1.055185e+09       532000000\n",
       "611  SixEleven   SHA-256       True       PoW              NaN          611000\n",
       "808        808   SHA-256       True   PoW/PoS     0.000000e+00               0"
      ]
     },
     "execution_count": 11,
     "metadata": {},
     "output_type": "execute_result"
    }
   ],
   "source": [
    "# Load the crypto_data.csv dataset.\n",
    "file_path = ('./Resources/crypto_data.csv')\n",
    "crypto_df = pd.read_csv(file_path, index_col=0)\n",
    "crypto_df.head()"
   ]
  },
  {
   "cell_type": "code",
   "execution_count": 12,
   "metadata": {},
   "outputs": [
    {
     "data": {
      "text/html": [
       "<div>\n",
       "<style scoped>\n",
       "    .dataframe tbody tr th:only-of-type {\n",
       "        vertical-align: middle;\n",
       "    }\n",
       "\n",
       "    .dataframe tbody tr th {\n",
       "        vertical-align: top;\n",
       "    }\n",
       "\n",
       "    .dataframe thead th {\n",
       "        text-align: right;\n",
       "    }\n",
       "</style>\n",
       "<table border=\"1\" class=\"dataframe\">\n",
       "  <thead>\n",
       "    <tr style=\"text-align: right;\">\n",
       "      <th></th>\n",
       "      <th>CoinName</th>\n",
       "      <th>Algorithm</th>\n",
       "      <th>IsTrading</th>\n",
       "      <th>ProofType</th>\n",
       "      <th>TotalCoinsMined</th>\n",
       "      <th>TotalCoinSupply</th>\n",
       "    </tr>\n",
       "  </thead>\n",
       "  <tbody>\n",
       "    <tr>\n",
       "      <th>42</th>\n",
       "      <td>42 Coin</td>\n",
       "      <td>Scrypt</td>\n",
       "      <td>True</td>\n",
       "      <td>PoW/PoS</td>\n",
       "      <td>4.199995e+01</td>\n",
       "      <td>42</td>\n",
       "    </tr>\n",
       "    <tr>\n",
       "      <th>365</th>\n",
       "      <td>365Coin</td>\n",
       "      <td>X11</td>\n",
       "      <td>True</td>\n",
       "      <td>PoW/PoS</td>\n",
       "      <td>NaN</td>\n",
       "      <td>2300000000</td>\n",
       "    </tr>\n",
       "    <tr>\n",
       "      <th>404</th>\n",
       "      <td>404Coin</td>\n",
       "      <td>Scrypt</td>\n",
       "      <td>True</td>\n",
       "      <td>PoW/PoS</td>\n",
       "      <td>1.055185e+09</td>\n",
       "      <td>532000000</td>\n",
       "    </tr>\n",
       "    <tr>\n",
       "      <th>611</th>\n",
       "      <td>SixEleven</td>\n",
       "      <td>SHA-256</td>\n",
       "      <td>True</td>\n",
       "      <td>PoW</td>\n",
       "      <td>NaN</td>\n",
       "      <td>611000</td>\n",
       "    </tr>\n",
       "    <tr>\n",
       "      <th>808</th>\n",
       "      <td>808</td>\n",
       "      <td>SHA-256</td>\n",
       "      <td>True</td>\n",
       "      <td>PoW/PoS</td>\n",
       "      <td>0.000000e+00</td>\n",
       "      <td>0</td>\n",
       "    </tr>\n",
       "    <tr>\n",
       "      <th>...</th>\n",
       "      <td>...</td>\n",
       "      <td>...</td>\n",
       "      <td>...</td>\n",
       "      <td>...</td>\n",
       "      <td>...</td>\n",
       "      <td>...</td>\n",
       "    </tr>\n",
       "    <tr>\n",
       "      <th>SERO</th>\n",
       "      <td>Super Zero</td>\n",
       "      <td>Ethash</td>\n",
       "      <td>True</td>\n",
       "      <td>PoW</td>\n",
       "      <td>NaN</td>\n",
       "      <td>1000000000</td>\n",
       "    </tr>\n",
       "    <tr>\n",
       "      <th>UOS</th>\n",
       "      <td>UOS</td>\n",
       "      <td>SHA-256</td>\n",
       "      <td>True</td>\n",
       "      <td>DPoI</td>\n",
       "      <td>NaN</td>\n",
       "      <td>1000000000</td>\n",
       "    </tr>\n",
       "    <tr>\n",
       "      <th>BDX</th>\n",
       "      <td>Beldex</td>\n",
       "      <td>CryptoNight</td>\n",
       "      <td>True</td>\n",
       "      <td>PoW</td>\n",
       "      <td>9.802226e+08</td>\n",
       "      <td>1400222610</td>\n",
       "    </tr>\n",
       "    <tr>\n",
       "      <th>ZEN</th>\n",
       "      <td>Horizen</td>\n",
       "      <td>Equihash</td>\n",
       "      <td>True</td>\n",
       "      <td>PoW</td>\n",
       "      <td>7.296538e+06</td>\n",
       "      <td>21000000</td>\n",
       "    </tr>\n",
       "    <tr>\n",
       "      <th>XBC</th>\n",
       "      <td>BitcoinPlus</td>\n",
       "      <td>Scrypt</td>\n",
       "      <td>True</td>\n",
       "      <td>PoS</td>\n",
       "      <td>1.283270e+05</td>\n",
       "      <td>1000000</td>\n",
       "    </tr>\n",
       "  </tbody>\n",
       "</table>\n",
       "<p>1144 rows × 6 columns</p>\n",
       "</div>"
      ],
      "text/plain": [
       "         CoinName    Algorithm  IsTrading ProofType  TotalCoinsMined  \\\n",
       "42        42 Coin       Scrypt       True   PoW/PoS     4.199995e+01   \n",
       "365       365Coin          X11       True   PoW/PoS              NaN   \n",
       "404       404Coin       Scrypt       True   PoW/PoS     1.055185e+09   \n",
       "611     SixEleven      SHA-256       True       PoW              NaN   \n",
       "808           808      SHA-256       True   PoW/PoS     0.000000e+00   \n",
       "...           ...          ...        ...       ...              ...   \n",
       "SERO   Super Zero       Ethash       True       PoW              NaN   \n",
       "UOS           UOS      SHA-256       True      DPoI              NaN   \n",
       "BDX        Beldex  CryptoNight       True       PoW     9.802226e+08   \n",
       "ZEN       Horizen     Equihash       True       PoW     7.296538e+06   \n",
       "XBC   BitcoinPlus       Scrypt       True       PoS     1.283270e+05   \n",
       "\n",
       "     TotalCoinSupply  \n",
       "42                42  \n",
       "365       2300000000  \n",
       "404        532000000  \n",
       "611           611000  \n",
       "808                0  \n",
       "...              ...  \n",
       "SERO      1000000000  \n",
       "UOS       1000000000  \n",
       "BDX       1400222610  \n",
       "ZEN         21000000  \n",
       "XBC          1000000  \n",
       "\n",
       "[1144 rows x 6 columns]"
      ]
     },
     "execution_count": 12,
     "metadata": {},
     "output_type": "execute_result"
    }
   ],
   "source": [
    "# Keep all the cryptocurrencies that are being traded.\n",
    "trading_index = crypto_df[crypto_df['IsTrading']==False].index\n",
    "crypto_df.drop(trading_index, inplace=True)\n",
    "crypto_df"
   ]
  },
  {
   "cell_type": "code",
   "execution_count": 13,
   "metadata": {},
   "outputs": [
    {
     "data": {
      "text/plain": [
       "42           Scrypt\n",
       "365             X11\n",
       "404          Scrypt\n",
       "611         SHA-256\n",
       "808         SHA-256\n",
       "           ...     \n",
       "SERO         Ethash\n",
       "UOS         SHA-256\n",
       "BDX     CryptoNight\n",
       "ZEN        Equihash\n",
       "XBC          Scrypt\n",
       "Name: Algorithm, Length: 1144, dtype: object"
      ]
     },
     "execution_count": 13,
     "metadata": {},
     "output_type": "execute_result"
    }
   ],
   "source": [
    "# Keep all the cryptocurrencies that have a working algorithm.\n",
    "crypto_df.Algorithm.dropna()\n"
   ]
  },
  {
   "cell_type": "code",
   "execution_count": 16,
   "metadata": {},
   "outputs": [],
   "source": [
    "crypto_df.drop(columns='IsTrading', inplace=True)"
   ]
  },
  {
   "cell_type": "code",
   "execution_count": 17,
   "metadata": {},
   "outputs": [
    {
     "data": {
      "text/html": [
       "<div>\n",
       "<style scoped>\n",
       "    .dataframe tbody tr th:only-of-type {\n",
       "        vertical-align: middle;\n",
       "    }\n",
       "\n",
       "    .dataframe tbody tr th {\n",
       "        vertical-align: top;\n",
       "    }\n",
       "\n",
       "    .dataframe thead th {\n",
       "        text-align: right;\n",
       "    }\n",
       "</style>\n",
       "<table border=\"1\" class=\"dataframe\">\n",
       "  <thead>\n",
       "    <tr style=\"text-align: right;\">\n",
       "      <th></th>\n",
       "      <th>CoinName</th>\n",
       "      <th>Algorithm</th>\n",
       "      <th>ProofType</th>\n",
       "      <th>TotalCoinsMined</th>\n",
       "      <th>TotalCoinSupply</th>\n",
       "    </tr>\n",
       "  </thead>\n",
       "  <tbody>\n",
       "    <tr>\n",
       "      <th>42</th>\n",
       "      <td>42 Coin</td>\n",
       "      <td>Scrypt</td>\n",
       "      <td>PoW/PoS</td>\n",
       "      <td>4.199995e+01</td>\n",
       "      <td>42</td>\n",
       "    </tr>\n",
       "    <tr>\n",
       "      <th>365</th>\n",
       "      <td>365Coin</td>\n",
       "      <td>X11</td>\n",
       "      <td>PoW/PoS</td>\n",
       "      <td>NaN</td>\n",
       "      <td>2300000000</td>\n",
       "    </tr>\n",
       "    <tr>\n",
       "      <th>404</th>\n",
       "      <td>404Coin</td>\n",
       "      <td>Scrypt</td>\n",
       "      <td>PoW/PoS</td>\n",
       "      <td>1.055185e+09</td>\n",
       "      <td>532000000</td>\n",
       "    </tr>\n",
       "    <tr>\n",
       "      <th>611</th>\n",
       "      <td>SixEleven</td>\n",
       "      <td>SHA-256</td>\n",
       "      <td>PoW</td>\n",
       "      <td>NaN</td>\n",
       "      <td>611000</td>\n",
       "    </tr>\n",
       "    <tr>\n",
       "      <th>808</th>\n",
       "      <td>808</td>\n",
       "      <td>SHA-256</td>\n",
       "      <td>PoW/PoS</td>\n",
       "      <td>0.000000e+00</td>\n",
       "      <td>0</td>\n",
       "    </tr>\n",
       "    <tr>\n",
       "      <th>...</th>\n",
       "      <td>...</td>\n",
       "      <td>...</td>\n",
       "      <td>...</td>\n",
       "      <td>...</td>\n",
       "      <td>...</td>\n",
       "    </tr>\n",
       "    <tr>\n",
       "      <th>SERO</th>\n",
       "      <td>Super Zero</td>\n",
       "      <td>Ethash</td>\n",
       "      <td>PoW</td>\n",
       "      <td>NaN</td>\n",
       "      <td>1000000000</td>\n",
       "    </tr>\n",
       "    <tr>\n",
       "      <th>UOS</th>\n",
       "      <td>UOS</td>\n",
       "      <td>SHA-256</td>\n",
       "      <td>DPoI</td>\n",
       "      <td>NaN</td>\n",
       "      <td>1000000000</td>\n",
       "    </tr>\n",
       "    <tr>\n",
       "      <th>BDX</th>\n",
       "      <td>Beldex</td>\n",
       "      <td>CryptoNight</td>\n",
       "      <td>PoW</td>\n",
       "      <td>9.802226e+08</td>\n",
       "      <td>1400222610</td>\n",
       "    </tr>\n",
       "    <tr>\n",
       "      <th>ZEN</th>\n",
       "      <td>Horizen</td>\n",
       "      <td>Equihash</td>\n",
       "      <td>PoW</td>\n",
       "      <td>7.296538e+06</td>\n",
       "      <td>21000000</td>\n",
       "    </tr>\n",
       "    <tr>\n",
       "      <th>XBC</th>\n",
       "      <td>BitcoinPlus</td>\n",
       "      <td>Scrypt</td>\n",
       "      <td>PoS</td>\n",
       "      <td>1.283270e+05</td>\n",
       "      <td>1000000</td>\n",
       "    </tr>\n",
       "  </tbody>\n",
       "</table>\n",
       "<p>1144 rows × 5 columns</p>\n",
       "</div>"
      ],
      "text/plain": [
       "         CoinName    Algorithm ProofType  TotalCoinsMined TotalCoinSupply\n",
       "42        42 Coin       Scrypt   PoW/PoS     4.199995e+01              42\n",
       "365       365Coin          X11   PoW/PoS              NaN      2300000000\n",
       "404       404Coin       Scrypt   PoW/PoS     1.055185e+09       532000000\n",
       "611     SixEleven      SHA-256       PoW              NaN          611000\n",
       "808           808      SHA-256   PoW/PoS     0.000000e+00               0\n",
       "...           ...          ...       ...              ...             ...\n",
       "SERO   Super Zero       Ethash       PoW              NaN      1000000000\n",
       "UOS           UOS      SHA-256      DPoI              NaN      1000000000\n",
       "BDX        Beldex  CryptoNight       PoW     9.802226e+08      1400222610\n",
       "ZEN       Horizen     Equihash       PoW     7.296538e+06        21000000\n",
       "XBC   BitcoinPlus       Scrypt       PoS     1.283270e+05         1000000\n",
       "\n",
       "[1144 rows x 5 columns]"
      ]
     },
     "execution_count": 17,
     "metadata": {},
     "output_type": "execute_result"
    }
   ],
   "source": [
    "crypto_df"
   ]
  },
  {
   "cell_type": "code",
   "execution_count": 19,
   "metadata": {},
   "outputs": [
    {
     "data": {
      "text/html": [
       "<div>\n",
       "<style scoped>\n",
       "    .dataframe tbody tr th:only-of-type {\n",
       "        vertical-align: middle;\n",
       "    }\n",
       "\n",
       "    .dataframe tbody tr th {\n",
       "        vertical-align: top;\n",
       "    }\n",
       "\n",
       "    .dataframe thead th {\n",
       "        text-align: right;\n",
       "    }\n",
       "</style>\n",
       "<table border=\"1\" class=\"dataframe\">\n",
       "  <thead>\n",
       "    <tr style=\"text-align: right;\">\n",
       "      <th></th>\n",
       "      <th>CoinName</th>\n",
       "      <th>Algorithm</th>\n",
       "      <th>ProofType</th>\n",
       "      <th>TotalCoinsMined</th>\n",
       "      <th>TotalCoinSupply</th>\n",
       "    </tr>\n",
       "  </thead>\n",
       "  <tbody>\n",
       "    <tr>\n",
       "      <th>42</th>\n",
       "      <td>42 Coin</td>\n",
       "      <td>Scrypt</td>\n",
       "      <td>PoW/PoS</td>\n",
       "      <td>4.199995e+01</td>\n",
       "      <td>42</td>\n",
       "    </tr>\n",
       "    <tr>\n",
       "      <th>404</th>\n",
       "      <td>404Coin</td>\n",
       "      <td>Scrypt</td>\n",
       "      <td>PoW/PoS</td>\n",
       "      <td>1.055185e+09</td>\n",
       "      <td>532000000</td>\n",
       "    </tr>\n",
       "    <tr>\n",
       "      <th>808</th>\n",
       "      <td>808</td>\n",
       "      <td>SHA-256</td>\n",
       "      <td>PoW/PoS</td>\n",
       "      <td>0.000000e+00</td>\n",
       "      <td>0</td>\n",
       "    </tr>\n",
       "    <tr>\n",
       "      <th>1337</th>\n",
       "      <td>EliteCoin</td>\n",
       "      <td>X13</td>\n",
       "      <td>PoW/PoS</td>\n",
       "      <td>2.927942e+10</td>\n",
       "      <td>314159265359</td>\n",
       "    </tr>\n",
       "    <tr>\n",
       "      <th>BTC</th>\n",
       "      <td>Bitcoin</td>\n",
       "      <td>SHA-256</td>\n",
       "      <td>PoW</td>\n",
       "      <td>1.792718e+07</td>\n",
       "      <td>21000000</td>\n",
       "    </tr>\n",
       "    <tr>\n",
       "      <th>...</th>\n",
       "      <td>...</td>\n",
       "      <td>...</td>\n",
       "      <td>...</td>\n",
       "      <td>...</td>\n",
       "      <td>...</td>\n",
       "    </tr>\n",
       "    <tr>\n",
       "      <th>ZEPH</th>\n",
       "      <td>ZEPHYR</td>\n",
       "      <td>SHA-256</td>\n",
       "      <td>DPoS</td>\n",
       "      <td>2.000000e+09</td>\n",
       "      <td>2000000000</td>\n",
       "    </tr>\n",
       "    <tr>\n",
       "      <th>GAP</th>\n",
       "      <td>Gapcoin</td>\n",
       "      <td>Scrypt</td>\n",
       "      <td>PoW/PoS</td>\n",
       "      <td>1.493105e+07</td>\n",
       "      <td>250000000</td>\n",
       "    </tr>\n",
       "    <tr>\n",
       "      <th>BDX</th>\n",
       "      <td>Beldex</td>\n",
       "      <td>CryptoNight</td>\n",
       "      <td>PoW</td>\n",
       "      <td>9.802226e+08</td>\n",
       "      <td>1400222610</td>\n",
       "    </tr>\n",
       "    <tr>\n",
       "      <th>ZEN</th>\n",
       "      <td>Horizen</td>\n",
       "      <td>Equihash</td>\n",
       "      <td>PoW</td>\n",
       "      <td>7.296538e+06</td>\n",
       "      <td>21000000</td>\n",
       "    </tr>\n",
       "    <tr>\n",
       "      <th>XBC</th>\n",
       "      <td>BitcoinPlus</td>\n",
       "      <td>Scrypt</td>\n",
       "      <td>PoS</td>\n",
       "      <td>1.283270e+05</td>\n",
       "      <td>1000000</td>\n",
       "    </tr>\n",
       "  </tbody>\n",
       "</table>\n",
       "<p>685 rows × 5 columns</p>\n",
       "</div>"
      ],
      "text/plain": [
       "         CoinName    Algorithm ProofType  TotalCoinsMined TotalCoinSupply\n",
       "42        42 Coin       Scrypt   PoW/PoS     4.199995e+01              42\n",
       "404       404Coin       Scrypt   PoW/PoS     1.055185e+09       532000000\n",
       "808           808      SHA-256   PoW/PoS     0.000000e+00               0\n",
       "1337    EliteCoin          X13   PoW/PoS     2.927942e+10    314159265359\n",
       "BTC       Bitcoin      SHA-256       PoW     1.792718e+07        21000000\n",
       "...           ...          ...       ...              ...             ...\n",
       "ZEPH       ZEPHYR      SHA-256      DPoS     2.000000e+09      2000000000\n",
       "GAP       Gapcoin       Scrypt   PoW/PoS     1.493105e+07       250000000\n",
       "BDX        Beldex  CryptoNight       PoW     9.802226e+08      1400222610\n",
       "ZEN       Horizen     Equihash       PoW     7.296538e+06        21000000\n",
       "XBC   BitcoinPlus       Scrypt       PoS     1.283270e+05         1000000\n",
       "\n",
       "[685 rows x 5 columns]"
      ]
     },
     "execution_count": 19,
     "metadata": {},
     "output_type": "execute_result"
    }
   ],
   "source": [
    "# Remove rows that have at least 1 null value.\n",
    "crypto_df = crypto_df.dropna()\n",
    "crypto_df"
   ]
  },
  {
   "cell_type": "code",
   "execution_count": 21,
   "metadata": {},
   "outputs": [],
   "source": [
    "import warnings \n",
    "warnings.filterwarnings('ignore')"
   ]
  },
  {
   "cell_type": "code",
   "execution_count": 20,
   "metadata": {},
   "outputs": [
    {
     "name": "stderr",
     "output_type": "stream",
     "text": [
      "C:\\Users\\bdydh\\anaconda3\\envs\\PythonData\\lib\\site-packages\\pandas\\core\\frame.py:4315: SettingWithCopyWarning: \n",
      "A value is trying to be set on a copy of a slice from a DataFrame\n",
      "\n",
      "See the caveats in the documentation: https://pandas.pydata.org/pandas-docs/stable/user_guide/indexing.html#returning-a-view-versus-a-copy\n",
      "  errors=errors,\n"
     ]
    },
    {
     "data": {
      "text/html": [
       "<div>\n",
       "<style scoped>\n",
       "    .dataframe tbody tr th:only-of-type {\n",
       "        vertical-align: middle;\n",
       "    }\n",
       "\n",
       "    .dataframe tbody tr th {\n",
       "        vertical-align: top;\n",
       "    }\n",
       "\n",
       "    .dataframe thead th {\n",
       "        text-align: right;\n",
       "    }\n",
       "</style>\n",
       "<table border=\"1\" class=\"dataframe\">\n",
       "  <thead>\n",
       "    <tr style=\"text-align: right;\">\n",
       "      <th></th>\n",
       "      <th>CoinName</th>\n",
       "      <th>Algorithm</th>\n",
       "      <th>ProofType</th>\n",
       "      <th>TotalCoinsMined</th>\n",
       "      <th>TotalCoinSupply</th>\n",
       "    </tr>\n",
       "  </thead>\n",
       "  <tbody>\n",
       "    <tr>\n",
       "      <th>42</th>\n",
       "      <td>42 Coin</td>\n",
       "      <td>Scrypt</td>\n",
       "      <td>PoW/PoS</td>\n",
       "      <td>4.199995e+01</td>\n",
       "      <td>42</td>\n",
       "    </tr>\n",
       "    <tr>\n",
       "      <th>404</th>\n",
       "      <td>404Coin</td>\n",
       "      <td>Scrypt</td>\n",
       "      <td>PoW/PoS</td>\n",
       "      <td>1.055185e+09</td>\n",
       "      <td>532000000</td>\n",
       "    </tr>\n",
       "    <tr>\n",
       "      <th>1337</th>\n",
       "      <td>EliteCoin</td>\n",
       "      <td>X13</td>\n",
       "      <td>PoW/PoS</td>\n",
       "      <td>2.927942e+10</td>\n",
       "      <td>314159265359</td>\n",
       "    </tr>\n",
       "    <tr>\n",
       "      <th>BTC</th>\n",
       "      <td>Bitcoin</td>\n",
       "      <td>SHA-256</td>\n",
       "      <td>PoW</td>\n",
       "      <td>1.792718e+07</td>\n",
       "      <td>21000000</td>\n",
       "    </tr>\n",
       "    <tr>\n",
       "      <th>ETH</th>\n",
       "      <td>Ethereum</td>\n",
       "      <td>Ethash</td>\n",
       "      <td>PoW</td>\n",
       "      <td>1.076842e+08</td>\n",
       "      <td>0</td>\n",
       "    </tr>\n",
       "    <tr>\n",
       "      <th>...</th>\n",
       "      <td>...</td>\n",
       "      <td>...</td>\n",
       "      <td>...</td>\n",
       "      <td>...</td>\n",
       "      <td>...</td>\n",
       "    </tr>\n",
       "    <tr>\n",
       "      <th>ZEPH</th>\n",
       "      <td>ZEPHYR</td>\n",
       "      <td>SHA-256</td>\n",
       "      <td>DPoS</td>\n",
       "      <td>2.000000e+09</td>\n",
       "      <td>2000000000</td>\n",
       "    </tr>\n",
       "    <tr>\n",
       "      <th>GAP</th>\n",
       "      <td>Gapcoin</td>\n",
       "      <td>Scrypt</td>\n",
       "      <td>PoW/PoS</td>\n",
       "      <td>1.493105e+07</td>\n",
       "      <td>250000000</td>\n",
       "    </tr>\n",
       "    <tr>\n",
       "      <th>BDX</th>\n",
       "      <td>Beldex</td>\n",
       "      <td>CryptoNight</td>\n",
       "      <td>PoW</td>\n",
       "      <td>9.802226e+08</td>\n",
       "      <td>1400222610</td>\n",
       "    </tr>\n",
       "    <tr>\n",
       "      <th>ZEN</th>\n",
       "      <td>Horizen</td>\n",
       "      <td>Equihash</td>\n",
       "      <td>PoW</td>\n",
       "      <td>7.296538e+06</td>\n",
       "      <td>21000000</td>\n",
       "    </tr>\n",
       "    <tr>\n",
       "      <th>XBC</th>\n",
       "      <td>BitcoinPlus</td>\n",
       "      <td>Scrypt</td>\n",
       "      <td>PoS</td>\n",
       "      <td>1.283270e+05</td>\n",
       "      <td>1000000</td>\n",
       "    </tr>\n",
       "  </tbody>\n",
       "</table>\n",
       "<p>533 rows × 5 columns</p>\n",
       "</div>"
      ],
      "text/plain": [
       "         CoinName    Algorithm ProofType  TotalCoinsMined TotalCoinSupply\n",
       "42        42 Coin       Scrypt   PoW/PoS     4.199995e+01              42\n",
       "404       404Coin       Scrypt   PoW/PoS     1.055185e+09       532000000\n",
       "1337    EliteCoin          X13   PoW/PoS     2.927942e+10    314159265359\n",
       "BTC       Bitcoin      SHA-256       PoW     1.792718e+07        21000000\n",
       "ETH      Ethereum       Ethash       PoW     1.076842e+08               0\n",
       "...           ...          ...       ...              ...             ...\n",
       "ZEPH       ZEPHYR      SHA-256      DPoS     2.000000e+09      2000000000\n",
       "GAP       Gapcoin       Scrypt   PoW/PoS     1.493105e+07       250000000\n",
       "BDX        Beldex  CryptoNight       PoW     9.802226e+08      1400222610\n",
       "ZEN       Horizen     Equihash       PoW     7.296538e+06        21000000\n",
       "XBC   BitcoinPlus       Scrypt       PoS     1.283270e+05         1000000\n",
       "\n",
       "[533 rows x 5 columns]"
      ]
     },
     "execution_count": 20,
     "metadata": {},
     "output_type": "execute_result"
    }
   ],
   "source": [
    "# Keep the rows where coins are mined.\n",
    "zero_value = crypto_df[crypto_df['TotalCoinsMined'] == 0].index\n",
    "crypto_df.drop(zero_value, inplace=True)\n",
    "crypto_df"
   ]
  },
  {
   "cell_type": "code",
   "execution_count": 22,
   "metadata": {},
   "outputs": [
    {
     "data": {
      "text/html": [
       "<div>\n",
       "<style scoped>\n",
       "    .dataframe tbody tr th:only-of-type {\n",
       "        vertical-align: middle;\n",
       "    }\n",
       "\n",
       "    .dataframe tbody tr th {\n",
       "        vertical-align: top;\n",
       "    }\n",
       "\n",
       "    .dataframe thead th {\n",
       "        text-align: right;\n",
       "    }\n",
       "</style>\n",
       "<table border=\"1\" class=\"dataframe\">\n",
       "  <thead>\n",
       "    <tr style=\"text-align: right;\">\n",
       "      <th></th>\n",
       "      <th>CoinName</th>\n",
       "    </tr>\n",
       "  </thead>\n",
       "  <tbody>\n",
       "    <tr>\n",
       "      <th>42</th>\n",
       "      <td>42 Coin</td>\n",
       "    </tr>\n",
       "    <tr>\n",
       "      <th>404</th>\n",
       "      <td>404Coin</td>\n",
       "    </tr>\n",
       "    <tr>\n",
       "      <th>1337</th>\n",
       "      <td>EliteCoin</td>\n",
       "    </tr>\n",
       "    <tr>\n",
       "      <th>BTC</th>\n",
       "      <td>Bitcoin</td>\n",
       "    </tr>\n",
       "    <tr>\n",
       "      <th>ETH</th>\n",
       "      <td>Ethereum</td>\n",
       "    </tr>\n",
       "    <tr>\n",
       "      <th>...</th>\n",
       "      <td>...</td>\n",
       "    </tr>\n",
       "    <tr>\n",
       "      <th>ZEPH</th>\n",
       "      <td>ZEPHYR</td>\n",
       "    </tr>\n",
       "    <tr>\n",
       "      <th>GAP</th>\n",
       "      <td>Gapcoin</td>\n",
       "    </tr>\n",
       "    <tr>\n",
       "      <th>BDX</th>\n",
       "      <td>Beldex</td>\n",
       "    </tr>\n",
       "    <tr>\n",
       "      <th>ZEN</th>\n",
       "      <td>Horizen</td>\n",
       "    </tr>\n",
       "    <tr>\n",
       "      <th>XBC</th>\n",
       "      <td>BitcoinPlus</td>\n",
       "    </tr>\n",
       "  </tbody>\n",
       "</table>\n",
       "<p>533 rows × 1 columns</p>\n",
       "</div>"
      ],
      "text/plain": [
       "         CoinName\n",
       "42        42 Coin\n",
       "404       404Coin\n",
       "1337    EliteCoin\n",
       "BTC       Bitcoin\n",
       "ETH      Ethereum\n",
       "...           ...\n",
       "ZEPH       ZEPHYR\n",
       "GAP       Gapcoin\n",
       "BDX        Beldex\n",
       "ZEN       Horizen\n",
       "XBC   BitcoinPlus\n",
       "\n",
       "[533 rows x 1 columns]"
      ]
     },
     "execution_count": 22,
     "metadata": {},
     "output_type": "execute_result"
    }
   ],
   "source": [
    "# Create a new DataFrame that holds only the cryptocurrencies names.\n",
    "# df_shopping.drop(columns=[\"CustomerID\"], inplace=True)\n",
    "crypto_coin = crypto_df['CoinName']\n",
    "coin_name = pd.DataFrame(data = crypto_coin, index = crypto_df.index)\n",
    "coin_name\n"
   ]
  },
  {
   "cell_type": "code",
   "execution_count": 23,
   "metadata": {
    "scrolled": true
   },
   "outputs": [
    {
     "data": {
      "text/html": [
       "<div>\n",
       "<style scoped>\n",
       "    .dataframe tbody tr th:only-of-type {\n",
       "        vertical-align: middle;\n",
       "    }\n",
       "\n",
       "    .dataframe tbody tr th {\n",
       "        vertical-align: top;\n",
       "    }\n",
       "\n",
       "    .dataframe thead th {\n",
       "        text-align: right;\n",
       "    }\n",
       "</style>\n",
       "<table border=\"1\" class=\"dataframe\">\n",
       "  <thead>\n",
       "    <tr style=\"text-align: right;\">\n",
       "      <th></th>\n",
       "      <th>Algorithm</th>\n",
       "      <th>ProofType</th>\n",
       "      <th>TotalCoinsMined</th>\n",
       "      <th>TotalCoinSupply</th>\n",
       "    </tr>\n",
       "  </thead>\n",
       "  <tbody>\n",
       "    <tr>\n",
       "      <th>42</th>\n",
       "      <td>Scrypt</td>\n",
       "      <td>PoW/PoS</td>\n",
       "      <td>4.199995e+01</td>\n",
       "      <td>42</td>\n",
       "    </tr>\n",
       "    <tr>\n",
       "      <th>404</th>\n",
       "      <td>Scrypt</td>\n",
       "      <td>PoW/PoS</td>\n",
       "      <td>1.055185e+09</td>\n",
       "      <td>532000000</td>\n",
       "    </tr>\n",
       "    <tr>\n",
       "      <th>1337</th>\n",
       "      <td>X13</td>\n",
       "      <td>PoW/PoS</td>\n",
       "      <td>2.927942e+10</td>\n",
       "      <td>314159265359</td>\n",
       "    </tr>\n",
       "    <tr>\n",
       "      <th>BTC</th>\n",
       "      <td>SHA-256</td>\n",
       "      <td>PoW</td>\n",
       "      <td>1.792718e+07</td>\n",
       "      <td>21000000</td>\n",
       "    </tr>\n",
       "    <tr>\n",
       "      <th>ETH</th>\n",
       "      <td>Ethash</td>\n",
       "      <td>PoW</td>\n",
       "      <td>1.076842e+08</td>\n",
       "      <td>0</td>\n",
       "    </tr>\n",
       "    <tr>\n",
       "      <th>...</th>\n",
       "      <td>...</td>\n",
       "      <td>...</td>\n",
       "      <td>...</td>\n",
       "      <td>...</td>\n",
       "    </tr>\n",
       "    <tr>\n",
       "      <th>ZEPH</th>\n",
       "      <td>SHA-256</td>\n",
       "      <td>DPoS</td>\n",
       "      <td>2.000000e+09</td>\n",
       "      <td>2000000000</td>\n",
       "    </tr>\n",
       "    <tr>\n",
       "      <th>GAP</th>\n",
       "      <td>Scrypt</td>\n",
       "      <td>PoW/PoS</td>\n",
       "      <td>1.493105e+07</td>\n",
       "      <td>250000000</td>\n",
       "    </tr>\n",
       "    <tr>\n",
       "      <th>BDX</th>\n",
       "      <td>CryptoNight</td>\n",
       "      <td>PoW</td>\n",
       "      <td>9.802226e+08</td>\n",
       "      <td>1400222610</td>\n",
       "    </tr>\n",
       "    <tr>\n",
       "      <th>ZEN</th>\n",
       "      <td>Equihash</td>\n",
       "      <td>PoW</td>\n",
       "      <td>7.296538e+06</td>\n",
       "      <td>21000000</td>\n",
       "    </tr>\n",
       "    <tr>\n",
       "      <th>XBC</th>\n",
       "      <td>Scrypt</td>\n",
       "      <td>PoS</td>\n",
       "      <td>1.283270e+05</td>\n",
       "      <td>1000000</td>\n",
       "    </tr>\n",
       "  </tbody>\n",
       "</table>\n",
       "<p>533 rows × 4 columns</p>\n",
       "</div>"
      ],
      "text/plain": [
       "        Algorithm ProofType  TotalCoinsMined TotalCoinSupply\n",
       "42         Scrypt   PoW/PoS     4.199995e+01              42\n",
       "404        Scrypt   PoW/PoS     1.055185e+09       532000000\n",
       "1337          X13   PoW/PoS     2.927942e+10    314159265359\n",
       "BTC       SHA-256       PoW     1.792718e+07        21000000\n",
       "ETH        Ethash       PoW     1.076842e+08               0\n",
       "...           ...       ...              ...             ...\n",
       "ZEPH      SHA-256      DPoS     2.000000e+09      2000000000\n",
       "GAP        Scrypt   PoW/PoS     1.493105e+07       250000000\n",
       "BDX   CryptoNight       PoW     9.802226e+08      1400222610\n",
       "ZEN      Equihash       PoW     7.296538e+06        21000000\n",
       "XBC        Scrypt       PoS     1.283270e+05         1000000\n",
       "\n",
       "[533 rows x 4 columns]"
      ]
     },
     "execution_count": 23,
     "metadata": {},
     "output_type": "execute_result"
    }
   ],
   "source": [
    "crypto_df.drop(columns='CoinName', inplace = True)\n",
    "crypto_df"
   ]
  },
  {
   "cell_type": "code",
   "execution_count": 24,
   "metadata": {
    "scrolled": true
   },
   "outputs": [
    {
     "data": {
      "text/html": [
       "<div>\n",
       "<style scoped>\n",
       "    .dataframe tbody tr th:only-of-type {\n",
       "        vertical-align: middle;\n",
       "    }\n",
       "\n",
       "    .dataframe tbody tr th {\n",
       "        vertical-align: top;\n",
       "    }\n",
       "\n",
       "    .dataframe thead th {\n",
       "        text-align: right;\n",
       "    }\n",
       "</style>\n",
       "<table border=\"1\" class=\"dataframe\">\n",
       "  <thead>\n",
       "    <tr style=\"text-align: right;\">\n",
       "      <th></th>\n",
       "      <th>TotalCoinsMined</th>\n",
       "      <th>TotalCoinSupply</th>\n",
       "      <th>Algorithm_1GB AES Pattern Search</th>\n",
       "      <th>Algorithm_536</th>\n",
       "      <th>Algorithm_Argon2d</th>\n",
       "      <th>Algorithm_BLAKE256</th>\n",
       "      <th>Algorithm_Blake</th>\n",
       "      <th>Algorithm_Blake2S</th>\n",
       "      <th>Algorithm_Blake2b</th>\n",
       "      <th>Algorithm_C11</th>\n",
       "      <th>...</th>\n",
       "      <th>ProofType_PoW/PoS</th>\n",
       "      <th>ProofType_PoW/PoS</th>\n",
       "      <th>ProofType_PoW/PoW</th>\n",
       "      <th>ProofType_PoW/nPoS</th>\n",
       "      <th>ProofType_Pos</th>\n",
       "      <th>ProofType_Proof of Authority</th>\n",
       "      <th>ProofType_Proof of Trust</th>\n",
       "      <th>ProofType_TPoS</th>\n",
       "      <th>ProofType_Zero-Knowledge Proof</th>\n",
       "      <th>ProofType_dPoW/PoW</th>\n",
       "    </tr>\n",
       "  </thead>\n",
       "  <tbody>\n",
       "    <tr>\n",
       "      <th>42</th>\n",
       "      <td>4.199995e+01</td>\n",
       "      <td>42</td>\n",
       "      <td>0</td>\n",
       "      <td>0</td>\n",
       "      <td>0</td>\n",
       "      <td>0</td>\n",
       "      <td>0</td>\n",
       "      <td>0</td>\n",
       "      <td>0</td>\n",
       "      <td>0</td>\n",
       "      <td>...</td>\n",
       "      <td>1</td>\n",
       "      <td>0</td>\n",
       "      <td>0</td>\n",
       "      <td>0</td>\n",
       "      <td>0</td>\n",
       "      <td>0</td>\n",
       "      <td>0</td>\n",
       "      <td>0</td>\n",
       "      <td>0</td>\n",
       "      <td>0</td>\n",
       "    </tr>\n",
       "    <tr>\n",
       "      <th>404</th>\n",
       "      <td>1.055185e+09</td>\n",
       "      <td>532000000</td>\n",
       "      <td>0</td>\n",
       "      <td>0</td>\n",
       "      <td>0</td>\n",
       "      <td>0</td>\n",
       "      <td>0</td>\n",
       "      <td>0</td>\n",
       "      <td>0</td>\n",
       "      <td>0</td>\n",
       "      <td>...</td>\n",
       "      <td>1</td>\n",
       "      <td>0</td>\n",
       "      <td>0</td>\n",
       "      <td>0</td>\n",
       "      <td>0</td>\n",
       "      <td>0</td>\n",
       "      <td>0</td>\n",
       "      <td>0</td>\n",
       "      <td>0</td>\n",
       "      <td>0</td>\n",
       "    </tr>\n",
       "    <tr>\n",
       "      <th>1337</th>\n",
       "      <td>2.927942e+10</td>\n",
       "      <td>314159265359</td>\n",
       "      <td>0</td>\n",
       "      <td>0</td>\n",
       "      <td>0</td>\n",
       "      <td>0</td>\n",
       "      <td>0</td>\n",
       "      <td>0</td>\n",
       "      <td>0</td>\n",
       "      <td>0</td>\n",
       "      <td>...</td>\n",
       "      <td>1</td>\n",
       "      <td>0</td>\n",
       "      <td>0</td>\n",
       "      <td>0</td>\n",
       "      <td>0</td>\n",
       "      <td>0</td>\n",
       "      <td>0</td>\n",
       "      <td>0</td>\n",
       "      <td>0</td>\n",
       "      <td>0</td>\n",
       "    </tr>\n",
       "    <tr>\n",
       "      <th>BTC</th>\n",
       "      <td>1.792718e+07</td>\n",
       "      <td>21000000</td>\n",
       "      <td>0</td>\n",
       "      <td>0</td>\n",
       "      <td>0</td>\n",
       "      <td>0</td>\n",
       "      <td>0</td>\n",
       "      <td>0</td>\n",
       "      <td>0</td>\n",
       "      <td>0</td>\n",
       "      <td>...</td>\n",
       "      <td>0</td>\n",
       "      <td>0</td>\n",
       "      <td>0</td>\n",
       "      <td>0</td>\n",
       "      <td>0</td>\n",
       "      <td>0</td>\n",
       "      <td>0</td>\n",
       "      <td>0</td>\n",
       "      <td>0</td>\n",
       "      <td>0</td>\n",
       "    </tr>\n",
       "    <tr>\n",
       "      <th>ETH</th>\n",
       "      <td>1.076842e+08</td>\n",
       "      <td>0</td>\n",
       "      <td>0</td>\n",
       "      <td>0</td>\n",
       "      <td>0</td>\n",
       "      <td>0</td>\n",
       "      <td>0</td>\n",
       "      <td>0</td>\n",
       "      <td>0</td>\n",
       "      <td>0</td>\n",
       "      <td>...</td>\n",
       "      <td>0</td>\n",
       "      <td>0</td>\n",
       "      <td>0</td>\n",
       "      <td>0</td>\n",
       "      <td>0</td>\n",
       "      <td>0</td>\n",
       "      <td>0</td>\n",
       "      <td>0</td>\n",
       "      <td>0</td>\n",
       "      <td>0</td>\n",
       "    </tr>\n",
       "    <tr>\n",
       "      <th>...</th>\n",
       "      <td>...</td>\n",
       "      <td>...</td>\n",
       "      <td>...</td>\n",
       "      <td>...</td>\n",
       "      <td>...</td>\n",
       "      <td>...</td>\n",
       "      <td>...</td>\n",
       "      <td>...</td>\n",
       "      <td>...</td>\n",
       "      <td>...</td>\n",
       "      <td>...</td>\n",
       "      <td>...</td>\n",
       "      <td>...</td>\n",
       "      <td>...</td>\n",
       "      <td>...</td>\n",
       "      <td>...</td>\n",
       "      <td>...</td>\n",
       "      <td>...</td>\n",
       "      <td>...</td>\n",
       "      <td>...</td>\n",
       "      <td>...</td>\n",
       "    </tr>\n",
       "    <tr>\n",
       "      <th>ZEPH</th>\n",
       "      <td>2.000000e+09</td>\n",
       "      <td>2000000000</td>\n",
       "      <td>0</td>\n",
       "      <td>0</td>\n",
       "      <td>0</td>\n",
       "      <td>0</td>\n",
       "      <td>0</td>\n",
       "      <td>0</td>\n",
       "      <td>0</td>\n",
       "      <td>0</td>\n",
       "      <td>...</td>\n",
       "      <td>0</td>\n",
       "      <td>0</td>\n",
       "      <td>0</td>\n",
       "      <td>0</td>\n",
       "      <td>0</td>\n",
       "      <td>0</td>\n",
       "      <td>0</td>\n",
       "      <td>0</td>\n",
       "      <td>0</td>\n",
       "      <td>0</td>\n",
       "    </tr>\n",
       "    <tr>\n",
       "      <th>GAP</th>\n",
       "      <td>1.493105e+07</td>\n",
       "      <td>250000000</td>\n",
       "      <td>0</td>\n",
       "      <td>0</td>\n",
       "      <td>0</td>\n",
       "      <td>0</td>\n",
       "      <td>0</td>\n",
       "      <td>0</td>\n",
       "      <td>0</td>\n",
       "      <td>0</td>\n",
       "      <td>...</td>\n",
       "      <td>1</td>\n",
       "      <td>0</td>\n",
       "      <td>0</td>\n",
       "      <td>0</td>\n",
       "      <td>0</td>\n",
       "      <td>0</td>\n",
       "      <td>0</td>\n",
       "      <td>0</td>\n",
       "      <td>0</td>\n",
       "      <td>0</td>\n",
       "    </tr>\n",
       "    <tr>\n",
       "      <th>BDX</th>\n",
       "      <td>9.802226e+08</td>\n",
       "      <td>1400222610</td>\n",
       "      <td>0</td>\n",
       "      <td>0</td>\n",
       "      <td>0</td>\n",
       "      <td>0</td>\n",
       "      <td>0</td>\n",
       "      <td>0</td>\n",
       "      <td>0</td>\n",
       "      <td>0</td>\n",
       "      <td>...</td>\n",
       "      <td>0</td>\n",
       "      <td>0</td>\n",
       "      <td>0</td>\n",
       "      <td>0</td>\n",
       "      <td>0</td>\n",
       "      <td>0</td>\n",
       "      <td>0</td>\n",
       "      <td>0</td>\n",
       "      <td>0</td>\n",
       "      <td>0</td>\n",
       "    </tr>\n",
       "    <tr>\n",
       "      <th>ZEN</th>\n",
       "      <td>7.296538e+06</td>\n",
       "      <td>21000000</td>\n",
       "      <td>0</td>\n",
       "      <td>0</td>\n",
       "      <td>0</td>\n",
       "      <td>0</td>\n",
       "      <td>0</td>\n",
       "      <td>0</td>\n",
       "      <td>0</td>\n",
       "      <td>0</td>\n",
       "      <td>...</td>\n",
       "      <td>0</td>\n",
       "      <td>0</td>\n",
       "      <td>0</td>\n",
       "      <td>0</td>\n",
       "      <td>0</td>\n",
       "      <td>0</td>\n",
       "      <td>0</td>\n",
       "      <td>0</td>\n",
       "      <td>0</td>\n",
       "      <td>0</td>\n",
       "    </tr>\n",
       "    <tr>\n",
       "      <th>XBC</th>\n",
       "      <td>1.283270e+05</td>\n",
       "      <td>1000000</td>\n",
       "      <td>0</td>\n",
       "      <td>0</td>\n",
       "      <td>0</td>\n",
       "      <td>0</td>\n",
       "      <td>0</td>\n",
       "      <td>0</td>\n",
       "      <td>0</td>\n",
       "      <td>0</td>\n",
       "      <td>...</td>\n",
       "      <td>0</td>\n",
       "      <td>0</td>\n",
       "      <td>0</td>\n",
       "      <td>0</td>\n",
       "      <td>0</td>\n",
       "      <td>0</td>\n",
       "      <td>0</td>\n",
       "      <td>0</td>\n",
       "      <td>0</td>\n",
       "      <td>0</td>\n",
       "    </tr>\n",
       "  </tbody>\n",
       "</table>\n",
       "<p>533 rows × 100 columns</p>\n",
       "</div>"
      ],
      "text/plain": [
       "      TotalCoinsMined TotalCoinSupply  Algorithm_1GB AES Pattern Search  \\\n",
       "42       4.199995e+01              42                                 0   \n",
       "404      1.055185e+09       532000000                                 0   \n",
       "1337     2.927942e+10    314159265359                                 0   \n",
       "BTC      1.792718e+07        21000000                                 0   \n",
       "ETH      1.076842e+08               0                                 0   \n",
       "...               ...             ...                               ...   \n",
       "ZEPH     2.000000e+09      2000000000                                 0   \n",
       "GAP      1.493105e+07       250000000                                 0   \n",
       "BDX      9.802226e+08      1400222610                                 0   \n",
       "ZEN      7.296538e+06        21000000                                 0   \n",
       "XBC      1.283270e+05         1000000                                 0   \n",
       "\n",
       "      Algorithm_536  Algorithm_Argon2d  Algorithm_BLAKE256  Algorithm_Blake  \\\n",
       "42                0                  0                   0                0   \n",
       "404               0                  0                   0                0   \n",
       "1337              0                  0                   0                0   \n",
       "BTC               0                  0                   0                0   \n",
       "ETH               0                  0                   0                0   \n",
       "...             ...                ...                 ...              ...   \n",
       "ZEPH              0                  0                   0                0   \n",
       "GAP               0                  0                   0                0   \n",
       "BDX               0                  0                   0                0   \n",
       "ZEN               0                  0                   0                0   \n",
       "XBC               0                  0                   0                0   \n",
       "\n",
       "      Algorithm_Blake2S  Algorithm_Blake2b  Algorithm_C11  ...  \\\n",
       "42                    0                  0              0  ...   \n",
       "404                   0                  0              0  ...   \n",
       "1337                  0                  0              0  ...   \n",
       "BTC                   0                  0              0  ...   \n",
       "ETH                   0                  0              0  ...   \n",
       "...                 ...                ...            ...  ...   \n",
       "ZEPH                  0                  0              0  ...   \n",
       "GAP                   0                  0              0  ...   \n",
       "BDX                   0                  0              0  ...   \n",
       "ZEN                   0                  0              0  ...   \n",
       "XBC                   0                  0              0  ...   \n",
       "\n",
       "      ProofType_PoW/PoS  ProofType_PoW/PoS   ProofType_PoW/PoW  \\\n",
       "42                    1                   0                  0   \n",
       "404                   1                   0                  0   \n",
       "1337                  1                   0                  0   \n",
       "BTC                   0                   0                  0   \n",
       "ETH                   0                   0                  0   \n",
       "...                 ...                 ...                ...   \n",
       "ZEPH                  0                   0                  0   \n",
       "GAP                   1                   0                  0   \n",
       "BDX                   0                   0                  0   \n",
       "ZEN                   0                   0                  0   \n",
       "XBC                   0                   0                  0   \n",
       "\n",
       "      ProofType_PoW/nPoS  ProofType_Pos  ProofType_Proof of Authority  \\\n",
       "42                     0              0                             0   \n",
       "404                    0              0                             0   \n",
       "1337                   0              0                             0   \n",
       "BTC                    0              0                             0   \n",
       "ETH                    0              0                             0   \n",
       "...                  ...            ...                           ...   \n",
       "ZEPH                   0              0                             0   \n",
       "GAP                    0              0                             0   \n",
       "BDX                    0              0                             0   \n",
       "ZEN                    0              0                             0   \n",
       "XBC                    0              0                             0   \n",
       "\n",
       "      ProofType_Proof of Trust  ProofType_TPoS  \\\n",
       "42                           0               0   \n",
       "404                          0               0   \n",
       "1337                         0               0   \n",
       "BTC                          0               0   \n",
       "ETH                          0               0   \n",
       "...                        ...             ...   \n",
       "ZEPH                         0               0   \n",
       "GAP                          0               0   \n",
       "BDX                          0               0   \n",
       "ZEN                          0               0   \n",
       "XBC                          0               0   \n",
       "\n",
       "      ProofType_Zero-Knowledge Proof  ProofType_dPoW/PoW  \n",
       "42                                 0                   0  \n",
       "404                                0                   0  \n",
       "1337                               0                   0  \n",
       "BTC                                0                   0  \n",
       "ETH                                0                   0  \n",
       "...                              ...                 ...  \n",
       "ZEPH                               0                   0  \n",
       "GAP                                0                   0  \n",
       "BDX                                0                   0  \n",
       "ZEN                                0                   0  \n",
       "XBC                                0                   0  \n",
       "\n",
       "[533 rows x 100 columns]"
      ]
     },
     "execution_count": 24,
     "metadata": {},
     "output_type": "execute_result"
    }
   ],
   "source": [
    "# Use get_dummies() to create variables for text features.\n",
    "X = pd.get_dummies(crypto_df,columns = ['Algorithm', 'ProofType'])\n",
    "X"
   ]
  },
  {
   "cell_type": "code",
   "execution_count": 26,
   "metadata": {},
   "outputs": [
    {
     "name": "stdout",
     "output_type": "stream",
     "text": [
      "[[-0.11674788 -0.15286468 -0.0433555  -0.0433555  -0.0433555  -0.06137164\n",
      "  -0.07523548 -0.0433555  -0.06137164 -0.06137164 -0.0433555  -0.0433555\n",
      "  -0.19226279 -0.06137164 -0.09731237 -0.0433555  -0.11536024 -0.07523548\n",
      "  -0.0433555  -0.0433555  -0.15176505 -0.0433555  -0.13105561 -0.0433555\n",
      "  -0.0433555  -0.08695652 -0.0433555  -0.0433555  -0.0433555  -0.0433555\n",
      "  -0.06137164 -0.0433555  -0.08695652 -0.08695652 -0.08695652 -0.0433555\n",
      "  -0.13105561 -0.13827675 -0.13827675 -0.0433555  -0.06137164 -0.0433555\n",
      "  -0.07523548 -0.1815096  -0.0433555  -0.0433555  -0.0433555  -0.07523548\n",
      "  -0.15811388 -0.3145935  -0.0433555  -0.08695652 -0.07523548 -0.06137164\n",
      "  -0.0433555   1.38873015 -0.0433555  -0.0433555  -0.06137164 -0.0433555\n",
      "  -0.0433555  -0.0433555  -0.0433555  -0.0433555  -0.0433555  -0.0433555\n",
      "  -0.0433555  -0.39836623 -0.0433555  -0.1815096  -0.0433555  -0.08695652\n",
      "  -0.08695652 -0.10670145 -0.0433555  -0.0433555  -0.13105561 -0.0433555\n",
      "  -0.0433555  -0.0433555  -0.0433555  -0.07523548 -0.4386271  -0.0433555\n",
      "  -0.06137164 -0.0433555  -0.0433555  -0.89480483 -0.0433555  -0.0433555\n",
      "   1.42422228 -0.0433555  -0.0433555  -0.0433555  -0.0433555  -0.0433555\n",
      "  -0.0433555  -0.0433555  -0.0433555  -0.0433555 ]\n",
      " [-0.09358885 -0.14499604 -0.0433555  -0.0433555  -0.0433555  -0.06137164\n",
      "  -0.07523548 -0.0433555  -0.06137164 -0.06137164 -0.0433555  -0.0433555\n",
      "  -0.19226279 -0.06137164 -0.09731237 -0.0433555  -0.11536024 -0.07523548\n",
      "  -0.0433555  -0.0433555  -0.15176505 -0.0433555  -0.13105561 -0.0433555\n",
      "  -0.0433555  -0.08695652 -0.0433555  -0.0433555  -0.0433555  -0.0433555\n",
      "  -0.06137164 -0.0433555  -0.08695652 -0.08695652 -0.08695652 -0.0433555\n",
      "  -0.13105561 -0.13827675 -0.13827675 -0.0433555  -0.06137164 -0.0433555\n",
      "  -0.07523548 -0.1815096  -0.0433555  -0.0433555  -0.0433555  -0.07523548\n",
      "  -0.15811388 -0.3145935  -0.0433555  -0.08695652 -0.07523548 -0.06137164\n",
      "  -0.0433555   1.38873015 -0.0433555  -0.0433555  -0.06137164 -0.0433555\n",
      "  -0.0433555  -0.0433555  -0.0433555  -0.0433555  -0.0433555  -0.0433555\n",
      "  -0.0433555  -0.39836623 -0.0433555  -0.1815096  -0.0433555  -0.08695652\n",
      "  -0.08695652 -0.10670145 -0.0433555  -0.0433555  -0.13105561 -0.0433555\n",
      "  -0.0433555  -0.0433555  -0.0433555  -0.07523548 -0.4386271  -0.0433555\n",
      "  -0.06137164 -0.0433555  -0.0433555  -0.89480483 -0.0433555  -0.0433555\n",
      "   1.42422228 -0.0433555  -0.0433555  -0.0433555  -0.0433555  -0.0433555\n",
      "  -0.0433555  -0.0433555  -0.0433555  -0.0433555 ]\n",
      " [ 0.52587231  4.4937636  -0.0433555  -0.0433555  -0.0433555  -0.06137164\n",
      "  -0.07523548 -0.0433555  -0.06137164 -0.06137164 -0.0433555  -0.0433555\n",
      "  -0.19226279 -0.06137164 -0.09731237 -0.0433555  -0.11536024 -0.07523548\n",
      "  -0.0433555  -0.0433555  -0.15176505 -0.0433555  -0.13105561 -0.0433555\n",
      "  -0.0433555  -0.08695652 -0.0433555  -0.0433555  -0.0433555  -0.0433555\n",
      "  -0.06137164 -0.0433555  -0.08695652 -0.08695652 -0.08695652 -0.0433555\n",
      "  -0.13105561 -0.13827675 -0.13827675 -0.0433555  -0.06137164 -0.0433555\n",
      "  -0.07523548 -0.1815096  -0.0433555  -0.0433555  -0.0433555  -0.07523548\n",
      "  -0.15811388 -0.3145935  -0.0433555  -0.08695652 -0.07523548 -0.06137164\n",
      "  -0.0433555  -0.7200823  -0.0433555  -0.0433555  -0.06137164 -0.0433555\n",
      "  -0.0433555  -0.0433555  -0.0433555  -0.0433555  -0.0433555  -0.0433555\n",
      "  -0.0433555  -0.39836623 -0.0433555   5.50935034 -0.0433555  -0.08695652\n",
      "  -0.08695652 -0.10670145 -0.0433555  -0.0433555  -0.13105561 -0.0433555\n",
      "  -0.0433555  -0.0433555  -0.0433555  -0.07523548 -0.4386271  -0.0433555\n",
      "  -0.06137164 -0.0433555  -0.0433555  -0.89480483 -0.0433555  -0.0433555\n",
      "   1.42422228 -0.0433555  -0.0433555  -0.0433555  -0.0433555  -0.0433555\n",
      "  -0.0433555  -0.0433555  -0.0433555  -0.0433555 ]\n",
      " [-0.11635442 -0.15255408 -0.0433555  -0.0433555  -0.0433555  -0.06137164\n",
      "  -0.07523548 -0.0433555  -0.06137164 -0.06137164 -0.0433555  -0.0433555\n",
      "  -0.19226279 -0.06137164 -0.09731237 -0.0433555  -0.11536024 -0.07523548\n",
      "  -0.0433555  -0.0433555  -0.15176505 -0.0433555  -0.13105561 -0.0433555\n",
      "  -0.0433555  -0.08695652 -0.0433555  -0.0433555  -0.0433555  -0.0433555\n",
      "  -0.06137164 -0.0433555  -0.08695652 -0.08695652 -0.08695652 -0.0433555\n",
      "  -0.13105561 -0.13827675 -0.13827675 -0.0433555  -0.06137164 -0.0433555\n",
      "  -0.07523548 -0.1815096  -0.0433555  -0.0433555  -0.0433555  -0.07523548\n",
      "  -0.15811388  3.17870519 -0.0433555  -0.08695652 -0.07523548 -0.06137164\n",
      "  -0.0433555  -0.7200823  -0.0433555  -0.0433555  -0.06137164 -0.0433555\n",
      "  -0.0433555  -0.0433555  -0.0433555  -0.0433555  -0.0433555  -0.0433555\n",
      "  -0.0433555  -0.39836623 -0.0433555  -0.1815096  -0.0433555  -0.08695652\n",
      "  -0.08695652 -0.10670145 -0.0433555  -0.0433555  -0.13105561 -0.0433555\n",
      "  -0.0433555  -0.0433555  -0.0433555  -0.07523548 -0.4386271  -0.0433555\n",
      "  -0.06137164 -0.0433555  -0.0433555   1.11756214 -0.0433555  -0.0433555\n",
      "  -0.70213759 -0.0433555  -0.0433555  -0.0433555  -0.0433555  -0.0433555\n",
      "  -0.0433555  -0.0433555  -0.0433555  -0.0433555 ]\n",
      " [-0.11438445 -0.15286468 -0.0433555  -0.0433555  -0.0433555  -0.06137164\n",
      "  -0.07523548 -0.0433555  -0.06137164 -0.06137164 -0.0433555  -0.0433555\n",
      "  -0.19226279 -0.06137164 -0.09731237 -0.0433555  -0.11536024 -0.07523548\n",
      "  -0.0433555  -0.0433555  -0.15176505 -0.0433555   7.63034876 -0.0433555\n",
      "  -0.0433555  -0.08695652 -0.0433555  -0.0433555  -0.0433555  -0.0433555\n",
      "  -0.06137164 -0.0433555  -0.08695652 -0.08695652 -0.08695652 -0.0433555\n",
      "  -0.13105561 -0.13827675 -0.13827675 -0.0433555  -0.06137164 -0.0433555\n",
      "  -0.07523548 -0.1815096  -0.0433555  -0.0433555  -0.0433555  -0.07523548\n",
      "  -0.15811388 -0.3145935  -0.0433555  -0.08695652 -0.07523548 -0.06137164\n",
      "  -0.0433555  -0.7200823  -0.0433555  -0.0433555  -0.06137164 -0.0433555\n",
      "  -0.0433555  -0.0433555  -0.0433555  -0.0433555  -0.0433555  -0.0433555\n",
      "  -0.0433555  -0.39836623 -0.0433555  -0.1815096  -0.0433555  -0.08695652\n",
      "  -0.08695652 -0.10670145 -0.0433555  -0.0433555  -0.13105561 -0.0433555\n",
      "  -0.0433555  -0.0433555  -0.0433555  -0.07523548 -0.4386271  -0.0433555\n",
      "  -0.06137164 -0.0433555  -0.0433555   1.11756214 -0.0433555  -0.0433555\n",
      "  -0.70213759 -0.0433555  -0.0433555  -0.0433555  -0.0433555  -0.0433555\n",
      "  -0.0433555  -0.0433555  -0.0433555  -0.0433555 ]]\n"
     ]
    }
   ],
   "source": [
    "# Standardize the data with StandardScaler().\n",
    "# Standardize data with StandardScaler\n",
    "X_scale = StandardScaler().fit_transform(X)\n",
    "print(X_scale[0:5])"
   ]
  },
  {
   "cell_type": "markdown",
   "metadata": {},
   "source": [
    "### Deliverable 2: Reducing Data Dimensions Using PCA"
   ]
  },
  {
   "cell_type": "code",
   "execution_count": 27,
   "metadata": {},
   "outputs": [
    {
     "data": {
      "text/plain": [
       "PCA(n_components=3)"
      ]
     },
     "execution_count": 27,
     "metadata": {},
     "output_type": "execute_result"
    }
   ],
   "source": [
    "# Using PCA to reduce dimension to three principal components.\n",
    "pca = PCA(n_components=3)\n",
    "pca"
   ]
  },
  {
   "cell_type": "code",
   "execution_count": 28,
   "metadata": {},
   "outputs": [],
   "source": [
    "# Create a DataFrame with the three principal components.\n",
    "crypto_pca = pca.fit_transform(X_scale)"
   ]
  },
  {
   "cell_type": "code",
   "execution_count": 30,
   "metadata": {},
   "outputs": [
    {
     "data": {
      "text/html": [
       "<div>\n",
       "<style scoped>\n",
       "    .dataframe tbody tr th:only-of-type {\n",
       "        vertical-align: middle;\n",
       "    }\n",
       "\n",
       "    .dataframe tbody tr th {\n",
       "        vertical-align: top;\n",
       "    }\n",
       "\n",
       "    .dataframe thead th {\n",
       "        text-align: right;\n",
       "    }\n",
       "</style>\n",
       "<table border=\"1\" class=\"dataframe\">\n",
       "  <thead>\n",
       "    <tr style=\"text-align: right;\">\n",
       "      <th></th>\n",
       "      <th>PC 1</th>\n",
       "      <th>PC 2</th>\n",
       "      <th>PC 3</th>\n",
       "    </tr>\n",
       "  </thead>\n",
       "  <tbody>\n",
       "    <tr>\n",
       "      <th>42</th>\n",
       "      <td>-0.335294</td>\n",
       "      <td>0.982559</td>\n",
       "      <td>-0.530021</td>\n",
       "    </tr>\n",
       "    <tr>\n",
       "      <th>404</th>\n",
       "      <td>-0.318612</td>\n",
       "      <td>0.983040</td>\n",
       "      <td>-0.530156</td>\n",
       "    </tr>\n",
       "    <tr>\n",
       "      <th>1337</th>\n",
       "      <td>2.310092</td>\n",
       "      <td>1.794014</td>\n",
       "      <td>-0.498412</td>\n",
       "    </tr>\n",
       "    <tr>\n",
       "      <th>BTC</th>\n",
       "      <td>-0.153331</td>\n",
       "      <td>-1.332898</td>\n",
       "      <td>0.176940</td>\n",
       "    </tr>\n",
       "    <tr>\n",
       "      <th>ETH</th>\n",
       "      <td>-0.150357</td>\n",
       "      <td>-2.011565</td>\n",
       "      <td>0.285807</td>\n",
       "    </tr>\n",
       "  </tbody>\n",
       "</table>\n",
       "</div>"
      ],
      "text/plain": [
       "          PC 1      PC 2      PC 3\n",
       "42   -0.335294  0.982559 -0.530021\n",
       "404  -0.318612  0.983040 -0.530156\n",
       "1337  2.310092  1.794014 -0.498412\n",
       "BTC  -0.153331 -1.332898  0.176940\n",
       "ETH  -0.150357 -2.011565  0.285807"
      ]
     },
     "execution_count": 30,
     "metadata": {},
     "output_type": "execute_result"
    }
   ],
   "source": [
    "pcs_df = pd.DataFrame(data=crypto_pca, columns=[\"PC 1\", \"PC 2\", \"PC 3\"],index=crypto_df.index)\n",
    "pcs_df.head()"
   ]
  },
  {
   "cell_type": "markdown",
   "metadata": {},
   "source": [
    "### Deliverable 3: Clustering Crytocurrencies Using K-Means\n",
    "\n",
    "#### Finding the Best Value for `k` Using the Elbow Curve"
   ]
  },
  {
   "cell_type": "code",
   "execution_count": 31,
   "metadata": {},
   "outputs": [],
   "source": [
    "# Create an elbow curve to find the best value for K.\n",
    "inertia = []\n",
    "k = list(range(1, 11))\n",
    "for i in k:\n",
    "    \n",
    "    km = KMeans(n_clusters=i, random_state=0)\n",
    "    km.fit(pcs_df)\n",
    "    inertia.append(km.inertia_)"
   ]
  },
  {
   "cell_type": "code",
   "execution_count": 32,
   "metadata": {},
   "outputs": [
    {
     "data": {},
     "metadata": {},
     "output_type": "display_data"
    },
    {
     "data": {
      "application/vnd.holoviews_exec.v0+json": "",
      "text/html": [
       "<div id='1002'>\n",
       "\n",
       "\n",
       "\n",
       "\n",
       "\n",
       "  <div class=\"bk-root\" id=\"928d7ae0-1a5d-403f-9045-b63d2ab72d35\" data-root-id=\"1002\"></div>\n",
       "</div>\n",
       "<script type=\"application/javascript\">(function(root) {\n",
       "  function embed_document(root) {\n",
       "    var docs_json = {\"2380646e-322b-4702-9925-32b2addcc98b\":{\"defs\":[{\"extends\":null,\"module\":null,\"name\":\"ReactiveHTML1\",\"overrides\":[],\"properties\":[]},{\"extends\":null,\"module\":null,\"name\":\"FlexBox1\",\"overrides\":[],\"properties\":[{\"default\":\"flex-start\",\"kind\":null,\"name\":\"align_content\"},{\"default\":\"flex-start\",\"kind\":null,\"name\":\"align_items\"},{\"default\":\"row\",\"kind\":null,\"name\":\"flex_direction\"},{\"default\":\"wrap\",\"kind\":null,\"name\":\"flex_wrap\"},{\"default\":\"flex-start\",\"kind\":null,\"name\":\"justify_content\"}]},{\"extends\":null,\"module\":null,\"name\":\"TemplateActions1\",\"overrides\":[],\"properties\":[{\"default\":0,\"kind\":null,\"name\":\"open_modal\"},{\"default\":0,\"kind\":null,\"name\":\"close_modal\"}]},{\"extends\":null,\"module\":null,\"name\":\"MaterialTemplateActions1\",\"overrides\":[],\"properties\":[{\"default\":0,\"kind\":null,\"name\":\"open_modal\"},{\"default\":0,\"kind\":null,\"name\":\"close_modal\"}]}],\"roots\":{\"references\":[{\"attributes\":{\"bottom_units\":\"screen\",\"fill_alpha\":0.5,\"fill_color\":\"lightgrey\",\"left_units\":\"screen\",\"level\":\"overlay\",\"line_alpha\":1.0,\"line_color\":\"black\",\"line_dash\":[4,4],\"line_width\":2,\"right_units\":\"screen\",\"syncable\":false,\"top_units\":\"screen\"},\"id\":\"1029\",\"type\":\"BoxAnnotation\"},{\"attributes\":{\"text\":\"Elbow Curve\",\"text_color\":\"black\",\"text_font_size\":\"12pt\"},\"id\":\"1008\",\"type\":\"Title\"},{\"attributes\":{},\"id\":\"1038\",\"type\":\"Selection\"},{\"attributes\":{\"line_alpha\":0.2,\"line_color\":\"#30a2da\",\"line_width\":2,\"x\":{\"field\":\"k\"},\"y\":{\"field\":\"inertia\"}},\"id\":\"1042\",\"type\":\"Line\"},{\"attributes\":{\"line_color\":\"#30a2da\",\"line_width\":2,\"x\":{\"field\":\"k\"},\"y\":{\"field\":\"inertia\"}},\"id\":\"1040\",\"type\":\"Line\"},{\"attributes\":{\"source\":{\"id\":\"1037\"}},\"id\":\"1044\",\"type\":\"CDSView\"},{\"attributes\":{\"end\":10.0,\"reset_end\":10.0,\"reset_start\":1.0,\"start\":1.0,\"tags\":[[[\"k\",\"k\",null]]]},\"id\":\"1004\",\"type\":\"Range1d\"},{\"attributes\":{\"line_alpha\":0.1,\"line_color\":\"#30a2da\",\"line_width\":2,\"x\":{\"field\":\"k\"},\"y\":{\"field\":\"inertia\"}},\"id\":\"1041\",\"type\":\"Line\"},{\"attributes\":{},\"id\":\"1024\",\"type\":\"SaveTool\"},{\"attributes\":{\"ticks\":[1,2,3,4,5,6,7,8,9,10]},\"id\":\"1046\",\"type\":\"FixedTicker\"},{\"attributes\":{\"children\":[{\"id\":\"1003\"},{\"id\":\"1007\"},{\"id\":\"1073\"}],\"margin\":[0,0,0,0],\"name\":\"Row01627\",\"tags\":[\"embedded\"]},\"id\":\"1002\",\"type\":\"Row\"},{\"attributes\":{},\"id\":\"1025\",\"type\":\"PanTool\"},{\"attributes\":{\"below\":[{\"id\":\"1016\"}],\"center\":[{\"id\":\"1019\"},{\"id\":\"1023\"}],\"height\":300,\"left\":[{\"id\":\"1020\"}],\"margin\":[5,5,5,5],\"min_border_bottom\":10,\"min_border_left\":10,\"min_border_right\":10,\"min_border_top\":10,\"renderers\":[{\"id\":\"1043\"}],\"sizing_mode\":\"fixed\",\"title\":{\"id\":\"1008\"},\"toolbar\":{\"id\":\"1030\"},\"width\":700,\"x_range\":{\"id\":\"1004\"},\"x_scale\":{\"id\":\"1012\"},\"y_range\":{\"id\":\"1005\"},\"y_scale\":{\"id\":\"1014\"}},\"id\":\"1007\",\"subtype\":\"Figure\",\"type\":\"Plot\"},{\"attributes\":{},\"id\":\"1028\",\"type\":\"ResetTool\"},{\"attributes\":{},\"id\":\"1026\",\"type\":\"WheelZoomTool\"},{\"attributes\":{\"data_source\":{\"id\":\"1037\"},\"glyph\":{\"id\":\"1040\"},\"hover_glyph\":null,\"muted_glyph\":{\"id\":\"1042\"},\"nonselection_glyph\":{\"id\":\"1041\"},\"selection_glyph\":{\"id\":\"1045\"},\"view\":{\"id\":\"1044\"}},\"id\":\"1043\",\"type\":\"GlyphRenderer\"},{\"attributes\":{},\"id\":\"1052\",\"type\":\"BasicTickFormatter\"},{\"attributes\":{\"overlay\":{\"id\":\"1029\"}},\"id\":\"1027\",\"type\":\"BoxZoomTool\"},{\"attributes\":{\"margin\":[5,5,5,5],\"name\":\"HSpacer01631\",\"sizing_mode\":\"stretch_width\"},\"id\":\"1003\",\"type\":\"Spacer\"},{\"attributes\":{},\"id\":\"1062\",\"type\":\"UnionRenderers\"},{\"attributes\":{\"callback\":null,\"renderers\":[{\"id\":\"1043\"}],\"tags\":[\"hv_created\"],\"tooltips\":[[\"k\",\"@{k}\"],[\"inertia\",\"@{inertia}\"]]},\"id\":\"1006\",\"type\":\"HoverTool\"},{\"attributes\":{},\"id\":\"1054\",\"type\":\"AllLabels\"},{\"attributes\":{\"line_color\":\"#30a2da\",\"line_width\":2,\"x\":{\"field\":\"k\"},\"y\":{\"field\":\"inertia\"}},\"id\":\"1045\",\"type\":\"Line\"},{\"attributes\":{},\"id\":\"1012\",\"type\":\"LinearScale\"},{\"attributes\":{},\"id\":\"1049\",\"type\":\"AllLabels\"},{\"attributes\":{\"axis\":{\"id\":\"1016\"},\"grid_line_color\":null,\"ticker\":null},\"id\":\"1019\",\"type\":\"Grid\"},{\"attributes\":{\"margin\":[5,5,5,5],\"name\":\"HSpacer01632\",\"sizing_mode\":\"stretch_width\"},\"id\":\"1073\",\"type\":\"Spacer\"},{\"attributes\":{},\"id\":\"1014\",\"type\":\"LinearScale\"},{\"attributes\":{\"axis_label\":\"inertia\",\"formatter\":{\"id\":\"1052\"},\"major_label_policy\":{\"id\":\"1054\"},\"ticker\":{\"id\":\"1021\"}},\"id\":\"1020\",\"type\":\"LinearAxis\"},{\"attributes\":{},\"id\":\"1047\",\"type\":\"BasicTickFormatter\"},{\"attributes\":{\"axis_label\":\"k\",\"formatter\":{\"id\":\"1047\"},\"major_label_policy\":{\"id\":\"1049\"},\"ticker\":{\"id\":\"1046\"}},\"id\":\"1016\",\"type\":\"LinearAxis\"},{\"attributes\":{\"end\":3998.145096575881,\"reset_end\":3998.145096575881,\"reset_start\":-246.17783787212483,\"start\":-246.17783787212483,\"tags\":[[[\"inertia\",\"inertia\",null]]]},\"id\":\"1005\",\"type\":\"Range1d\"},{\"attributes\":{\"data\":{\"inertia\":{\"__ndarray__\":\"2rB1Led4rECFyA2m9lWjQD+OQ0CtTpdAhW9F4zndf0BN8PzwKm1zQJYsQXV/cm9ANF7TwCLKaUDLmnW0GN5lQDQIZwxWamBAn75W4gHhWkA=\",\"dtype\":\"float64\",\"order\":\"little\",\"shape\":[10]},\"k\":[1,2,3,4,5,6,7,8,9,10]},\"selected\":{\"id\":\"1038\"},\"selection_policy\":{\"id\":\"1062\"}},\"id\":\"1037\",\"type\":\"ColumnDataSource\"},{\"attributes\":{\"active_multi\":null,\"tools\":[{\"id\":\"1006\"},{\"id\":\"1024\"},{\"id\":\"1025\"},{\"id\":\"1026\"},{\"id\":\"1027\"},{\"id\":\"1028\"}]},\"id\":\"1030\",\"type\":\"Toolbar\"},{\"attributes\":{},\"id\":\"1021\",\"type\":\"BasicTicker\"},{\"attributes\":{\"axis\":{\"id\":\"1020\"},\"dimension\":1,\"grid_line_color\":null,\"ticker\":null},\"id\":\"1023\",\"type\":\"Grid\"}],\"root_ids\":[\"1002\"]},\"title\":\"Bokeh Application\",\"version\":\"2.3.2\"}};\n",
       "    var render_items = [{\"docid\":\"2380646e-322b-4702-9925-32b2addcc98b\",\"root_ids\":[\"1002\"],\"roots\":{\"1002\":\"928d7ae0-1a5d-403f-9045-b63d2ab72d35\"}}];\n",
       "    root.Bokeh.embed.embed_items_notebook(docs_json, render_items);\n",
       "  }\n",
       "  if (root.Bokeh !== undefined && root.Bokeh.Panel !== undefined) {\n",
       "    embed_document(root);\n",
       "  } else {\n",
       "    var attempts = 0;\n",
       "    var timer = setInterval(function(root) {\n",
       "      if (root.Bokeh !== undefined && root.Bokeh.Panel !== undefined) {\n",
       "        clearInterval(timer);\n",
       "        embed_document(root);\n",
       "      } else if (document.readyState == \"complete\") {\n",
       "        attempts++;\n",
       "        if (attempts > 200) {\n",
       "          clearInterval(timer);\n",
       "          console.log(\"Bokeh: ERROR: Unable to run BokehJS code because BokehJS library is missing\");\n",
       "        }\n",
       "      }\n",
       "    }, 25, root)\n",
       "  }\n",
       "})(window);</script>"
      ],
      "text/plain": [
       ":Curve   [k]   (inertia)"
      ]
     },
     "execution_count": 32,
     "metadata": {
      "application/vnd.holoviews_exec.v0+json": {
       "id": "1002"
      }
     },
     "output_type": "execute_result"
    }
   ],
   "source": [
    "elbow_data = {\"k\": k, \"inertia\": inertia}\n",
    "\n",
    "df_elbow = pd.DataFrame(elbow_data)\n",
    "df_elbow.hvplot.line(x=\"k\", y=\"inertia\", title=\"Elbow Curve\", xticks=k)"
   ]
  },
  {
   "cell_type": "markdown",
   "metadata": {},
   "source": [
    "Running K-Means with `k=4`"
   ]
  },
  {
   "cell_type": "code",
   "execution_count": 100,
   "metadata": {},
   "outputs": [
    {
     "data": {
      "text/plain": [
       "array([0, 0, 0, 1, 1, 1, 0, 1, 1, 1, 0, 1, 0, 0, 1, 0, 1, 1, 0, 0, 1, 1,\n",
       "       1, 1, 1, 0, 1, 1, 1, 0, 1, 0, 1, 1, 0, 0, 1, 1, 1, 1, 1, 1, 0, 0,\n",
       "       1, 1, 1, 1, 1, 0, 0, 1, 0, 1, 1, 1, 1, 0, 1, 1, 0, 1, 0, 0, 0, 1,\n",
       "       1, 1, 0, 0, 0, 0, 0, 1, 1, 1, 0, 0, 1, 0, 1, 0, 0, 1, 1, 1, 1, 0,\n",
       "       0, 1, 0, 1, 1, 0, 0, 1, 0, 0, 1, 1, 1, 0, 1, 0, 0, 1, 0, 1, 0, 1,\n",
       "       0, 1, 0, 0, 1, 1, 0, 1, 1, 1, 0, 1, 1, 1, 1, 1, 0, 0, 1, 1, 1, 0,\n",
       "       1, 0, 1, 1, 0, 1, 0, 1, 0, 0, 1, 1, 0, 1, 1, 0, 0, 1, 0, 1, 0, 0,\n",
       "       0, 1, 1, 1, 1, 0, 0, 0, 0, 0, 1, 1, 0, 0, 0, 0, 0, 1, 0, 0, 0, 0,\n",
       "       0, 1, 0, 1, 0, 0, 1, 0, 1, 0, 0, 1, 0, 1, 0, 1, 0, 1, 0, 0, 0, 0,\n",
       "       1, 0, 0, 0, 0, 0, 1, 1, 0, 0, 1, 1, 0, 0, 0, 0, 0, 1, 0, 0, 0, 0,\n",
       "       0, 0, 0, 0, 1, 0, 0, 0, 0, 0, 0, 1, 1, 1, 0, 0, 0, 0, 1, 0, 1, 0,\n",
       "       0, 1, 0, 1, 1, 0, 1, 1, 0, 1, 0, 0, 0, 1, 0, 0, 1, 0, 0, 0, 0, 0,\n",
       "       0, 0, 1, 0, 1, 0, 0, 0, 0, 1, 0, 1, 0, 1, 1, 1, 1, 0, 1, 0, 0, 1,\n",
       "       0, 1, 1, 1, 0, 1, 0, 1, 1, 1, 0, 1, 0, 1, 0, 0, 0, 1, 0, 1, 1, 1,\n",
       "       1, 1, 0, 0, 1, 0, 0, 0, 1, 0, 1, 0, 1, 0, 1, 0, 0, 0, 0, 1, 0, 0,\n",
       "       1, 0, 0, 0, 1, 1, 1, 1, 0, 0, 0, 0, 1, 0, 1, 1, 1, 0, 0, 1, 1, 0,\n",
       "       0, 1, 0, 1, 1, 1, 0, 1, 1, 0, 0, 0, 1, 1, 1, 0, 0, 0, 1, 1, 0, 1,\n",
       "       1, 1, 1, 0, 3, 0, 1, 1, 1, 0, 0, 0, 0, 0, 0, 1, 1, 1, 1, 0, 0, 0,\n",
       "       1, 0, 1, 0, 0, 0, 0, 1, 0, 0, 1, 0, 0, 1, 1, 0, 1, 0, 1, 1, 1, 1,\n",
       "       0, 0, 1, 0, 1, 0, 0, 0, 0, 0, 0, 1, 1, 1, 0, 0, 0, 0, 0, 0, 1, 0,\n",
       "       1, 1, 1, 1, 0, 0, 0, 0, 1, 0, 0, 1, 0, 0, 1, 3, 1, 0, 1, 1, 0, 0,\n",
       "       1, 0, 1, 1, 0, 1, 1, 0, 1, 0, 1, 0, 0, 1, 0, 0, 0, 0, 0, 1, 1, 1,\n",
       "       0, 0, 0, 1, 0, 1, 0, 1, 0, 0, 0, 0, 1, 0, 0, 0, 1, 0, 1, 0, 1, 0,\n",
       "       0, 0, 1, 1, 0, 0, 0, 0, 0, 0, 3, 1, 0, 1, 0, 1, 0, 0, 3, 0, 2, 0,\n",
       "       0, 0, 1, 1, 0])"
      ]
     },
     "execution_count": 100,
     "metadata": {},
     "output_type": "execute_result"
    }
   ],
   "source": [
    "# Initialize the K-Means model.\n",
    "model = KMeans(n_clusters=4, random_state=0)\n",
    "\n",
    "# Fit the model\n",
    "model.fit(pcs_df)\n",
    "\n",
    "# Predict clusters\n",
    "predictions = model.predict(pcs_df)\n",
    "\n",
    "predictions"
   ]
  },
  {
   "cell_type": "code",
   "execution_count": 101,
   "metadata": {},
   "outputs": [
    {
     "data": {
      "text/html": [
       "<div>\n",
       "<style scoped>\n",
       "    .dataframe tbody tr th:only-of-type {\n",
       "        vertical-align: middle;\n",
       "    }\n",
       "\n",
       "    .dataframe tbody tr th {\n",
       "        vertical-align: top;\n",
       "    }\n",
       "\n",
       "    .dataframe thead th {\n",
       "        text-align: right;\n",
       "    }\n",
       "</style>\n",
       "<table border=\"1\" class=\"dataframe\">\n",
       "  <thead>\n",
       "    <tr style=\"text-align: right;\">\n",
       "      <th></th>\n",
       "      <th>PC 1</th>\n",
       "      <th>PC 2</th>\n",
       "      <th>PC 3</th>\n",
       "      <th>class</th>\n",
       "    </tr>\n",
       "  </thead>\n",
       "  <tbody>\n",
       "    <tr>\n",
       "      <th>42</th>\n",
       "      <td>-0.335294</td>\n",
       "      <td>0.982559</td>\n",
       "      <td>-0.530021</td>\n",
       "      <td>0</td>\n",
       "    </tr>\n",
       "    <tr>\n",
       "      <th>404</th>\n",
       "      <td>-0.318612</td>\n",
       "      <td>0.983040</td>\n",
       "      <td>-0.530156</td>\n",
       "      <td>0</td>\n",
       "    </tr>\n",
       "    <tr>\n",
       "      <th>1337</th>\n",
       "      <td>2.310092</td>\n",
       "      <td>1.794014</td>\n",
       "      <td>-0.498412</td>\n",
       "      <td>0</td>\n",
       "    </tr>\n",
       "    <tr>\n",
       "      <th>BTC</th>\n",
       "      <td>-0.153331</td>\n",
       "      <td>-1.332898</td>\n",
       "      <td>0.176940</td>\n",
       "      <td>1</td>\n",
       "    </tr>\n",
       "    <tr>\n",
       "      <th>ETH</th>\n",
       "      <td>-0.150357</td>\n",
       "      <td>-2.011565</td>\n",
       "      <td>0.285807</td>\n",
       "      <td>1</td>\n",
       "    </tr>\n",
       "    <tr>\n",
       "      <th>LTC</th>\n",
       "      <td>-0.164720</td>\n",
       "      <td>-1.183426</td>\n",
       "      <td>-0.068488</td>\n",
       "      <td>1</td>\n",
       "    </tr>\n",
       "    <tr>\n",
       "      <th>DASH</th>\n",
       "      <td>-0.393893</td>\n",
       "      <td>1.313771</td>\n",
       "      <td>-0.392416</td>\n",
       "      <td>0</td>\n",
       "    </tr>\n",
       "    <tr>\n",
       "      <th>XMR</th>\n",
       "      <td>-0.144345</td>\n",
       "      <td>-2.175155</td>\n",
       "      <td>0.339502</td>\n",
       "      <td>1</td>\n",
       "    </tr>\n",
       "    <tr>\n",
       "      <th>ETC</th>\n",
       "      <td>-0.148796</td>\n",
       "      <td>-2.011625</td>\n",
       "      <td>0.285816</td>\n",
       "      <td>1</td>\n",
       "    </tr>\n",
       "    <tr>\n",
       "      <th>ZEC</th>\n",
       "      <td>-0.130770</td>\n",
       "      <td>-1.982363</td>\n",
       "      <td>0.331378</td>\n",
       "      <td>1</td>\n",
       "    </tr>\n",
       "  </tbody>\n",
       "</table>\n",
       "</div>"
      ],
      "text/plain": [
       "          PC 1      PC 2      PC 3  class\n",
       "42   -0.335294  0.982559 -0.530021      0\n",
       "404  -0.318612  0.983040 -0.530156      0\n",
       "1337  2.310092  1.794014 -0.498412      0\n",
       "BTC  -0.153331 -1.332898  0.176940      1\n",
       "ETH  -0.150357 -2.011565  0.285807      1\n",
       "LTC  -0.164720 -1.183426 -0.068488      1\n",
       "DASH -0.393893  1.313771 -0.392416      0\n",
       "XMR  -0.144345 -2.175155  0.339502      1\n",
       "ETC  -0.148796 -2.011625  0.285816      1\n",
       "ZEC  -0.130770 -1.982363  0.331378      1"
      ]
     },
     "execution_count": 101,
     "metadata": {},
     "output_type": "execute_result"
    }
   ],
   "source": [
    "# Add the predicted class columns\n",
    "pcs_df[\"class\"] = model.labels_\n",
    "pcs_df.head(10)"
   ]
  },
  {
   "cell_type": "code",
   "execution_count": 87,
   "metadata": {},
   "outputs": [
    {
     "data": {},
     "metadata": {},
     "output_type": "display_data"
    },
    {
     "data": {
      "application/vnd.holoviews_exec.v0+json": "",
      "text/html": [
       "<div id='2035'>\n",
       "\n",
       "\n",
       "\n",
       "\n",
       "\n",
       "  <div class=\"bk-root\" id=\"2e1fdf39-f819-43a2-9d99-a0c396d0320b\" data-root-id=\"2035\"></div>\n",
       "</div>\n",
       "<script type=\"application/javascript\">(function(root) {\n",
       "  function embed_document(root) {\n",
       "    var docs_json = {\"da84e947-9986-43bc-88c0-f6142775e525\":{\"defs\":[{\"extends\":null,\"module\":null,\"name\":\"ReactiveHTML1\",\"overrides\":[],\"properties\":[]},{\"extends\":null,\"module\":null,\"name\":\"FlexBox1\",\"overrides\":[],\"properties\":[{\"default\":\"flex-start\",\"kind\":null,\"name\":\"align_content\"},{\"default\":\"flex-start\",\"kind\":null,\"name\":\"align_items\"},{\"default\":\"row\",\"kind\":null,\"name\":\"flex_direction\"},{\"default\":\"wrap\",\"kind\":null,\"name\":\"flex_wrap\"},{\"default\":\"flex-start\",\"kind\":null,\"name\":\"justify_content\"}]},{\"extends\":null,\"module\":null,\"name\":\"TemplateActions1\",\"overrides\":[],\"properties\":[{\"default\":0,\"kind\":null,\"name\":\"open_modal\"},{\"default\":0,\"kind\":null,\"name\":\"close_modal\"}]},{\"extends\":null,\"module\":null,\"name\":\"MaterialTemplateActions1\",\"overrides\":[],\"properties\":[{\"default\":0,\"kind\":null,\"name\":\"open_modal\"},{\"default\":0,\"kind\":null,\"name\":\"close_modal\"}]}],\"roots\":{\"references\":[{\"attributes\":{\"axis\":{\"id\":\"2052\"},\"grid_line_color\":null,\"ticker\":null},\"id\":\"2055\",\"type\":\"Grid\"},{\"attributes\":{\"source\":{\"id\":\"2122\"}},\"id\":\"2129\",\"type\":\"CDSView\"},{\"attributes\":{\"label\":{\"value\":\"2\"},\"renderers\":[{\"id\":\"2128\"}]},\"id\":\"2144\",\"type\":\"LegendItem\"},{\"attributes\":{\"margin\":[5,5,5,5],\"name\":\"HSpacer03824\",\"sizing_mode\":\"stretch_width\"},\"id\":\"2036\",\"type\":\"Spacer\"},{\"attributes\":{\"data_source\":{\"id\":\"2122\"},\"glyph\":{\"id\":\"2125\"},\"hover_glyph\":null,\"muted_glyph\":{\"id\":\"2127\"},\"nonselection_glyph\":{\"id\":\"2126\"},\"selection_glyph\":{\"id\":\"2145\"},\"view\":{\"id\":\"2129\"}},\"id\":\"2128\",\"type\":\"GlyphRenderer\"},{\"attributes\":{},\"id\":\"2168\",\"type\":\"UnionRenderers\"},{\"attributes\":{\"fill_color\":{\"value\":\"#6d904f\"},\"line_color\":{\"value\":\"#6d904f\"},\"size\":{\"value\":5.477225575051661},\"x\":{\"field\":\"PC 1\"},\"y\":{\"field\":\"PC 2\"}},\"id\":\"2149\",\"type\":\"Scatter\"},{\"attributes\":{},\"id\":\"2078\",\"type\":\"AllLabels\"},{\"attributes\":{},\"id\":\"2048\",\"type\":\"LinearScale\"},{\"attributes\":{},\"id\":\"2053\",\"type\":\"BasicTicker\"},{\"attributes\":{},\"id\":\"2147\",\"type\":\"Selection\"},{\"attributes\":{\"label\":{\"value\":\"3\"},\"renderers\":[{\"id\":\"2152\"}]},\"id\":\"2170\",\"type\":\"LegendItem\"},{\"attributes\":{\"fill_alpha\":{\"value\":0.1},\"fill_color\":{\"value\":\"#30a2da\"},\"line_alpha\":{\"value\":0.1},\"line_color\":{\"value\":\"#30a2da\"},\"size\":{\"value\":5.477225575051661},\"x\":{\"field\":\"PC 1\"},\"y\":{\"field\":\"PC 2\"}},\"id\":\"2083\",\"type\":\"Scatter\"},{\"attributes\":{},\"id\":\"2095\",\"type\":\"UnionRenderers\"},{\"attributes\":{},\"id\":\"2123\",\"type\":\"Selection\"},{\"attributes\":{\"fill_alpha\":{\"value\":0.1},\"fill_color\":{\"value\":\"#6d904f\"},\"line_alpha\":{\"value\":0.1},\"line_color\":{\"value\":\"#6d904f\"},\"size\":{\"value\":5.477225575051661},\"x\":{\"field\":\"PC 1\"},\"y\":{\"field\":\"PC 2\"}},\"id\":\"2150\",\"type\":\"Scatter\"},{\"attributes\":{},\"id\":\"2050\",\"type\":\"LinearScale\"},{\"attributes\":{\"data_source\":{\"id\":\"2146\"},\"glyph\":{\"id\":\"2149\"},\"hover_glyph\":null,\"muted_glyph\":{\"id\":\"2151\"},\"nonselection_glyph\":{\"id\":\"2150\"},\"selection_glyph\":{\"id\":\"2171\"},\"view\":{\"id\":\"2153\"}},\"id\":\"2152\",\"type\":\"GlyphRenderer\"},{\"attributes\":{\"axis_label\":\"PC 2\",\"formatter\":{\"id\":\"2076\"},\"major_label_policy\":{\"id\":\"2078\"},\"ticker\":{\"id\":\"2057\"}},\"id\":\"2056\",\"type\":\"LinearAxis\"},{\"attributes\":{\"axis_label\":\"PC 1\",\"formatter\":{\"id\":\"2073\"},\"major_label_policy\":{\"id\":\"2075\"},\"ticker\":{\"id\":\"2053\"}},\"id\":\"2052\",\"type\":\"LinearAxis\"},{\"attributes\":{\"angle\":{\"value\":0.0},\"fill_alpha\":{\"value\":1.0},\"fill_color\":{\"value\":\"#6d904f\"},\"hatch_alpha\":{\"value\":1.0},\"hatch_color\":{\"value\":\"black\"},\"hatch_scale\":{\"value\":12.0},\"hatch_weight\":{\"value\":1.0},\"line_alpha\":{\"value\":1.0},\"line_cap\":{\"value\":\"butt\"},\"line_color\":{\"value\":\"#6d904f\"},\"line_dash\":{\"value\":[]},\"line_dash_offset\":{\"value\":0},\"line_join\":{\"value\":\"bevel\"},\"line_width\":{\"value\":1},\"marker\":{\"value\":\"circle\"},\"size\":{\"value\":5.477225575051661},\"x\":{\"field\":\"PC 1\"},\"y\":{\"field\":\"PC 2\"}},\"id\":\"2171\",\"type\":\"Scatter\"},{\"attributes\":{},\"id\":\"2057\",\"type\":\"BasicTicker\"},{\"attributes\":{\"axis\":{\"id\":\"2056\"},\"dimension\":1,\"grid_line_color\":null,\"ticker\":null},\"id\":\"2059\",\"type\":\"Grid\"},{\"attributes\":{\"fill_alpha\":{\"value\":0.2},\"fill_color\":{\"value\":\"#6d904f\"},\"line_alpha\":{\"value\":0.2},\"line_color\":{\"value\":\"#6d904f\"},\"size\":{\"value\":5.477225575051661},\"x\":{\"field\":\"PC 1\"},\"y\":{\"field\":\"PC 2\"}},\"id\":\"2151\",\"type\":\"Scatter\"},{\"attributes\":{\"text_color\":\"black\",\"text_font_size\":\"12pt\"},\"id\":\"2044\",\"type\":\"Title\"},{\"attributes\":{\"data\":{\"PC 1\":{\"__ndarray__\":\"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\",\"dtype\":\"float64\",\"order\":\"little\",\"shape\":[239]},\"PC 2\":{\"__ndarray__\":\"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\",\"dtype\":\"float64\",\"order\":\"little\",\"shape\":[239]},\"PC_1\":{\"__ndarray__\":\"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\",\"dtype\":\"float64\",\"order\":\"little\",\"shape\":[239]},\"PC_2\":{\"__ndarray__\":\"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\",\"dtype\":\"float64\",\"order\":\"little\",\"shape\":[239]},\"class\":{\"__ndarray__\":\"AQAAAAEAAAABAAAAAQAAAAEAAAABAAAAAQAAAAEAAAABAAAAAQAAAAEAAAABAAAAAQAAAAEAAAABAAAAAQAAAAEAAAABAAAAAQAAAAEAAAABAAAAAQAAAAEAAAABAAAAAQAAAAEAAAABAAAAAQAAAAEAAAABAAAAAQAAAAEAAAABAAAAAQAAAAEAAAABAAAAAQAAAAEAAAABAAAAAQAAAAEAAAABAAAAAQAAAAEAAAABAAAAAQAAAAEAAAABAAAAAQAAAAEAAAABAAAAAQAAAAEAAAABAAAAAQAAAAEAAAABAAAAAQAAAAEAAAABAAAAAQAAAAEAAAABAAAAAQAAAAEAAAABAAAAAQAAAAEAAAABAAAAAQAAAAEAAAABAAAAAQAAAAEAAAABAAAAAQAAAAEAAAABAAAAAQAAAAEAAAABAAAAAQAAAAEAAAABAAAAAQAAAAEAAAABAAAAAQAAAAEAAAABAAAAAQAAAAEAAAABAAAAAQAAAAEAAAABAAAAAQAAAAEAAAABAAAAAQAAAAEAAAABAAAAAQAAAAEAAAABAAAAAQAAAAEAAAABAAAAAQAAAAEAAAABAAAAAQAAAAEAAAABAAAAAQAAAAEAAAABAAAAAQAAAAEAAAABAAAAAQAAAAEAAAABAAAAAQAAAAEAAAABAAAAAQAAAAEAAAABAAAAAQAAAAEAAAABAAAAAQAAAAEAAAABAAAAAQAAAAEAAAABAAAAAQAAAAEAAAABAAAAAQAAAAEAAAABAAAAAQAAAAEAAAABAAAAAQAAAAEAAAABAAAAAQAAAAEAAAABAAAAAQAAAAEAAAABAAAAAQAAAAEAAAABAAAAAQAAAAEAAAABAAAAAQAAAAEAAAABAAAAAQAAAAEAAAABAAAAAQAAAAEAAAABAAAAAQAAAAEAAAABAAAAAQAAAAEAAAABAAAAAQAAAAEAAAABAAAAAQAAAAEAAAABAAAAAQAAAAEAAAABAAAAAQAAAAEAAAABAAAAAQAAAAEAAAABAAAAAQAAAAEAAAABAAAAAQAAAAEAAAABAAAAAQAAAAEAAAABAAAAAQAAAAEAAAABAAAAAQAAAAEAAAABAAAAAQAAAAEAAAABAAAAAQAAAAEAAAABAAAAAQAAAAEAAAABAAAAAQAAAAEAAAABAAAAAQAAAAEAAAABAAAAAQAAAAEAAAABAAAAAQAAAAEAAAABAAAAAQAAAAEAAAABAAAAAQAAAAEAAAABAAAAAQAAAAEAAAABAAAAAQAAAAEAAAA=\",\"dtype\":\"int32\",\"order\":\"little\",\"shape\":[239]}},\"selected\":{\"id\":\"2101\"},\"selection_policy\":{\"id\":\"2118\"}},\"id\":\"2100\",\"type\":\"ColumnDataSource\"},{\"attributes\":{\"source\":{\"id\":\"2146\"}},\"id\":\"2153\",\"type\":\"CDSView\"},{\"attributes\":{\"data\":{\"PC 1\":{\"__ndarray__\":\"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\",\"dtype\":\"float64\",\"order\":\"little\",\"shape\":[289]},\"PC 2\":{\"__ndarray__\":\"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\",\"dtype\":\"float64\",\"order\":\"little\",\"shape\":[289]},\"PC_1\":{\"__ndarray__\":\"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\",\"dtype\":\"float64\",\"order\":\"little\",\"shape\":[289]},\"PC_2\":{\"__ndarray__\":\"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\",\"dtype\":\"float64\",\"order\":\"little\",\"shape\":[289]},\"class\":{\"__ndarray__\":\"AAAAAAAAAAAAAAAAAAAAAAAAAAAAAAAAAAAAAAAAAAAAAAAAAAAAAAAAAAAAAAAAAAAAAAAAAAAAAAAAAAAAAAAAAAAAAAAAAAAAAAAAAAAAAAAAAAAAAAAAAAAAAAAAAAAAAAAAAAAAAAAAAAAAAAAAAAAAAAAAAAAAAAAAAAAAAAAAAAAAAAAAAAAAAAAAAAAAAAAAAAAAAAAAAAAAAAAAAAAAAAAAAAAAAAAAAAAAAAAAAAAAAAAAAAAAAAAAAAAAAAAAAAAAAAAAAAAAAAAAAAAAAAAAAAAAAAAAAAAAAAAAAAAAAAAAAAAAAAAAAAAAAAAAAAAAAAAAAAAAAAAAAAAAAAAAAAAAAAAAAAAAAAAAAAAAAAAAAAAAAAAAAAAAAAAAAAAAAAAAAAAAAAAAAAAAAAAAAAAAAAAAAAAAAAAAAAAAAAAAAAAAAAAAAAAAAAAAAAAAAAAAAAAAAAAAAAAAAAAAAAAAAAAAAAAAAAAAAAAAAAAAAAAAAAAAAAAAAAAAAAAAAAAAAAAAAAAAAAAAAAAAAAAAAAAAAAAAAAAAAAAAAAAAAAAAAAAAAAAAAAAAAAAAAAAAAAAAAAAAAAAAAAAAAAAAAAAAAAAAAAAAAAAAAAAAAAAAAAAAAAAAAAAAAAAAAAAAAAAAAAAAAAAAAAAAAAAAAAAAAAAAAAAAAAAAAAAAAAAAAAAAAAAAAAAAAAAAAAAAAAAAAAAAAAAAAAAAAAAAAAAAAAAAAAAAAAAAAAAAAAAAAAAAAAAAAAAAAAAAAAAAAAAAAAAAAAAAAAAAAAAAAAAAAAAAAAAAAAAAAAAAAAAAAAAAAAAAAAAAAAAAAAAAAAAAAAAAAAAAAAAAAAAAAAAAAAAAAAAAAAAAAAAAAAAAAAAAAAAAAAAAAAAAAAAAAAAAAAAAAAAAAAAAAAAAAAAAAAAAAAAAAAAAAAAAAAAAAAAAAAAAAAAAAAAAAAAAAAAAAAAAAAAAAAAAAAAAAAAAAAAAAAAAAAAAAAAAAAAAAAAAAAAAAAAAAAAAAAAAAAAAAAAAAAAAAAAAAAAAAAAAAAAAAAAAAAAAAAAAAAAAAAAAAAAAAAAAAAAAAAAAAAAAAAAAAAAAAAAAAAAAAAAAAAAAAAAAAAAAAAAAAAAAAAAAAAAAAAAAAAAAAAAAAAAAAAAAAAAAAAAAAAAAAAAAAAAAAAAAAAAAAAAAAAAAAAAAAAAAAAAAAAAAAAAAAAAAAAAAAAAAAAAAAAAAAAAAAAAAAAAAAAAAAAAAAAAAAAAAAAAAAAAAAAAAAAAAAAAAAAAAAAAAAAAAAAAAAAAAAAAAAAAAAAAAAAAAAAAAAAAAAAAAAAAAAAAAAAAAAAAAAAAAAAAAAAAAAAAAAAAAAAAAAAAAAAAAAAAAAAAAAAAAAAAAAAAAAAAAAAAAAAAAAAAAAAAAAAAAAAAAAAAAAAAAAAAAAAAAAAAAAAAAAAAAAAAAAAAAAAAAAAAAAAAAAAAAAAAAAAAAAAAAAAAAAAAAAAAAAAAAAAAAAAAAAAAAAAAAAA==\",\"dtype\":\"int32\",\"order\":\"little\",\"shape\":[289]}},\"selected\":{\"id\":\"2080\"},\"selection_policy\":{\"id\":\"2095\"}},\"id\":\"2079\",\"type\":\"ColumnDataSource\"},{\"attributes\":{\"end\":35.57976334663442,\"reset_end\":35.57976334663442,\"reset_start\":-2.0334349396245606,\"start\":-2.0334349396245606,\"tags\":[[[\"PC 1\",\"PC 1\",null]]]},\"id\":\"2037\",\"type\":\"Range1d\"},{\"attributes\":{\"fill_alpha\":{\"value\":0.2},\"fill_color\":{\"value\":\"#30a2da\"},\"line_alpha\":{\"value\":0.2},\"line_color\":{\"value\":\"#30a2da\"},\"size\":{\"value\":5.477225575051661},\"x\":{\"field\":\"PC 1\"},\"y\":{\"field\":\"PC 2\"}},\"id\":\"2084\",\"type\":\"Scatter\"},{\"attributes\":{\"label\":{\"value\":\"0\"},\"renderers\":[{\"id\":\"2085\"}]},\"id\":\"2098\",\"type\":\"LegendItem\"},{\"attributes\":{},\"id\":\"2060\",\"type\":\"SaveTool\"},{\"attributes\":{\"below\":[{\"id\":\"2052\"}],\"center\":[{\"id\":\"2055\"},{\"id\":\"2059\"}],\"height\":300,\"left\":[{\"id\":\"2056\"}],\"margin\":[5,5,5,5],\"min_border_bottom\":10,\"min_border_left\":10,\"min_border_right\":10,\"min_border_top\":10,\"renderers\":[{\"id\":\"2085\"},{\"id\":\"2106\"},{\"id\":\"2128\"},{\"id\":\"2152\"}],\"right\":[{\"id\":\"2097\"}],\"sizing_mode\":\"fixed\",\"title\":{\"id\":\"2044\"},\"toolbar\":{\"id\":\"2066\"},\"width\":700,\"x_range\":{\"id\":\"2037\"},\"x_scale\":{\"id\":\"2048\"},\"y_range\":{\"id\":\"2038\"},\"y_scale\":{\"id\":\"2050\"}},\"id\":\"2043\",\"subtype\":\"Figure\",\"type\":\"Plot\"},{\"attributes\":{},\"id\":\"2061\",\"type\":\"PanTool\"},{\"attributes\":{},\"id\":\"2075\",\"type\":\"AllLabels\"},{\"attributes\":{},\"id\":\"2064\",\"type\":\"ResetTool\"},{\"attributes\":{},\"id\":\"2101\",\"type\":\"Selection\"},{\"attributes\":{\"label\":{\"value\":\"1\"},\"renderers\":[{\"id\":\"2106\"}]},\"id\":\"2120\",\"type\":\"LegendItem\"},{\"attributes\":{},\"id\":\"2062\",\"type\":\"WheelZoomTool\"},{\"attributes\":{\"margin\":[5,5,5,5],\"name\":\"HSpacer03825\",\"sizing_mode\":\"stretch_width\"},\"id\":\"2316\",\"type\":\"Spacer\"},{\"attributes\":{\"click_policy\":\"mute\",\"items\":[{\"id\":\"2098\"},{\"id\":\"2120\"},{\"id\":\"2144\"},{\"id\":\"2170\"}],\"location\":[0,0],\"title\":\"class\"},\"id\":\"2097\",\"type\":\"Legend\"},{\"attributes\":{\"children\":[{\"id\":\"2036\"},{\"id\":\"2043\"},{\"id\":\"2316\"}],\"margin\":[0,0,0,0],\"name\":\"Row03820\",\"tags\":[\"embedded\"]},\"id\":\"2035\",\"type\":\"Row\"},{\"attributes\":{},\"id\":\"2073\",\"type\":\"BasicTickFormatter\"},{\"attributes\":{\"overlay\":{\"id\":\"2065\"}},\"id\":\"2063\",\"type\":\"BoxZoomTool\"},{\"attributes\":{\"fill_color\":{\"value\":\"#30a2da\"},\"line_color\":{\"value\":\"#30a2da\"},\"size\":{\"value\":5.477225575051661},\"x\":{\"field\":\"PC 1\"},\"y\":{\"field\":\"PC 2\"}},\"id\":\"2082\",\"type\":\"Scatter\"},{\"attributes\":{\"data_source\":{\"id\":\"2079\"},\"glyph\":{\"id\":\"2082\"},\"hover_glyph\":null,\"muted_glyph\":{\"id\":\"2084\"},\"nonselection_glyph\":{\"id\":\"2083\"},\"selection_glyph\":{\"id\":\"2099\"},\"view\":{\"id\":\"2086\"}},\"id\":\"2085\",\"type\":\"GlyphRenderer\"},{\"attributes\":{\"fill_color\":{\"value\":\"#fc4f30\"},\"line_color\":{\"value\":\"#fc4f30\"},\"size\":{\"value\":5.477225575051661},\"x\":{\"field\":\"PC 1\"},\"y\":{\"field\":\"PC 2\"}},\"id\":\"2103\",\"type\":\"Scatter\"},{\"attributes\":{\"data\":{\"PC 1\":{\"__ndarray__\":\"sRBCRn9szL8sWx9lOAPXv8Z3+336juG/HF+wAP4+2b8=\",\"dtype\":\"float64\",\"order\":\"little\",\"shape\":[4]},\"PC 2\":{\"__ndarray__\":\"lqTHacAM/j/Cd5JNt34HQMA3DIpvxgRA0+Io/JIzCEA=\",\"dtype\":\"float64\",\"order\":\"little\",\"shape\":[4]},\"PC_1\":{\"__ndarray__\":\"sRBCRn9szL8sWx9lOAPXv8Z3+336juG/HF+wAP4+2b8=\",\"dtype\":\"float64\",\"order\":\"little\",\"shape\":[4]},\"PC_2\":{\"__ndarray__\":\"lqTHacAM/j/Cd5JNt34HQMA3DIpvxgRA0+Io/JIzCEA=\",\"dtype\":\"float64\",\"order\":\"little\",\"shape\":[4]},\"class\":{\"__ndarray__\":\"AwAAAAMAAAADAAAAAwAAAA==\",\"dtype\":\"int32\",\"order\":\"little\",\"shape\":[4]}},\"selected\":{\"id\":\"2147\"},\"selection_policy\":{\"id\":\"2168\"}},\"id\":\"2146\",\"type\":\"ColumnDataSource\"},{\"attributes\":{\"angle\":{\"value\":0.0},\"fill_alpha\":{\"value\":1.0},\"fill_color\":{\"value\":\"#30a2da\"},\"hatch_alpha\":{\"value\":1.0},\"hatch_color\":{\"value\":\"black\"},\"hatch_scale\":{\"value\":12.0},\"hatch_weight\":{\"value\":1.0},\"line_alpha\":{\"value\":1.0},\"line_cap\":{\"value\":\"butt\"},\"line_color\":{\"value\":\"#30a2da\"},\"line_dash\":{\"value\":[]},\"line_dash_offset\":{\"value\":0},\"line_join\":{\"value\":\"bevel\"},\"line_width\":{\"value\":1},\"marker\":{\"value\":\"circle\"},\"size\":{\"value\":5.477225575051661},\"x\":{\"field\":\"PC 1\"},\"y\":{\"field\":\"PC 2\"}},\"id\":\"2099\",\"type\":\"Scatter\"},{\"attributes\":{\"source\":{\"id\":\"2079\"}},\"id\":\"2086\",\"type\":\"CDSView\"},{\"attributes\":{},\"id\":\"2080\",\"type\":\"Selection\"},{\"attributes\":{\"fill_alpha\":{\"value\":0.2},\"fill_color\":{\"value\":\"#e5ae38\"},\"line_alpha\":{\"value\":0.2},\"line_color\":{\"value\":\"#e5ae38\"},\"size\":{\"value\":5.477225575051661},\"x\":{\"field\":\"PC 1\"},\"y\":{\"field\":\"PC 2\"}},\"id\":\"2127\",\"type\":\"Scatter\"},{\"attributes\":{\"data\":{\"PC 1\":{\"__ndarray__\":\"tmvQACoMQUA=\",\"dtype\":\"float64\",\"order\":\"little\",\"shape\":[1]},\"PC 2\":{\"__ndarray__\":\"FktDW/wAAUA=\",\"dtype\":\"float64\",\"order\":\"little\",\"shape\":[1]},\"PC_1\":{\"__ndarray__\":\"tmvQACoMQUA=\",\"dtype\":\"float64\",\"order\":\"little\",\"shape\":[1]},\"PC_2\":{\"__ndarray__\":\"FktDW/wAAUA=\",\"dtype\":\"float64\",\"order\":\"little\",\"shape\":[1]},\"class\":{\"__ndarray__\":\"AgAAAA==\",\"dtype\":\"int32\",\"order\":\"little\",\"shape\":[1]}},\"selected\":{\"id\":\"2123\"},\"selection_policy\":{\"id\":\"2142\"}},\"id\":\"2122\",\"type\":\"ColumnDataSource\"},{\"attributes\":{\"active_multi\":null,\"tools\":[{\"id\":\"2039\"},{\"id\":\"2060\"},{\"id\":\"2061\"},{\"id\":\"2062\"},{\"id\":\"2063\"},{\"id\":\"2064\"}]},\"id\":\"2066\",\"type\":\"Toolbar\"},{\"attributes\":{\"fill_alpha\":{\"value\":0.1},\"fill_color\":{\"value\":\"#e5ae38\"},\"line_alpha\":{\"value\":0.1},\"line_color\":{\"value\":\"#e5ae38\"},\"size\":{\"value\":5.477225575051661},\"x\":{\"field\":\"PC 1\"},\"y\":{\"field\":\"PC 2\"}},\"id\":\"2126\",\"type\":\"Scatter\"},{\"attributes\":{\"angle\":{\"value\":0.0},\"fill_alpha\":{\"value\":1.0},\"fill_color\":{\"value\":\"#fc4f30\"},\"hatch_alpha\":{\"value\":1.0},\"hatch_color\":{\"value\":\"black\"},\"hatch_scale\":{\"value\":12.0},\"hatch_weight\":{\"value\":1.0},\"line_alpha\":{\"value\":1.0},\"line_cap\":{\"value\":\"butt\"},\"line_color\":{\"value\":\"#fc4f30\"},\"line_dash\":{\"value\":[]},\"line_dash_offset\":{\"value\":0},\"line_join\":{\"value\":\"bevel\"},\"line_width\":{\"value\":1},\"marker\":{\"value\":\"circle\"},\"size\":{\"value\":5.477225575051661},\"x\":{\"field\":\"PC 1\"},\"y\":{\"field\":\"PC 2\"}},\"id\":\"2121\",\"type\":\"Scatter\"},{\"attributes\":{\"end\":4.243412254494151,\"reset_end\":4.243412254494151,\"reset_start\":-3.1306394926389873,\"start\":-3.1306394926389873,\"tags\":[[[\"PC 2\",\"PC 2\",null]]]},\"id\":\"2038\",\"type\":\"Range1d\"},{\"attributes\":{\"fill_alpha\":{\"value\":0.1},\"fill_color\":{\"value\":\"#fc4f30\"},\"line_alpha\":{\"value\":0.1},\"line_color\":{\"value\":\"#fc4f30\"},\"size\":{\"value\":5.477225575051661},\"x\":{\"field\":\"PC 1\"},\"y\":{\"field\":\"PC 2\"}},\"id\":\"2104\",\"type\":\"Scatter\"},{\"attributes\":{\"data_source\":{\"id\":\"2100\"},\"glyph\":{\"id\":\"2103\"},\"hover_glyph\":null,\"muted_glyph\":{\"id\":\"2105\"},\"nonselection_glyph\":{\"id\":\"2104\"},\"selection_glyph\":{\"id\":\"2121\"},\"view\":{\"id\":\"2107\"}},\"id\":\"2106\",\"type\":\"GlyphRenderer\"},{\"attributes\":{\"bottom_units\":\"screen\",\"fill_alpha\":0.5,\"fill_color\":\"lightgrey\",\"left_units\":\"screen\",\"level\":\"overlay\",\"line_alpha\":1.0,\"line_color\":\"black\",\"line_dash\":[4,4],\"line_width\":2,\"right_units\":\"screen\",\"syncable\":false,\"top_units\":\"screen\"},\"id\":\"2065\",\"type\":\"BoxAnnotation\"},{\"attributes\":{\"angle\":{\"value\":0.0},\"fill_alpha\":{\"value\":1.0},\"fill_color\":{\"value\":\"#e5ae38\"},\"hatch_alpha\":{\"value\":1.0},\"hatch_color\":{\"value\":\"black\"},\"hatch_scale\":{\"value\":12.0},\"hatch_weight\":{\"value\":1.0},\"line_alpha\":{\"value\":1.0},\"line_cap\":{\"value\":\"butt\"},\"line_color\":{\"value\":\"#e5ae38\"},\"line_dash\":{\"value\":[]},\"line_dash_offset\":{\"value\":0},\"line_join\":{\"value\":\"bevel\"},\"line_width\":{\"value\":1},\"marker\":{\"value\":\"circle\"},\"size\":{\"value\":5.477225575051661},\"x\":{\"field\":\"PC 1\"},\"y\":{\"field\":\"PC 2\"}},\"id\":\"2145\",\"type\":\"Scatter\"},{\"attributes\":{\"fill_alpha\":{\"value\":0.2},\"fill_color\":{\"value\":\"#fc4f30\"},\"line_alpha\":{\"value\":0.2},\"line_color\":{\"value\":\"#fc4f30\"},\"size\":{\"value\":5.477225575051661},\"x\":{\"field\":\"PC 1\"},\"y\":{\"field\":\"PC 2\"}},\"id\":\"2105\",\"type\":\"Scatter\"},{\"attributes\":{},\"id\":\"2076\",\"type\":\"BasicTickFormatter\"},{\"attributes\":{},\"id\":\"2142\",\"type\":\"UnionRenderers\"},{\"attributes\":{\"fill_color\":{\"value\":\"#e5ae38\"},\"line_color\":{\"value\":\"#e5ae38\"},\"size\":{\"value\":5.477225575051661},\"x\":{\"field\":\"PC 1\"},\"y\":{\"field\":\"PC 2\"}},\"id\":\"2125\",\"type\":\"Scatter\"},{\"attributes\":{},\"id\":\"2118\",\"type\":\"UnionRenderers\"},{\"attributes\":{\"source\":{\"id\":\"2100\"}},\"id\":\"2107\",\"type\":\"CDSView\"},{\"attributes\":{\"callback\":null,\"renderers\":[{\"id\":\"2085\"},{\"id\":\"2106\"},{\"id\":\"2128\"},{\"id\":\"2152\"}],\"tags\":[\"hv_created\"],\"tooltips\":[[\"class\",\"@{class}\"],[\"PC 1\",\"@{PC_1}\"],[\"PC 2\",\"@{PC_2}\"]]},\"id\":\"2039\",\"type\":\"HoverTool\"}],\"root_ids\":[\"2035\"]},\"title\":\"Bokeh Application\",\"version\":\"2.3.2\"}};\n",
       "    var render_items = [{\"docid\":\"da84e947-9986-43bc-88c0-f6142775e525\",\"root_ids\":[\"2035\"],\"roots\":{\"2035\":\"2e1fdf39-f819-43a2-9d99-a0c396d0320b\"}}];\n",
       "    root.Bokeh.embed.embed_items_notebook(docs_json, render_items);\n",
       "  }\n",
       "  if (root.Bokeh !== undefined && root.Bokeh.Panel !== undefined) {\n",
       "    embed_document(root);\n",
       "  } else {\n",
       "    var attempts = 0;\n",
       "    var timer = setInterval(function(root) {\n",
       "      if (root.Bokeh !== undefined && root.Bokeh.Panel !== undefined) {\n",
       "        clearInterval(timer);\n",
       "        embed_document(root);\n",
       "      } else if (document.readyState == \"complete\") {\n",
       "        attempts++;\n",
       "        if (attempts > 200) {\n",
       "          clearInterval(timer);\n",
       "          console.log(\"Bokeh: ERROR: Unable to run BokehJS code because BokehJS library is missing\");\n",
       "        }\n",
       "      }\n",
       "    }, 25, root)\n",
       "  }\n",
       "})(window);</script>"
      ],
      "text/plain": [
       ":NdOverlay   [class]\n",
       "   :Scatter   [PC 1]   (PC 2,class)"
      ]
     },
     "execution_count": 87,
     "metadata": {
      "application/vnd.holoviews_exec.v0+json": {
       "id": "2035"
      }
     },
     "output_type": "execute_result"
    }
   ],
   "source": [
    "pcs_df.hvplot.scatter(\n",
    "    x=\"PC 1\",\n",
    "    y=\"PC 2\",\n",
    "    hover_cols=[\"class\"],\n",
    "    by=\"class\",\n",
    ")"
   ]
  },
  {
   "cell_type": "code",
   "execution_count": 104,
   "metadata": {},
   "outputs": [
    {
     "name": "stdout",
     "output_type": "stream",
     "text": [
      "(533, 9)\n"
     ]
    },
    {
     "data": {
      "text/html": [
       "<div>\n",
       "<style scoped>\n",
       "    .dataframe tbody tr th:only-of-type {\n",
       "        vertical-align: middle;\n",
       "    }\n",
       "\n",
       "    .dataframe tbody tr th {\n",
       "        vertical-align: top;\n",
       "    }\n",
       "\n",
       "    .dataframe thead th {\n",
       "        text-align: right;\n",
       "    }\n",
       "</style>\n",
       "<table border=\"1\" class=\"dataframe\">\n",
       "  <thead>\n",
       "    <tr style=\"text-align: right;\">\n",
       "      <th></th>\n",
       "      <th>Algorithm</th>\n",
       "      <th>ProofType</th>\n",
       "      <th>TotalCoinsMined</th>\n",
       "      <th>TotalCoinSupply</th>\n",
       "      <th>CoinName</th>\n",
       "      <th>PC 1</th>\n",
       "      <th>PC 2</th>\n",
       "      <th>PC 3</th>\n",
       "      <th>class</th>\n",
       "    </tr>\n",
       "  </thead>\n",
       "  <tbody>\n",
       "    <tr>\n",
       "      <th>42</th>\n",
       "      <td>Scrypt</td>\n",
       "      <td>PoW/PoS</td>\n",
       "      <td>4.199995e+01</td>\n",
       "      <td>42</td>\n",
       "      <td>42 Coin</td>\n",
       "      <td>-0.335294</td>\n",
       "      <td>0.982559</td>\n",
       "      <td>-0.530021</td>\n",
       "      <td>0</td>\n",
       "    </tr>\n",
       "    <tr>\n",
       "      <th>404</th>\n",
       "      <td>Scrypt</td>\n",
       "      <td>PoW/PoS</td>\n",
       "      <td>1.055185e+09</td>\n",
       "      <td>532000000</td>\n",
       "      <td>404Coin</td>\n",
       "      <td>-0.318612</td>\n",
       "      <td>0.983040</td>\n",
       "      <td>-0.530156</td>\n",
       "      <td>0</td>\n",
       "    </tr>\n",
       "    <tr>\n",
       "      <th>1337</th>\n",
       "      <td>X13</td>\n",
       "      <td>PoW/PoS</td>\n",
       "      <td>2.927942e+10</td>\n",
       "      <td>314159265359</td>\n",
       "      <td>EliteCoin</td>\n",
       "      <td>2.310092</td>\n",
       "      <td>1.794014</td>\n",
       "      <td>-0.498412</td>\n",
       "      <td>0</td>\n",
       "    </tr>\n",
       "    <tr>\n",
       "      <th>BTC</th>\n",
       "      <td>SHA-256</td>\n",
       "      <td>PoW</td>\n",
       "      <td>1.792718e+07</td>\n",
       "      <td>21000000</td>\n",
       "      <td>Bitcoin</td>\n",
       "      <td>-0.153331</td>\n",
       "      <td>-1.332898</td>\n",
       "      <td>0.176940</td>\n",
       "      <td>1</td>\n",
       "    </tr>\n",
       "    <tr>\n",
       "      <th>ETH</th>\n",
       "      <td>Ethash</td>\n",
       "      <td>PoW</td>\n",
       "      <td>1.076842e+08</td>\n",
       "      <td>0</td>\n",
       "      <td>Ethereum</td>\n",
       "      <td>-0.150357</td>\n",
       "      <td>-2.011565</td>\n",
       "      <td>0.285807</td>\n",
       "      <td>1</td>\n",
       "    </tr>\n",
       "    <tr>\n",
       "      <th>LTC</th>\n",
       "      <td>Scrypt</td>\n",
       "      <td>PoW</td>\n",
       "      <td>6.303924e+07</td>\n",
       "      <td>84000000</td>\n",
       "      <td>Litecoin</td>\n",
       "      <td>-0.164720</td>\n",
       "      <td>-1.183426</td>\n",
       "      <td>-0.068488</td>\n",
       "      <td>1</td>\n",
       "    </tr>\n",
       "    <tr>\n",
       "      <th>DASH</th>\n",
       "      <td>X11</td>\n",
       "      <td>PoW/PoS</td>\n",
       "      <td>9.031294e+06</td>\n",
       "      <td>22000000</td>\n",
       "      <td>Dash</td>\n",
       "      <td>-0.393893</td>\n",
       "      <td>1.313771</td>\n",
       "      <td>-0.392416</td>\n",
       "      <td>0</td>\n",
       "    </tr>\n",
       "    <tr>\n",
       "      <th>XMR</th>\n",
       "      <td>CryptoNight-V7</td>\n",
       "      <td>PoW</td>\n",
       "      <td>1.720114e+07</td>\n",
       "      <td>0</td>\n",
       "      <td>Monero</td>\n",
       "      <td>-0.144345</td>\n",
       "      <td>-2.175155</td>\n",
       "      <td>0.339502</td>\n",
       "      <td>1</td>\n",
       "    </tr>\n",
       "    <tr>\n",
       "      <th>ETC</th>\n",
       "      <td>Ethash</td>\n",
       "      <td>PoW</td>\n",
       "      <td>1.133597e+08</td>\n",
       "      <td>210000000</td>\n",
       "      <td>Ethereum Classic</td>\n",
       "      <td>-0.148796</td>\n",
       "      <td>-2.011625</td>\n",
       "      <td>0.285816</td>\n",
       "      <td>1</td>\n",
       "    </tr>\n",
       "    <tr>\n",
       "      <th>ZEC</th>\n",
       "      <td>Equihash</td>\n",
       "      <td>PoW</td>\n",
       "      <td>7.383056e+06</td>\n",
       "      <td>21000000</td>\n",
       "      <td>ZCash</td>\n",
       "      <td>-0.130770</td>\n",
       "      <td>-1.982363</td>\n",
       "      <td>0.331378</td>\n",
       "      <td>1</td>\n",
       "    </tr>\n",
       "  </tbody>\n",
       "</table>\n",
       "</div>"
      ],
      "text/plain": [
       "           Algorithm ProofType  TotalCoinsMined TotalCoinSupply  \\\n",
       "42            Scrypt   PoW/PoS     4.199995e+01              42   \n",
       "404           Scrypt   PoW/PoS     1.055185e+09       532000000   \n",
       "1337             X13   PoW/PoS     2.927942e+10    314159265359   \n",
       "BTC          SHA-256       PoW     1.792718e+07        21000000   \n",
       "ETH           Ethash       PoW     1.076842e+08               0   \n",
       "LTC           Scrypt       PoW     6.303924e+07        84000000   \n",
       "DASH             X11   PoW/PoS     9.031294e+06        22000000   \n",
       "XMR   CryptoNight-V7       PoW     1.720114e+07               0   \n",
       "ETC           Ethash       PoW     1.133597e+08       210000000   \n",
       "ZEC         Equihash       PoW     7.383056e+06        21000000   \n",
       "\n",
       "              CoinName      PC 1      PC 2      PC 3  class  \n",
       "42             42 Coin -0.335294  0.982559 -0.530021      0  \n",
       "404            404Coin -0.318612  0.983040 -0.530156      0  \n",
       "1337         EliteCoin  2.310092  1.794014 -0.498412      0  \n",
       "BTC            Bitcoin -0.153331 -1.332898  0.176940      1  \n",
       "ETH           Ethereum -0.150357 -2.011565  0.285807      1  \n",
       "LTC           Litecoin -0.164720 -1.183426 -0.068488      1  \n",
       "DASH              Dash -0.393893  1.313771 -0.392416      0  \n",
       "XMR             Monero -0.144345 -2.175155  0.339502      1  \n",
       "ETC   Ethereum Classic -0.148796 -2.011625  0.285816      1  \n",
       "ZEC              ZCash -0.130770 -1.982363  0.331378      1  "
      ]
     },
     "execution_count": 104,
     "metadata": {},
     "output_type": "execute_result"
    }
   ],
   "source": [
    "# Create a new DataFrame including predicted clusters and cryptocurrencies features.\n",
    "# Concatentate the crypto_df and pcs_df DataFrames on the same columns.\n",
    "clustered_df = crypto_df.join(pcs_df, how = 'outer')\n",
    "\n",
    "#  Add a new column, \"CoinName\" to the clustered_df DataFrame that holds the names of the cryptocurrencies. \n",
    "clustered_df = clustered_df.join(coin_name, how = 'outer')\n",
    "\n",
    "#  Add a new column, \"Class\" to the clustered_df DataFrame that holds the predictions.\n",
    "clustered_df = clustered_df[['Algorithm', 'ProofType', 'TotalCoinsMined', 'TotalCoinSupply', 'CoinName', 'PC 1', 'PC 2', 'PC 3', 'class']]\n",
    "\n",
    "# Print the shape of the clustered_df\n",
    "print(clustered_df.shape)\n",
    "clustered_df.head(10)"
   ]
  },
  {
   "cell_type": "markdown",
   "metadata": {},
   "source": [
    "### Deliverable 4: Visualizing Cryptocurrencies Results\n",
    "\n",
    "#### 3D-Scatter with Clusters"
   ]
  },
  {
   "cell_type": "code",
   "execution_count": 89,
   "metadata": {},
   "outputs": [
    {
     "data": {
      "application/vnd.plotly.v1+json": {
       "config": {
        "plotlyServerURL": "https://plot.ly"
       },
       "data": [
        {
         "customdata": [
          [
           "Scrypt"
          ],
          [
           "Scrypt"
          ],
          [
           "X13"
          ],
          [
           "X11"
          ],
          [
           "SHA-512"
          ],
          [
           "SHA-256"
          ],
          [
           "SHA-256"
          ],
          [
           "X15"
          ],
          [
           "Scrypt"
          ],
          [
           "Scrypt"
          ],
          [
           "Scrypt"
          ],
          [
           "Scrypt"
          ],
          [
           "Scrypt"
          ],
          [
           "Scrypt"
          ],
          [
           "Groestl"
          ],
          [
           "PoS"
          ],
          [
           "Scrypt"
          ],
          [
           "Scrypt"
          ],
          [
           "X11"
          ],
          [
           "X11"
          ],
          [
           "SHA3"
          ],
          [
           "Scrypt"
          ],
          [
           "SHA-256"
          ],
          [
           "Scrypt"
          ],
          [
           "X13"
          ],
          [
           "X13"
          ],
          [
           "NeoScrypt"
          ],
          [
           "Scrypt"
          ],
          [
           "Scrypt"
          ],
          [
           "Scrypt"
          ],
          [
           "X11"
          ],
          [
           "X11"
          ],
          [
           "Multiple"
          ],
          [
           "PHI1612"
          ],
          [
           "X11"
          ],
          [
           "Scrypt"
          ],
          [
           "Scrypt"
          ],
          [
           "Scrypt"
          ],
          [
           "X11"
          ],
          [
           "Multiple"
          ],
          [
           "X13"
          ],
          [
           "Scrypt"
          ],
          [
           "Counterparty"
          ],
          [
           "SHA-256"
          ],
          [
           "Groestl"
          ],
          [
           "Scrypt"
          ],
          [
           "X13"
          ],
          [
           "Scrypt"
          ],
          [
           "Scrypt"
          ],
          [
           "X13"
          ],
          [
           "X11"
          ],
          [
           "Scrypt"
          ],
          [
           "X11"
          ],
          [
           "SHA3"
          ],
          [
           "QUAIT"
          ],
          [
           "X11"
          ],
          [
           "Scrypt"
          ],
          [
           "X13"
          ],
          [
           "SHA-256"
          ],
          [
           "X15"
          ],
          [
           "BLAKE256"
          ],
          [
           "SHA-256"
          ],
          [
           "X11"
          ],
          [
           "SHA-256"
          ],
          [
           "NIST5"
          ],
          [
           "Scrypt"
          ],
          [
           "Scrypt"
          ],
          [
           "X11"
          ],
          [
           "Scrypt"
          ],
          [
           "SHA-256"
          ],
          [
           "Scrypt"
          ],
          [
           "PoS"
          ],
          [
           "X11"
          ],
          [
           "SHA-256"
          ],
          [
           "SHA-256"
          ],
          [
           "NIST5"
          ],
          [
           "X11"
          ],
          [
           "POS 3.0"
          ],
          [
           "Scrypt"
          ],
          [
           "Scrypt"
          ],
          [
           "Scrypt"
          ],
          [
           "X13"
          ],
          [
           "X11"
          ],
          [
           "X11"
          ],
          [
           "Scrypt"
          ],
          [
           "SHA-256"
          ],
          [
           "X11"
          ],
          [
           "Scrypt"
          ],
          [
           "Scrypt"
          ],
          [
           "Scrypt"
          ],
          [
           "Scrypt"
          ],
          [
           "SHA-256D"
          ],
          [
           "PoS"
          ],
          [
           "Scrypt"
          ],
          [
           "X11"
          ],
          [
           "PoS"
          ],
          [
           "X13"
          ],
          [
           "X14"
          ],
          [
           "PoS"
          ],
          [
           "SHA-256D"
          ],
          [
           "DPoS"
          ],
          [
           "X11"
          ],
          [
           "X13"
          ],
          [
           "X11"
          ],
          [
           "PoS"
          ],
          [
           "Scrypt"
          ],
          [
           "Scrypt"
          ],
          [
           "PoS"
          ],
          [
           "X11"
          ],
          [
           "SHA-256"
          ],
          [
           "Scrypt"
          ],
          [
           "X11"
          ],
          [
           "Scrypt"
          ],
          [
           "Scrypt"
          ],
          [
           "X11"
          ],
          [
           "Scrypt"
          ],
          [
           "Scrypt"
          ],
          [
           "Scrypt"
          ],
          [
           "Scrypt"
          ],
          [
           "Quark"
          ],
          [
           "QuBit"
          ],
          [
           "Scrypt"
          ],
          [
           "SHA-256"
          ],
          [
           "X11"
          ],
          [
           "Scrypt"
          ],
          [
           "Scrypt"
          ],
          [
           "Scrypt"
          ],
          [
           "Scrypt"
          ],
          [
           "X13"
          ],
          [
           "Scrypt"
          ],
          [
           "Scrypt"
          ],
          [
           "X11"
          ],
          [
           "Blake2S"
          ],
          [
           "X11"
          ],
          [
           "PoS"
          ],
          [
           "X11"
          ],
          [
           "PoS"
          ],
          [
           "X11"
          ],
          [
           "Scrypt"
          ],
          [
           "Scrypt"
          ],
          [
           "Scrypt"
          ],
          [
           "SHA-256"
          ],
          [
           "X11"
          ],
          [
           "Scrypt"
          ],
          [
           "PoS"
          ],
          [
           "Scrypt"
          ],
          [
           "X15"
          ],
          [
           "SHA-256"
          ],
          [
           "POS 3.0"
          ],
          [
           "536"
          ],
          [
           "NIST5"
          ],
          [
           "NIST5"
          ],
          [
           "Skein"
          ],
          [
           "X13"
          ],
          [
           "Scrypt"
          ],
          [
           "X13"
          ],
          [
           "SkunkHash v2 Raptor"
          ],
          [
           "Skein"
          ],
          [
           "X11"
          ],
          [
           "Scrypt"
          ],
          [
           "VeChainThor Authority"
          ],
          [
           "PoS"
          ],
          [
           "Scrypt"
          ],
          [
           "Scrypt"
          ],
          [
           "SHA-512"
          ],
          [
           "Ouroboros"
          ],
          [
           "X11"
          ],
          [
           "NeoScrypt"
          ],
          [
           "Scrypt"
          ],
          [
           "Lyra2REv2"
          ],
          [
           "Scrypt"
          ],
          [
           "SHA-256"
          ],
          [
           "NIST5"
          ],
          [
           "PHI1612"
          ],
          [
           "Scrypt"
          ],
          [
           "Quark"
          ],
          [
           "POS 2.0"
          ],
          [
           "Scrypt"
          ],
          [
           "SHA-256"
          ],
          [
           "X11"
          ],
          [
           "DPoS"
          ],
          [
           "NIST5"
          ],
          [
           "X13"
          ],
          [
           "Scrypt"
          ],
          [
           "NIST5"
          ],
          [
           "Quark"
          ],
          [
           "Scrypt"
          ],
          [
           "Scrypt"
          ],
          [
           "X11"
          ],
          [
           "Quark"
          ],
          [
           "Scrypt"
          ],
          [
           "Scrypt"
          ],
          [
           "X11"
          ],
          [
           "POS 3.0"
          ],
          [
           "Ethash"
          ],
          [
           "Scrypt"
          ],
          [
           "Scrypt"
          ],
          [
           "X13"
          ],
          [
           "SHA-256 + Hive"
          ],
          [
           "C11"
          ],
          [
           "Proof-of-Authority"
          ],
          [
           "X11"
          ],
          [
           "XEVAN"
          ],
          [
           "Scrypt"
          ],
          [
           "VBFT"
          ],
          [
           "NIST5"
          ],
          [
           "Scrypt"
          ],
          [
           "Scrypt"
          ],
          [
           "Scrypt"
          ],
          [
           "Green Protocol"
          ],
          [
           "PoS"
          ],
          [
           "Scrypt"
          ],
          [
           "Semux BFT consensus"
          ],
          [
           "Quark"
          ],
          [
           "PoS"
          ],
          [
           "X16R"
          ],
          [
           "Scrypt"
          ],
          [
           "XEVAN"
          ],
          [
           "Scrypt"
          ],
          [
           "Scrypt"
          ],
          [
           "Scrypt"
          ],
          [
           "SHA-256D"
          ],
          [
           "Scrypt"
          ],
          [
           "X15"
          ],
          [
           "Scrypt"
          ],
          [
           "Quark"
          ],
          [
           "SHA-256"
          ],
          [
           "DPoS"
          ],
          [
           "X16R"
          ],
          [
           "Quark"
          ],
          [
           "Quark"
          ],
          [
           "Scrypt"
          ],
          [
           "Lyra2REv2"
          ],
          [
           "Quark"
          ],
          [
           "Scrypt"
          ],
          [
           "X11"
          ],
          [
           "X11"
          ],
          [
           "Scrypt"
          ],
          [
           "PoS"
          ],
          [
           "Keccak"
          ],
          [
           "X11"
          ],
          [
           "Scrypt"
          ],
          [
           "SHA-512"
          ],
          [
           "XEVAN"
          ],
          [
           "XEVAN"
          ],
          [
           "X11"
          ],
          [
           "Quark"
          ],
          [
           "Equihash"
          ],
          [
           "Scrypt"
          ],
          [
           "Quark"
          ],
          [
           "Quark"
          ],
          [
           "Scrypt"
          ],
          [
           "X11"
          ],
          [
           "Scrypt"
          ],
          [
           "XEVAN"
          ],
          [
           "SHA-256D"
          ],
          [
           "X11"
          ],
          [
           "X11"
          ],
          [
           "DPoS"
          ],
          [
           "Scrypt"
          ],
          [
           "X11"
          ],
          [
           "Scrypt"
          ],
          [
           "Scrypt"
          ],
          [
           "SHA-256"
          ],
          [
           "Scrypt"
          ],
          [
           "X11"
          ],
          [
           "Scrypt"
          ],
          [
           "SHA-256"
          ],
          [
           "X11"
          ],
          [
           "Scrypt"
          ],
          [
           "Scrypt"
          ],
          [
           "X11"
          ],
          [
           "Scrypt"
          ],
          [
           "PoS"
          ],
          [
           "X11"
          ],
          [
           "SHA-256"
          ],
          [
           "DPoS"
          ],
          [
           "Scrypt"
          ],
          [
           "Scrypt"
          ],
          [
           "NeoScrypt"
          ],
          [
           "X13"
          ],
          [
           "DPoS"
          ],
          [
           "DPoS"
          ],
          [
           "SHA-256"
          ],
          [
           "PoS"
          ],
          [
           "PoS"
          ],
          [
           "SHA-256"
          ],
          [
           "Scrypt"
          ],
          [
           "Scrypt"
          ]
         ],
         "hovertemplate": "<b>%{hovertext}</b><br><br>class=%{marker.color}<br>PC 1=%{x}<br>PC 2=%{y}<br>PC 3=%{z}<br>Algorithm=%{customdata[0]}<extra></extra>",
         "hovertext": [
          "42 Coin",
          "404Coin",
          "EliteCoin",
          "Dash",
          "Bitshares",
          "BitcoinDark",
          "PayCoin",
          "KoboCoin",
          "Aurora Coin",
          "BlueCoin",
          "EnergyCoin",
          "BitBar",
          "CryptoBullion",
          "CasinoCoin",
          "Diamond",
          "Exclusive Coin",
          "FlutterCoin",
          "HoboNickels",
          "HyperStake",
          "IOCoin",
          "MaxCoin",
          "MintCoin",
          "MazaCoin",
          "Nautilus Coin",
          "NavCoin",
          "OpalCoin",
          "Orbitcoin",
          "PotCoin",
          "PhoenixCoin",
          "Reddcoin",
          "SuperCoin",
          "SyncCoin",
          "TeslaCoin",
          "TittieCoin",
          "TorCoin",
          "UnitaryStatus Dollar",
          "UltraCoin",
          "VeriCoin",
          "X11 Coin",
          "Crypti",
          "StealthCoin",
          "ZCC Coin",
          "StorjCoin",
          "Neutron",
          "FairCoin",
          "RubyCoin",
          "Kore",
          "Dnotes",
          "8BIT Coin",
          "Sativa Coin",
          "Ucoin",
          "Vtorrent",
          "IslaCoin",
          "Nexus",
          "Droidz",
          "Squall Coin",
          "Diggits",
          "Paycon",
          "Emercoin",
          "EverGreenCoin",
          "Decred",
          "EDRCoin",
          "Hitcoin",
          "DubaiCoin",
          "PWR Coin",
          "BillaryCoin",
          "GPU Coin",
          "EuropeCoin",
          "ZeitCoin",
          "SwingCoin",
          "SafeExchangeCoin",
          "Nebuchadnezzar",
          "Ratecoin",
          "Revenu",
          "Clockcoin",
          "VIP Tokens",
          "BitSend",
          "Let it Ride",
          "PutinCoin",
          "iBankCoin",
          "Frankywillcoin",
          "MudraCoin",
          "Lutetium Coin",
          "GoldBlocks",
          "CarterCoin",
          "BitTokens",
          "MustangCoin",
          "ZoneCoin",
          "RootCoin",
          "BitCurrency",
          "Swiscoin",
          "BuzzCoin",
          "Opair",
          "PesoBit",
          "Halloween Coin",
          "CoffeeCoin",
          "RoyalCoin",
          "GanjaCoin V2",
          "TeamUP",
          "LanaCoin",
          "ARK",
          "InsaneCoin",
          "EmberCoin",
          "XenixCoin",
          "FreeCoin",
          "PLNCoin",
          "AquariusCoin",
          "Creatio",
          "Eternity",
          "Eurocoin",
          "BitcoinFast",
          "Stakenet",
          "BitConnect Coin",
          "MoneyCoin",
          "Enigma",
          "Russiacoin",
          "PandaCoin",
          "GameUnits",
          "GAKHcoin",
          "Allsafe",
          "LiteCreed",
          "Klingon Empire Darsek",
          "Internet of People",
          "KushCoin",
          "Printerium",
          "Impeach",
          "Zilbercoin",
          "FirstCoin",
          "FindCoin",
          "OpenChat",
          "RenosCoin",
          "VirtacoinPlus",
          "TajCoin",
          "Impact",
          "Atmos",
          "HappyCoin",
          "MacronCoin",
          "Condensate",
          "Independent Money System",
          "ArgusCoin",
          "LomoCoin",
          "ProCurrency",
          "GoldReserve",
          "GrowthCoin",
          "Phreak",
          "Degas Coin",
          "HTML5 Coin",
          "Ultimate Secure Cash",
          "QTUM",
          "Espers",
          "Denarius",
          "Virta Unique Coin",
          "Bitcoin Planet",
          "BritCoin",
          "Linda",
          "DeepOnion",
          "Signatum",
          "Cream",
          "Monoeci",
          "Draftcoin",
          "Vechain",
          "Stakecoin",
          "CoinonatX",
          "Ethereum Dark",
          "Obsidian",
          "Cardano",
          "Regalcoin",
          "TrezarCoin",
          "TerraNovaCoin",
          "Rupee",
          "WomenCoin",
          "Theresa May Coin",
          "NamoCoin",
          "LUXCoin",
          "Xios",
          "Bitcloud 2.0",
          "KekCoin",
          "BlackholeCoin",
          "Infinity Economics",
          "Magnet",
          "Lamden Tau",
          "Electra",
          "Bitcoin Diamond",
          "Cash & Back Coin",
          "Bulwark",
          "Kalkulus",
          "GermanCoin",
          "LiteCoin Ultra",
          "PhantomX",
          "Digiwage",
          "Trollcoin",
          "Litecoin Plus",
          "Monkey Project",
          "TokenPay",
          "1717 Masonic Commemorative Token",
          "My Big Coin",
          "Unified Society USDEX",
          "Tokyo Coin",
          "LitecoinCash",
          "Stipend",
          "Poa Network",
          "Pushi",
          "Ellerium",
          "Velox",
          "Ontology",
          "Bitspace",
          "Briacoin",
          "Ignition",
          "MedicCoin",
          "Bitcoin Green",
          "Deviant Coin",
          "Abjcoin",
          "Semux",
          "Carebit",
          "Zealium",
          "Proton",
          "iDealCash",
          "Bitcoin Incognito",
          "HollyWoodCoin",
          "Swisscoin",
          "Xt3ch",
          "TheVig",
          "EmaratCoin",
          "Dekado",
          "Lynx",
          "Poseidon Quark",
          "BitcoinWSpectrum",
          "Muse",
          "Trivechain",
          "Dystem",
          "Giant",
          "Peony Coin",
          "Absolute Coin",
          "Vitae",
          "TPCash",
          "ARENON",
          "EUNO",
          "MMOCoin",
          "Ketan",
          "XDNA",
          "PAXEX",
          "ThunderStake",
          "Kcash",
          "Bettex coin",
          "BitMoney",
          "Junson Ming Chan Coin",
          "HerbCoin",
          "PirateCash",
          "Oduwa",
          "Galilel",
          "Crypto Sports",
          "Credit",
          "Dash Platinum",
          "Nasdacoin",
          "Beetle Coin",
          "Titan Coin",
          "Award",
          "Insane Coin",
          "ALAX",
          "LiteDoge",
          "TruckCoin",
          "OrangeCoin",
          "BitstarCoin",
          "NeosCoin",
          "HyperCoin",
          "PinkCoin",
          "AudioCoin",
          "IncaKoin",
          "Piggy Coin",
          "Genstake",
          "XiaoMiCoin",
          "CapriCoin",
          " ClubCoin",
          "Radium",
          "Creditbit ",
          "OKCash",
          "Lisk",
          "HiCoin",
          "WhiteCoin",
          "FriendshipCoin",
          "Triangles Coin",
          "EOS",
          "Oxycoin",
          "TigerCash",
          "Particl",
          "Nxt",
          "ZEPHYR",
          "Gapcoin",
          "BitcoinPlus"
         ],
         "legendgroup": "0",
         "marker": {
          "color": [
           0,
           0,
           0,
           0,
           0,
           0,
           0,
           0,
           0,
           0,
           0,
           0,
           0,
           0,
           0,
           0,
           0,
           0,
           0,
           0,
           0,
           0,
           0,
           0,
           0,
           0,
           0,
           0,
           0,
           0,
           0,
           0,
           0,
           0,
           0,
           0,
           0,
           0,
           0,
           0,
           0,
           0,
           0,
           0,
           0,
           0,
           0,
           0,
           0,
           0,
           0,
           0,
           0,
           0,
           0,
           0,
           0,
           0,
           0,
           0,
           0,
           0,
           0,
           0,
           0,
           0,
           0,
           0,
           0,
           0,
           0,
           0,
           0,
           0,
           0,
           0,
           0,
           0,
           0,
           0,
           0,
           0,
           0,
           0,
           0,
           0,
           0,
           0,
           0,
           0,
           0,
           0,
           0,
           0,
           0,
           0,
           0,
           0,
           0,
           0,
           0,
           0,
           0,
           0,
           0,
           0,
           0,
           0,
           0,
           0,
           0,
           0,
           0,
           0,
           0,
           0,
           0,
           0,
           0,
           0,
           0,
           0,
           0,
           0,
           0,
           0,
           0,
           0,
           0,
           0,
           0,
           0,
           0,
           0,
           0,
           0,
           0,
           0,
           0,
           0,
           0,
           0,
           0,
           0,
           0,
           0,
           0,
           0,
           0,
           0,
           0,
           0,
           0,
           0,
           0,
           0,
           0,
           0,
           0,
           0,
           0,
           0,
           0,
           0,
           0,
           0,
           0,
           0,
           0,
           0,
           0,
           0,
           0,
           0,
           0,
           0,
           0,
           0,
           0,
           0,
           0,
           0,
           0,
           0,
           0,
           0,
           0,
           0,
           0,
           0,
           0,
           0,
           0,
           0,
           0,
           0,
           0,
           0,
           0,
           0,
           0,
           0,
           0,
           0,
           0,
           0,
           0,
           0,
           0,
           0,
           0,
           0,
           0,
           0,
           0,
           0,
           0,
           0,
           0,
           0,
           0,
           0,
           0,
           0,
           0,
           0,
           0,
           0,
           0,
           0,
           0,
           0,
           0,
           0,
           0,
           0,
           0,
           0,
           0,
           0,
           0,
           0,
           0,
           0,
           0,
           0,
           0,
           0,
           0,
           0,
           0,
           0,
           0,
           0,
           0,
           0,
           0,
           0,
           0,
           0,
           0,
           0,
           0,
           0,
           0,
           0,
           0,
           0,
           0,
           0,
           0,
           0,
           0,
           0,
           0,
           0,
           0,
           0,
           0,
           0,
           0,
           0,
           0,
           0,
           0,
           0,
           0,
           0,
           0
          ],
          "coloraxis": "coloraxis",
          "symbol": "circle"
         },
         "mode": "markers",
         "name": "0",
         "scene": "scene",
         "showlegend": true,
         "type": "scatter3d",
         "x": [
          -0.3352941941528778,
          -0.31861202777933445,
          2.3100919142285585,
          -0.39389344768272033,
          -0.26399354336967207,
          -0.3227340070614642,
          -0.27535341930756013,
          -0.24654607787401372,
          -0.3349533412338072,
          -0.3275230762793003,
          -0.3337891592974773,
          -0.3352901239925792,
          -0.3352743862913368,
          0.6753633538105219,
          -0.3739551662044706,
          -0.3459173020660068,
          -0.28589885339398197,
          -0.3333504207085657,
          -0.32631500974052857,
          -0.3937880313033159,
          -0.41614186078676096,
          -0.027556257104063224,
          -0.2859916110623372,
          -0.2876643270077551,
          -0.27785901528651075,
          -0.278481888870827,
          -0.3450414600021302,
          -0.3295886973595811,
          -0.33369384084184256,
          0.02322985772221258,
          -0.3462228595767934,
          -0.3941600875228958,
          -0.24410813083820052,
          -0.3099747323903294,
          -0.394071593082411,
          -0.31049345938775336,
          -0.33396978089014295,
          -0.29948525089816797,
          -0.39403604905617423,
          -0.24457676648347815,
          -0.2782625182083927,
          -0.326383835456889,
          -0.3276178508078065,
          -0.3219446969816877,
          -0.37337612865386255,
          -0.287644629629485,
          -0.2785573084815094,
          -0.2822909678916535,
          -0.335276243536381,
          -0.27850945080215467,
          -0.34666809982620284,
          -0.3350102620096294,
          -0.39414159669334686,
          -0.41448544952291744,
          -0.42428239282425684,
          -0.3578180324962438,
          -0.2860440626129894,
          -0.27803041830335895,
          -0.31527890057802915,
          -0.24899141718169562,
          -0.08237418949144754,
          -0.32270488994563806,
          -0.07115977177195897,
          -0.3227686980581648,
          -0.24054254522660162,
          -0.33488592240759435,
          -0.285912487483147,
          -0.3913062511257351,
          0.867120515665872,
          -0.3225684303127028,
          -0.05633649981784879,
          -0.34560015814718215,
          -0.39198199163229147,
          -0.32130990755360705,
          -0.3189744520431957,
          -0.3620304496419131,
          -0.39287488683496824,
          -0.34827010980559997,
          -0.31114929195459223,
          -0.3349240515299635,
          -0.3333611665768129,
          -0.2298689022302149,
          -0.3341430085453115,
          -0.39361474239165495,
          -0.33412724682935074,
          -0.32274958808671145,
          -0.3941307648475353,
          -0.3351135081591305,
          -0.33527047047522734,
          -0.28590293078469015,
          -0.223255174097529,
          0.039363921575274366,
          -0.34455590936674646,
          -0.33488421529993656,
          -0.3802724408946672,
          -0.3438839663145331,
          -0.2313018163785045,
          -0.42851063767343617,
          -0.34363160437106993,
          -0.2755474223986053,
          3.7189761292493935,
          -0.39372276577753257,
          0.8548695954739369,
          -0.3940856231173771,
          -0.345020249630802,
          -0.33481154031326554,
          -0.33496601751406335,
          -0.34560015814718215,
          -0.39365985240696016,
          -0.32261211834456743,
          -0.334812298866729,
          -0.3582726696558714,
          -0.33495986670309397,
          -0.3305407257115983,
          -0.39411464341063557,
          -0.3341692680237024,
          0.35642256202428957,
          -0.3351594149588416,
          -0.3352300998220924,
          -0.3512031007857607,
          -0.3575405649757236,
          -0.3314508699138838,
          -0.3227259765948992,
          -0.39402448153439734,
          -0.3350076080657321,
          -0.3351346891102897,
          -0.2875508223436096,
          -0.28070116235650255,
          -0.23106937498269234,
          -0.3159639110854119,
          -0.28729175795618933,
          -0.3932890844090898,
          -0.4171412516034277,
          -0.3920260682624148,
          -0.3438444821714455,
          -0.3931868605830199,
          -0.33823726679742033,
          -0.38912192976889187,
          -0.3350779179385709,
          -0.33507707784861007,
          -0.3281876142324029,
          0.2581757170227886,
          -0.39366608750729465,
          -0.27016670629880796,
          -0.3456344494587869,
          -0.33428743225567675,
          0.8869507195593034,
          -0.27404169047950466,
          -0.3470468933615468,
          0.59404599811775,
          -0.36356805491026767,
          -0.362068248787287,
          -0.4137929363825345,
          -0.2781941295787235,
          0.13034695596612791,
          -0.27826502137057824,
          -0.3561496023886473,
          -0.4132972931592194,
          -0.39393888317113623,
          -0.2876252523344502,
          4.408264545162916,
          -0.34550045610634467,
          -0.3347126176817099,
          -0.335213007772453,
          -0.3221335239122978,
          0.6660945234532768,
          -0.3938795785849968,
          -0.34003379557803864,
          -0.33516852999101027,
          -0.31055451127731765,
          0.4348679818212179,
          -0.32107016873909383,
          -0.34831392963392854,
          -0.3929360594832552,
          -0.33511879488933943,
          -0.39695965234403263,
          -0.3385006607185228,
          -0.3349890803683008,
          -0.10161632110180314,
          -0.39267048007448224,
          3.7238388073566413,
          0.19664033987744747,
          -0.27493156289459425,
          -0.332445868901145,
          -0.3160141628901972,
          -0.35108886298384584,
          0.07979585087798945,
          -0.3341261573327227,
          -0.3932526133073289,
          -0.3502523122018797,
          -0.32167567504875405,
          -0.3352351636905641,
          -0.34663999538165746,
          -0.34855236093733305,
          -0.27353207231620386,
          -0.2896296034813824,
          -0.33077475979208576,
          -0.2228532578752591,
          -0.31196497351282654,
          -0.37002818991536757,
          -0.42855293821323026,
          -0.3939560852412647,
          -0.31821991572117175,
          -0.286783916630503,
          -0.31806877656059174,
          -0.3631664285667567,
          -0.33526255157067614,
          -0.3352442351134104,
          -0.2811578561411666,
          -0.35639855927728026,
          -0.3450943761554176,
          -0.3349603442437376,
          3.90832522907756,
          -0.39562625917872707,
          -0.34528327821642196,
          -0.31718634678837077,
          -0.28175336427116016,
          -0.2820305453700573,
          -0.28731910165221186,
          -0.1381252993955371,
          -0.2875713569927411,
          -0.34096162748627556,
          -0.3344335998412592,
          -0.20101710537561787,
          2.242361212321344,
          -0.34678971600874253,
          -0.27416994950966284,
          1.01853619096919,
          -0.3638391472832342,
          -0.3512025120691876,
          -0.3986463734015839,
          -0.1681084842806575,
          -0.3577997121068878,
          -0.3499203647324777,
          -0.32812764162009533,
          -0.3462168168331569,
          -0.39342876045462544,
          -0.2848130373892149,
          -0.34438159687945563,
          -0.34873569873542615,
          -0.3460778675563245,
          -0.19452276459362383,
          -0.3020925772350197,
          -0.2708959353467687,
          0.5147224635782651,
          -0.13636876909863635,
          -0.3979400554226234,
          -0.2519892931255293,
          -0.33496435844205324,
          -0.39839679995921484,
          -0.35131964394252624,
          0.5728134733672025,
          -0.34669437349254445,
          -0.3344464755339455,
          -0.31266786111055944,
          -0.2956135078943501,
          -0.39098932670927283,
          -0.3936563193743281,
          3.7360955631002124,
          0.1005693106727961,
          -0.3911934718458683,
          -0.33383084309914623,
          -0.33465730400349714,
          -0.2753860495920137,
          -0.3351764071411696,
          -0.38527335067059915,
          -0.2487451234288944,
          -0.10215731807146536,
          -0.3810151697731272,
          -0.3344538988940354,
          -0.32750929170244814,
          -0.39022056303919683,
          -0.3328908437408694,
          -0.3458761264921929,
          -0.3780620594077727,
          -0.3212471562584243,
          3.71936850099131,
          -0.09460852271947978,
          -0.3300820730185722,
          -0.34466669234741826,
          -0.27866467470677286,
          3.729246353056117,
          3.7304918103357916,
          -0.25625859201417867,
          -0.3458119263254877,
          -0.3380447921065268,
          2.461651690061779,
          -0.33333647453105986,
          -0.28796842111928256
         ],
         "y": [
          0.9825593502699098,
          0.983039592685394,
          1.794014034935406,
          1.3137710219073089,
          1.6606857859059971,
          0.833089292835059,
          0.6386395634516728,
          1.8882841405617863,
          0.9825652802205405,
          0.9829461796921111,
          0.9826342676686933,
          0.9825592238038675,
          0.9825596780950656,
          -0.1887453043053017,
          1.0016616923673274,
          1.659894196192754,
          0.06485903077419526,
          0.982577123738665,
          1.120334925139292,
          1.313776269306058,
          2.618429195467874,
          0.8010633922748513,
          0.8333404248605989,
          0.7881051270571565,
          1.8719694698288094,
          1.871938464532606,
          0.5761206168711324,
          0.9825669157052092,
          0.9825745093165449,
          1.0004059000703232,
          1.1193439555485118,
          1.3137722287834697,
          0.17215871307925978,
          1.6313138004489678,
          1.3137700525542035,
          0.9827407652823272,
          0.9825594572296124,
          0.03151479667716888,
          1.3137747837357014,
          0.17220120490107757,
          1.8719493843284334,
          0.982344693750467,
          1.5916110624969895,
          0.8330983060146178,
          1.0016933984944107,
          0.7881167571430737,
          1.8719268119693988,
          0.7880541533743607,
          0.9825602438403145,
          1.8719305106106467,
          1.1193086285569036,
          0.9825603199263008,
          1.3137731498750582,
          3.6289079422330563,
          1.9125640767966396,
          0.8684854644564297,
          0.7881306104100998,
          1.8719280280143964,
          0.8328166772761705,
          1.8883754758730067,
          0.9848106948804335,
          0.8330907422219388,
          1.3123754106297796,
          0.8330951352335872,
          1.5474321715831143,
          0.9825520289946944,
          0.7880574837122312,
          1.3136615403948317,
          0.7804371687090343,
          0.8330856873787027,
          -0.20025340375933467,
          1.6598968190316628,
          1.3138312857155379,
          0.8330280652530111,
          0.8329453633063418,
          1.541325529632496,
          1.3137447148565033,
          1.5517898246313127,
          0.9824448414078044,
          0.9825485952218417,
          0.98258975273023,
          1.677412189465927,
          1.119512830299757,
          1.313766465795654,
          0.9825582008654454,
          0.8330891754402922,
          1.3137717144762149,
          0.9825545223620087,
          0.9825605312107784,
          0.7882034551343523,
          0.15949828211697165,
          2.0233449568202206,
          1.659913256947822,
          0.9825797581557344,
          1.3134762340540624,
          1.6599690835087473,
          1.6774708555141897,
          1.9182662231782526,
          1.6598098566084112,
          2.0158928398837745,
          1.3875439190287446,
          1.3137742525233576,
          1.927794777881537,
          1.3137733998783288,
          1.6599059397735887,
          0.9825580089283196,
          0.9825480420339961,
          1.6598968190316628,
          1.313757638368131,
          0.833096676580805,
          0.9825616175688038,
          1.0314693499749048,
          0.9825575629363347,
          0.9823677066776065,
          1.313771200576623,
          0.9825205666180492,
          0.7987758733606506,
          0.9825575027801097,
          0.9825603583389998,
          1.5715337583323603,
          0.608744951264948,
          0.9824215652036121,
          0.8330903507691482,
          1.313772822858785,
          0.9825604520338724,
          0.9825528537051936,
          0.7880852259479734,
          0.22219546072993737,
          1.6774745113287264,
          0.9828633749880336,
          0.7881116630343736,
          1.3137497665998177,
          1.970281933429977,
          1.3138060548557102,
          1.6599247843388254,
          1.3137548550801872,
          1.6600132137411183,
          1.3136939205688691,
          0.982556154349048,
          0.9825513335027788,
          0.9822549055548689,
          0.6158410982980301,
          1.313770491895941,
          0.7876703805039422,
          1.6598885301357464,
          0.9825403542591296,
          1.8856999820154972,
          0.6385813915081491,
          1.5518069437336528,
          2.0576824187666167,
          1.5413016465671643,
          1.5413039022266408,
          1.9918684963725202,
          1.871933042719731,
          0.9728282129606426,
          1.8719368210361316,
          1.438061658132599,
          1.9918931684172774,
          1.313776982877484,
          0.7881062652343443,
          2.418140281122413,
          1.659874401099097,
          0.9825565406937196,
          0.9825606271610111,
          1.6601014290925635,
          1.6386573902359765,
          1.3137684213065188,
          0.5761090909891106,
          0.9825552499877926,
          0.7759190192332622,
          1.0044414811922022,
          0.8331207758978166,
          1.541277711935715,
          1.8254730071724288,
          0.9825542592000442,
          1.7659488155142398,
          1.6408809230823866,
          0.9825648046325233,
          0.6413722929413878,
          1.3137515988073487,
          1.387539149519585,
          1.5494483411134232,
          1.8719769711355114,
          0.9825629128268202,
          1.346842630382833,
          1.5715361538679968,
          0.9703118885793196,
          0.9825187634054776,
          1.313784491796124,
          1.5715119760637875,
          0.982644875252928,
          0.9825596559264329,
          1.1193093693403244,
          1.5517813694385652,
          -0.040091137943435474,
          0.24374373695878887,
          0.9826316167268014,
          1.6773664960996484,
          2.8555882792216516,
          0.9272827921754286,
          1.1874901874839543,
          1.3137659293608472,
          1.3927709548400165,
          0.788077985404528,
          1.6131515906613882,
          1.5412953108603744,
          0.982558950812036,
          0.9825585461757973,
          0.7881105572199254,
          1.5353188508861624,
          1.6598772385105454,
          0.9825562227756387,
          1.3194553201218553,
          1.766015188934284,
          1.6598731009346526,
          0.7211284306254762,
          0.9818532546312052,
          0.9475022591430474,
          0.788115848152954,
          0.9856604025122412,
          0.7880914439213432,
          2.01751125389276,
          0.9825469004461739,
          1.6939071196037903,
          0.13300071382220424,
          1.571335493307032,
          0.6386407093777149,
          1.444774671778205,
          0.915595927575467,
          1.5715298384681204,
          1.7659931028119809,
          0.7829566776615101,
          0.9703629821814257,
          1.5715416635865038,
          0.9822578908614471,
          1.1193080556248332,
          1.3137757235731415,
          0.7880865769953616,
          1.6598324193418486,
          0.8531335029467761,
          1.1192853534489353,
          0.977719138946505,
          1.89027145014303,
          1.1983187367614816,
          0.8411332101984442,
          1.1297900370628489,
          1.765996109627535,
          -0.01084613343857134,
          0.9825619467114647,
          1.7659963870014548,
          1.5715290299244162,
          0.9785300036195179,
          1.1193075181692367,
          0.9825462595221156,
          1.3927577183310034,
          2.016543430032098,
          1.3136536211893224,
          1.313777560081207,
          1.387820166799768,
          0.9812188695433536,
          1.3139199011363805,
          0.9825005537636226,
          0.982555342208283,
          0.6386323445304053,
          0.982565213479553,
          1.3138854944899854,
          0.9799565291088629,
          0.8439585453095707,
          1.3137683600608043,
          0.9825913054500082,
          0.9826835879068055,
          1.313831425891977,
          0.9825736726882695,
          1.6598903220696095,
          0.9404990753289971,
          0.8331086748685407,
          1.3875404673310563,
          0.7911379115475919,
          0.9826213399203801,
          0.5761021510219961,
          1.8719292868667134,
          1.388137422856742,
          1.3881994190191078,
          0.6389400951003388,
          1.6598937586218556,
          1.920706137132191,
          0.5819911563058306,
          0.9824922526148508,
          0.7880999813100372
         ],
         "z": [
          -0.5300207105743286,
          -0.530155753572076,
          -0.49841242280598635,
          -0.39241605469517093,
          -0.008110923208590222,
          -0.2845956275061991,
          -0.008193749037139781,
          -0.5995859144576642,
          -0.530022656784642,
          -0.5301177758725497,
          -0.5300395092459893,
          -0.5300206925031937,
          -0.5300208201599078,
          -0.7575278466395978,
          -0.2870430737565026,
          -0.019733704592458826,
          -0.31669274217986354,
          -0.5300284496378367,
          -0.11626818073320395,
          -0.39241737140041977,
          -0.0852085855290867,
          -0.2568695210366948,
          -0.2847241513998771,
          -0.2536184062482712,
          -0.509388356275354,
          -0.5093805762612563,
          -0.2573360148775909,
          -0.5300340863116807,
          -0.5300271924170588,
          -0.5344988619227525,
          -0.11601952136430821,
          -0.392415756362242,
          0.10739814823440155,
          -0.18934197165788327,
          -0.3924154835348067,
          -0.5301099555437712,
          -0.5300234701214052,
          -0.3622445243685201,
          -0.39241654773615275,
          0.10739021866943133,
          -0.5093833163145983,
          -0.5299941749090517,
          -0.12526255472436373,
          -0.2845991461875202,
          -0.28705090993414956,
          -0.2536208823790171,
          -0.5093779802631392,
          -0.25361883705449684,
          -0.5300209347926264,
          -0.509378853691718,
          -0.11601120346924201,
          -0.530021500426393,
          -0.3924159874601232,
          0.6871309827818097,
          -0.6577109743062677,
          -0.12424595771989357,
          -0.2536270912239064,
          -0.5093793238291724,
          -0.28455394725507666,
          -0.5995999869657802,
          -0.3312488507578247,
          -0.2845959911940764,
          -0.3927907936087583,
          -0.2845967792503897,
          -0.47508539224982105,
          -0.530020021217718,
          -0.25361204989987524,
          -0.39239847541858336,
          -0.2543992613711401,
          -0.284595214693562,
          -0.7536057737729338,
          -0.019734909271036057,
          -0.39243262474691754,
          -0.28458574918593094,
          -0.28457325747001283,
          -0.4735555405581453,
          -0.39241265085975,
          -0.09138193017794657,
          -0.5300466315860116,
          -0.5300192233603497,
          -0.5300310720298129,
          -0.23296521556760366,
          -0.11607985021681029,
          -0.39241567660997423,
          -0.5300228815968828,
          -0.2845955707217859,
          -0.3924157092634784,
          -0.5300200729977688,
          -0.5300210069011543,
          -0.25364263710085394,
          -0.5168500596608301,
          -0.6347354477494934,
          -0.019740509623564544,
          -0.5300258314286103,
          -0.3923824744004631,
          -0.019753588797677153,
          -0.23297453926743256,
          -0.636443525416173,
          -0.019720767109727696,
          -0.6325240981649846,
          -0.492683932498397,
          -0.3924170839553064,
          -0.5234195679985327,
          -0.3924161554924958,
          -0.019738017708986897,
          -0.5300214271827773,
          -0.5300190207883,
          -0.019734909271036057,
          -0.39241373485576664,
          -0.2845974256208306,
          -0.5300221812899747,
          -0.05336311765549282,
          -0.5300210272445295,
          -0.5299904029840006,
          -0.3924156349672417,
          -0.5300149138740741,
          -0.25718406277109074,
          -0.5300206022434104,
          -0.5300210541341216,
          -0.16323621039833475,
          -0.15648781104135018,
          -0.5299998003569578,
          -0.28459586564156353,
          -0.3924161610210884,
          -0.5300215335755287,
          -0.5300196797947891,
          -0.25361447339369664,
          -0.368938467762403,
          -0.23297578520474113,
          -0.5301243251683445,
          -0.25362054491219665,
          -0.3924128527134571,
          -0.6047808550602213,
          -0.3924272501334217,
          -0.01974439383895942,
          -0.39241412954205934,
          -0.01977449994704196,
          -0.3924097703671705,
          -0.5300204883013011,
          -0.5300194805181316,
          -0.5299716447766845,
          -0.004522227113165327,
          -0.39241641358957396,
          -0.2535635293612831,
          -0.019733102648047857,
          -0.5300188133377511,
          -0.6013873575399886,
          -0.00818427835410107,
          -0.09138804304600613,
          -0.5728223723835199,
          -0.473547361524699,
          -0.4735509335070509,
          -0.5470741634891297,
          -0.5093800356038841,
          -0.5289452764223056,
          -0.5093806802989014,
          -0.007109834439378932,
          -0.547080354330035,
          -0.3924172090635927,
          -0.25361872534579766,
          6.2947218039588995,
          -0.019730420850093206,
          -0.5300213241662596,
          -0.5300211457512893,
          -0.00786839755225986,
          -0.016460669776893776,
          -0.39241553877403307,
          -0.2573439505560375,
          -0.5300201116548061,
          0.00657071261099906,
          -0.5361946687681973,
          -0.28460565891730044,
          -0.47357387496045567,
          -0.46560947833711575,
          -0.5300200069637665,
          -0.4396341846387513,
          0.1413345792022633,
          -0.5300224833315011,
          -0.009125062329456656,
          -0.392414514852835,
          -0.49269298336772444,
          -0.4764111130470591,
          -0.509395977232779,
          -0.5300273431985247,
          -0.19714389649954991,
          -0.1632369481343647,
          -0.5283138669033677,
          -0.5300146253649293,
          -0.39242019979004183,
          -0.163233614020257,
          -0.530066765341475,
          -0.5300208965785166,
          -0.11601141667765766,
          -0.09137957627564651,
          0.1006886722055741,
          -0.3202225726666807,
          -0.5300451839431654,
          -0.23297014620067524,
          0.3054909004358091,
          -0.2997051818398567,
          -0.3158648735260496,
          -0.3924148588275632,
          -0.3720254507475281,
          -0.2536145421273982,
          0.026780956397702987,
          -0.4735468648191302,
          -0.5300206923203622,
          -0.5300206454410682,
          -0.2536329902079052,
          0.01118862379003396,
          -0.01973185426470868,
          -0.5300207456184548,
          -0.352173566141859,
          -0.4396508394108989,
          -0.019730597425377,
          -0.044126066924508815,
          -0.529983501332637,
          -0.10385912025278213,
          -0.2536213647947989,
          -0.5310775794733285,
          -0.2536157330426737,
          -0.6327278147771428,
          -0.530019882072919,
          -0.3231954349371788,
          -0.40411013195979467,
          -0.1632038133861893,
          -0.008196434864968224,
          -0.3051385690143787,
          -0.320533170157104,
          -0.163235390767677,
          -0.43963997278663575,
          -0.25278736908062277,
          -0.26983023812818696,
          -0.16324051682974552,
          -0.5299723938657147,
          -0.11601201615433918,
          -0.3924179996208204,
          -0.2536204144598243,
          -0.019723941905513076,
          -0.3843698401371619,
          -0.11600754932261872,
          -0.5292980666415179,
          0.1054590667821627,
          -0.09562293413827748,
          -0.01795325329548194,
          -0.11864070778713623,
          -0.4396420621739916,
          0.14624696113874142,
          -0.5300219359550858,
          -0.4396411763096173,
          -0.16323497937786158,
          -0.5310537120224929,
          -0.11601091664672546,
          -0.5300197212488399,
          -0.37203415329320927,
          -0.6326188660151563,
          -0.39239747206470665,
          -0.3924179139053423,
          -0.49277716126736204,
          -0.5306407982724644,
          -0.39245281106839996,
          -0.5300114224592505,
          -0.530021187511029,
          -0.008192169907250949,
          -0.5300221818009789,
          -0.3924578411160254,
          -0.5296545313007754,
          -0.2873275891923756,
          -0.39244211266767987,
          -0.5300291388436037,
          -0.5300628157801859,
          -0.3924362944241407,
          -0.5300286767656173,
          -0.01973297842068072,
          0.044294252562256296,
          -0.28460275909803534,
          -0.4926840205984006,
          -0.25465247892163156,
          -0.5300444634744926,
          -0.25733292252572143,
          -0.5093782766316898,
          -0.49282944175402427,
          -0.49284499816135574,
          -0.008296145544040758,
          -0.019733830740787276,
          0.11190656046471195,
          -0.195936628616747,
          -0.5300107058454412,
          -0.25361670022471533
         ]
        },
        {
         "customdata": [
          [
           "SHA-256"
          ],
          [
           "Ethash"
          ],
          [
           "Scrypt"
          ],
          [
           "CryptoNight-V7"
          ],
          [
           "Ethash"
          ],
          [
           "Equihash"
          ],
          [
           "Multiple"
          ],
          [
           "Scrypt"
          ],
          [
           "X11"
          ],
          [
           "Scrypt"
          ],
          [
           "Multiple"
          ],
          [
           "Scrypt"
          ],
          [
           "SHA-256"
          ],
          [
           "Scrypt"
          ],
          [
           "Scrypt"
          ],
          [
           "Quark"
          ],
          [
           "Groestl"
          ],
          [
           "Scrypt"
          ],
          [
           "Scrypt"
          ],
          [
           "Scrypt"
          ],
          [
           "X11"
          ],
          [
           "Multiple"
          ],
          [
           "SHA-256"
          ],
          [
           "Scrypt"
          ],
          [
           "Scrypt"
          ],
          [
           "Scrypt"
          ],
          [
           "Scrypt"
          ],
          [
           "Scrypt"
          ],
          [
           "NeoScrypt"
          ],
          [
           "Scrypt"
          ],
          [
           "Scrypt"
          ],
          [
           "Scrypt"
          ],
          [
           "Scrypt"
          ],
          [
           "SHA-256"
          ],
          [
           "Scrypt"
          ],
          [
           "Scrypt"
          ],
          [
           "Scrypt"
          ],
          [
           "Scrypt"
          ],
          [
           "HybridScryptHash256"
          ],
          [
           "Scrypt"
          ],
          [
           "Scrypt"
          ],
          [
           "SHA-256"
          ],
          [
           "Scrypt"
          ],
          [
           "Scrypt"
          ],
          [
           "Scrypt"
          ],
          [
           "Scrypt"
          ],
          [
           "SHA-256"
          ],
          [
           "SHA-256"
          ],
          [
           "SHA-256"
          ],
          [
           "SHA-256"
          ],
          [
           "SHA-256"
          ],
          [
           "X11"
          ],
          [
           "Scrypt"
          ],
          [
           "Lyra2REv2"
          ],
          [
           "Scrypt"
          ],
          [
           "SHA-256"
          ],
          [
           "CryptoNight"
          ],
          [
           "CryptoNight"
          ],
          [
           "Shabal256"
          ],
          [
           "Scrypt"
          ],
          [
           "Scrypt"
          ],
          [
           "Scrypt"
          ],
          [
           "Scrypt"
          ],
          [
           "Scrypt"
          ],
          [
           "Scrypt"
          ],
          [
           "Stanford Folding"
          ],
          [
           "Multiple"
          ],
          [
           "QuBit"
          ],
          [
           "Scrypt"
          ],
          [
           "Scrypt"
          ],
          [
           "M7 POW"
          ],
          [
           "Scrypt"
          ],
          [
           "SHA-256"
          ],
          [
           "Scrypt"
          ],
          [
           "X11"
          ],
          [
           "Lyra2RE"
          ],
          [
           "SHA-256"
          ],
          [
           "X11"
          ],
          [
           "Scrypt"
          ],
          [
           "Scrypt"
          ],
          [
           "Ethash"
          ],
          [
           "Blake2b"
          ],
          [
           "X11"
          ],
          [
           "SHA-256"
          ],
          [
           "Scrypt"
          ],
          [
           "1GB AES Pattern Search"
          ],
          [
           "Scrypt"
          ],
          [
           "SHA-256"
          ],
          [
           "X11"
          ],
          [
           "Dagger"
          ],
          [
           "Scrypt"
          ],
          [
           "X11GOST"
          ],
          [
           "Scrypt"
          ],
          [
           "X11"
          ],
          [
           "Scrypt"
          ],
          [
           "X11"
          ],
          [
           "Equihash"
          ],
          [
           "CryptoNight"
          ],
          [
           "SHA-256"
          ],
          [
           "Multiple"
          ],
          [
           "Scrypt"
          ],
          [
           "SHA-256"
          ],
          [
           "Scrypt"
          ],
          [
           "Lyra2Z"
          ],
          [
           "Ethash"
          ],
          [
           "Equihash"
          ],
          [
           "Scrypt"
          ],
          [
           "X11"
          ],
          [
           "X11"
          ],
          [
           "CryptoNight"
          ],
          [
           "Scrypt"
          ],
          [
           "CryptoNight"
          ],
          [
           "Lyra2RE"
          ],
          [
           "X11"
          ],
          [
           "CryptoNight-V7"
          ],
          [
           "Scrypt"
          ],
          [
           "X11"
          ],
          [
           "Equihash"
          ],
          [
           "Scrypt"
          ],
          [
           "Lyra2RE"
          ],
          [
           "Dagger-Hashimoto"
          ],
          [
           "Scrypt"
          ],
          [
           "NIST5"
          ],
          [
           "Scrypt"
          ],
          [
           "SHA-256"
          ],
          [
           "Scrypt"
          ],
          [
           "CryptoNight-V7"
          ],
          [
           "Argon2d"
          ],
          [
           "Blake2b"
          ],
          [
           "Cloverhash"
          ],
          [
           "CryptoNight"
          ],
          [
           "X11"
          ],
          [
           "Scrypt"
          ],
          [
           "Scrypt"
          ],
          [
           "X11"
          ],
          [
           "X11"
          ],
          [
           "CryptoNight"
          ],
          [
           "Time Travel"
          ],
          [
           "Scrypt"
          ],
          [
           "Keccak"
          ],
          [
           "X11"
          ],
          [
           "SHA-256"
          ],
          [
           "Scrypt"
          ],
          [
           "Scrypt"
          ],
          [
           "Scrypt"
          ],
          [
           "Scrypt"
          ],
          [
           "Scrypt"
          ],
          [
           "Scrypt"
          ],
          [
           "CryptoNight"
          ],
          [
           "Equihash"
          ],
          [
           "X11"
          ],
          [
           "NeoScrypt"
          ],
          [
           "Equihash"
          ],
          [
           "Dagger"
          ],
          [
           "Scrypt"
          ],
          [
           "X11"
          ],
          [
           "NeoScrypt"
          ],
          [
           "Ethash"
          ],
          [
           "NeoScrypt"
          ],
          [
           "Multiple"
          ],
          [
           "CryptoNight"
          ],
          [
           "CryptoNight"
          ],
          [
           "Ethash"
          ],
          [
           "X11"
          ],
          [
           "CryptoNight-V7"
          ],
          [
           "Scrypt"
          ],
          [
           "BLAKE256"
          ],
          [
           "X11"
          ],
          [
           "NeoScrypt"
          ],
          [
           "NeoScrypt"
          ],
          [
           "Scrypt"
          ],
          [
           "X11"
          ],
          [
           "SHA-256"
          ],
          [
           "C11"
          ],
          [
           "CryptoNight"
          ],
          [
           "SkunkHash"
          ],
          [
           "CryptoNight"
          ],
          [
           "Scrypt"
          ],
          [
           "Dagger"
          ],
          [
           "Lyra2REv2"
          ],
          [
           "Scrypt"
          ],
          [
           "Scrypt"
          ],
          [
           "X11"
          ],
          [
           "Ethash"
          ],
          [
           "CryptoNight"
          ],
          [
           "Scrypt"
          ],
          [
           "IMesh"
          ],
          [
           "Equihash"
          ],
          [
           "Lyra2Z"
          ],
          [
           "X11"
          ],
          [
           "CryptoNight"
          ],
          [
           "NIST5"
          ],
          [
           "Lyra2RE"
          ],
          [
           "Tribus"
          ],
          [
           "Lyra2Z"
          ],
          [
           "CryptoNight"
          ],
          [
           "CryptoNight Heavy"
          ],
          [
           "CryptoNight"
          ],
          [
           "Jump Consistent Hash"
          ],
          [
           "CryptoNight"
          ],
          [
           "X16R"
          ],
          [
           "HMQ1725"
          ],
          [
           "X11"
          ],
          [
           "Scrypt"
          ],
          [
           "CryptoNight-V7"
          ],
          [
           "Cryptonight-GPU"
          ],
          [
           "XEVAN"
          ],
          [
           "CryptoNight Heavy"
          ],
          [
           "SHA-256"
          ],
          [
           "X11"
          ],
          [
           "X16R"
          ],
          [
           "Equihash"
          ],
          [
           "Lyra2Z"
          ],
          [
           "SHA-256"
          ],
          [
           "CryptoNight"
          ],
          [
           "Blake"
          ],
          [
           "Blake"
          ],
          [
           "Exosis"
          ],
          [
           "Scrypt"
          ],
          [
           "Equihash"
          ],
          [
           "Equihash"
          ],
          [
           "QuBit"
          ],
          [
           "SHA-256"
          ],
          [
           "X13"
          ],
          [
           "SHA-256"
          ],
          [
           "Scrypt"
          ],
          [
           "NeoScrypt"
          ],
          [
           "Blake"
          ],
          [
           "Scrypt"
          ],
          [
           "SHA-256"
          ],
          [
           "Scrypt"
          ],
          [
           "Groestl"
          ],
          [
           "Scrypt"
          ],
          [
           "Scrypt"
          ],
          [
           "Multiple"
          ],
          [
           "Equihash+Scrypt"
          ],
          [
           "Ethash"
          ],
          [
           "CryptoNight"
          ],
          [
           "Equihash"
          ]
         ],
         "hovertemplate": "<b>%{hovertext}</b><br><br>class=%{marker.color}<br>PC 1=%{x}<br>PC 2=%{y}<br>PC 3=%{z}<br>Algorithm=%{customdata[0]}<extra></extra>",
         "hovertext": [
          "Bitcoin",
          "Ethereum",
          "Litecoin",
          "Monero",
          "Ethereum Classic",
          "ZCash",
          "DigiByte",
          "ProsperCoin",
          "Spreadcoin",
          "Argentum",
          "MyriadCoin",
          "MoonCoin",
          "ZetaCoin",
          "SexCoin",
          "Quatloo",
          "QuarkCoin",
          "Riecoin",
          "Digitalcoin ",
          "Catcoin",
          "CannaCoin",
          "CryptCoin",
          "Verge",
          "DevCoin",
          "EarthCoin",
          "E-Gulden",
          "Einsteinium",
          "Emerald",
          "Franko",
          "FeatherCoin",
          "GrandCoin",
          "GlobalCoin",
          "GoldCoin",
          "Infinite Coin",
          "IXcoin",
          "KrugerCoin",
          "LuckyCoin",
          "Litebar ",
          "MegaCoin",
          "MediterraneanCoin",
          "MinCoin",
          "NobleCoin",
          "Namecoin",
          "NyanCoin",
          "RonPaulCoin",
          "StableCoin",
          "SmartCoin",
          "SysCoin",
          "TigerCoin",
          "TerraCoin",
          "UnbreakableCoin",
          "Unobtanium",
          "UroCoin",
          "ViaCoin",
          "Vertcoin",
          "WorldCoin",
          "JouleCoin",
          "ByteCoin",
          "DigitalNote ",
          "BurstCoin",
          "MonaCoin",
          "Gulden",
          "PesetaCoin",
          "Wild Beast Coin",
          "Flo",
          "ArtByte",
          "Folding Coin",
          "Unitus",
          "CypherPunkCoin",
          "OmniCron",
          "GreenCoin",
          "Cryptonite",
          "MasterCoin",
          "SoonCoin",
          "1Credit",
          "MarsCoin ",
          "Crypto",
          "Anarchists Prime",
          "BowsCoin",
          "Song Coin",
          "BitZeny",
          "Expanse",
          "Siacoin",
          "MindCoin",
          "I0coin",
          "Revolution VR",
          "HOdlcoin",
          "Gamecredits",
          "CarpeDiemCoin",
          "Adzcoin",
          "SoilCoin",
          "YoCoin",
          "SibCoin",
          "Francs",
          "BolivarCoin",
          "Omni",
          "PizzaCoin",
          "Komodo",
          "Karbo",
          "ZayedCoin",
          "Circuits of Value",
          "DopeCoin",
          "DollarCoin",
          "Shilling",
          "ZCoin",
          "Elementrem",
          "ZClassic",
          "KiloCoin",
          "ArtexCoin",
          "Kurrent",
          "Cannabis Industry Coin",
          "OsmiumCoin",
          "Bikercoins",
          "HexxCoin",
          "PacCoin",
          "Citadel",
          "BeaverCoin",
          "VaultCoin",
          "Zero",
          "Canada eCoin",
          "Zoin",
          "DubaiCoin",
          "EB3coin",
          "Coinonat",
          "BenjiRolls",
          "ILCoin",
          "EquiTrader",
          "Quantum Resistant Ledger",
          "Dynamic",
          "Nano",
          "ChanCoin",
          "Dinastycoin",
          "DigitalPrice",
          "Unify",
          "SocialCoin",
          "ArcticCoin",
          "DAS",
          "LeviarCoin",
          "Bitcore",
          "gCn Coin",
          "SmartCash",
          "Onix",
          "Bitcoin Cash",
          "Sojourn Coin",
          "NewYorkCoin",
          "FrazCoin",
          "Kronecoin",
          "AdCoin",
          "Linx",
          "Sumokoin",
          "BitcoinZ",
          "Elements",
          "VIVO Coin",
          "Bitcoin Gold",
          "Pirl",
          "eBoost",
          "Pura",
          "Innova",
          "Ellaism",
          "GoByte",
          "SHIELD",
          "UltraNote",
          "BitCoal",
          "DaxxCoin",
          "AC3",
          "Lethean",
          "PopularCoin",
          "Photon",
          "Sucre",
          "SparksPay",
          "GunCoin",
          "IrishCoin",
          "Pioneer Coin",
          "UnitedBitcoin",
          "Interzone",
          "TurtleCoin",
          "MUNcoin",
          "Niobio Cash",
          "ShareChain",
          "Travelflex",
          "KREDS",
          "BitFlip",
          "LottoCoin",
          "Crypto Improvement Fund",
          "Callisto Network",
          "BitTube",
          "Poseidon",
          "Aidos Kuneen",
          "Bitrolium",
          "Alpenschillling",
          "FuturoCoin",
          "Monero Classic",
          "Jumpcoin",
          "Infinex",
          "KEYCO",
          "GINcoin",
          "PlatinCoin",
          "Loki",
          "Newton Coin",
          "MassGrid",
          "PluraCoin",
          "Motion",
          "PlusOneCoin",
          "Axe",
          "HexCoin",
          "Webchain",
          "Ryo",
          "Urals Coin",
          "Qwertycoin",
          "Project Pai",
          "Azart",
          "Xchange",
          "CrypticCoin",
          "Actinium",
          "Bitcoin SV",
          "FREDEnergy",
          "Universal Molecule",
          "Lithium",
          "Exosis",
          "Block-Logic",
          "Beam",
          "Bithereum",
          "SLICE",
          "BLAST",
          "Bitcoin Rhodium",
          "GlobalToken",
          "SolarCoin",
          "UFO Coin",
          "BlakeCoin",
          "Crypto Escudo",
          "Crown Coin",
          "SmileyCoin",
          "Groestlcoin",
          "Bata",
          "Pakcoin",
          "JoinCoin",
          "Vollar",
          "Reality Clash",
          "Beldex",
          "Horizen"
         ],
         "legendgroup": "1",
         "marker": {
          "color": [
           1,
           1,
           1,
           1,
           1,
           1,
           1,
           1,
           1,
           1,
           1,
           1,
           1,
           1,
           1,
           1,
           1,
           1,
           1,
           1,
           1,
           1,
           1,
           1,
           1,
           1,
           1,
           1,
           1,
           1,
           1,
           1,
           1,
           1,
           1,
           1,
           1,
           1,
           1,
           1,
           1,
           1,
           1,
           1,
           1,
           1,
           1,
           1,
           1,
           1,
           1,
           1,
           1,
           1,
           1,
           1,
           1,
           1,
           1,
           1,
           1,
           1,
           1,
           1,
           1,
           1,
           1,
           1,
           1,
           1,
           1,
           1,
           1,
           1,
           1,
           1,
           1,
           1,
           1,
           1,
           1,
           1,
           1,
           1,
           1,
           1,
           1,
           1,
           1,
           1,
           1,
           1,
           1,
           1,
           1,
           1,
           1,
           1,
           1,
           1,
           1,
           1,
           1,
           1,
           1,
           1,
           1,
           1,
           1,
           1,
           1,
           1,
           1,
           1,
           1,
           1,
           1,
           1,
           1,
           1,
           1,
           1,
           1,
           1,
           1,
           1,
           1,
           1,
           1,
           1,
           1,
           1,
           1,
           1,
           1,
           1,
           1,
           1,
           1,
           1,
           1,
           1,
           1,
           1,
           1,
           1,
           1,
           1,
           1,
           1,
           1,
           1,
           1,
           1,
           1,
           1,
           1,
           1,
           1,
           1,
           1,
           1,
           1,
           1,
           1,
           1,
           1,
           1,
           1,
           1,
           1,
           1,
           1,
           1,
           1,
           1,
           1,
           1,
           1,
           1,
           1,
           1,
           1,
           1,
           1,
           1,
           1,
           1,
           1,
           1,
           1,
           1,
           1,
           1,
           1,
           1,
           1,
           1,
           1,
           1,
           1,
           1,
           1,
           1,
           1,
           1,
           1,
           1,
           1,
           1,
           1,
           1,
           1,
           1,
           1,
           1,
           1,
           1,
           1,
           1,
           1,
           1,
           1,
           1,
           1,
           1,
           1,
           1,
           1,
           1,
           1,
           1,
           1,
           1,
           1,
           1,
           1,
           1,
           1
          ],
          "coloraxis": "coloraxis",
          "symbol": "diamond"
         },
         "mode": "markers",
         "name": "1",
         "scene": "scene",
         "showlegend": true,
         "type": "scatter3d",
         "x": [
          -0.15333073383185866,
          -0.1503566047116044,
          -0.16471990720496038,
          -0.14434527634338754,
          -0.14879609679709346,
          -0.13077046067893522,
          0.16469580499290729,
          -0.1658676496459864,
          -0.22467485032854784,
          -0.16548360033985368,
          -0.0890619881417928,
          2.5604915724192194,
          -0.1504118932140756,
          -0.16273526398129917,
          -0.1652872737361294,
          -0.2246203000688064,
          -0.20361738006364583,
          -0.16533630211052378,
          -0.16584989627162103,
          -0.1659364770984827,
          -0.22476429824623356,
          0.18845351140787886,
          0.2250115540215906,
          0.08311885814118099,
          -0.16568246367651246,
          -0.1612818752361793,
          -0.16562164775446925,
          -0.16599354989759252,
          -0.1709629845966947,
          -0.14518761710049471,
          -0.16478710677983208,
          -0.16506484900083582,
          1.5851844748481891,
          -0.15329206101918966,
          -0.16235051628880406,
          -0.16570893812677975,
          -0.16606421325220877,
          -0.16532249322709863,
          -0.17560792006241574,
          -0.16594531578209418,
          -0.030643757032356948,
          -0.15336975642956654,
          -0.1596010149227393,
          -0.16592469138340457,
          -0.16401604108754775,
          -0.16541075421137225,
          -0.14050437264714732,
          -0.1528328356878448,
          -0.15312037441795492,
          -0.1531031910767873,
          -0.15369485747154543,
          -0.22493845368154083,
          -0.1656408628970817,
          -0.1879063674388808,
          -0.16273992236420268,
          -0.15290021197963824,
          3.87256007433608,
          0.46712245743526215,
          0.028004659542355852,
          -0.16450689537665605,
          -0.14908275124294768,
          -0.16322407081061518,
          -0.166066419946633,
          -0.16308898775182154,
          -0.14929425261663373,
          -0.12126122252656753,
          -0.1231136382617374,
          -0.18918527506963656,
          -0.16593935584830113,
          -0.03869901936255939,
          -0.1099538452222743,
          -0.1660753301244698,
          -0.15339756434526594,
          0.4871566297638776,
          -0.22432483949346949,
          -0.14720452429527806,
          -0.15313701308715727,
          -0.2246100972345932,
          -0.16419623518143328,
          -0.16338743677684112,
          -0.15142516452808283,
          0.3629193531952519,
          -0.22464555238718656,
          -0.15329318459867255,
          -0.16202794519540656,
          -0.16564284833336113,
          -0.16463678288416633,
          0.2657334735574192,
          -0.22380508867905152,
          -0.15349588486213,
          -0.16488414833679976,
          -0.1736694269138607,
          -0.16586493571147692,
          -0.22460872027291306,
          -0.1660753886952299,
          -0.22475885554338884,
          -0.1731691939331519,
          0.31181816092638,
          -0.1535535985402302,
          -0.10315958505422673,
          -0.16323821576624958,
          -0.15351217937598138,
          -0.16573830504243875,
          -0.15069030639967196,
          -0.15116700265448313,
          -0.13079210141842088,
          -0.09268195810681829,
          -0.2113256158733608,
          -0.22258383215743055,
          0.31181256165684396,
          -0.1660570983397716,
          0.311943436468529,
          -0.14774577915592196,
          0.4916605565327121,
          -0.14310790424735814,
          -0.16602534820636283,
          -0.2174811434141289,
          -0.13080450540902114,
          -0.16415619150993957,
          -0.14746380771448064,
          -0.1500899945129075,
          -0.13690155846273658,
          -0.19401676808567217,
          -0.16558712042038845,
          -0.11983211297559505,
          -0.16540884799791222,
          -0.14296579635776527,
          -0.1317493112742137,
          -0.03782102558506682,
          -0.1528277515736839,
          0.34798187492303695,
          -0.22381342900992157,
          -0.1657286648748596,
          -0.16549156892531372,
          -0.22420869753574202,
          -0.22478694264055576,
          0.3122081107676662,
          -0.1548259868116744,
          3.2481400353844165,
          -0.11927525979281829,
          -0.2156448516837299,
          -0.15332989713317483,
          -0.09152647958631811,
          1.5828582469279566,
          -0.16582661682553243,
          -0.16527740950129882,
          -0.16497799464671042,
          -0.16496491124927423,
          0.31239205778888884,
          0.08183626652853952,
          -0.1791169473194604,
          -0.1756580645520288,
          -0.13065037236731694,
          -0.15225312865118124,
          -0.164154398702049,
          -0.22032519774891862,
          -0.17550323693455944,
          -0.14952942468457,
          -0.1756036032896182,
          -0.11333217747370876,
          1.1510042519966324,
          0.3117952793432155,
          -0.07429849323313559,
          -0.22006571006179512,
          -0.1320624487776358,
          -0.08210351568945226,
          1.0935899605249104,
          -0.22476090924396172,
          -0.17565564388623903,
          -0.1686840188243131,
          -0.1650766255793156,
          -0.22468622247570733,
          -0.15330927519794627,
          -0.2007871804370488,
          8.06200782884567,
          -0.1603486336931318,
          0.31567521556847683,
          0.02721553398327555,
          -0.15175601878775108,
          -0.17344463263057475,
          -0.16565107263859313,
          0.14183329627028343,
          -0.2188188542769931,
          -0.10249228006242032,
          0.31973094088197546,
          -0.16588841707374175,
          -0.16457975977925415,
          -0.1296401667872164,
          -0.14847030596321734,
          -0.22385424619661665,
          0.311978021242869,
          -0.1940764006032095,
          -0.14759078467720074,
          -0.14044348566568643,
          -0.1507748177825747,
          0.31591280348486467,
          0.5640818202127768,
          2.1231616673477247,
          -0.1638412038045619,
          0.325601704456128,
          -0.1954138136281889,
          -0.15878226504643986,
          -0.22474304522391148,
          -0.16591302161407598,
          -0.1319392850007815,
          -0.14678512599088875,
          -0.14777274058521392,
          3.09012186400977,
          -0.11310549355605518,
          -0.22471436390101096,
          -0.19484060601791095,
          -0.025251680497790165,
          -0.15017162420709015,
          -0.15332993473986514,
          0.39185699459242573,
          -0.15141433796319032,
          -0.15180710228425204,
          -0.15694885580700874,
          -0.16480372324007342,
          -0.12870740960102114,
          -0.13048296935334944,
          -0.18839499469962986,
          -0.15260511578255556,
          -0.10943113485172579,
          -0.15147140862618427,
          0.5311479432316345,
          -0.100723661043124,
          -0.10219113097695925,
          -0.14944500408039216,
          -0.15311974417769628,
          0.5507427931462312,
          -0.20317781676519198,
          -0.16599001064133298,
          -0.16394279181887528,
          -0.1238493197581489,
          -0.14053547786847165,
          -0.15120020425225092,
          0.3335816661177591,
          -0.13077151878750537
         ],
         "y": [
          -1.3328979699395058,
          -2.0115646287027595,
          -1.1834255685184103,
          -2.1751550254864154,
          -2.0116251709276605,
          -1.9823627978639167,
          -1.7988541499275756,
          -1.1834412343706358,
          -0.8522247754369512,
          -1.1834504196088642,
          -1.7989799598431528,
          -1.30046199642841,
          -1.332850612877686,
          -1.1834360376327566,
          -1.1834643419119517,
          -0.39992388896709335,
          -1.1643321160523454,
          -1.1834326655647365,
          -1.1834403506461613,
          -1.1834394870402047,
          -0.8522279115705502,
          -1.7947458665877973,
          -1.3278731817284615,
          -1.1799190347645852,
          -1.1834320162146872,
          -1.1833964642338572,
          -1.1834362290736489,
          -1.183441074674239,
          -1.5898532547577782,
          -1.1833330430799172,
          -1.1834196988392036,
          -1.183435002352867,
          -1.1558962910681227,
          -1.3328960448907605,
          -1.1834270356186167,
          -1.1834326758605274,
          -1.1834380853512918,
          -1.183427919758843,
          -2.3480122349316774,
          -1.1834378602787863,
          -1.1865691833501049,
          -1.332899912399791,
          -1.183337284466337,
          -1.1834440737846177,
          -1.1834997919394898,
          -1.1834383685921173,
          -1.3328301564564,
          -1.3328903065938194,
          -1.3329013207965483,
          -1.332925476852497,
          -1.332902437680874,
          -0.8522247331426053,
          -1.1834312618078646,
          -1.1956212772333221,
          -1.1834464194085466,
          -1.3328923361724716,
          -2.1878974496982515,
          -2.242579172845123,
          -0.7240213316066264,
          -1.1834288663274015,
          -1.1836976638339252,
          -1.183405335070024,
          -1.1834390363688099,
          -1.1833944076958134,
          -1.183260619395825,
          -2.155462773319219,
          -1.7993585873802205,
          -1.557243247116649,
          -1.1834332006541652,
          -1.1836791824439021,
          -2.1463625591043423,
          -1.1834381578992446,
          -1.332901296617528,
          -1.2114752087389073,
          -0.8522159091900766,
          -2.2045146790688284,
          -1.3329098894051952,
          -0.8522222103632431,
          -1.1834825917823037,
          -1.1834685013801542,
          -2.0116289469969764,
          -2.2323318902861806,
          -0.8522206842694522,
          -1.3328961008201103,
          -1.1833745010423895,
          -2.242104471787503,
          -1.183421430769992,
          -1.3262583471763139,
          -0.8522236050605514,
          -2.192696251713461,
          -1.1834892636794705,
          -2.273552222671093,
          -1.1834404410819823,
          -0.8522247746005933,
          -1.1834381588204395,
          -0.8522322480087599,
          -1.1687792215091053,
          -2.243734517075191,
          -1.3329016497542436,
          -1.7991551517407616,
          -1.1834281637379063,
          -1.3329001818859962,
          -1.183440719630692,
          -2.2106975639471815,
          -2.0116222169064275,
          -1.9823638750929873,
          -1.1863663360620238,
          -0.8518762130381758,
          -0.8522575936220314,
          -2.2437420359383564,
          -1.1834386291524397,
          -2.2437381540535735,
          -2.2045049014613856,
          -0.8823734764110824,
          -2.1752151978395986,
          -1.1834374737053028,
          -0.8525117192892476,
          -1.9823618597572221,
          -1.1834080390917057,
          -2.20449810567887,
          -2.159974733056706,
          -1.1846183225941789,
          -0.6247040838770324,
          -1.1834368274870903,
          -1.3328621463469281,
          -1.1834519641584305,
          -2.1751554684267145,
          -2.0156823707518923,
          -2.2525038493693375,
          -2.1229676395940618,
          -2.2432441736299733,
          -0.8522345513422002,
          -1.1834331818087285,
          -1.183458056411437,
          -0.8522278991570337,
          -0.8522296311347818,
          -2.243744066792456,
          -2.3077390275275915,
          -1.1451244894846657,
          -1.312914977629022,
          -0.8524861321571783,
          -1.3328979282904594,
          -1.1866379162867131,
          -1.096379629601072,
          -1.183438533650942,
          -1.1834533197736685,
          -1.1834489466696128,
          -1.1834482954064627,
          -2.2437578739960844,
          -1.9855879664318212,
          -0.8511285887112169,
          -1.5898835834381082,
          -1.9823568201281905,
          -2.192717524449108,
          -1.1834079498496166,
          -0.852225463474719,
          -1.5898877239629081,
          -2.011707748041072,
          -1.5898840318099945,
          -1.7993060960954224,
          -2.25790163617718,
          -2.243737301557976,
          -2.0143605696514397,
          -0.8523441857162275,
          -2.175201466583515,
          -1.1825487897436644,
          -1.190296525594928,
          -0.8522289276241493,
          -1.58987951377334,
          -1.589847756744188,
          -1.1834301612878888,
          -0.8522273161024114,
          -1.3328963528407172,
          -1.2387156145339429,
          -2.5161351803778924,
          -2.229787079875319,
          -2.243757092790478,
          -1.1803980989269558,
          -2.1926557185950575,
          -1.1955701294348502,
          -1.1834429593396003,
          -1.1802261063708892,
          -0.8522492101953548,
          -2.013460313139146,
          -2.24399224897974,
          -1.1834422681281507,
          -2.220814550511334,
          -1.9823387858343184,
          -2.210770430233283,
          -0.8522365831332337,
          -2.2437320884123086,
          -0.6246891151275846,
          -2.2045079015856617,
          -2.1615481553774543,
          -2.2106945964163605,
          -2.243919029968288,
          -2.2326419666173596,
          -2.274671041387244,
          -2.322577746890174,
          -2.2437000151009183,
          -1.2504008714921246,
          -2.2685509455349,
          -0.8522288282258275,
          -1.1834442203672553,
          -2.1756893231806593,
          -2.2556101887569344,
          -0.7732637321883018,
          -2.228219651568276,
          -1.3322640318685677,
          -0.8522300333112911,
          -1.250423627835617,
          -1.9820987608134464,
          -2.210712948071932,
          -1.3328979301624388,
          -2.2450619901896482,
          -2.2637317513987574,
          -2.263698718375199,
          -2.278428488549031,
          -1.1834534357145143,
          -1.9824192551771498,
          -1.9823549940837761,
          -1.5572697281616192,
          -1.332890152626458,
          -0.2940683862878759,
          -1.332902171410308,
          -1.213300405320872,
          -1.5887685195960872,
          -2.265819701612322,
          -1.1832681234767572,
          -1.3329012894245549,
          -1.1806658425018415,
          -1.1643240576370883,
          -1.1834367941175545,
          -1.1834513884979705,
          -1.7993970509553046,
          -2.180283827575515,
          -2.011622739097727,
          -2.24356621438792,
          -1.9823628505342579
         ],
         "z": [
          0.17693993843774333,
          0.2858065662585277,
          -0.06848805559768324,
          0.3395020128070682,
          0.2858160191465436,
          0.33137793981766717,
          0.2918292786524087,
          -0.06848240303170747,
          0.06912168011555965,
          -0.06848127328780915,
          0.2923800623187065,
          -0.049611959958481965,
          0.17692398920059668,
          -0.06848996492921841,
          -0.06847876360470784,
          0.021871324027493158,
          0.1744919315453227,
          -0.06848529552994743,
          -0.06848262478056037,
          -0.06848262669021457,
          0.0691225217050958,
          0.2909198752403641,
          0.1751057967217214,
          -0.0697345540107519,
          -0.06848471610050577,
          -0.0685012555804328,
          -0.06848395958551777,
          -0.06848217627672928,
          0.2041870846814572,
          -0.06854779822919829,
          -0.06848914586955014,
          -0.06848536719882893,
          -0.07786938772588231,
          0.17693945539425754,
          -0.06849264516820258,
          -0.06848452325156415,
          -0.06848265622303416,
          -0.06848631787398768,
          0.2438088528050195,
          -0.06848294907878304,
          -0.06810685394033736,
          0.17694042585022685,
          -0.0685171220569368,
          -0.06848169055082456,
          -0.06847396735893564,
          -0.0684839474063368,
          0.17689922972743968,
          0.17693730467874405,
          0.17694020538368557,
          0.17694522832038626,
          0.17694162654439438,
          0.06912221604470237,
          -0.06848496005447115,
          0.19170368606618032,
          -0.06848778128437037,
          0.1769378689326688,
          0.2985685580026315,
          0.3170572753046214,
          -1.3335006089972767,
          -0.06848780524208938,
          -0.06846339403243448,
          -0.0684953840522444,
          -0.06848245251267716,
          -0.06849795149637683,
          -0.0685544771276818,
          0.2654833310295944,
          0.29252972374389685,
          0.3050501166798638,
          -0.06848393715452394,
          -0.06869539289724891,
          0.36895145395528073,
          -0.06848261805587261,
          0.1769407731855154,
          -0.0639614875497813,
          0.06911910009744832,
          0.3250823896493283,
          0.17694203409799797,
          0.06912100914650657,
          -0.0684771967887787,
          -0.06848181895277786,
          0.2858222433448702,
          0.31735526189801366,
          0.06912076284638896,
          0.17693946942834804,
          -0.0685043129345657,
          0.22508404898058232,
          -0.06848909386355602,
          0.17468347942124227,
          0.0691196375045093,
          0.35606201443794716,
          -0.06847437794438663,
          0.49134664743484396,
          -0.06848257476082908,
          0.06912154327022993,
          -0.06848261774192035,
          0.06912341853762007,
          0.4388440634225016,
          0.3176201780954062,
          0.17694116960884004,
          0.2924458840775646,
          -0.06849057433419749,
          0.17694077662633803,
          -0.0684827781368356,
          0.3620547956026268,
          0.28582030047617585,
          0.3313782101217276,
          -0.06802111799615729,
          0.0690210999768,
          0.0691242309939924,
          0.3176217641705808,
          -0.06848255705152406,
          0.3176206807989983,
          0.32508146075394684,
          0.07395458998995669,
          0.33951205606222945,
          -0.06848286462796156,
          0.06916690104420874,
          0.3313778137313144,
          -0.06849289140830525,
          0.3250794549219416,
          0.33379873115545605,
          -0.06829577628807773,
          -0.012008234217773953,
          -0.06848390563072833,
          0.17686320552684537,
          -0.06848110433794984,
          0.339499254607214,
          0.39312662242757607,
          0.3224076184049499,
          0.34325168293068403,
          0.31744275759033325,
          0.06912194697032248,
          -0.06848437653339229,
          -0.06847965761865,
          0.06912137085231297,
          0.06912292859292955,
          0.3176213719692326,
          0.47135425229157013,
          -0.08356188956697141,
          0.07705442582630316,
          0.06915774787539328,
          0.17693992798694352,
          -0.06796663518602605,
          -0.09032779083348702,
          -0.06848305338358719,
          -0.0684810921048716,
          -0.06848262666093044,
          -0.0684827900793496,
          0.3176238831344257,
          0.33161392120649075,
          0.06879797687662581,
          0.20420313898731415,
          0.33137643985237686,
          0.35606390071023664,
          -0.06849291380140565,
          0.06911283482088389,
          0.20420368606217615,
          0.2858348269392237,
          0.20420312032512905,
          0.29249851646952374,
          0.3188525374360671,
          0.31762080847492713,
          0.2862348677234863,
          0.06913715981953704,
          0.33948635312995123,
          -0.06884240158915829,
          0.13011625170492855,
          0.06912272746990987,
          0.20420228176790986,
          0.204181223447302,
          -0.06848635661363008,
          0.06912223565159195,
          0.1769395554574971,
          0.16183305307155307,
          0.3586455836920308,
          0.22419289184384,
          0.3176169342817485,
          -0.06951869985258735,
          0.35604993075541685,
          0.19166308746135038,
          -0.06848248940807748,
          -0.06979159546318284,
          0.06911469441054138,
          0.28610461538993043,
          0.31765779573557357,
          -0.06848214363576463,
          0.40245613524851015,
          0.3313705755637148,
          0.3620654662711306,
          0.06912245679815254,
          0.3176193391347942,
          -0.012011245538182419,
          0.32508176867600697,
          0.3118341841896149,
          0.36205434883930093,
          0.3176503540543124,
          0.34796323671968743,
          0.32035502369342694,
          0.2769254360603287,
          0.31758446685388625,
          0.1410064138501354,
          0.3305480682528556,
          0.0691226697358416,
          -0.06848168397315334,
          0.3395882592176477,
          0.25794266748006073,
          0.08951788875172649,
          0.3418166360378283,
          0.17672405429291527,
          0.06912286281393289,
          0.1410099945484601,
          0.3311045741945023,
          0.36205694519312615,
          0.17693992845667048,
          0.31773274507845534,
          0.37207969781487893,
          0.3720735921869441,
          0.1020488128831174,
          -0.06848204678773467,
          0.33138549869631956,
          0.3313757114959409,
          0.3050540287354133,
          0.17693680181089863,
          -0.04784017989446936,
          0.17693697561047003,
          -0.06367019476901614,
          0.20381477068626558,
          0.3724152003767924,
          -0.06855259416371802,
          0.17694019751165796,
          -0.07054459993907553,
          0.17448933561587843,
          -0.06848307997017278,
          -0.06848425476599837,
          0.29253929871320195,
          0.19868857925583794,
          0.28582047844407726,
          0.31753995594559575,
          0.331377953033993
         ]
        },
        {
         "customdata": [
          [
           "Proof-of-BibleHash"
          ],
          [
           "ECC 256K1"
          ],
          [
           "SHA3-256"
          ],
          [
           "Leased POS"
          ]
         ],
         "hovertemplate": "<b>%{hovertext}</b><br><br>class=%{marker.color}<br>PC 1=%{x}<br>PC 2=%{y}<br>PC 3=%{z}<br>Algorithm=%{customdata[0]}<extra></extra>",
         "hovertext": [
          "BiblePay",
          "Acute Angle Cloud",
          "Fiii",
          "Waves"
         ],
         "legendgroup": "3",
         "marker": {
          "color": [
           3,
           3,
           3,
           3
          ],
          "coloraxis": "coloraxis",
          "symbol": "square"
         },
         "mode": "markers",
         "name": "3",
         "scene": "scene",
         "showlegend": true,
         "type": "scatter3d",
         "x": [
          -0.22206107073373496,
          -0.3595715510868327,
          -0.548703428324864,
          -0.39446973864822765
         ],
         "y": [
          1.878113187029418,
          2.936873060257285,
          2.5968924317339486,
          3.025182695386641
         ],
         "z": [
          13.848552408657776,
          19.465510158041486,
          13.540204819136116,
          14.735486407932184
         ]
        },
        {
         "customdata": [
          [
           "TRC10"
          ]
         ],
         "hovertemplate": "<b>%{hovertext}</b><br><br>class=%{marker.color}<br>PC 1=%{x}<br>PC 2=%{y}<br>PC 3=%{z}<br>Algorithm=%{customdata[0]}<extra></extra>",
         "hovertext": [
          "BitTorrent"
         ],
         "legendgroup": "2",
         "marker": {
          "color": [
           2
          ],
          "coloraxis": "coloraxis",
          "symbol": "x"
         },
         "mode": "markers",
         "name": "2",
         "scene": "scene",
         "showlegend": true,
         "type": "scatter3d",
         "x": [
          34.09503183533472
         ],
         "y": [
          2.125481331816796
         ],
         "z": [
          -0.5355269814182686
         ]
        }
       ],
       "layout": {
        "coloraxis": {
         "colorbar": {
          "title": {
           "text": "class"
          }
         },
         "colorscale": [
          [
           0,
           "#0d0887"
          ],
          [
           0.1111111111111111,
           "#46039f"
          ],
          [
           0.2222222222222222,
           "#7201a8"
          ],
          [
           0.3333333333333333,
           "#9c179e"
          ],
          [
           0.4444444444444444,
           "#bd3786"
          ],
          [
           0.5555555555555556,
           "#d8576b"
          ],
          [
           0.6666666666666666,
           "#ed7953"
          ],
          [
           0.7777777777777778,
           "#fb9f3a"
          ],
          [
           0.8888888888888888,
           "#fdca26"
          ],
          [
           1,
           "#f0f921"
          ]
         ]
        },
        "legend": {
         "title": {
          "text": "class"
         },
         "tracegroupgap": 0,
         "x": 0,
         "y": 1
        },
        "margin": {
         "t": 60
        },
        "scene": {
         "domain": {
          "x": [
           0,
           1
          ],
          "y": [
           0,
           1
          ]
         },
         "xaxis": {
          "title": {
           "text": "PC 1"
          }
         },
         "yaxis": {
          "title": {
           "text": "PC 2"
          }
         },
         "zaxis": {
          "title": {
           "text": "PC 3"
          }
         }
        },
        "template": {
         "data": {
          "bar": [
           {
            "error_x": {
             "color": "#2a3f5f"
            },
            "error_y": {
             "color": "#2a3f5f"
            },
            "marker": {
             "line": {
              "color": "#E5ECF6",
              "width": 0.5
             }
            },
            "type": "bar"
           }
          ],
          "barpolar": [
           {
            "marker": {
             "line": {
              "color": "#E5ECF6",
              "width": 0.5
             }
            },
            "type": "barpolar"
           }
          ],
          "carpet": [
           {
            "aaxis": {
             "endlinecolor": "#2a3f5f",
             "gridcolor": "white",
             "linecolor": "white",
             "minorgridcolor": "white",
             "startlinecolor": "#2a3f5f"
            },
            "baxis": {
             "endlinecolor": "#2a3f5f",
             "gridcolor": "white",
             "linecolor": "white",
             "minorgridcolor": "white",
             "startlinecolor": "#2a3f5f"
            },
            "type": "carpet"
           }
          ],
          "choropleth": [
           {
            "colorbar": {
             "outlinewidth": 0,
             "ticks": ""
            },
            "type": "choropleth"
           }
          ],
          "contour": [
           {
            "colorbar": {
             "outlinewidth": 0,
             "ticks": ""
            },
            "colorscale": [
             [
              0,
              "#0d0887"
             ],
             [
              0.1111111111111111,
              "#46039f"
             ],
             [
              0.2222222222222222,
              "#7201a8"
             ],
             [
              0.3333333333333333,
              "#9c179e"
             ],
             [
              0.4444444444444444,
              "#bd3786"
             ],
             [
              0.5555555555555556,
              "#d8576b"
             ],
             [
              0.6666666666666666,
              "#ed7953"
             ],
             [
              0.7777777777777778,
              "#fb9f3a"
             ],
             [
              0.8888888888888888,
              "#fdca26"
             ],
             [
              1,
              "#f0f921"
             ]
            ],
            "type": "contour"
           }
          ],
          "contourcarpet": [
           {
            "colorbar": {
             "outlinewidth": 0,
             "ticks": ""
            },
            "type": "contourcarpet"
           }
          ],
          "heatmap": [
           {
            "colorbar": {
             "outlinewidth": 0,
             "ticks": ""
            },
            "colorscale": [
             [
              0,
              "#0d0887"
             ],
             [
              0.1111111111111111,
              "#46039f"
             ],
             [
              0.2222222222222222,
              "#7201a8"
             ],
             [
              0.3333333333333333,
              "#9c179e"
             ],
             [
              0.4444444444444444,
              "#bd3786"
             ],
             [
              0.5555555555555556,
              "#d8576b"
             ],
             [
              0.6666666666666666,
              "#ed7953"
             ],
             [
              0.7777777777777778,
              "#fb9f3a"
             ],
             [
              0.8888888888888888,
              "#fdca26"
             ],
             [
              1,
              "#f0f921"
             ]
            ],
            "type": "heatmap"
           }
          ],
          "heatmapgl": [
           {
            "colorbar": {
             "outlinewidth": 0,
             "ticks": ""
            },
            "colorscale": [
             [
              0,
              "#0d0887"
             ],
             [
              0.1111111111111111,
              "#46039f"
             ],
             [
              0.2222222222222222,
              "#7201a8"
             ],
             [
              0.3333333333333333,
              "#9c179e"
             ],
             [
              0.4444444444444444,
              "#bd3786"
             ],
             [
              0.5555555555555556,
              "#d8576b"
             ],
             [
              0.6666666666666666,
              "#ed7953"
             ],
             [
              0.7777777777777778,
              "#fb9f3a"
             ],
             [
              0.8888888888888888,
              "#fdca26"
             ],
             [
              1,
              "#f0f921"
             ]
            ],
            "type": "heatmapgl"
           }
          ],
          "histogram": [
           {
            "marker": {
             "colorbar": {
              "outlinewidth": 0,
              "ticks": ""
             }
            },
            "type": "histogram"
           }
          ],
          "histogram2d": [
           {
            "colorbar": {
             "outlinewidth": 0,
             "ticks": ""
            },
            "colorscale": [
             [
              0,
              "#0d0887"
             ],
             [
              0.1111111111111111,
              "#46039f"
             ],
             [
              0.2222222222222222,
              "#7201a8"
             ],
             [
              0.3333333333333333,
              "#9c179e"
             ],
             [
              0.4444444444444444,
              "#bd3786"
             ],
             [
              0.5555555555555556,
              "#d8576b"
             ],
             [
              0.6666666666666666,
              "#ed7953"
             ],
             [
              0.7777777777777778,
              "#fb9f3a"
             ],
             [
              0.8888888888888888,
              "#fdca26"
             ],
             [
              1,
              "#f0f921"
             ]
            ],
            "type": "histogram2d"
           }
          ],
          "histogram2dcontour": [
           {
            "colorbar": {
             "outlinewidth": 0,
             "ticks": ""
            },
            "colorscale": [
             [
              0,
              "#0d0887"
             ],
             [
              0.1111111111111111,
              "#46039f"
             ],
             [
              0.2222222222222222,
              "#7201a8"
             ],
             [
              0.3333333333333333,
              "#9c179e"
             ],
             [
              0.4444444444444444,
              "#bd3786"
             ],
             [
              0.5555555555555556,
              "#d8576b"
             ],
             [
              0.6666666666666666,
              "#ed7953"
             ],
             [
              0.7777777777777778,
              "#fb9f3a"
             ],
             [
              0.8888888888888888,
              "#fdca26"
             ],
             [
              1,
              "#f0f921"
             ]
            ],
            "type": "histogram2dcontour"
           }
          ],
          "mesh3d": [
           {
            "colorbar": {
             "outlinewidth": 0,
             "ticks": ""
            },
            "type": "mesh3d"
           }
          ],
          "parcoords": [
           {
            "line": {
             "colorbar": {
              "outlinewidth": 0,
              "ticks": ""
             }
            },
            "type": "parcoords"
           }
          ],
          "pie": [
           {
            "automargin": true,
            "type": "pie"
           }
          ],
          "scatter": [
           {
            "marker": {
             "colorbar": {
              "outlinewidth": 0,
              "ticks": ""
             }
            },
            "type": "scatter"
           }
          ],
          "scatter3d": [
           {
            "line": {
             "colorbar": {
              "outlinewidth": 0,
              "ticks": ""
             }
            },
            "marker": {
             "colorbar": {
              "outlinewidth": 0,
              "ticks": ""
             }
            },
            "type": "scatter3d"
           }
          ],
          "scattercarpet": [
           {
            "marker": {
             "colorbar": {
              "outlinewidth": 0,
              "ticks": ""
             }
            },
            "type": "scattercarpet"
           }
          ],
          "scattergeo": [
           {
            "marker": {
             "colorbar": {
              "outlinewidth": 0,
              "ticks": ""
             }
            },
            "type": "scattergeo"
           }
          ],
          "scattergl": [
           {
            "marker": {
             "colorbar": {
              "outlinewidth": 0,
              "ticks": ""
             }
            },
            "type": "scattergl"
           }
          ],
          "scattermapbox": [
           {
            "marker": {
             "colorbar": {
              "outlinewidth": 0,
              "ticks": ""
             }
            },
            "type": "scattermapbox"
           }
          ],
          "scatterpolar": [
           {
            "marker": {
             "colorbar": {
              "outlinewidth": 0,
              "ticks": ""
             }
            },
            "type": "scatterpolar"
           }
          ],
          "scatterpolargl": [
           {
            "marker": {
             "colorbar": {
              "outlinewidth": 0,
              "ticks": ""
             }
            },
            "type": "scatterpolargl"
           }
          ],
          "scatterternary": [
           {
            "marker": {
             "colorbar": {
              "outlinewidth": 0,
              "ticks": ""
             }
            },
            "type": "scatterternary"
           }
          ],
          "surface": [
           {
            "colorbar": {
             "outlinewidth": 0,
             "ticks": ""
            },
            "colorscale": [
             [
              0,
              "#0d0887"
             ],
             [
              0.1111111111111111,
              "#46039f"
             ],
             [
              0.2222222222222222,
              "#7201a8"
             ],
             [
              0.3333333333333333,
              "#9c179e"
             ],
             [
              0.4444444444444444,
              "#bd3786"
             ],
             [
              0.5555555555555556,
              "#d8576b"
             ],
             [
              0.6666666666666666,
              "#ed7953"
             ],
             [
              0.7777777777777778,
              "#fb9f3a"
             ],
             [
              0.8888888888888888,
              "#fdca26"
             ],
             [
              1,
              "#f0f921"
             ]
            ],
            "type": "surface"
           }
          ],
          "table": [
           {
            "cells": {
             "fill": {
              "color": "#EBF0F8"
             },
             "line": {
              "color": "white"
             }
            },
            "header": {
             "fill": {
              "color": "#C8D4E3"
             },
             "line": {
              "color": "white"
             }
            },
            "type": "table"
           }
          ]
         },
         "layout": {
          "annotationdefaults": {
           "arrowcolor": "#2a3f5f",
           "arrowhead": 0,
           "arrowwidth": 1
          },
          "coloraxis": {
           "colorbar": {
            "outlinewidth": 0,
            "ticks": ""
           }
          },
          "colorscale": {
           "diverging": [
            [
             0,
             "#8e0152"
            ],
            [
             0.1,
             "#c51b7d"
            ],
            [
             0.2,
             "#de77ae"
            ],
            [
             0.3,
             "#f1b6da"
            ],
            [
             0.4,
             "#fde0ef"
            ],
            [
             0.5,
             "#f7f7f7"
            ],
            [
             0.6,
             "#e6f5d0"
            ],
            [
             0.7,
             "#b8e186"
            ],
            [
             0.8,
             "#7fbc41"
            ],
            [
             0.9,
             "#4d9221"
            ],
            [
             1,
             "#276419"
            ]
           ],
           "sequential": [
            [
             0,
             "#0d0887"
            ],
            [
             0.1111111111111111,
             "#46039f"
            ],
            [
             0.2222222222222222,
             "#7201a8"
            ],
            [
             0.3333333333333333,
             "#9c179e"
            ],
            [
             0.4444444444444444,
             "#bd3786"
            ],
            [
             0.5555555555555556,
             "#d8576b"
            ],
            [
             0.6666666666666666,
             "#ed7953"
            ],
            [
             0.7777777777777778,
             "#fb9f3a"
            ],
            [
             0.8888888888888888,
             "#fdca26"
            ],
            [
             1,
             "#f0f921"
            ]
           ],
           "sequentialminus": [
            [
             0,
             "#0d0887"
            ],
            [
             0.1111111111111111,
             "#46039f"
            ],
            [
             0.2222222222222222,
             "#7201a8"
            ],
            [
             0.3333333333333333,
             "#9c179e"
            ],
            [
             0.4444444444444444,
             "#bd3786"
            ],
            [
             0.5555555555555556,
             "#d8576b"
            ],
            [
             0.6666666666666666,
             "#ed7953"
            ],
            [
             0.7777777777777778,
             "#fb9f3a"
            ],
            [
             0.8888888888888888,
             "#fdca26"
            ],
            [
             1,
             "#f0f921"
            ]
           ]
          },
          "colorway": [
           "#636efa",
           "#EF553B",
           "#00cc96",
           "#ab63fa",
           "#FFA15A",
           "#19d3f3",
           "#FF6692",
           "#B6E880",
           "#FF97FF",
           "#FECB52"
          ],
          "font": {
           "color": "#2a3f5f"
          },
          "geo": {
           "bgcolor": "white",
           "lakecolor": "white",
           "landcolor": "#E5ECF6",
           "showlakes": true,
           "showland": true,
           "subunitcolor": "white"
          },
          "hoverlabel": {
           "align": "left"
          },
          "hovermode": "closest",
          "mapbox": {
           "style": "light"
          },
          "paper_bgcolor": "white",
          "plot_bgcolor": "#E5ECF6",
          "polar": {
           "angularaxis": {
            "gridcolor": "white",
            "linecolor": "white",
            "ticks": ""
           },
           "bgcolor": "#E5ECF6",
           "radialaxis": {
            "gridcolor": "white",
            "linecolor": "white",
            "ticks": ""
           }
          },
          "scene": {
           "xaxis": {
            "backgroundcolor": "#E5ECF6",
            "gridcolor": "white",
            "gridwidth": 2,
            "linecolor": "white",
            "showbackground": true,
            "ticks": "",
            "zerolinecolor": "white"
           },
           "yaxis": {
            "backgroundcolor": "#E5ECF6",
            "gridcolor": "white",
            "gridwidth": 2,
            "linecolor": "white",
            "showbackground": true,
            "ticks": "",
            "zerolinecolor": "white"
           },
           "zaxis": {
            "backgroundcolor": "#E5ECF6",
            "gridcolor": "white",
            "gridwidth": 2,
            "linecolor": "white",
            "showbackground": true,
            "ticks": "",
            "zerolinecolor": "white"
           }
          },
          "shapedefaults": {
           "line": {
            "color": "#2a3f5f"
           }
          },
          "ternary": {
           "aaxis": {
            "gridcolor": "white",
            "linecolor": "white",
            "ticks": ""
           },
           "baxis": {
            "gridcolor": "white",
            "linecolor": "white",
            "ticks": ""
           },
           "bgcolor": "#E5ECF6",
           "caxis": {
            "gridcolor": "white",
            "linecolor": "white",
            "ticks": ""
           }
          },
          "title": {
           "x": 0.05
          },
          "xaxis": {
           "automargin": true,
           "gridcolor": "white",
           "linecolor": "white",
           "ticks": "",
           "title": {
            "standoff": 15
           },
           "zerolinecolor": "white",
           "zerolinewidth": 2
          },
          "yaxis": {
           "automargin": true,
           "gridcolor": "white",
           "linecolor": "white",
           "ticks": "",
           "title": {
            "standoff": 15
           },
           "zerolinecolor": "white",
           "zerolinewidth": 2
          }
         }
        },
        "width": 800
       }
      },
      "text/html": [
       "<div>\n",
       "        \n",
       "        \n",
       "            <div id=\"72c9028d-887a-491b-bd79-eb1adb4f97d5\" class=\"plotly-graph-div\" style=\"height:525px; width:800px;\"></div>\n",
       "            <script type=\"text/javascript\">\n",
       "                require([\"plotly\"], function(Plotly) {\n",
       "                    window.PLOTLYENV=window.PLOTLYENV || {};\n",
       "                    \n",
       "                if (document.getElementById(\"72c9028d-887a-491b-bd79-eb1adb4f97d5\")) {\n",
       "                    Plotly.newPlot(\n",
       "                        '72c9028d-887a-491b-bd79-eb1adb4f97d5',\n",
       "                        [{\"customdata\": [[\"Scrypt\"], [\"Scrypt\"], [\"X13\"], [\"X11\"], [\"SHA-512\"], [\"SHA-256\"], [\"SHA-256\"], [\"X15\"], [\"Scrypt\"], [\"Scrypt\"], [\"Scrypt\"], [\"Scrypt\"], [\"Scrypt\"], [\"Scrypt\"], [\"Groestl\"], [\"PoS\"], [\"Scrypt\"], [\"Scrypt\"], [\"X11\"], [\"X11\"], [\"SHA3\"], [\"Scrypt\"], [\"SHA-256\"], [\"Scrypt\"], [\"X13\"], [\"X13\"], [\"NeoScrypt\"], [\"Scrypt\"], [\"Scrypt\"], [\"Scrypt\"], [\"X11\"], [\"X11\"], [\"Multiple\"], [\"PHI1612\"], [\"X11\"], [\"Scrypt\"], [\"Scrypt\"], [\"Scrypt\"], [\"X11\"], [\"Multiple\"], [\"X13\"], [\"Scrypt\"], [\"Counterparty\"], [\"SHA-256\"], [\"Groestl\"], [\"Scrypt\"], [\"X13\"], [\"Scrypt\"], [\"Scrypt\"], [\"X13\"], [\"X11\"], [\"Scrypt\"], [\"X11\"], [\"SHA3\"], [\"QUAIT\"], [\"X11\"], [\"Scrypt\"], [\"X13\"], [\"SHA-256\"], [\"X15\"], [\"BLAKE256\"], [\"SHA-256\"], [\"X11\"], [\"SHA-256\"], [\"NIST5\"], [\"Scrypt\"], [\"Scrypt\"], [\"X11\"], [\"Scrypt\"], [\"SHA-256\"], [\"Scrypt\"], [\"PoS\"], [\"X11\"], [\"SHA-256\"], [\"SHA-256\"], [\"NIST5\"], [\"X11\"], [\"POS 3.0\"], [\"Scrypt\"], [\"Scrypt\"], [\"Scrypt\"], [\"X13\"], [\"X11\"], [\"X11\"], [\"Scrypt\"], [\"SHA-256\"], [\"X11\"], [\"Scrypt\"], [\"Scrypt\"], [\"Scrypt\"], [\"Scrypt\"], [\"SHA-256D\"], [\"PoS\"], [\"Scrypt\"], [\"X11\"], [\"PoS\"], [\"X13\"], [\"X14\"], [\"PoS\"], [\"SHA-256D\"], [\"DPoS\"], [\"X11\"], [\"X13\"], [\"X11\"], [\"PoS\"], [\"Scrypt\"], [\"Scrypt\"], [\"PoS\"], [\"X11\"], [\"SHA-256\"], [\"Scrypt\"], [\"X11\"], [\"Scrypt\"], [\"Scrypt\"], [\"X11\"], [\"Scrypt\"], [\"Scrypt\"], [\"Scrypt\"], [\"Scrypt\"], [\"Quark\"], [\"QuBit\"], [\"Scrypt\"], [\"SHA-256\"], [\"X11\"], [\"Scrypt\"], [\"Scrypt\"], [\"Scrypt\"], [\"Scrypt\"], [\"X13\"], [\"Scrypt\"], [\"Scrypt\"], [\"X11\"], [\"Blake2S\"], [\"X11\"], [\"PoS\"], [\"X11\"], [\"PoS\"], [\"X11\"], [\"Scrypt\"], [\"Scrypt\"], [\"Scrypt\"], [\"SHA-256\"], [\"X11\"], [\"Scrypt\"], [\"PoS\"], [\"Scrypt\"], [\"X15\"], [\"SHA-256\"], [\"POS 3.0\"], [\"536\"], [\"NIST5\"], [\"NIST5\"], [\"Skein\"], [\"X13\"], [\"Scrypt\"], [\"X13\"], [\"SkunkHash v2 Raptor\"], [\"Skein\"], [\"X11\"], [\"Scrypt\"], [\"VeChainThor Authority\"], [\"PoS\"], [\"Scrypt\"], [\"Scrypt\"], [\"SHA-512\"], [\"Ouroboros\"], [\"X11\"], [\"NeoScrypt\"], [\"Scrypt\"], [\"Lyra2REv2\"], [\"Scrypt\"], [\"SHA-256\"], [\"NIST5\"], [\"PHI1612\"], [\"Scrypt\"], [\"Quark\"], [\"POS 2.0\"], [\"Scrypt\"], [\"SHA-256\"], [\"X11\"], [\"DPoS\"], [\"NIST5\"], [\"X13\"], [\"Scrypt\"], [\"NIST5\"], [\"Quark\"], [\"Scrypt\"], [\"Scrypt\"], [\"X11\"], [\"Quark\"], [\"Scrypt\"], [\"Scrypt\"], [\"X11\"], [\"POS 3.0\"], [\"Ethash\"], [\"Scrypt\"], [\"Scrypt\"], [\"X13\"], [\"SHA-256 + Hive\"], [\"C11\"], [\"Proof-of-Authority\"], [\"X11\"], [\"XEVAN\"], [\"Scrypt\"], [\"VBFT\"], [\"NIST5\"], [\"Scrypt\"], [\"Scrypt\"], [\"Scrypt\"], [\"Green Protocol\"], [\"PoS\"], [\"Scrypt\"], [\"Semux BFT consensus\"], [\"Quark\"], [\"PoS\"], [\"X16R\"], [\"Scrypt\"], [\"XEVAN\"], [\"Scrypt\"], [\"Scrypt\"], [\"Scrypt\"], [\"SHA-256D\"], [\"Scrypt\"], [\"X15\"], [\"Scrypt\"], [\"Quark\"], [\"SHA-256\"], [\"DPoS\"], [\"X16R\"], [\"Quark\"], [\"Quark\"], [\"Scrypt\"], [\"Lyra2REv2\"], [\"Quark\"], [\"Scrypt\"], [\"X11\"], [\"X11\"], [\"Scrypt\"], [\"PoS\"], [\"Keccak\"], [\"X11\"], [\"Scrypt\"], [\"SHA-512\"], [\"XEVAN\"], [\"XEVAN\"], [\"X11\"], [\"Quark\"], [\"Equihash\"], [\"Scrypt\"], [\"Quark\"], [\"Quark\"], [\"Scrypt\"], [\"X11\"], [\"Scrypt\"], [\"XEVAN\"], [\"SHA-256D\"], [\"X11\"], [\"X11\"], [\"DPoS\"], [\"Scrypt\"], [\"X11\"], [\"Scrypt\"], [\"Scrypt\"], [\"SHA-256\"], [\"Scrypt\"], [\"X11\"], [\"Scrypt\"], [\"SHA-256\"], [\"X11\"], [\"Scrypt\"], [\"Scrypt\"], [\"X11\"], [\"Scrypt\"], [\"PoS\"], [\"X11\"], [\"SHA-256\"], [\"DPoS\"], [\"Scrypt\"], [\"Scrypt\"], [\"NeoScrypt\"], [\"X13\"], [\"DPoS\"], [\"DPoS\"], [\"SHA-256\"], [\"PoS\"], [\"PoS\"], [\"SHA-256\"], [\"Scrypt\"], [\"Scrypt\"]], \"hovertemplate\": \"<b>%{hovertext}</b><br><br>class=%{marker.color}<br>PC 1=%{x}<br>PC 2=%{y}<br>PC 3=%{z}<br>Algorithm=%{customdata[0]}<extra></extra>\", \"hovertext\": [\"42 Coin\", \"404Coin\", \"EliteCoin\", \"Dash\", \"Bitshares\", \"BitcoinDark\", \"PayCoin\", \"KoboCoin\", \"Aurora Coin\", \"BlueCoin\", \"EnergyCoin\", \"BitBar\", \"CryptoBullion\", \"CasinoCoin\", \"Diamond\", \"Exclusive Coin\", \"FlutterCoin\", \"HoboNickels\", \"HyperStake\", \"IOCoin\", \"MaxCoin\", \"MintCoin\", \"MazaCoin\", \"Nautilus Coin\", \"NavCoin\", \"OpalCoin\", \"Orbitcoin\", \"PotCoin\", \"PhoenixCoin\", \"Reddcoin\", \"SuperCoin\", \"SyncCoin\", \"TeslaCoin\", \"TittieCoin\", \"TorCoin\", \"UnitaryStatus Dollar\", \"UltraCoin\", \"VeriCoin\", \"X11 Coin\", \"Crypti\", \"StealthCoin\", \"ZCC Coin\", \"StorjCoin\", \"Neutron\", \"FairCoin\", \"RubyCoin\", \"Kore\", \"Dnotes\", \"8BIT Coin\", \"Sativa Coin\", \"Ucoin\", \"Vtorrent\", \"IslaCoin\", \"Nexus\", \"Droidz\", \"Squall Coin\", \"Diggits\", \"Paycon\", \"Emercoin\", \"EverGreenCoin\", \"Decred\", \"EDRCoin\", \"Hitcoin\", \"DubaiCoin\", \"PWR Coin\", \"BillaryCoin\", \"GPU Coin\", \"EuropeCoin\", \"ZeitCoin\", \"SwingCoin\", \"SafeExchangeCoin\", \"Nebuchadnezzar\", \"Ratecoin\", \"Revenu\", \"Clockcoin\", \"VIP Tokens\", \"BitSend\", \"Let it Ride\", \"PutinCoin\", \"iBankCoin\", \"Frankywillcoin\", \"MudraCoin\", \"Lutetium Coin\", \"GoldBlocks\", \"CarterCoin\", \"BitTokens\", \"MustangCoin\", \"ZoneCoin\", \"RootCoin\", \"BitCurrency\", \"Swiscoin\", \"BuzzCoin\", \"Opair\", \"PesoBit\", \"Halloween Coin\", \"CoffeeCoin\", \"RoyalCoin\", \"GanjaCoin V2\", \"TeamUP\", \"LanaCoin\", \"ARK\", \"InsaneCoin\", \"EmberCoin\", \"XenixCoin\", \"FreeCoin\", \"PLNCoin\", \"AquariusCoin\", \"Creatio\", \"Eternity\", \"Eurocoin\", \"BitcoinFast\", \"Stakenet\", \"BitConnect Coin\", \"MoneyCoin\", \"Enigma\", \"Russiacoin\", \"PandaCoin\", \"GameUnits\", \"GAKHcoin\", \"Allsafe\", \"LiteCreed\", \"Klingon Empire Darsek\", \"Internet of People\", \"KushCoin\", \"Printerium\", \"Impeach\", \"Zilbercoin\", \"FirstCoin\", \"FindCoin\", \"OpenChat\", \"RenosCoin\", \"VirtacoinPlus\", \"TajCoin\", \"Impact\", \"Atmos\", \"HappyCoin\", \"MacronCoin\", \"Condensate\", \"Independent Money System\", \"ArgusCoin\", \"LomoCoin\", \"ProCurrency\", \"GoldReserve\", \"GrowthCoin\", \"Phreak\", \"Degas Coin\", \"HTML5 Coin\", \"Ultimate Secure Cash\", \"QTUM\", \"Espers\", \"Denarius\", \"Virta Unique Coin\", \"Bitcoin Planet\", \"BritCoin\", \"Linda\", \"DeepOnion\", \"Signatum\", \"Cream\", \"Monoeci\", \"Draftcoin\", \"Vechain\", \"Stakecoin\", \"CoinonatX\", \"Ethereum Dark\", \"Obsidian\", \"Cardano\", \"Regalcoin\", \"TrezarCoin\", \"TerraNovaCoin\", \"Rupee\", \"WomenCoin\", \"Theresa May Coin\", \"NamoCoin\", \"LUXCoin\", \"Xios\", \"Bitcloud 2.0\", \"KekCoin\", \"BlackholeCoin\", \"Infinity Economics\", \"Magnet\", \"Lamden Tau\", \"Electra\", \"Bitcoin Diamond\", \"Cash & Back Coin\", \"Bulwark\", \"Kalkulus\", \"GermanCoin\", \"LiteCoin Ultra\", \"PhantomX\", \"Digiwage\", \"Trollcoin\", \"Litecoin Plus\", \"Monkey Project\", \"TokenPay\", \"1717 Masonic Commemorative Token\", \"My Big Coin\", \"Unified Society USDEX\", \"Tokyo Coin\", \"LitecoinCash\", \"Stipend\", \"Poa Network\", \"Pushi\", \"Ellerium\", \"Velox\", \"Ontology\", \"Bitspace\", \"Briacoin\", \"Ignition\", \"MedicCoin\", \"Bitcoin Green\", \"Deviant Coin\", \"Abjcoin\", \"Semux\", \"Carebit\", \"Zealium\", \"Proton\", \"iDealCash\", \"Bitcoin Incognito\", \"HollyWoodCoin\", \"Swisscoin\", \"Xt3ch\", \"TheVig\", \"EmaratCoin\", \"Dekado\", \"Lynx\", \"Poseidon Quark\", \"BitcoinWSpectrum\", \"Muse\", \"Trivechain\", \"Dystem\", \"Giant\", \"Peony Coin\", \"Absolute Coin\", \"Vitae\", \"TPCash\", \"ARENON\", \"EUNO\", \"MMOCoin\", \"Ketan\", \"XDNA\", \"PAXEX\", \"ThunderStake\", \"Kcash\", \"Bettex coin\", \"BitMoney\", \"Junson Ming Chan Coin\", \"HerbCoin\", \"PirateCash\", \"Oduwa\", \"Galilel\", \"Crypto Sports\", \"Credit\", \"Dash Platinum\", \"Nasdacoin\", \"Beetle Coin\", \"Titan Coin\", \"Award\", \"Insane Coin\", \"ALAX\", \"LiteDoge\", \"TruckCoin\", \"OrangeCoin\", \"BitstarCoin\", \"NeosCoin\", \"HyperCoin\", \"PinkCoin\", \"AudioCoin\", \"IncaKoin\", \"Piggy Coin\", \"Genstake\", \"XiaoMiCoin\", \"CapriCoin\", \" ClubCoin\", \"Radium\", \"Creditbit \", \"OKCash\", \"Lisk\", \"HiCoin\", \"WhiteCoin\", \"FriendshipCoin\", \"Triangles Coin\", \"EOS\", \"Oxycoin\", \"TigerCash\", \"Particl\", \"Nxt\", \"ZEPHYR\", \"Gapcoin\", \"BitcoinPlus\"], \"legendgroup\": \"0\", \"marker\": {\"color\": [0, 0, 0, 0, 0, 0, 0, 0, 0, 0, 0, 0, 0, 0, 0, 0, 0, 0, 0, 0, 0, 0, 0, 0, 0, 0, 0, 0, 0, 0, 0, 0, 0, 0, 0, 0, 0, 0, 0, 0, 0, 0, 0, 0, 0, 0, 0, 0, 0, 0, 0, 0, 0, 0, 0, 0, 0, 0, 0, 0, 0, 0, 0, 0, 0, 0, 0, 0, 0, 0, 0, 0, 0, 0, 0, 0, 0, 0, 0, 0, 0, 0, 0, 0, 0, 0, 0, 0, 0, 0, 0, 0, 0, 0, 0, 0, 0, 0, 0, 0, 0, 0, 0, 0, 0, 0, 0, 0, 0, 0, 0, 0, 0, 0, 0, 0, 0, 0, 0, 0, 0, 0, 0, 0, 0, 0, 0, 0, 0, 0, 0, 0, 0, 0, 0, 0, 0, 0, 0, 0, 0, 0, 0, 0, 0, 0, 0, 0, 0, 0, 0, 0, 0, 0, 0, 0, 0, 0, 0, 0, 0, 0, 0, 0, 0, 0, 0, 0, 0, 0, 0, 0, 0, 0, 0, 0, 0, 0, 0, 0, 0, 0, 0, 0, 0, 0, 0, 0, 0, 0, 0, 0, 0, 0, 0, 0, 0, 0, 0, 0, 0, 0, 0, 0, 0, 0, 0, 0, 0, 0, 0, 0, 0, 0, 0, 0, 0, 0, 0, 0, 0, 0, 0, 0, 0, 0, 0, 0, 0, 0, 0, 0, 0, 0, 0, 0, 0, 0, 0, 0, 0, 0, 0, 0, 0, 0, 0, 0, 0, 0, 0, 0, 0, 0, 0, 0, 0, 0, 0, 0, 0, 0, 0, 0, 0, 0, 0, 0, 0, 0, 0, 0, 0, 0, 0, 0, 0, 0, 0, 0, 0, 0, 0, 0, 0, 0, 0, 0, 0], \"coloraxis\": \"coloraxis\", \"symbol\": \"circle\"}, \"mode\": \"markers\", \"name\": \"0\", \"scene\": \"scene\", \"showlegend\": true, \"type\": \"scatter3d\", \"x\": [-0.3352941941528778, -0.31861202777933445, 2.3100919142285585, -0.39389344768272033, -0.26399354336967207, -0.3227340070614642, -0.27535341930756013, -0.24654607787401372, -0.3349533412338072, -0.3275230762793003, -0.3337891592974773, -0.3352901239925792, -0.3352743862913368, 0.6753633538105219, -0.3739551662044706, -0.3459173020660068, -0.28589885339398197, -0.3333504207085657, -0.32631500974052857, -0.3937880313033159, -0.41614186078676096, -0.027556257104063224, -0.2859916110623372, -0.2876643270077551, -0.27785901528651075, -0.278481888870827, -0.3450414600021302, -0.3295886973595811, -0.33369384084184256, 0.02322985772221258, -0.3462228595767934, -0.3941600875228958, -0.24410813083820052, -0.3099747323903294, -0.394071593082411, -0.31049345938775336, -0.33396978089014295, -0.29948525089816797, -0.39403604905617423, -0.24457676648347815, -0.2782625182083927, -0.326383835456889, -0.3276178508078065, -0.3219446969816877, -0.37337612865386255, -0.287644629629485, -0.2785573084815094, -0.2822909678916535, -0.335276243536381, -0.27850945080215467, -0.34666809982620284, -0.3350102620096294, -0.39414159669334686, -0.41448544952291744, -0.42428239282425684, -0.3578180324962438, -0.2860440626129894, -0.27803041830335895, -0.31527890057802915, -0.24899141718169562, -0.08237418949144754, -0.32270488994563806, -0.07115977177195897, -0.3227686980581648, -0.24054254522660162, -0.33488592240759435, -0.285912487483147, -0.3913062511257351, 0.867120515665872, -0.3225684303127028, -0.05633649981784879, -0.34560015814718215, -0.39198199163229147, -0.32130990755360705, -0.3189744520431957, -0.3620304496419131, -0.39287488683496824, -0.34827010980559997, -0.31114929195459223, -0.3349240515299635, -0.3333611665768129, -0.2298689022302149, -0.3341430085453115, -0.39361474239165495, -0.33412724682935074, -0.32274958808671145, -0.3941307648475353, -0.3351135081591305, -0.33527047047522734, -0.28590293078469015, -0.223255174097529, 0.039363921575274366, -0.34455590936674646, -0.33488421529993656, -0.3802724408946672, -0.3438839663145331, -0.2313018163785045, -0.42851063767343617, -0.34363160437106993, -0.2755474223986053, 3.7189761292493935, -0.39372276577753257, 0.8548695954739369, -0.3940856231173771, -0.345020249630802, -0.33481154031326554, -0.33496601751406335, -0.34560015814718215, -0.39365985240696016, -0.32261211834456743, -0.334812298866729, -0.3582726696558714, -0.33495986670309397, -0.3305407257115983, -0.39411464341063557, -0.3341692680237024, 0.35642256202428957, -0.3351594149588416, -0.3352300998220924, -0.3512031007857607, -0.3575405649757236, -0.3314508699138838, -0.3227259765948992, -0.39402448153439734, -0.3350076080657321, -0.3351346891102897, -0.2875508223436096, -0.28070116235650255, -0.23106937498269234, -0.3159639110854119, -0.28729175795618933, -0.3932890844090898, -0.4171412516034277, -0.3920260682624148, -0.3438444821714455, -0.3931868605830199, -0.33823726679742033, -0.38912192976889187, -0.3350779179385709, -0.33507707784861007, -0.3281876142324029, 0.2581757170227886, -0.39366608750729465, -0.27016670629880796, -0.3456344494587869, -0.33428743225567675, 0.8869507195593034, -0.27404169047950466, -0.3470468933615468, 0.59404599811775, -0.36356805491026767, -0.362068248787287, -0.4137929363825345, -0.2781941295787235, 0.13034695596612791, -0.27826502137057824, -0.3561496023886473, -0.4132972931592194, -0.39393888317113623, -0.2876252523344502, 4.408264545162916, -0.34550045610634467, -0.3347126176817099, -0.335213007772453, -0.3221335239122978, 0.6660945234532768, -0.3938795785849968, -0.34003379557803864, -0.33516852999101027, -0.31055451127731765, 0.4348679818212179, -0.32107016873909383, -0.34831392963392854, -0.3929360594832552, -0.33511879488933943, -0.39695965234403263, -0.3385006607185228, -0.3349890803683008, -0.10161632110180314, -0.39267048007448224, 3.7238388073566413, 0.19664033987744747, -0.27493156289459425, -0.332445868901145, -0.3160141628901972, -0.35108886298384584, 0.07979585087798945, -0.3341261573327227, -0.3932526133073289, -0.3502523122018797, -0.32167567504875405, -0.3352351636905641, -0.34663999538165746, -0.34855236093733305, -0.27353207231620386, -0.2896296034813824, -0.33077475979208576, -0.2228532578752591, -0.31196497351282654, -0.37002818991536757, -0.42855293821323026, -0.3939560852412647, -0.31821991572117175, -0.286783916630503, -0.31806877656059174, -0.3631664285667567, -0.33526255157067614, -0.3352442351134104, -0.2811578561411666, -0.35639855927728026, -0.3450943761554176, -0.3349603442437376, 3.90832522907756, -0.39562625917872707, -0.34528327821642196, -0.31718634678837077, -0.28175336427116016, -0.2820305453700573, -0.28731910165221186, -0.1381252993955371, -0.2875713569927411, -0.34096162748627556, -0.3344335998412592, -0.20101710537561787, 2.242361212321344, -0.34678971600874253, -0.27416994950966284, 1.01853619096919, -0.3638391472832342, -0.3512025120691876, -0.3986463734015839, -0.1681084842806575, -0.3577997121068878, -0.3499203647324777, -0.32812764162009533, -0.3462168168331569, -0.39342876045462544, -0.2848130373892149, -0.34438159687945563, -0.34873569873542615, -0.3460778675563245, -0.19452276459362383, -0.3020925772350197, -0.2708959353467687, 0.5147224635782651, -0.13636876909863635, -0.3979400554226234, -0.2519892931255293, -0.33496435844205324, -0.39839679995921484, -0.35131964394252624, 0.5728134733672025, -0.34669437349254445, -0.3344464755339455, -0.31266786111055944, -0.2956135078943501, -0.39098932670927283, -0.3936563193743281, 3.7360955631002124, 0.1005693106727961, -0.3911934718458683, -0.33383084309914623, -0.33465730400349714, -0.2753860495920137, -0.3351764071411696, -0.38527335067059915, -0.2487451234288944, -0.10215731807146536, -0.3810151697731272, -0.3344538988940354, -0.32750929170244814, -0.39022056303919683, -0.3328908437408694, -0.3458761264921929, -0.3780620594077727, -0.3212471562584243, 3.71936850099131, -0.09460852271947978, -0.3300820730185722, -0.34466669234741826, -0.27866467470677286, 3.729246353056117, 3.7304918103357916, -0.25625859201417867, -0.3458119263254877, -0.3380447921065268, 2.461651690061779, -0.33333647453105986, -0.28796842111928256], \"y\": [0.9825593502699098, 0.983039592685394, 1.794014034935406, 1.3137710219073089, 1.6606857859059971, 0.833089292835059, 0.6386395634516728, 1.8882841405617863, 0.9825652802205405, 0.9829461796921111, 0.9826342676686933, 0.9825592238038675, 0.9825596780950656, -0.1887453043053017, 1.0016616923673274, 1.659894196192754, 0.06485903077419526, 0.982577123738665, 1.120334925139292, 1.313776269306058, 2.618429195467874, 0.8010633922748513, 0.8333404248605989, 0.7881051270571565, 1.8719694698288094, 1.871938464532606, 0.5761206168711324, 0.9825669157052092, 0.9825745093165449, 1.0004059000703232, 1.1193439555485118, 1.3137722287834697, 0.17215871307925978, 1.6313138004489678, 1.3137700525542035, 0.9827407652823272, 0.9825594572296124, 0.03151479667716888, 1.3137747837357014, 0.17220120490107757, 1.8719493843284334, 0.982344693750467, 1.5916110624969895, 0.8330983060146178, 1.0016933984944107, 0.7881167571430737, 1.8719268119693988, 0.7880541533743607, 0.9825602438403145, 1.8719305106106467, 1.1193086285569036, 0.9825603199263008, 1.3137731498750582, 3.6289079422330563, 1.9125640767966396, 0.8684854644564297, 0.7881306104100998, 1.8719280280143964, 0.8328166772761705, 1.8883754758730067, 0.9848106948804335, 0.8330907422219388, 1.3123754106297796, 0.8330951352335872, 1.5474321715831143, 0.9825520289946944, 0.7880574837122312, 1.3136615403948317, 0.7804371687090343, 0.8330856873787027, -0.20025340375933467, 1.6598968190316628, 1.3138312857155379, 0.8330280652530111, 0.8329453633063418, 1.541325529632496, 1.3137447148565033, 1.5517898246313127, 0.9824448414078044, 0.9825485952218417, 0.98258975273023, 1.677412189465927, 1.119512830299757, 1.313766465795654, 0.9825582008654454, 0.8330891754402922, 1.3137717144762149, 0.9825545223620087, 0.9825605312107784, 0.7882034551343523, 0.15949828211697165, 2.0233449568202206, 1.659913256947822, 0.9825797581557344, 1.3134762340540624, 1.6599690835087473, 1.6774708555141897, 1.9182662231782526, 1.6598098566084112, 2.0158928398837745, 1.3875439190287446, 1.3137742525233576, 1.927794777881537, 1.3137733998783288, 1.6599059397735887, 0.9825580089283196, 0.9825480420339961, 1.6598968190316628, 1.313757638368131, 0.833096676580805, 0.9825616175688038, 1.0314693499749048, 0.9825575629363347, 0.9823677066776065, 1.313771200576623, 0.9825205666180492, 0.7987758733606506, 0.9825575027801097, 0.9825603583389998, 1.5715337583323603, 0.608744951264948, 0.9824215652036121, 0.8330903507691482, 1.313772822858785, 0.9825604520338724, 0.9825528537051936, 0.7880852259479734, 0.22219546072993737, 1.6774745113287264, 0.9828633749880336, 0.7881116630343736, 1.3137497665998177, 1.970281933429977, 1.3138060548557102, 1.6599247843388254, 1.3137548550801872, 1.6600132137411183, 1.3136939205688691, 0.982556154349048, 0.9825513335027788, 0.9822549055548689, 0.6158410982980301, 1.313770491895941, 0.7876703805039422, 1.6598885301357464, 0.9825403542591296, 1.8856999820154972, 0.6385813915081491, 1.5518069437336528, 2.0576824187666167, 1.5413016465671643, 1.5413039022266408, 1.9918684963725202, 1.871933042719731, 0.9728282129606426, 1.8719368210361316, 1.438061658132599, 1.9918931684172774, 1.313776982877484, 0.7881062652343443, 2.418140281122413, 1.659874401099097, 0.9825565406937196, 0.9825606271610111, 1.6601014290925635, 1.6386573902359765, 1.3137684213065188, 0.5761090909891106, 0.9825552499877926, 0.7759190192332622, 1.0044414811922022, 0.8331207758978166, 1.541277711935715, 1.8254730071724288, 0.9825542592000442, 1.7659488155142398, 1.6408809230823866, 0.9825648046325233, 0.6413722929413878, 1.3137515988073487, 1.387539149519585, 1.5494483411134232, 1.8719769711355114, 0.9825629128268202, 1.346842630382833, 1.5715361538679968, 0.9703118885793196, 0.9825187634054776, 1.313784491796124, 1.5715119760637875, 0.982644875252928, 0.9825596559264329, 1.1193093693403244, 1.5517813694385652, -0.040091137943435474, 0.24374373695878887, 0.9826316167268014, 1.6773664960996484, 2.8555882792216516, 0.9272827921754286, 1.1874901874839543, 1.3137659293608472, 1.3927709548400165, 0.788077985404528, 1.6131515906613882, 1.5412953108603744, 0.982558950812036, 0.9825585461757973, 0.7881105572199254, 1.5353188508861624, 1.6598772385105454, 0.9825562227756387, 1.3194553201218553, 1.766015188934284, 1.6598731009346526, 0.7211284306254762, 0.9818532546312052, 0.9475022591430474, 0.788115848152954, 0.9856604025122412, 0.7880914439213432, 2.01751125389276, 0.9825469004461739, 1.6939071196037903, 0.13300071382220424, 1.571335493307032, 0.6386407093777149, 1.444774671778205, 0.915595927575467, 1.5715298384681204, 1.7659931028119809, 0.7829566776615101, 0.9703629821814257, 1.5715416635865038, 0.9822578908614471, 1.1193080556248332, 1.3137757235731415, 0.7880865769953616, 1.6598324193418486, 0.8531335029467761, 1.1192853534489353, 0.977719138946505, 1.89027145014303, 1.1983187367614816, 0.8411332101984442, 1.1297900370628489, 1.765996109627535, -0.01084613343857134, 0.9825619467114647, 1.7659963870014548, 1.5715290299244162, 0.9785300036195179, 1.1193075181692367, 0.9825462595221156, 1.3927577183310034, 2.016543430032098, 1.3136536211893224, 1.313777560081207, 1.387820166799768, 0.9812188695433536, 1.3139199011363805, 0.9825005537636226, 0.982555342208283, 0.6386323445304053, 0.982565213479553, 1.3138854944899854, 0.9799565291088629, 0.8439585453095707, 1.3137683600608043, 0.9825913054500082, 0.9826835879068055, 1.313831425891977, 0.9825736726882695, 1.6598903220696095, 0.9404990753289971, 0.8331086748685407, 1.3875404673310563, 0.7911379115475919, 0.9826213399203801, 0.5761021510219961, 1.8719292868667134, 1.388137422856742, 1.3881994190191078, 0.6389400951003388, 1.6598937586218556, 1.920706137132191, 0.5819911563058306, 0.9824922526148508, 0.7880999813100372], \"z\": [-0.5300207105743286, -0.530155753572076, -0.49841242280598635, -0.39241605469517093, -0.008110923208590222, -0.2845956275061991, -0.008193749037139781, -0.5995859144576642, -0.530022656784642, -0.5301177758725497, -0.5300395092459893, -0.5300206925031937, -0.5300208201599078, -0.7575278466395978, -0.2870430737565026, -0.019733704592458826, -0.31669274217986354, -0.5300284496378367, -0.11626818073320395, -0.39241737140041977, -0.0852085855290867, -0.2568695210366948, -0.2847241513998771, -0.2536184062482712, -0.509388356275354, -0.5093805762612563, -0.2573360148775909, -0.5300340863116807, -0.5300271924170588, -0.5344988619227525, -0.11601952136430821, -0.392415756362242, 0.10739814823440155, -0.18934197165788327, -0.3924154835348067, -0.5301099555437712, -0.5300234701214052, -0.3622445243685201, -0.39241654773615275, 0.10739021866943133, -0.5093833163145983, -0.5299941749090517, -0.12526255472436373, -0.2845991461875202, -0.28705090993414956, -0.2536208823790171, -0.5093779802631392, -0.25361883705449684, -0.5300209347926264, -0.509378853691718, -0.11601120346924201, -0.530021500426393, -0.3924159874601232, 0.6871309827818097, -0.6577109743062677, -0.12424595771989357, -0.2536270912239064, -0.5093793238291724, -0.28455394725507666, -0.5995999869657802, -0.3312488507578247, -0.2845959911940764, -0.3927907936087583, -0.2845967792503897, -0.47508539224982105, -0.530020021217718, -0.25361204989987524, -0.39239847541858336, -0.2543992613711401, -0.284595214693562, -0.7536057737729338, -0.019734909271036057, -0.39243262474691754, -0.28458574918593094, -0.28457325747001283, -0.4735555405581453, -0.39241265085975, -0.09138193017794657, -0.5300466315860116, -0.5300192233603497, -0.5300310720298129, -0.23296521556760366, -0.11607985021681029, -0.39241567660997423, -0.5300228815968828, -0.2845955707217859, -0.3924157092634784, -0.5300200729977688, -0.5300210069011543, -0.25364263710085394, -0.5168500596608301, -0.6347354477494934, -0.019740509623564544, -0.5300258314286103, -0.3923824744004631, -0.019753588797677153, -0.23297453926743256, -0.636443525416173, -0.019720767109727696, -0.6325240981649846, -0.492683932498397, -0.3924170839553064, -0.5234195679985327, -0.3924161554924958, -0.019738017708986897, -0.5300214271827773, -0.5300190207883, -0.019734909271036057, -0.39241373485576664, -0.2845974256208306, -0.5300221812899747, -0.05336311765549282, -0.5300210272445295, -0.5299904029840006, -0.3924156349672417, -0.5300149138740741, -0.25718406277109074, -0.5300206022434104, -0.5300210541341216, -0.16323621039833475, -0.15648781104135018, -0.5299998003569578, -0.28459586564156353, -0.3924161610210884, -0.5300215335755287, -0.5300196797947891, -0.25361447339369664, -0.368938467762403, -0.23297578520474113, -0.5301243251683445, -0.25362054491219665, -0.3924128527134571, -0.6047808550602213, -0.3924272501334217, -0.01974439383895942, -0.39241412954205934, -0.01977449994704196, -0.3924097703671705, -0.5300204883013011, -0.5300194805181316, -0.5299716447766845, -0.004522227113165327, -0.39241641358957396, -0.2535635293612831, -0.019733102648047857, -0.5300188133377511, -0.6013873575399886, -0.00818427835410107, -0.09138804304600613, -0.5728223723835199, -0.473547361524699, -0.4735509335070509, -0.5470741634891297, -0.5093800356038841, -0.5289452764223056, -0.5093806802989014, -0.007109834439378932, -0.547080354330035, -0.3924172090635927, -0.25361872534579766, 6.2947218039588995, -0.019730420850093206, -0.5300213241662596, -0.5300211457512893, -0.00786839755225986, -0.016460669776893776, -0.39241553877403307, -0.2573439505560375, -0.5300201116548061, 0.00657071261099906, -0.5361946687681973, -0.28460565891730044, -0.47357387496045567, -0.46560947833711575, -0.5300200069637665, -0.4396341846387513, 0.1413345792022633, -0.5300224833315011, -0.009125062329456656, -0.392414514852835, -0.49269298336772444, -0.4764111130470591, -0.509395977232779, -0.5300273431985247, -0.19714389649954991, -0.1632369481343647, -0.5283138669033677, -0.5300146253649293, -0.39242019979004183, -0.163233614020257, -0.530066765341475, -0.5300208965785166, -0.11601141667765766, -0.09137957627564651, 0.1006886722055741, -0.3202225726666807, -0.5300451839431654, -0.23297014620067524, 0.3054909004358091, -0.2997051818398567, -0.3158648735260496, -0.3924148588275632, -0.3720254507475281, -0.2536145421273982, 0.026780956397702987, -0.4735468648191302, -0.5300206923203622, -0.5300206454410682, -0.2536329902079052, 0.01118862379003396, -0.01973185426470868, -0.5300207456184548, -0.352173566141859, -0.4396508394108989, -0.019730597425377, -0.044126066924508815, -0.529983501332637, -0.10385912025278213, -0.2536213647947989, -0.5310775794733285, -0.2536157330426737, -0.6327278147771428, -0.530019882072919, -0.3231954349371788, -0.40411013195979467, -0.1632038133861893, -0.008196434864968224, -0.3051385690143787, -0.320533170157104, -0.163235390767677, -0.43963997278663575, -0.25278736908062277, -0.26983023812818696, -0.16324051682974552, -0.5299723938657147, -0.11601201615433918, -0.3924179996208204, -0.2536204144598243, -0.019723941905513076, -0.3843698401371619, -0.11600754932261872, -0.5292980666415179, 0.1054590667821627, -0.09562293413827748, -0.01795325329548194, -0.11864070778713623, -0.4396420621739916, 0.14624696113874142, -0.5300219359550858, -0.4396411763096173, -0.16323497937786158, -0.5310537120224929, -0.11601091664672546, -0.5300197212488399, -0.37203415329320927, -0.6326188660151563, -0.39239747206470665, -0.3924179139053423, -0.49277716126736204, -0.5306407982724644, -0.39245281106839996, -0.5300114224592505, -0.530021187511029, -0.008192169907250949, -0.5300221818009789, -0.3924578411160254, -0.5296545313007754, -0.2873275891923756, -0.39244211266767987, -0.5300291388436037, -0.5300628157801859, -0.3924362944241407, -0.5300286767656173, -0.01973297842068072, 0.044294252562256296, -0.28460275909803534, -0.4926840205984006, -0.25465247892163156, -0.5300444634744926, -0.25733292252572143, -0.5093782766316898, -0.49282944175402427, -0.49284499816135574, -0.008296145544040758, -0.019733830740787276, 0.11190656046471195, -0.195936628616747, -0.5300107058454412, -0.25361670022471533]}, {\"customdata\": [[\"SHA-256\"], [\"Ethash\"], [\"Scrypt\"], [\"CryptoNight-V7\"], [\"Ethash\"], [\"Equihash\"], [\"Multiple\"], [\"Scrypt\"], [\"X11\"], [\"Scrypt\"], [\"Multiple\"], [\"Scrypt\"], [\"SHA-256\"], [\"Scrypt\"], [\"Scrypt\"], [\"Quark\"], [\"Groestl\"], [\"Scrypt\"], [\"Scrypt\"], [\"Scrypt\"], [\"X11\"], [\"Multiple\"], [\"SHA-256\"], [\"Scrypt\"], [\"Scrypt\"], [\"Scrypt\"], [\"Scrypt\"], [\"Scrypt\"], [\"NeoScrypt\"], [\"Scrypt\"], [\"Scrypt\"], [\"Scrypt\"], [\"Scrypt\"], [\"SHA-256\"], [\"Scrypt\"], [\"Scrypt\"], [\"Scrypt\"], [\"Scrypt\"], [\"HybridScryptHash256\"], [\"Scrypt\"], [\"Scrypt\"], [\"SHA-256\"], [\"Scrypt\"], [\"Scrypt\"], [\"Scrypt\"], [\"Scrypt\"], [\"SHA-256\"], [\"SHA-256\"], [\"SHA-256\"], [\"SHA-256\"], [\"SHA-256\"], [\"X11\"], [\"Scrypt\"], [\"Lyra2REv2\"], [\"Scrypt\"], [\"SHA-256\"], [\"CryptoNight\"], [\"CryptoNight\"], [\"Shabal256\"], [\"Scrypt\"], [\"Scrypt\"], [\"Scrypt\"], [\"Scrypt\"], [\"Scrypt\"], [\"Scrypt\"], [\"Stanford Folding\"], [\"Multiple\"], [\"QuBit\"], [\"Scrypt\"], [\"Scrypt\"], [\"M7 POW\"], [\"Scrypt\"], [\"SHA-256\"], [\"Scrypt\"], [\"X11\"], [\"Lyra2RE\"], [\"SHA-256\"], [\"X11\"], [\"Scrypt\"], [\"Scrypt\"], [\"Ethash\"], [\"Blake2b\"], [\"X11\"], [\"SHA-256\"], [\"Scrypt\"], [\"1GB AES Pattern Search\"], [\"Scrypt\"], [\"SHA-256\"], [\"X11\"], [\"Dagger\"], [\"Scrypt\"], [\"X11GOST\"], [\"Scrypt\"], [\"X11\"], [\"Scrypt\"], [\"X11\"], [\"Equihash\"], [\"CryptoNight\"], [\"SHA-256\"], [\"Multiple\"], [\"Scrypt\"], [\"SHA-256\"], [\"Scrypt\"], [\"Lyra2Z\"], [\"Ethash\"], [\"Equihash\"], [\"Scrypt\"], [\"X11\"], [\"X11\"], [\"CryptoNight\"], [\"Scrypt\"], [\"CryptoNight\"], [\"Lyra2RE\"], [\"X11\"], [\"CryptoNight-V7\"], [\"Scrypt\"], [\"X11\"], [\"Equihash\"], [\"Scrypt\"], [\"Lyra2RE\"], [\"Dagger-Hashimoto\"], [\"Scrypt\"], [\"NIST5\"], [\"Scrypt\"], [\"SHA-256\"], [\"Scrypt\"], [\"CryptoNight-V7\"], [\"Argon2d\"], [\"Blake2b\"], [\"Cloverhash\"], [\"CryptoNight\"], [\"X11\"], [\"Scrypt\"], [\"Scrypt\"], [\"X11\"], [\"X11\"], [\"CryptoNight\"], [\"Time Travel\"], [\"Scrypt\"], [\"Keccak\"], [\"X11\"], [\"SHA-256\"], [\"Scrypt\"], [\"Scrypt\"], [\"Scrypt\"], [\"Scrypt\"], [\"Scrypt\"], [\"Scrypt\"], [\"CryptoNight\"], [\"Equihash\"], [\"X11\"], [\"NeoScrypt\"], [\"Equihash\"], [\"Dagger\"], [\"Scrypt\"], [\"X11\"], [\"NeoScrypt\"], [\"Ethash\"], [\"NeoScrypt\"], [\"Multiple\"], [\"CryptoNight\"], [\"CryptoNight\"], [\"Ethash\"], [\"X11\"], [\"CryptoNight-V7\"], [\"Scrypt\"], [\"BLAKE256\"], [\"X11\"], [\"NeoScrypt\"], [\"NeoScrypt\"], [\"Scrypt\"], [\"X11\"], [\"SHA-256\"], [\"C11\"], [\"CryptoNight\"], [\"SkunkHash\"], [\"CryptoNight\"], [\"Scrypt\"], [\"Dagger\"], [\"Lyra2REv2\"], [\"Scrypt\"], [\"Scrypt\"], [\"X11\"], [\"Ethash\"], [\"CryptoNight\"], [\"Scrypt\"], [\"IMesh\"], [\"Equihash\"], [\"Lyra2Z\"], [\"X11\"], [\"CryptoNight\"], [\"NIST5\"], [\"Lyra2RE\"], [\"Tribus\"], [\"Lyra2Z\"], [\"CryptoNight\"], [\"CryptoNight Heavy\"], [\"CryptoNight\"], [\"Jump Consistent Hash\"], [\"CryptoNight\"], [\"X16R\"], [\"HMQ1725\"], [\"X11\"], [\"Scrypt\"], [\"CryptoNight-V7\"], [\"Cryptonight-GPU\"], [\"XEVAN\"], [\"CryptoNight Heavy\"], [\"SHA-256\"], [\"X11\"], [\"X16R\"], [\"Equihash\"], [\"Lyra2Z\"], [\"SHA-256\"], [\"CryptoNight\"], [\"Blake\"], [\"Blake\"], [\"Exosis\"], [\"Scrypt\"], [\"Equihash\"], [\"Equihash\"], [\"QuBit\"], [\"SHA-256\"], [\"X13\"], [\"SHA-256\"], [\"Scrypt\"], [\"NeoScrypt\"], [\"Blake\"], [\"Scrypt\"], [\"SHA-256\"], [\"Scrypt\"], [\"Groestl\"], [\"Scrypt\"], [\"Scrypt\"], [\"Multiple\"], [\"Equihash+Scrypt\"], [\"Ethash\"], [\"CryptoNight\"], [\"Equihash\"]], \"hovertemplate\": \"<b>%{hovertext}</b><br><br>class=%{marker.color}<br>PC 1=%{x}<br>PC 2=%{y}<br>PC 3=%{z}<br>Algorithm=%{customdata[0]}<extra></extra>\", \"hovertext\": [\"Bitcoin\", \"Ethereum\", \"Litecoin\", \"Monero\", \"Ethereum Classic\", \"ZCash\", \"DigiByte\", \"ProsperCoin\", \"Spreadcoin\", \"Argentum\", \"MyriadCoin\", \"MoonCoin\", \"ZetaCoin\", \"SexCoin\", \"Quatloo\", \"QuarkCoin\", \"Riecoin\", \"Digitalcoin \", \"Catcoin\", \"CannaCoin\", \"CryptCoin\", \"Verge\", \"DevCoin\", \"EarthCoin\", \"E-Gulden\", \"Einsteinium\", \"Emerald\", \"Franko\", \"FeatherCoin\", \"GrandCoin\", \"GlobalCoin\", \"GoldCoin\", \"Infinite Coin\", \"IXcoin\", \"KrugerCoin\", \"LuckyCoin\", \"Litebar \", \"MegaCoin\", \"MediterraneanCoin\", \"MinCoin\", \"NobleCoin\", \"Namecoin\", \"NyanCoin\", \"RonPaulCoin\", \"StableCoin\", \"SmartCoin\", \"SysCoin\", \"TigerCoin\", \"TerraCoin\", \"UnbreakableCoin\", \"Unobtanium\", \"UroCoin\", \"ViaCoin\", \"Vertcoin\", \"WorldCoin\", \"JouleCoin\", \"ByteCoin\", \"DigitalNote \", \"BurstCoin\", \"MonaCoin\", \"Gulden\", \"PesetaCoin\", \"Wild Beast Coin\", \"Flo\", \"ArtByte\", \"Folding Coin\", \"Unitus\", \"CypherPunkCoin\", \"OmniCron\", \"GreenCoin\", \"Cryptonite\", \"MasterCoin\", \"SoonCoin\", \"1Credit\", \"MarsCoin \", \"Crypto\", \"Anarchists Prime\", \"BowsCoin\", \"Song Coin\", \"BitZeny\", \"Expanse\", \"Siacoin\", \"MindCoin\", \"I0coin\", \"Revolution VR\", \"HOdlcoin\", \"Gamecredits\", \"CarpeDiemCoin\", \"Adzcoin\", \"SoilCoin\", \"YoCoin\", \"SibCoin\", \"Francs\", \"BolivarCoin\", \"Omni\", \"PizzaCoin\", \"Komodo\", \"Karbo\", \"ZayedCoin\", \"Circuits of Value\", \"DopeCoin\", \"DollarCoin\", \"Shilling\", \"ZCoin\", \"Elementrem\", \"ZClassic\", \"KiloCoin\", \"ArtexCoin\", \"Kurrent\", \"Cannabis Industry Coin\", \"OsmiumCoin\", \"Bikercoins\", \"HexxCoin\", \"PacCoin\", \"Citadel\", \"BeaverCoin\", \"VaultCoin\", \"Zero\", \"Canada eCoin\", \"Zoin\", \"DubaiCoin\", \"EB3coin\", \"Coinonat\", \"BenjiRolls\", \"ILCoin\", \"EquiTrader\", \"Quantum Resistant Ledger\", \"Dynamic\", \"Nano\", \"ChanCoin\", \"Dinastycoin\", \"DigitalPrice\", \"Unify\", \"SocialCoin\", \"ArcticCoin\", \"DAS\", \"LeviarCoin\", \"Bitcore\", \"gCn Coin\", \"SmartCash\", \"Onix\", \"Bitcoin Cash\", \"Sojourn Coin\", \"NewYorkCoin\", \"FrazCoin\", \"Kronecoin\", \"AdCoin\", \"Linx\", \"Sumokoin\", \"BitcoinZ\", \"Elements\", \"VIVO Coin\", \"Bitcoin Gold\", \"Pirl\", \"eBoost\", \"Pura\", \"Innova\", \"Ellaism\", \"GoByte\", \"SHIELD\", \"UltraNote\", \"BitCoal\", \"DaxxCoin\", \"AC3\", \"Lethean\", \"PopularCoin\", \"Photon\", \"Sucre\", \"SparksPay\", \"GunCoin\", \"IrishCoin\", \"Pioneer Coin\", \"UnitedBitcoin\", \"Interzone\", \"TurtleCoin\", \"MUNcoin\", \"Niobio Cash\", \"ShareChain\", \"Travelflex\", \"KREDS\", \"BitFlip\", \"LottoCoin\", \"Crypto Improvement Fund\", \"Callisto Network\", \"BitTube\", \"Poseidon\", \"Aidos Kuneen\", \"Bitrolium\", \"Alpenschillling\", \"FuturoCoin\", \"Monero Classic\", \"Jumpcoin\", \"Infinex\", \"KEYCO\", \"GINcoin\", \"PlatinCoin\", \"Loki\", \"Newton Coin\", \"MassGrid\", \"PluraCoin\", \"Motion\", \"PlusOneCoin\", \"Axe\", \"HexCoin\", \"Webchain\", \"Ryo\", \"Urals Coin\", \"Qwertycoin\", \"Project Pai\", \"Azart\", \"Xchange\", \"CrypticCoin\", \"Actinium\", \"Bitcoin SV\", \"FREDEnergy\", \"Universal Molecule\", \"Lithium\", \"Exosis\", \"Block-Logic\", \"Beam\", \"Bithereum\", \"SLICE\", \"BLAST\", \"Bitcoin Rhodium\", \"GlobalToken\", \"SolarCoin\", \"UFO Coin\", \"BlakeCoin\", \"Crypto Escudo\", \"Crown Coin\", \"SmileyCoin\", \"Groestlcoin\", \"Bata\", \"Pakcoin\", \"JoinCoin\", \"Vollar\", \"Reality Clash\", \"Beldex\", \"Horizen\"], \"legendgroup\": \"1\", \"marker\": {\"color\": [1, 1, 1, 1, 1, 1, 1, 1, 1, 1, 1, 1, 1, 1, 1, 1, 1, 1, 1, 1, 1, 1, 1, 1, 1, 1, 1, 1, 1, 1, 1, 1, 1, 1, 1, 1, 1, 1, 1, 1, 1, 1, 1, 1, 1, 1, 1, 1, 1, 1, 1, 1, 1, 1, 1, 1, 1, 1, 1, 1, 1, 1, 1, 1, 1, 1, 1, 1, 1, 1, 1, 1, 1, 1, 1, 1, 1, 1, 1, 1, 1, 1, 1, 1, 1, 1, 1, 1, 1, 1, 1, 1, 1, 1, 1, 1, 1, 1, 1, 1, 1, 1, 1, 1, 1, 1, 1, 1, 1, 1, 1, 1, 1, 1, 1, 1, 1, 1, 1, 1, 1, 1, 1, 1, 1, 1, 1, 1, 1, 1, 1, 1, 1, 1, 1, 1, 1, 1, 1, 1, 1, 1, 1, 1, 1, 1, 1, 1, 1, 1, 1, 1, 1, 1, 1, 1, 1, 1, 1, 1, 1, 1, 1, 1, 1, 1, 1, 1, 1, 1, 1, 1, 1, 1, 1, 1, 1, 1, 1, 1, 1, 1, 1, 1, 1, 1, 1, 1, 1, 1, 1, 1, 1, 1, 1, 1, 1, 1, 1, 1, 1, 1, 1, 1, 1, 1, 1, 1, 1, 1, 1, 1, 1, 1, 1, 1, 1, 1, 1, 1, 1, 1, 1, 1, 1, 1, 1, 1, 1, 1, 1, 1, 1, 1, 1, 1, 1, 1, 1], \"coloraxis\": \"coloraxis\", \"symbol\": \"diamond\"}, \"mode\": \"markers\", \"name\": \"1\", \"scene\": \"scene\", \"showlegend\": true, \"type\": \"scatter3d\", \"x\": [-0.15333073383185866, -0.1503566047116044, -0.16471990720496038, -0.14434527634338754, -0.14879609679709346, -0.13077046067893522, 0.16469580499290729, -0.1658676496459864, -0.22467485032854784, -0.16548360033985368, -0.0890619881417928, 2.5604915724192194, -0.1504118932140756, -0.16273526398129917, -0.1652872737361294, -0.2246203000688064, -0.20361738006364583, -0.16533630211052378, -0.16584989627162103, -0.1659364770984827, -0.22476429824623356, 0.18845351140787886, 0.2250115540215906, 0.08311885814118099, -0.16568246367651246, -0.1612818752361793, -0.16562164775446925, -0.16599354989759252, -0.1709629845966947, -0.14518761710049471, -0.16478710677983208, -0.16506484900083582, 1.5851844748481891, -0.15329206101918966, -0.16235051628880406, -0.16570893812677975, -0.16606421325220877, -0.16532249322709863, -0.17560792006241574, -0.16594531578209418, -0.030643757032356948, -0.15336975642956654, -0.1596010149227393, -0.16592469138340457, -0.16401604108754775, -0.16541075421137225, -0.14050437264714732, -0.1528328356878448, -0.15312037441795492, -0.1531031910767873, -0.15369485747154543, -0.22493845368154083, -0.1656408628970817, -0.1879063674388808, -0.16273992236420268, -0.15290021197963824, 3.87256007433608, 0.46712245743526215, 0.028004659542355852, -0.16450689537665605, -0.14908275124294768, -0.16322407081061518, -0.166066419946633, -0.16308898775182154, -0.14929425261663373, -0.12126122252656753, -0.1231136382617374, -0.18918527506963656, -0.16593935584830113, -0.03869901936255939, -0.1099538452222743, -0.1660753301244698, -0.15339756434526594, 0.4871566297638776, -0.22432483949346949, -0.14720452429527806, -0.15313701308715727, -0.2246100972345932, -0.16419623518143328, -0.16338743677684112, -0.15142516452808283, 0.3629193531952519, -0.22464555238718656, -0.15329318459867255, -0.16202794519540656, -0.16564284833336113, -0.16463678288416633, 0.2657334735574192, -0.22380508867905152, -0.15349588486213, -0.16488414833679976, -0.1736694269138607, -0.16586493571147692, -0.22460872027291306, -0.1660753886952299, -0.22475885554338884, -0.1731691939331519, 0.31181816092638, -0.1535535985402302, -0.10315958505422673, -0.16323821576624958, -0.15351217937598138, -0.16573830504243875, -0.15069030639967196, -0.15116700265448313, -0.13079210141842088, -0.09268195810681829, -0.2113256158733608, -0.22258383215743055, 0.31181256165684396, -0.1660570983397716, 0.311943436468529, -0.14774577915592196, 0.4916605565327121, -0.14310790424735814, -0.16602534820636283, -0.2174811434141289, -0.13080450540902114, -0.16415619150993957, -0.14746380771448064, -0.1500899945129075, -0.13690155846273658, -0.19401676808567217, -0.16558712042038845, -0.11983211297559505, -0.16540884799791222, -0.14296579635776527, -0.1317493112742137, -0.03782102558506682, -0.1528277515736839, 0.34798187492303695, -0.22381342900992157, -0.1657286648748596, -0.16549156892531372, -0.22420869753574202, -0.22478694264055576, 0.3122081107676662, -0.1548259868116744, 3.2481400353844165, -0.11927525979281829, -0.2156448516837299, -0.15332989713317483, -0.09152647958631811, 1.5828582469279566, -0.16582661682553243, -0.16527740950129882, -0.16497799464671042, -0.16496491124927423, 0.31239205778888884, 0.08183626652853952, -0.1791169473194604, -0.1756580645520288, -0.13065037236731694, -0.15225312865118124, -0.164154398702049, -0.22032519774891862, -0.17550323693455944, -0.14952942468457, -0.1756036032896182, -0.11333217747370876, 1.1510042519966324, 0.3117952793432155, -0.07429849323313559, -0.22006571006179512, -0.1320624487776358, -0.08210351568945226, 1.0935899605249104, -0.22476090924396172, -0.17565564388623903, -0.1686840188243131, -0.1650766255793156, -0.22468622247570733, -0.15330927519794627, -0.2007871804370488, 8.06200782884567, -0.1603486336931318, 0.31567521556847683, 0.02721553398327555, -0.15175601878775108, -0.17344463263057475, -0.16565107263859313, 0.14183329627028343, -0.2188188542769931, -0.10249228006242032, 0.31973094088197546, -0.16588841707374175, -0.16457975977925415, -0.1296401667872164, -0.14847030596321734, -0.22385424619661665, 0.311978021242869, -0.1940764006032095, -0.14759078467720074, -0.14044348566568643, -0.1507748177825747, 0.31591280348486467, 0.5640818202127768, 2.1231616673477247, -0.1638412038045619, 0.325601704456128, -0.1954138136281889, -0.15878226504643986, -0.22474304522391148, -0.16591302161407598, -0.1319392850007815, -0.14678512599088875, -0.14777274058521392, 3.09012186400977, -0.11310549355605518, -0.22471436390101096, -0.19484060601791095, -0.025251680497790165, -0.15017162420709015, -0.15332993473986514, 0.39185699459242573, -0.15141433796319032, -0.15180710228425204, -0.15694885580700874, -0.16480372324007342, -0.12870740960102114, -0.13048296935334944, -0.18839499469962986, -0.15260511578255556, -0.10943113485172579, -0.15147140862618427, 0.5311479432316345, -0.100723661043124, -0.10219113097695925, -0.14944500408039216, -0.15311974417769628, 0.5507427931462312, -0.20317781676519198, -0.16599001064133298, -0.16394279181887528, -0.1238493197581489, -0.14053547786847165, -0.15120020425225092, 0.3335816661177591, -0.13077151878750537], \"y\": [-1.3328979699395058, -2.0115646287027595, -1.1834255685184103, -2.1751550254864154, -2.0116251709276605, -1.9823627978639167, -1.7988541499275756, -1.1834412343706358, -0.8522247754369512, -1.1834504196088642, -1.7989799598431528, -1.30046199642841, -1.332850612877686, -1.1834360376327566, -1.1834643419119517, -0.39992388896709335, -1.1643321160523454, -1.1834326655647365, -1.1834403506461613, -1.1834394870402047, -0.8522279115705502, -1.7947458665877973, -1.3278731817284615, -1.1799190347645852, -1.1834320162146872, -1.1833964642338572, -1.1834362290736489, -1.183441074674239, -1.5898532547577782, -1.1833330430799172, -1.1834196988392036, -1.183435002352867, -1.1558962910681227, -1.3328960448907605, -1.1834270356186167, -1.1834326758605274, -1.1834380853512918, -1.183427919758843, -2.3480122349316774, -1.1834378602787863, -1.1865691833501049, -1.332899912399791, -1.183337284466337, -1.1834440737846177, -1.1834997919394898, -1.1834383685921173, -1.3328301564564, -1.3328903065938194, -1.3329013207965483, -1.332925476852497, -1.332902437680874, -0.8522247331426053, -1.1834312618078646, -1.1956212772333221, -1.1834464194085466, -1.3328923361724716, -2.1878974496982515, -2.242579172845123, -0.7240213316066264, -1.1834288663274015, -1.1836976638339252, -1.183405335070024, -1.1834390363688099, -1.1833944076958134, -1.183260619395825, -2.155462773319219, -1.7993585873802205, -1.557243247116649, -1.1834332006541652, -1.1836791824439021, -2.1463625591043423, -1.1834381578992446, -1.332901296617528, -1.2114752087389073, -0.8522159091900766, -2.2045146790688284, -1.3329098894051952, -0.8522222103632431, -1.1834825917823037, -1.1834685013801542, -2.0116289469969764, -2.2323318902861806, -0.8522206842694522, -1.3328961008201103, -1.1833745010423895, -2.242104471787503, -1.183421430769992, -1.3262583471763139, -0.8522236050605514, -2.192696251713461, -1.1834892636794705, -2.273552222671093, -1.1834404410819823, -0.8522247746005933, -1.1834381588204395, -0.8522322480087599, -1.1687792215091053, -2.243734517075191, -1.3329016497542436, -1.7991551517407616, -1.1834281637379063, -1.3329001818859962, -1.183440719630692, -2.2106975639471815, -2.0116222169064275, -1.9823638750929873, -1.1863663360620238, -0.8518762130381758, -0.8522575936220314, -2.2437420359383564, -1.1834386291524397, -2.2437381540535735, -2.2045049014613856, -0.8823734764110824, -2.1752151978395986, -1.1834374737053028, -0.8525117192892476, -1.9823618597572221, -1.1834080390917057, -2.20449810567887, -2.159974733056706, -1.1846183225941789, -0.6247040838770324, -1.1834368274870903, -1.3328621463469281, -1.1834519641584305, -2.1751554684267145, -2.0156823707518923, -2.2525038493693375, -2.1229676395940618, -2.2432441736299733, -0.8522345513422002, -1.1834331818087285, -1.183458056411437, -0.8522278991570337, -0.8522296311347818, -2.243744066792456, -2.3077390275275915, -1.1451244894846657, -1.312914977629022, -0.8524861321571783, -1.3328979282904594, -1.1866379162867131, -1.096379629601072, -1.183438533650942, -1.1834533197736685, -1.1834489466696128, -1.1834482954064627, -2.2437578739960844, -1.9855879664318212, -0.8511285887112169, -1.5898835834381082, -1.9823568201281905, -2.192717524449108, -1.1834079498496166, -0.852225463474719, -1.5898877239629081, -2.011707748041072, -1.5898840318099945, -1.7993060960954224, -2.25790163617718, -2.243737301557976, -2.0143605696514397, -0.8523441857162275, -2.175201466583515, -1.1825487897436644, -1.190296525594928, -0.8522289276241493, -1.58987951377334, -1.589847756744188, -1.1834301612878888, -0.8522273161024114, -1.3328963528407172, -1.2387156145339429, -2.5161351803778924, -2.229787079875319, -2.243757092790478, -1.1803980989269558, -2.1926557185950575, -1.1955701294348502, -1.1834429593396003, -1.1802261063708892, -0.8522492101953548, -2.013460313139146, -2.24399224897974, -1.1834422681281507, -2.220814550511334, -1.9823387858343184, -2.210770430233283, -0.8522365831332337, -2.2437320884123086, -0.6246891151275846, -2.2045079015856617, -2.1615481553774543, -2.2106945964163605, -2.243919029968288, -2.2326419666173596, -2.274671041387244, -2.322577746890174, -2.2437000151009183, -1.2504008714921246, -2.2685509455349, -0.8522288282258275, -1.1834442203672553, -2.1756893231806593, -2.2556101887569344, -0.7732637321883018, -2.228219651568276, -1.3322640318685677, -0.8522300333112911, -1.250423627835617, -1.9820987608134464, -2.210712948071932, -1.3328979301624388, -2.2450619901896482, -2.2637317513987574, -2.263698718375199, -2.278428488549031, -1.1834534357145143, -1.9824192551771498, -1.9823549940837761, -1.5572697281616192, -1.332890152626458, -0.2940683862878759, -1.332902171410308, -1.213300405320872, -1.5887685195960872, -2.265819701612322, -1.1832681234767572, -1.3329012894245549, -1.1806658425018415, -1.1643240576370883, -1.1834367941175545, -1.1834513884979705, -1.7993970509553046, -2.180283827575515, -2.011622739097727, -2.24356621438792, -1.9823628505342579], \"z\": [0.17693993843774333, 0.2858065662585277, -0.06848805559768324, 0.3395020128070682, 0.2858160191465436, 0.33137793981766717, 0.2918292786524087, -0.06848240303170747, 0.06912168011555965, -0.06848127328780915, 0.2923800623187065, -0.049611959958481965, 0.17692398920059668, -0.06848996492921841, -0.06847876360470784, 0.021871324027493158, 0.1744919315453227, -0.06848529552994743, -0.06848262478056037, -0.06848262669021457, 0.0691225217050958, 0.2909198752403641, 0.1751057967217214, -0.0697345540107519, -0.06848471610050577, -0.0685012555804328, -0.06848395958551777, -0.06848217627672928, 0.2041870846814572, -0.06854779822919829, -0.06848914586955014, -0.06848536719882893, -0.07786938772588231, 0.17693945539425754, -0.06849264516820258, -0.06848452325156415, -0.06848265622303416, -0.06848631787398768, 0.2438088528050195, -0.06848294907878304, -0.06810685394033736, 0.17694042585022685, -0.0685171220569368, -0.06848169055082456, -0.06847396735893564, -0.0684839474063368, 0.17689922972743968, 0.17693730467874405, 0.17694020538368557, 0.17694522832038626, 0.17694162654439438, 0.06912221604470237, -0.06848496005447115, 0.19170368606618032, -0.06848778128437037, 0.1769378689326688, 0.2985685580026315, 0.3170572753046214, -1.3335006089972767, -0.06848780524208938, -0.06846339403243448, -0.0684953840522444, -0.06848245251267716, -0.06849795149637683, -0.0685544771276818, 0.2654833310295944, 0.29252972374389685, 0.3050501166798638, -0.06848393715452394, -0.06869539289724891, 0.36895145395528073, -0.06848261805587261, 0.1769407731855154, -0.0639614875497813, 0.06911910009744832, 0.3250823896493283, 0.17694203409799797, 0.06912100914650657, -0.0684771967887787, -0.06848181895277786, 0.2858222433448702, 0.31735526189801366, 0.06912076284638896, 0.17693946942834804, -0.0685043129345657, 0.22508404898058232, -0.06848909386355602, 0.17468347942124227, 0.0691196375045093, 0.35606201443794716, -0.06847437794438663, 0.49134664743484396, -0.06848257476082908, 0.06912154327022993, -0.06848261774192035, 0.06912341853762007, 0.4388440634225016, 0.3176201780954062, 0.17694116960884004, 0.2924458840775646, -0.06849057433419749, 0.17694077662633803, -0.0684827781368356, 0.3620547956026268, 0.28582030047617585, 0.3313782101217276, -0.06802111799615729, 0.0690210999768, 0.0691242309939924, 0.3176217641705808, -0.06848255705152406, 0.3176206807989983, 0.32508146075394684, 0.07395458998995669, 0.33951205606222945, -0.06848286462796156, 0.06916690104420874, 0.3313778137313144, -0.06849289140830525, 0.3250794549219416, 0.33379873115545605, -0.06829577628807773, -0.012008234217773953, -0.06848390563072833, 0.17686320552684537, -0.06848110433794984, 0.339499254607214, 0.39312662242757607, 0.3224076184049499, 0.34325168293068403, 0.31744275759033325, 0.06912194697032248, -0.06848437653339229, -0.06847965761865, 0.06912137085231297, 0.06912292859292955, 0.3176213719692326, 0.47135425229157013, -0.08356188956697141, 0.07705442582630316, 0.06915774787539328, 0.17693992798694352, -0.06796663518602605, -0.09032779083348702, -0.06848305338358719, -0.0684810921048716, -0.06848262666093044, -0.0684827900793496, 0.3176238831344257, 0.33161392120649075, 0.06879797687662581, 0.20420313898731415, 0.33137643985237686, 0.35606390071023664, -0.06849291380140565, 0.06911283482088389, 0.20420368606217615, 0.2858348269392237, 0.20420312032512905, 0.29249851646952374, 0.3188525374360671, 0.31762080847492713, 0.2862348677234863, 0.06913715981953704, 0.33948635312995123, -0.06884240158915829, 0.13011625170492855, 0.06912272746990987, 0.20420228176790986, 0.204181223447302, -0.06848635661363008, 0.06912223565159195, 0.1769395554574971, 0.16183305307155307, 0.3586455836920308, 0.22419289184384, 0.3176169342817485, -0.06951869985258735, 0.35604993075541685, 0.19166308746135038, -0.06848248940807748, -0.06979159546318284, 0.06911469441054138, 0.28610461538993043, 0.31765779573557357, -0.06848214363576463, 0.40245613524851015, 0.3313705755637148, 0.3620654662711306, 0.06912245679815254, 0.3176193391347942, -0.012011245538182419, 0.32508176867600697, 0.3118341841896149, 0.36205434883930093, 0.3176503540543124, 0.34796323671968743, 0.32035502369342694, 0.2769254360603287, 0.31758446685388625, 0.1410064138501354, 0.3305480682528556, 0.0691226697358416, -0.06848168397315334, 0.3395882592176477, 0.25794266748006073, 0.08951788875172649, 0.3418166360378283, 0.17672405429291527, 0.06912286281393289, 0.1410099945484601, 0.3311045741945023, 0.36205694519312615, 0.17693992845667048, 0.31773274507845534, 0.37207969781487893, 0.3720735921869441, 0.1020488128831174, -0.06848204678773467, 0.33138549869631956, 0.3313757114959409, 0.3050540287354133, 0.17693680181089863, -0.04784017989446936, 0.17693697561047003, -0.06367019476901614, 0.20381477068626558, 0.3724152003767924, -0.06855259416371802, 0.17694019751165796, -0.07054459993907553, 0.17448933561587843, -0.06848307997017278, -0.06848425476599837, 0.29253929871320195, 0.19868857925583794, 0.28582047844407726, 0.31753995594559575, 0.331377953033993]}, {\"customdata\": [[\"Proof-of-BibleHash\"], [\"ECC 256K1\"], [\"SHA3-256\"], [\"Leased POS\"]], \"hovertemplate\": \"<b>%{hovertext}</b><br><br>class=%{marker.color}<br>PC 1=%{x}<br>PC 2=%{y}<br>PC 3=%{z}<br>Algorithm=%{customdata[0]}<extra></extra>\", \"hovertext\": [\"BiblePay\", \"Acute Angle Cloud\", \"Fiii\", \"Waves\"], \"legendgroup\": \"3\", \"marker\": {\"color\": [3, 3, 3, 3], \"coloraxis\": \"coloraxis\", \"symbol\": \"square\"}, \"mode\": \"markers\", \"name\": \"3\", \"scene\": \"scene\", \"showlegend\": true, \"type\": \"scatter3d\", \"x\": [-0.22206107073373496, -0.3595715510868327, -0.548703428324864, -0.39446973864822765], \"y\": [1.878113187029418, 2.936873060257285, 2.5968924317339486, 3.025182695386641], \"z\": [13.848552408657776, 19.465510158041486, 13.540204819136116, 14.735486407932184]}, {\"customdata\": [[\"TRC10\"]], \"hovertemplate\": \"<b>%{hovertext}</b><br><br>class=%{marker.color}<br>PC 1=%{x}<br>PC 2=%{y}<br>PC 3=%{z}<br>Algorithm=%{customdata[0]}<extra></extra>\", \"hovertext\": [\"BitTorrent\"], \"legendgroup\": \"2\", \"marker\": {\"color\": [2], \"coloraxis\": \"coloraxis\", \"symbol\": \"x\"}, \"mode\": \"markers\", \"name\": \"2\", \"scene\": \"scene\", \"showlegend\": true, \"type\": \"scatter3d\", \"x\": [34.09503183533472], \"y\": [2.125481331816796], \"z\": [-0.5355269814182686]}],\n",
       "                        {\"coloraxis\": {\"colorbar\": {\"title\": {\"text\": \"class\"}}, \"colorscale\": [[0.0, \"#0d0887\"], [0.1111111111111111, \"#46039f\"], [0.2222222222222222, \"#7201a8\"], [0.3333333333333333, \"#9c179e\"], [0.4444444444444444, \"#bd3786\"], [0.5555555555555556, \"#d8576b\"], [0.6666666666666666, \"#ed7953\"], [0.7777777777777778, \"#fb9f3a\"], [0.8888888888888888, \"#fdca26\"], [1.0, \"#f0f921\"]]}, \"legend\": {\"title\": {\"text\": \"class\"}, \"tracegroupgap\": 0, \"x\": 0, \"y\": 1}, \"margin\": {\"t\": 60}, \"scene\": {\"domain\": {\"x\": [0.0, 1.0], \"y\": [0.0, 1.0]}, \"xaxis\": {\"title\": {\"text\": \"PC 1\"}}, \"yaxis\": {\"title\": {\"text\": \"PC 2\"}}, \"zaxis\": {\"title\": {\"text\": \"PC 3\"}}}, \"template\": {\"data\": {\"bar\": [{\"error_x\": {\"color\": \"#2a3f5f\"}, \"error_y\": {\"color\": \"#2a3f5f\"}, \"marker\": {\"line\": {\"color\": \"#E5ECF6\", \"width\": 0.5}}, \"type\": \"bar\"}], \"barpolar\": [{\"marker\": {\"line\": {\"color\": \"#E5ECF6\", \"width\": 0.5}}, \"type\": \"barpolar\"}], \"carpet\": [{\"aaxis\": {\"endlinecolor\": \"#2a3f5f\", \"gridcolor\": \"white\", \"linecolor\": \"white\", \"minorgridcolor\": \"white\", \"startlinecolor\": \"#2a3f5f\"}, \"baxis\": {\"endlinecolor\": \"#2a3f5f\", \"gridcolor\": \"white\", \"linecolor\": \"white\", \"minorgridcolor\": \"white\", \"startlinecolor\": \"#2a3f5f\"}, \"type\": \"carpet\"}], \"choropleth\": [{\"colorbar\": {\"outlinewidth\": 0, \"ticks\": \"\"}, \"type\": \"choropleth\"}], \"contour\": [{\"colorbar\": {\"outlinewidth\": 0, \"ticks\": \"\"}, \"colorscale\": [[0.0, \"#0d0887\"], [0.1111111111111111, \"#46039f\"], [0.2222222222222222, \"#7201a8\"], [0.3333333333333333, \"#9c179e\"], [0.4444444444444444, \"#bd3786\"], [0.5555555555555556, \"#d8576b\"], [0.6666666666666666, \"#ed7953\"], [0.7777777777777778, \"#fb9f3a\"], [0.8888888888888888, \"#fdca26\"], [1.0, \"#f0f921\"]], \"type\": \"contour\"}], \"contourcarpet\": [{\"colorbar\": {\"outlinewidth\": 0, \"ticks\": \"\"}, \"type\": \"contourcarpet\"}], \"heatmap\": [{\"colorbar\": {\"outlinewidth\": 0, \"ticks\": \"\"}, \"colorscale\": [[0.0, \"#0d0887\"], [0.1111111111111111, \"#46039f\"], [0.2222222222222222, \"#7201a8\"], [0.3333333333333333, \"#9c179e\"], [0.4444444444444444, \"#bd3786\"], [0.5555555555555556, \"#d8576b\"], [0.6666666666666666, \"#ed7953\"], [0.7777777777777778, \"#fb9f3a\"], [0.8888888888888888, \"#fdca26\"], [1.0, \"#f0f921\"]], \"type\": \"heatmap\"}], \"heatmapgl\": [{\"colorbar\": {\"outlinewidth\": 0, \"ticks\": \"\"}, \"colorscale\": [[0.0, \"#0d0887\"], [0.1111111111111111, \"#46039f\"], [0.2222222222222222, \"#7201a8\"], [0.3333333333333333, \"#9c179e\"], [0.4444444444444444, \"#bd3786\"], [0.5555555555555556, \"#d8576b\"], [0.6666666666666666, \"#ed7953\"], [0.7777777777777778, \"#fb9f3a\"], [0.8888888888888888, \"#fdca26\"], [1.0, \"#f0f921\"]], \"type\": \"heatmapgl\"}], \"histogram\": [{\"marker\": {\"colorbar\": {\"outlinewidth\": 0, \"ticks\": \"\"}}, \"type\": \"histogram\"}], \"histogram2d\": [{\"colorbar\": {\"outlinewidth\": 0, \"ticks\": \"\"}, \"colorscale\": [[0.0, \"#0d0887\"], [0.1111111111111111, \"#46039f\"], [0.2222222222222222, \"#7201a8\"], [0.3333333333333333, \"#9c179e\"], [0.4444444444444444, \"#bd3786\"], [0.5555555555555556, \"#d8576b\"], [0.6666666666666666, \"#ed7953\"], [0.7777777777777778, \"#fb9f3a\"], [0.8888888888888888, \"#fdca26\"], [1.0, \"#f0f921\"]], \"type\": \"histogram2d\"}], \"histogram2dcontour\": [{\"colorbar\": {\"outlinewidth\": 0, \"ticks\": \"\"}, \"colorscale\": [[0.0, \"#0d0887\"], [0.1111111111111111, \"#46039f\"], [0.2222222222222222, \"#7201a8\"], [0.3333333333333333, \"#9c179e\"], [0.4444444444444444, \"#bd3786\"], [0.5555555555555556, \"#d8576b\"], [0.6666666666666666, \"#ed7953\"], [0.7777777777777778, \"#fb9f3a\"], [0.8888888888888888, \"#fdca26\"], [1.0, \"#f0f921\"]], \"type\": \"histogram2dcontour\"}], \"mesh3d\": [{\"colorbar\": {\"outlinewidth\": 0, \"ticks\": \"\"}, \"type\": \"mesh3d\"}], \"parcoords\": [{\"line\": {\"colorbar\": {\"outlinewidth\": 0, \"ticks\": \"\"}}, \"type\": \"parcoords\"}], \"pie\": [{\"automargin\": true, \"type\": \"pie\"}], \"scatter\": [{\"marker\": {\"colorbar\": {\"outlinewidth\": 0, \"ticks\": \"\"}}, \"type\": \"scatter\"}], \"scatter3d\": [{\"line\": {\"colorbar\": {\"outlinewidth\": 0, \"ticks\": \"\"}}, \"marker\": {\"colorbar\": {\"outlinewidth\": 0, \"ticks\": \"\"}}, \"type\": \"scatter3d\"}], \"scattercarpet\": [{\"marker\": {\"colorbar\": {\"outlinewidth\": 0, \"ticks\": \"\"}}, \"type\": \"scattercarpet\"}], \"scattergeo\": [{\"marker\": {\"colorbar\": {\"outlinewidth\": 0, \"ticks\": \"\"}}, \"type\": \"scattergeo\"}], \"scattergl\": [{\"marker\": {\"colorbar\": {\"outlinewidth\": 0, \"ticks\": \"\"}}, \"type\": \"scattergl\"}], \"scattermapbox\": [{\"marker\": {\"colorbar\": {\"outlinewidth\": 0, \"ticks\": \"\"}}, \"type\": \"scattermapbox\"}], \"scatterpolar\": [{\"marker\": {\"colorbar\": {\"outlinewidth\": 0, \"ticks\": \"\"}}, \"type\": \"scatterpolar\"}], \"scatterpolargl\": [{\"marker\": {\"colorbar\": {\"outlinewidth\": 0, \"ticks\": \"\"}}, \"type\": \"scatterpolargl\"}], \"scatterternary\": [{\"marker\": {\"colorbar\": {\"outlinewidth\": 0, \"ticks\": \"\"}}, \"type\": \"scatterternary\"}], \"surface\": [{\"colorbar\": {\"outlinewidth\": 0, \"ticks\": \"\"}, \"colorscale\": [[0.0, \"#0d0887\"], [0.1111111111111111, \"#46039f\"], [0.2222222222222222, \"#7201a8\"], [0.3333333333333333, \"#9c179e\"], [0.4444444444444444, \"#bd3786\"], [0.5555555555555556, \"#d8576b\"], [0.6666666666666666, \"#ed7953\"], [0.7777777777777778, \"#fb9f3a\"], [0.8888888888888888, \"#fdca26\"], [1.0, \"#f0f921\"]], \"type\": \"surface\"}], \"table\": [{\"cells\": {\"fill\": {\"color\": \"#EBF0F8\"}, \"line\": {\"color\": \"white\"}}, \"header\": {\"fill\": {\"color\": \"#C8D4E3\"}, \"line\": {\"color\": \"white\"}}, \"type\": \"table\"}]}, \"layout\": {\"annotationdefaults\": {\"arrowcolor\": \"#2a3f5f\", \"arrowhead\": 0, \"arrowwidth\": 1}, \"coloraxis\": {\"colorbar\": {\"outlinewidth\": 0, \"ticks\": \"\"}}, \"colorscale\": {\"diverging\": [[0, \"#8e0152\"], [0.1, \"#c51b7d\"], [0.2, \"#de77ae\"], [0.3, \"#f1b6da\"], [0.4, \"#fde0ef\"], [0.5, \"#f7f7f7\"], [0.6, \"#e6f5d0\"], [0.7, \"#b8e186\"], [0.8, \"#7fbc41\"], [0.9, \"#4d9221\"], [1, \"#276419\"]], \"sequential\": [[0.0, \"#0d0887\"], [0.1111111111111111, \"#46039f\"], [0.2222222222222222, \"#7201a8\"], [0.3333333333333333, \"#9c179e\"], [0.4444444444444444, \"#bd3786\"], [0.5555555555555556, \"#d8576b\"], [0.6666666666666666, \"#ed7953\"], [0.7777777777777778, \"#fb9f3a\"], [0.8888888888888888, \"#fdca26\"], [1.0, \"#f0f921\"]], \"sequentialminus\": [[0.0, \"#0d0887\"], [0.1111111111111111, \"#46039f\"], [0.2222222222222222, \"#7201a8\"], [0.3333333333333333, \"#9c179e\"], [0.4444444444444444, \"#bd3786\"], [0.5555555555555556, \"#d8576b\"], [0.6666666666666666, \"#ed7953\"], [0.7777777777777778, \"#fb9f3a\"], [0.8888888888888888, \"#fdca26\"], [1.0, \"#f0f921\"]]}, \"colorway\": [\"#636efa\", \"#EF553B\", \"#00cc96\", \"#ab63fa\", \"#FFA15A\", \"#19d3f3\", \"#FF6692\", \"#B6E880\", \"#FF97FF\", \"#FECB52\"], \"font\": {\"color\": \"#2a3f5f\"}, \"geo\": {\"bgcolor\": \"white\", \"lakecolor\": \"white\", \"landcolor\": \"#E5ECF6\", \"showlakes\": true, \"showland\": true, \"subunitcolor\": \"white\"}, \"hoverlabel\": {\"align\": \"left\"}, \"hovermode\": \"closest\", \"mapbox\": {\"style\": \"light\"}, \"paper_bgcolor\": \"white\", \"plot_bgcolor\": \"#E5ECF6\", \"polar\": {\"angularaxis\": {\"gridcolor\": \"white\", \"linecolor\": \"white\", \"ticks\": \"\"}, \"bgcolor\": \"#E5ECF6\", \"radialaxis\": {\"gridcolor\": \"white\", \"linecolor\": \"white\", \"ticks\": \"\"}}, \"scene\": {\"xaxis\": {\"backgroundcolor\": \"#E5ECF6\", \"gridcolor\": \"white\", \"gridwidth\": 2, \"linecolor\": \"white\", \"showbackground\": true, \"ticks\": \"\", \"zerolinecolor\": \"white\"}, \"yaxis\": {\"backgroundcolor\": \"#E5ECF6\", \"gridcolor\": \"white\", \"gridwidth\": 2, \"linecolor\": \"white\", \"showbackground\": true, \"ticks\": \"\", \"zerolinecolor\": \"white\"}, \"zaxis\": {\"backgroundcolor\": \"#E5ECF6\", \"gridcolor\": \"white\", \"gridwidth\": 2, \"linecolor\": \"white\", \"showbackground\": true, \"ticks\": \"\", \"zerolinecolor\": \"white\"}}, \"shapedefaults\": {\"line\": {\"color\": \"#2a3f5f\"}}, \"ternary\": {\"aaxis\": {\"gridcolor\": \"white\", \"linecolor\": \"white\", \"ticks\": \"\"}, \"baxis\": {\"gridcolor\": \"white\", \"linecolor\": \"white\", \"ticks\": \"\"}, \"bgcolor\": \"#E5ECF6\", \"caxis\": {\"gridcolor\": \"white\", \"linecolor\": \"white\", \"ticks\": \"\"}}, \"title\": {\"x\": 0.05}, \"xaxis\": {\"automargin\": true, \"gridcolor\": \"white\", \"linecolor\": \"white\", \"ticks\": \"\", \"title\": {\"standoff\": 15}, \"zerolinecolor\": \"white\", \"zerolinewidth\": 2}, \"yaxis\": {\"automargin\": true, \"gridcolor\": \"white\", \"linecolor\": \"white\", \"ticks\": \"\", \"title\": {\"standoff\": 15}, \"zerolinecolor\": \"white\", \"zerolinewidth\": 2}}}, \"width\": 800},\n",
       "                        {\"responsive\": true}\n",
       "                    ).then(function(){\n",
       "                            \n",
       "var gd = document.getElementById('72c9028d-887a-491b-bd79-eb1adb4f97d5');\n",
       "var x = new MutationObserver(function (mutations, observer) {{\n",
       "        var display = window.getComputedStyle(gd).display;\n",
       "        if (!display || display === 'none') {{\n",
       "            console.log([gd, 'removed!']);\n",
       "            Plotly.purge(gd);\n",
       "            observer.disconnect();\n",
       "        }}\n",
       "}});\n",
       "\n",
       "// Listen for the removal of the full notebook cells\n",
       "var notebookContainer = gd.closest('#notebook-container');\n",
       "if (notebookContainer) {{\n",
       "    x.observe(notebookContainer, {childList: true});\n",
       "}}\n",
       "\n",
       "// Listen for the clearing of the current output cell\n",
       "var outputEl = gd.closest('.output');\n",
       "if (outputEl) {{\n",
       "    x.observe(outputEl, {childList: true});\n",
       "}}\n",
       "\n",
       "                        })\n",
       "                };\n",
       "                });\n",
       "            </script>\n",
       "        </div>"
      ]
     },
     "metadata": {},
     "output_type": "display_data"
    }
   ],
   "source": [
    "# Creating a 3D-Scatter with the PCA data and the clusters\n",
    "# Plot the 3D-scatter with x=\"PC 1\", y=\"PC 2\" and z=\"PC 3\"\n",
    "fig = px.scatter_3d(\n",
    "    clustered_df,\n",
    "    x=\"PC 1\",\n",
    "    y=\"PC 2\",\n",
    "    z=\"PC 3\",\n",
    "    color=\"class\",\n",
    "    symbol=\"class\",\n",
    "    width=800,\n",
    "    hover_name=\"CoinName\",\n",
    "    hover_data=[\"Algorithm\"]\n",
    ")\n",
    "fig.update_layout(legend=dict(x=0, y=1))\n",
    "fig.show()\n"
   ]
  },
  {
   "cell_type": "code",
   "execution_count": 90,
   "metadata": {},
   "outputs": [
    {
     "data": {
      "text/html": [
       "<div>\n",
       "<style scoped>\n",
       "    .dataframe tbody tr th:only-of-type {\n",
       "        vertical-align: middle;\n",
       "    }\n",
       "\n",
       "    .dataframe tbody tr th {\n",
       "        vertical-align: top;\n",
       "    }\n",
       "\n",
       "    .dataframe thead th {\n",
       "        text-align: right;\n",
       "    }\n",
       "</style>\n",
       "<table border=\"1\" class=\"dataframe\">\n",
       "  <thead>\n",
       "    <tr style=\"text-align: right;\">\n",
       "      <th></th>\n",
       "      <th>CoinName</th>\n",
       "      <th>Algorithm</th>\n",
       "      <th>ProofType</th>\n",
       "      <th>TotalCoinSupply</th>\n",
       "      <th>TotalCoinsMined</th>\n",
       "      <th>class</th>\n",
       "    </tr>\n",
       "  </thead>\n",
       "  <tbody>\n",
       "    <tr>\n",
       "      <th>42</th>\n",
       "      <td>42 Coin</td>\n",
       "      <td>Scrypt</td>\n",
       "      <td>PoW/PoS</td>\n",
       "      <td>42</td>\n",
       "      <td>4.199995e+01</td>\n",
       "      <td>0</td>\n",
       "    </tr>\n",
       "    <tr>\n",
       "      <th>404</th>\n",
       "      <td>404Coin</td>\n",
       "      <td>Scrypt</td>\n",
       "      <td>PoW/PoS</td>\n",
       "      <td>532000000</td>\n",
       "      <td>1.055185e+09</td>\n",
       "      <td>0</td>\n",
       "    </tr>\n",
       "    <tr>\n",
       "      <th>1337</th>\n",
       "      <td>EliteCoin</td>\n",
       "      <td>X13</td>\n",
       "      <td>PoW/PoS</td>\n",
       "      <td>314159265359</td>\n",
       "      <td>2.927942e+10</td>\n",
       "      <td>0</td>\n",
       "    </tr>\n",
       "    <tr>\n",
       "      <th>BTC</th>\n",
       "      <td>Bitcoin</td>\n",
       "      <td>SHA-256</td>\n",
       "      <td>PoW</td>\n",
       "      <td>21000000</td>\n",
       "      <td>1.792718e+07</td>\n",
       "      <td>1</td>\n",
       "    </tr>\n",
       "    <tr>\n",
       "      <th>ETH</th>\n",
       "      <td>Ethereum</td>\n",
       "      <td>Ethash</td>\n",
       "      <td>PoW</td>\n",
       "      <td>0</td>\n",
       "      <td>1.076842e+08</td>\n",
       "      <td>1</td>\n",
       "    </tr>\n",
       "    <tr>\n",
       "      <th>...</th>\n",
       "      <td>...</td>\n",
       "      <td>...</td>\n",
       "      <td>...</td>\n",
       "      <td>...</td>\n",
       "      <td>...</td>\n",
       "      <td>...</td>\n",
       "    </tr>\n",
       "    <tr>\n",
       "      <th>ZEPH</th>\n",
       "      <td>ZEPHYR</td>\n",
       "      <td>SHA-256</td>\n",
       "      <td>DPoS</td>\n",
       "      <td>2000000000</td>\n",
       "      <td>2.000000e+09</td>\n",
       "      <td>0</td>\n",
       "    </tr>\n",
       "    <tr>\n",
       "      <th>GAP</th>\n",
       "      <td>Gapcoin</td>\n",
       "      <td>Scrypt</td>\n",
       "      <td>PoW/PoS</td>\n",
       "      <td>250000000</td>\n",
       "      <td>1.493105e+07</td>\n",
       "      <td>0</td>\n",
       "    </tr>\n",
       "    <tr>\n",
       "      <th>BDX</th>\n",
       "      <td>Beldex</td>\n",
       "      <td>CryptoNight</td>\n",
       "      <td>PoW</td>\n",
       "      <td>1400222610</td>\n",
       "      <td>9.802226e+08</td>\n",
       "      <td>1</td>\n",
       "    </tr>\n",
       "    <tr>\n",
       "      <th>ZEN</th>\n",
       "      <td>Horizen</td>\n",
       "      <td>Equihash</td>\n",
       "      <td>PoW</td>\n",
       "      <td>21000000</td>\n",
       "      <td>7.296538e+06</td>\n",
       "      <td>1</td>\n",
       "    </tr>\n",
       "    <tr>\n",
       "      <th>XBC</th>\n",
       "      <td>BitcoinPlus</td>\n",
       "      <td>Scrypt</td>\n",
       "      <td>PoS</td>\n",
       "      <td>1000000</td>\n",
       "      <td>1.283270e+05</td>\n",
       "      <td>0</td>\n",
       "    </tr>\n",
       "  </tbody>\n",
       "</table>\n",
       "<p>533 rows × 6 columns</p>\n",
       "</div>"
      ],
      "text/plain": [
       "         CoinName    Algorithm ProofType TotalCoinSupply  TotalCoinsMined  \\\n",
       "42        42 Coin       Scrypt   PoW/PoS              42     4.199995e+01   \n",
       "404       404Coin       Scrypt   PoW/PoS       532000000     1.055185e+09   \n",
       "1337    EliteCoin          X13   PoW/PoS    314159265359     2.927942e+10   \n",
       "BTC       Bitcoin      SHA-256       PoW        21000000     1.792718e+07   \n",
       "ETH      Ethereum       Ethash       PoW               0     1.076842e+08   \n",
       "...           ...          ...       ...             ...              ...   \n",
       "ZEPH       ZEPHYR      SHA-256      DPoS      2000000000     2.000000e+09   \n",
       "GAP       Gapcoin       Scrypt   PoW/PoS       250000000     1.493105e+07   \n",
       "BDX        Beldex  CryptoNight       PoW      1400222610     9.802226e+08   \n",
       "ZEN       Horizen     Equihash       PoW        21000000     7.296538e+06   \n",
       "XBC   BitcoinPlus       Scrypt       PoS         1000000     1.283270e+05   \n",
       "\n",
       "      class  \n",
       "42        0  \n",
       "404       0  \n",
       "1337      0  \n",
       "BTC       1  \n",
       "ETH       1  \n",
       "...     ...  \n",
       "ZEPH      0  \n",
       "GAP       0  \n",
       "BDX       1  \n",
       "ZEN       1  \n",
       "XBC       0  \n",
       "\n",
       "[533 rows x 6 columns]"
      ]
     },
     "execution_count": 90,
     "metadata": {},
     "output_type": "execute_result"
    }
   ],
   "source": [
    "#clustered_df = clustered_df[['Algorithm', 'ProofType', 'TotalCoinsMined', 'TotalCoinSupply', 'PC 1', 'PC 2', 'PC 3','CoinName', 'class']]\n",
    "clustered_df = clustered_df[['CoinName', 'Algorithm', 'ProofType','TotalCoinSupply', 'TotalCoinsMined', 'class']]\n",
    "clustered_df"
   ]
  },
  {
   "cell_type": "code",
   "execution_count": 91,
   "metadata": {},
   "outputs": [
    {
     "data": {},
     "metadata": {},
     "output_type": "display_data"
    },
    {
     "data": {
      "application/vnd.holoviews_exec.v0+json": "",
      "text/html": [
       "<div id='2398'>\n",
       "\n",
       "\n",
       "\n",
       "\n",
       "\n",
       "  <div class=\"bk-root\" id=\"8f994afa-bd96-42fc-bb5e-d3efef0280a6\" data-root-id=\"2398\"></div>\n",
       "</div>\n",
       "<script type=\"application/javascript\">(function(root) {\n",
       "  function embed_document(root) {\n",
       "    var docs_json = {\"bbee8e02-ec90-482f-8cc3-edeb4cff7b38\":{\"defs\":[{\"extends\":null,\"module\":null,\"name\":\"ReactiveHTML1\",\"overrides\":[],\"properties\":[]},{\"extends\":null,\"module\":null,\"name\":\"FlexBox1\",\"overrides\":[],\"properties\":[{\"default\":\"flex-start\",\"kind\":null,\"name\":\"align_content\"},{\"default\":\"flex-start\",\"kind\":null,\"name\":\"align_items\"},{\"default\":\"row\",\"kind\":null,\"name\":\"flex_direction\"},{\"default\":\"wrap\",\"kind\":null,\"name\":\"flex_wrap\"},{\"default\":\"flex-start\",\"kind\":null,\"name\":\"justify_content\"}]},{\"extends\":null,\"module\":null,\"name\":\"TemplateActions1\",\"overrides\":[],\"properties\":[{\"default\":0,\"kind\":null,\"name\":\"open_modal\"},{\"default\":0,\"kind\":null,\"name\":\"close_modal\"}]},{\"extends\":null,\"module\":null,\"name\":\"MaterialTemplateActions1\",\"overrides\":[],\"properties\":[{\"default\":0,\"kind\":null,\"name\":\"open_modal\"},{\"default\":0,\"kind\":null,\"name\":\"close_modal\"}]}],\"roots\":{\"references\":[{\"attributes\":{\"children\":[{\"id\":\"2399\"},{\"id\":\"2432\"},{\"id\":\"2439\"}],\"margin\":[0,0,0,0],\"name\":\"Row04521\",\"tags\":[\"embedded\"]},\"id\":\"2398\",\"type\":\"Row\"},{\"attributes\":{\"editor\":{\"id\":\"2418\"},\"field\":\"TotalCoinSupply\",\"formatter\":{\"id\":\"2417\"},\"title\":\"TotalCoinSupply\"},\"id\":\"2419\",\"type\":\"TableColumn\"},{\"attributes\":{\"format\":\"0,0.0[00000]\"},\"id\":\"2422\",\"type\":\"NumberFormatter\"},{\"attributes\":{\"margin\":[5,5,5,5],\"name\":\"HSpacer04526\",\"sizing_mode\":\"stretch_width\"},\"id\":\"2439\",\"type\":\"Spacer\"},{\"attributes\":{},\"id\":\"2413\",\"type\":\"StringEditor\"},{\"attributes\":{},\"id\":\"2435\",\"type\":\"UnionRenderers\"},{\"attributes\":{},\"id\":\"2403\",\"type\":\"StringEditor\"},{\"attributes\":{},\"id\":\"2412\",\"type\":\"StringFormatter\"},{\"attributes\":{\"editor\":{\"id\":\"2403\"},\"field\":\"CoinName\",\"formatter\":{\"id\":\"2402\"},\"title\":\"CoinName\"},\"id\":\"2404\",\"type\":\"TableColumn\"},{\"attributes\":{\"margin\":[5,5,5,5],\"name\":\"HSpacer04525\",\"sizing_mode\":\"stretch_width\"},\"id\":\"2399\",\"type\":\"Spacer\"},{\"attributes\":{},\"id\":\"2407\",\"type\":\"StringFormatter\"},{\"attributes\":{},\"id\":\"2427\",\"type\":\"NumberFormatter\"},{\"attributes\":{\"editor\":{\"id\":\"2408\"},\"field\":\"Algorithm\",\"formatter\":{\"id\":\"2407\"},\"title\":\"Algorithm\"},\"id\":\"2409\",\"type\":\"TableColumn\"},{\"attributes\":{},\"id\":\"2423\",\"type\":\"NumberEditor\"},{\"attributes\":{},\"id\":\"2401\",\"type\":\"Selection\"},{\"attributes\":{},\"id\":\"2418\",\"type\":\"StringEditor\"},{\"attributes\":{},\"id\":\"2408\",\"type\":\"StringEditor\"},{\"attributes\":{\"editor\":{\"id\":\"2413\"},\"field\":\"ProofType\",\"formatter\":{\"id\":\"2412\"},\"title\":\"ProofType\"},\"id\":\"2414\",\"type\":\"TableColumn\"},{\"attributes\":{},\"id\":\"2402\",\"type\":\"StringFormatter\"},{\"attributes\":{},\"id\":\"2417\",\"type\":\"StringFormatter\"},{\"attributes\":{\"data\":{\"Algorithm\":[\"Scrypt\",\"Scrypt\",\"X13\",\"SHA-256\",\"Ethash\",\"Scrypt\",\"X11\",\"CryptoNight-V7\",\"Ethash\",\"Equihash\",\"SHA-512\",\"Multiple\",\"SHA-256\",\"SHA-256\",\"Scrypt\",\"X15\",\"X11\",\"Scrypt\",\"Scrypt\",\"Scrypt\",\"Multiple\",\"Scrypt\",\"SHA-256\",\"Scrypt\",\"Scrypt\",\"Scrypt\",\"Quark\",\"Groestl\",\"Scrypt\",\"Scrypt\",\"Scrypt\",\"Scrypt\",\"Scrypt\",\"X11\",\"Scrypt\",\"Groestl\",\"Multiple\",\"SHA-256\",\"Scrypt\",\"Scrypt\",\"Scrypt\",\"Scrypt\",\"PoS\",\"Scrypt\",\"Scrypt\",\"NeoScrypt\",\"Scrypt\",\"Scrypt\",\"Scrypt\",\"Scrypt\",\"X11\",\"Scrypt\",\"X11\",\"SHA-256\",\"Scrypt\",\"Scrypt\",\"Scrypt\",\"SHA3\",\"Scrypt\",\"HybridScryptHash256\",\"Scrypt\",\"Scrypt\",\"SHA-256\",\"Scrypt\",\"X13\",\"Scrypt\",\"SHA-256\",\"Scrypt\",\"X13\",\"NeoScrypt\",\"Scrypt\",\"Scrypt\",\"Scrypt\",\"Scrypt\",\"Scrypt\",\"Scrypt\",\"X11\",\"X11\",\"SHA-256\",\"Multiple\",\"SHA-256\",\"PHI1612\",\"X11\",\"SHA-256\",\"SHA-256\",\"SHA-256\",\"X11\",\"Scrypt\",\"Scrypt\",\"Scrypt\",\"Scrypt\",\"Lyra2REv2\",\"Scrypt\",\"X11\",\"Multiple\",\"SHA-256\",\"X13\",\"Scrypt\",\"CryptoNight\",\"CryptoNight\",\"Shabal256\",\"Counterparty\",\"Scrypt\",\"SHA-256\",\"Groestl\",\"Scrypt\",\"Scrypt\",\"Scrypt\",\"X13\",\"Scrypt\",\"Scrypt\",\"Scrypt\",\"Scrypt\",\"X13\",\"Scrypt\",\"Stanford Folding\",\"X11\",\"Multiple\",\"QuBit\",\"Scrypt\",\"Scrypt\",\"Scrypt\",\"M7 POW\",\"Scrypt\",\"SHA-256\",\"Scrypt\",\"X11\",\"SHA3\",\"X11\",\"Lyra2RE\",\"SHA-256\",\"QUAIT\",\"X11\",\"X11\",\"Scrypt\",\"Scrypt\",\"Scrypt\",\"Ethash\",\"X13\",\"Blake2b\",\"SHA-256\",\"X15\",\"X11\",\"SHA-256\",\"BLAKE256\",\"Scrypt\",\"1GB AES Pattern Search\",\"SHA-256\",\"X11\",\"Scrypt\",\"SHA-256\",\"SHA-256\",\"NIST5\",\"Scrypt\",\"Scrypt\",\"X11\",\"Dagger\",\"Scrypt\",\"X11GOST\",\"X11\",\"Scrypt\",\"SHA-256\",\"Scrypt\",\"PoS\",\"Scrypt\",\"X11\",\"X11\",\"SHA-256\",\"SHA-256\",\"NIST5\",\"X11\",\"Scrypt\",\"POS 3.0\",\"Scrypt\",\"Scrypt\",\"Scrypt\",\"X13\",\"X11\",\"X11\",\"Equihash\",\"X11\",\"Scrypt\",\"CryptoNight\",\"SHA-256\",\"SHA-256\",\"X11\",\"Scrypt\",\"Multiple\",\"Scrypt\",\"Scrypt\",\"Scrypt\",\"SHA-256\",\"Scrypt\",\"Scrypt\",\"SHA-256D\",\"PoS\",\"Scrypt\",\"X11\",\"Lyra2Z\",\"PoS\",\"X13\",\"X14\",\"PoS\",\"SHA-256D\",\"Ethash\",\"Equihash\",\"DPoS\",\"X11\",\"Scrypt\",\"X11\",\"X13\",\"X11\",\"PoS\",\"Scrypt\",\"Scrypt\",\"X11\",\"PoS\",\"X11\",\"SHA-256\",\"Scrypt\",\"X11\",\"Scrypt\",\"Scrypt\",\"X11\",\"CryptoNight\",\"Scrypt\",\"Scrypt\",\"Scrypt\",\"Scrypt\",\"Quark\",\"QuBit\",\"Scrypt\",\"CryptoNight\",\"Lyra2RE\",\"Scrypt\",\"SHA-256\",\"X11\",\"Scrypt\",\"X11\",\"Scrypt\",\"CryptoNight-V7\",\"Scrypt\",\"Scrypt\",\"Scrypt\",\"X13\",\"X11\",\"Equihash\",\"Scrypt\",\"Scrypt\",\"Lyra2RE\",\"Scrypt\",\"Dagger-Hashimoto\",\"X11\",\"Blake2S\",\"X11\",\"Scrypt\",\"PoS\",\"X11\",\"NIST5\",\"PoS\",\"X11\",\"Scrypt\",\"Scrypt\",\"Scrypt\",\"SHA-256\",\"X11\",\"Scrypt\",\"Scrypt\",\"SHA-256\",\"PoS\",\"Scrypt\",\"X15\",\"SHA-256\",\"Scrypt\",\"POS 3.0\",\"CryptoNight-V7\",\"536\",\"Argon2d\",\"Blake2b\",\"Cloverhash\",\"CryptoNight\",\"NIST5\",\"X11\",\"NIST5\",\"Skein\",\"Scrypt\",\"X13\",\"Scrypt\",\"X11\",\"X11\",\"Scrypt\",\"CryptoNight\",\"X13\",\"Time Travel\",\"Scrypt\",\"Keccak\",\"SkunkHash v2 Raptor\",\"X11\",\"Skein\",\"SHA-256\",\"X11\",\"Scrypt\",\"VeChainThor Authority\",\"Scrypt\",\"PoS\",\"Scrypt\",\"Scrypt\",\"Scrypt\",\"Scrypt\",\"Scrypt\",\"Scrypt\",\"Scrypt\",\"CryptoNight\",\"SHA-512\",\"Ouroboros\",\"X11\",\"Equihash\",\"NeoScrypt\",\"X11\",\"Scrypt\",\"NeoScrypt\",\"Lyra2REv2\",\"Equihash\",\"Scrypt\",\"SHA-256\",\"NIST5\",\"PHI1612\",\"Dagger\",\"Scrypt\",\"Quark\",\"Scrypt\",\"POS 2.0\",\"Scrypt\",\"SHA-256\",\"X11\",\"NeoScrypt\",\"Ethash\",\"NeoScrypt\",\"X11\",\"DPoS\",\"NIST5\",\"X13\",\"Multiple\",\"Scrypt\",\"CryptoNight\",\"CryptoNight\",\"Ethash\",\"NIST5\",\"Quark\",\"X11\",\"CryptoNight-V7\",\"Scrypt\",\"Scrypt\",\"Scrypt\",\"X11\",\"BLAKE256\",\"X11\",\"NeoScrypt\",\"Quark\",\"NeoScrypt\",\"Scrypt\",\"Scrypt\",\"Scrypt\",\"X11\",\"X11\",\"SHA-256\",\"C11\",\"POS 3.0\",\"Ethash\",\"Scrypt\",\"CryptoNight\",\"SkunkHash\",\"Scrypt\",\"CryptoNight\",\"Scrypt\",\"Dagger\",\"Lyra2REv2\",\"X13\",\"Proof-of-BibleHash\",\"SHA-256 + Hive\",\"Scrypt\",\"Scrypt\",\"X11\",\"C11\",\"Proof-of-Authority\",\"X11\",\"XEVAN\",\"Scrypt\",\"VBFT\",\"Ethash\",\"CryptoNight\",\"Scrypt\",\"IMesh\",\"NIST5\",\"Scrypt\",\"Scrypt\",\"Equihash\",\"Scrypt\",\"Lyra2Z\",\"Green Protocol\",\"PoS\",\"Scrypt\",\"Semux BFT consensus\",\"X11\",\"Quark\",\"PoS\",\"CryptoNight\",\"X16R\",\"Scrypt\",\"NIST5\",\"Lyra2RE\",\"XEVAN\",\"Tribus\",\"Scrypt\",\"Lyra2Z\",\"CryptoNight\",\"CryptoNight Heavy\",\"CryptoNight\",\"Scrypt\",\"Scrypt\",\"Jump Consistent Hash\",\"SHA-256D\",\"CryptoNight\",\"Scrypt\",\"X15\",\"Scrypt\",\"Quark\",\"SHA-256\",\"DPoS\",\"X16R\",\"HMQ1725\",\"X11\",\"X16R\",\"Quark\",\"Quark\",\"Scrypt\",\"Lyra2REv2\",\"Quark\",\"Scrypt\",\"Scrypt\",\"CryptoNight-V7\",\"Cryptonight-GPU\",\"XEVAN\",\"CryptoNight Heavy\",\"X11\",\"X11\",\"Scrypt\",\"PoS\",\"SHA-256\",\"Keccak\",\"X11\",\"X11\",\"Scrypt\",\"SHA-512\",\"X16R\",\"ECC 256K1\",\"Equihash\",\"XEVAN\",\"Lyra2Z\",\"SHA-256\",\"XEVAN\",\"X11\",\"CryptoNight\",\"Quark\",\"Blake\",\"Blake\",\"Equihash\",\"Exosis\",\"Scrypt\",\"Scrypt\",\"Equihash\",\"Quark\",\"Equihash\",\"Quark\",\"Scrypt\",\"QuBit\",\"X11\",\"Scrypt\",\"XEVAN\",\"SHA-256D\",\"X11\",\"SHA-256\",\"X13\",\"SHA-256\",\"X11\",\"DPoS\",\"Scrypt\",\"Scrypt\",\"X11\",\"NeoScrypt\",\"Scrypt\",\"Blake\",\"Scrypt\",\"SHA-256\",\"Scrypt\",\"X11\",\"Scrypt\",\"Scrypt\",\"SHA-256\",\"X11\",\"SHA-256\",\"Scrypt\",\"Scrypt\",\"Scrypt\",\"Groestl\",\"X11\",\"Scrypt\",\"PoS\",\"Scrypt\",\"Scrypt\",\"X11\",\"SHA-256\",\"DPoS\",\"Scrypt\",\"Scrypt\",\"NeoScrypt\",\"SHA3-256\",\"Multiple\",\"X13\",\"Equihash+Scrypt\",\"DPoS\",\"Ethash\",\"DPoS\",\"SHA-256\",\"Leased POS\",\"PoS\",\"TRC10\",\"PoS\",\"SHA-256\",\"Scrypt\",\"CryptoNight\",\"Equihash\",\"Scrypt\"],\"CoinName\":[\"42 Coin\",\"404Coin\",\"EliteCoin\",\"Bitcoin\",\"Ethereum\",\"Litecoin\",\"Dash\",\"Monero\",\"Ethereum Classic\",\"ZCash\",\"Bitshares\",\"DigiByte\",\"BitcoinDark\",\"PayCoin\",\"ProsperCoin\",\"KoboCoin\",\"Spreadcoin\",\"Argentum\",\"Aurora Coin\",\"BlueCoin\",\"MyriadCoin\",\"MoonCoin\",\"ZetaCoin\",\"SexCoin\",\"Quatloo\",\"EnergyCoin\",\"QuarkCoin\",\"Riecoin\",\"Digitalcoin \",\"BitBar\",\"Catcoin\",\"CryptoBullion\",\"CannaCoin\",\"CryptCoin\",\"CasinoCoin\",\"Diamond\",\"Verge\",\"DevCoin\",\"EarthCoin\",\"E-Gulden\",\"Einsteinium\",\"Emerald\",\"Exclusive Coin\",\"FlutterCoin\",\"Franko\",\"FeatherCoin\",\"GrandCoin\",\"GlobalCoin\",\"GoldCoin\",\"HoboNickels\",\"HyperStake\",\"Infinite Coin\",\"IOCoin\",\"IXcoin\",\"KrugerCoin\",\"LuckyCoin\",\"Litebar \",\"MaxCoin\",\"MegaCoin\",\"MediterraneanCoin\",\"MintCoin\",\"MinCoin\",\"MazaCoin\",\"Nautilus Coin\",\"NavCoin\",\"NobleCoin\",\"Namecoin\",\"NyanCoin\",\"OpalCoin\",\"Orbitcoin\",\"PotCoin\",\"PhoenixCoin\",\"Reddcoin\",\"RonPaulCoin\",\"StableCoin\",\"SmartCoin\",\"SuperCoin\",\"SyncCoin\",\"SysCoin\",\"TeslaCoin\",\"TigerCoin\",\"TittieCoin\",\"TorCoin\",\"TerraCoin\",\"UnbreakableCoin\",\"Unobtanium\",\"UroCoin\",\"UnitaryStatus Dollar\",\"UltraCoin\",\"ViaCoin\",\"VeriCoin\",\"Vertcoin\",\"WorldCoin\",\"X11 Coin\",\"Crypti\",\"JouleCoin\",\"StealthCoin\",\"ZCC Coin\",\"ByteCoin\",\"DigitalNote \",\"BurstCoin\",\"StorjCoin\",\"MonaCoin\",\"Neutron\",\"FairCoin\",\"Gulden\",\"RubyCoin\",\"PesetaCoin\",\"Kore\",\"Wild Beast Coin\",\"Dnotes\",\"Flo\",\"8BIT Coin\",\"Sativa Coin\",\"ArtByte\",\"Folding Coin\",\"Ucoin\",\"Unitus\",\"CypherPunkCoin\",\"OmniCron\",\"Vtorrent\",\"GreenCoin\",\"Cryptonite\",\"MasterCoin\",\"SoonCoin\",\"1Credit\",\"IslaCoin\",\"Nexus\",\"MarsCoin \",\"Crypto\",\"Anarchists Prime\",\"Droidz\",\"BowsCoin\",\"Squall Coin\",\"Song Coin\",\"BitZeny\",\"Diggits\",\"Expanse\",\"Paycon\",\"Siacoin\",\"Emercoin\",\"EverGreenCoin\",\"MindCoin\",\"I0coin\",\"Decred\",\"Revolution VR\",\"HOdlcoin\",\"EDRCoin\",\"Hitcoin\",\"Gamecredits\",\"DubaiCoin\",\"CarpeDiemCoin\",\"PWR Coin\",\"BillaryCoin\",\"GPU Coin\",\"Adzcoin\",\"SoilCoin\",\"YoCoin\",\"SibCoin\",\"EuropeCoin\",\"ZeitCoin\",\"SwingCoin\",\"SafeExchangeCoin\",\"Nebuchadnezzar\",\"Francs\",\"BolivarCoin\",\"Ratecoin\",\"Revenu\",\"Clockcoin\",\"VIP Tokens\",\"BitSend\",\"Omni\",\"Let it Ride\",\"PutinCoin\",\"iBankCoin\",\"Frankywillcoin\",\"MudraCoin\",\"PizzaCoin\",\"Lutetium Coin\",\"Komodo\",\"GoldBlocks\",\"CarterCoin\",\"Karbo\",\"BitTokens\",\"ZayedCoin\",\"MustangCoin\",\"ZoneCoin\",\"Circuits of Value\",\"RootCoin\",\"DopeCoin\",\"BitCurrency\",\"DollarCoin\",\"Swiscoin\",\"Shilling\",\"BuzzCoin\",\"Opair\",\"PesoBit\",\"Halloween Coin\",\"ZCoin\",\"CoffeeCoin\",\"RoyalCoin\",\"GanjaCoin V2\",\"TeamUP\",\"LanaCoin\",\"Elementrem\",\"ZClassic\",\"ARK\",\"InsaneCoin\",\"KiloCoin\",\"ArtexCoin\",\"EmberCoin\",\"XenixCoin\",\"FreeCoin\",\"PLNCoin\",\"AquariusCoin\",\"Kurrent\",\"Creatio\",\"Eternity\",\"Eurocoin\",\"BitcoinFast\",\"Stakenet\",\"BitConnect Coin\",\"MoneyCoin\",\"Enigma\",\"Cannabis Industry Coin\",\"Russiacoin\",\"PandaCoin\",\"GameUnits\",\"GAKHcoin\",\"Allsafe\",\"LiteCreed\",\"OsmiumCoin\",\"Bikercoins\",\"HexxCoin\",\"Klingon Empire Darsek\",\"Internet of People\",\"KushCoin\",\"Printerium\",\"PacCoin\",\"Impeach\",\"Citadel\",\"Zilbercoin\",\"FirstCoin\",\"BeaverCoin\",\"FindCoin\",\"VaultCoin\",\"Zero\",\"OpenChat\",\"Canada eCoin\",\"Zoin\",\"RenosCoin\",\"DubaiCoin\",\"VirtacoinPlus\",\"TajCoin\",\"Impact\",\"EB3coin\",\"Atmos\",\"HappyCoin\",\"Coinonat\",\"MacronCoin\",\"Condensate\",\"Independent Money System\",\"ArgusCoin\",\"LomoCoin\",\"ProCurrency\",\"GoldReserve\",\"BenjiRolls\",\"GrowthCoin\",\"ILCoin\",\"Phreak\",\"Degas Coin\",\"HTML5 Coin\",\"Ultimate Secure Cash\",\"EquiTrader\",\"QTUM\",\"Quantum Resistant Ledger\",\"Espers\",\"Dynamic\",\"Nano\",\"ChanCoin\",\"Dinastycoin\",\"Denarius\",\"DigitalPrice\",\"Virta Unique Coin\",\"Bitcoin Planet\",\"Unify\",\"BritCoin\",\"SocialCoin\",\"ArcticCoin\",\"DAS\",\"Linda\",\"LeviarCoin\",\"DeepOnion\",\"Bitcore\",\"gCn Coin\",\"SmartCash\",\"Signatum\",\"Onix\",\"Cream\",\"Bitcoin Cash\",\"Monoeci\",\"Draftcoin\",\"Vechain\",\"Sojourn Coin\",\"Stakecoin\",\"NewYorkCoin\",\"FrazCoin\",\"Kronecoin\",\"AdCoin\",\"Linx\",\"CoinonatX\",\"Ethereum Dark\",\"Sumokoin\",\"Obsidian\",\"Cardano\",\"Regalcoin\",\"BitcoinZ\",\"TrezarCoin\",\"Elements\",\"TerraNovaCoin\",\"VIVO Coin\",\"Rupee\",\"Bitcoin Gold\",\"WomenCoin\",\"Theresa May Coin\",\"NamoCoin\",\"LUXCoin\",\"Pirl\",\"Xios\",\"Bitcloud 2.0\",\"eBoost\",\"KekCoin\",\"BlackholeCoin\",\"Infinity Economics\",\"Pura\",\"Innova\",\"Ellaism\",\"GoByte\",\"Magnet\",\"Lamden Tau\",\"Electra\",\"Bitcoin Diamond\",\"SHIELD\",\"Cash & Back Coin\",\"UltraNote\",\"BitCoal\",\"DaxxCoin\",\"Bulwark\",\"Kalkulus\",\"AC3\",\"Lethean\",\"GermanCoin\",\"LiteCoin Ultra\",\"PopularCoin\",\"PhantomX\",\"Photon\",\"Sucre\",\"SparksPay\",\"Digiwage\",\"GunCoin\",\"IrishCoin\",\"Trollcoin\",\"Litecoin Plus\",\"Monkey Project\",\"Pioneer Coin\",\"UnitedBitcoin\",\"Interzone\",\"TokenPay\",\"1717 Masonic Commemorative Token\",\"My Big Coin\",\"TurtleCoin\",\"MUNcoin\",\"Unified Society USDEX\",\"Niobio Cash\",\"ShareChain\",\"Travelflex\",\"KREDS\",\"Tokyo Coin\",\"BiblePay\",\"LitecoinCash\",\"BitFlip\",\"LottoCoin\",\"Crypto Improvement Fund\",\"Stipend\",\"Poa Network\",\"Pushi\",\"Ellerium\",\"Velox\",\"Ontology\",\"Callisto Network\",\"BitTube\",\"Poseidon\",\"Aidos Kuneen\",\"Bitspace\",\"Briacoin\",\"Ignition\",\"Bitrolium\",\"MedicCoin\",\"Alpenschillling\",\"Bitcoin Green\",\"Deviant Coin\",\"Abjcoin\",\"Semux\",\"FuturoCoin\",\"Carebit\",\"Zealium\",\"Monero Classic\",\"Proton\",\"iDealCash\",\"Jumpcoin\",\"Infinex\",\"Bitcoin Incognito\",\"KEYCO\",\"HollyWoodCoin\",\"GINcoin\",\"PlatinCoin\",\"Loki\",\"Newton Coin\",\"Swisscoin\",\"Xt3ch\",\"MassGrid\",\"TheVig\",\"PluraCoin\",\"EmaratCoin\",\"Dekado\",\"Lynx\",\"Poseidon Quark\",\"BitcoinWSpectrum\",\"Muse\",\"Motion\",\"PlusOneCoin\",\"Axe\",\"Trivechain\",\"Dystem\",\"Giant\",\"Peony Coin\",\"Absolute Coin\",\"Vitae\",\"HexCoin\",\"TPCash\",\"Webchain\",\"Ryo\",\"Urals Coin\",\"Qwertycoin\",\"ARENON\",\"EUNO\",\"MMOCoin\",\"Ketan\",\"Project Pai\",\"XDNA\",\"PAXEX\",\"Azart\",\"ThunderStake\",\"Kcash\",\"Xchange\",\"Acute Angle Cloud\",\"CrypticCoin\",\"Bettex coin\",\"Actinium\",\"Bitcoin SV\",\"BitMoney\",\"Junson Ming Chan Coin\",\"FREDEnergy\",\"HerbCoin\",\"Universal Molecule\",\"Lithium\",\"PirateCash\",\"Exosis\",\"Block-Logic\",\"Oduwa\",\"Beam\",\"Galilel\",\"Bithereum\",\"Crypto Sports\",\"Credit\",\"SLICE\",\"Dash Platinum\",\"Nasdacoin\",\"Beetle Coin\",\"Titan Coin\",\"Award\",\"BLAST\",\"Bitcoin Rhodium\",\"GlobalToken\",\"Insane Coin\",\"ALAX\",\"LiteDoge\",\"SolarCoin\",\"TruckCoin\",\"UFO Coin\",\"OrangeCoin\",\"BlakeCoin\",\"BitstarCoin\",\"NeosCoin\",\"HyperCoin\",\"PinkCoin\",\"Crypto Escudo\",\"AudioCoin\",\"IncaKoin\",\"Piggy Coin\",\"Crown Coin\",\"Genstake\",\"SmileyCoin\",\"XiaoMiCoin\",\"Groestlcoin\",\"CapriCoin\",\" ClubCoin\",\"Radium\",\"Bata\",\"Pakcoin\",\"Creditbit \",\"OKCash\",\"Lisk\",\"HiCoin\",\"WhiteCoin\",\"FriendshipCoin\",\"Fiii\",\"JoinCoin\",\"Triangles Coin\",\"Vollar\",\"EOS\",\"Reality Clash\",\"Oxycoin\",\"TigerCash\",\"Waves\",\"Particl\",\"BitTorrent\",\"Nxt\",\"ZEPHYR\",\"Gapcoin\",\"Beldex\",\"Horizen\",\"BitcoinPlus\"],\"ProofType\":[\"PoW/PoS\",\"PoW/PoS\",\"PoW/PoS\",\"PoW\",\"PoW\",\"PoW\",\"PoW/PoS\",\"PoW\",\"PoW\",\"PoW\",\"PoS\",\"PoW\",\"PoW/PoS\",\"PoS\",\"PoW\",\"PoW/PoS\",\"PoW\",\"PoW\",\"PoW/PoS\",\"PoW/PoS\",\"PoW\",\"PoW\",\"PoW\",\"PoW\",\"PoW\",\"PoW/PoS\",\"PoW\",\"PoW\",\"PoW\",\"PoW/PoS\",\"PoW\",\"PoW/PoS\",\"PoW\",\"PoW\",\"PoC\",\"PoW/PoS\",\"PoW\",\"PoW\",\"PoW\",\"PoW\",\"PoW\",\"PoW\",\"PoS\",\"PoS/PoW/PoT\",\"PoW\",\"PoW\",\"PoW\",\"PoW\",\"PoW\",\"PoW/PoS\",\"PoS\",\"PoW\",\"PoW/PoS\",\"PoW\",\"PoW\",\"PoW\",\"PoW\",\"PoW/PoS\",\"PoW\",\"PoW\",\"PoS\",\"PoW\",\"PoW/PoS\",\"PoS\",\"PoW/PoS\",\"PoW\",\"PoW\",\"PoW\",\"PoW/PoS\",\"PoW/PoS\",\"PoW/PoS\",\"PoW/PoS\",\"PoW/PoS\",\"PoW\",\"PoW\",\"PoW\",\"PoS\",\"PoW/PoS\",\"PoW\",\"PoS\",\"PoW\",\"PoS\",\"PoW/PoS\",\"PoW\",\"PoW\",\"PoW\",\"PoW\",\"PoW/PoS\",\"PoW/PoS\",\"PoW\",\"PoST\",\"PoW\",\"PoW\",\"PoW/PoS\",\"PoS\",\"PoW\",\"PoW/PoS\",\"PoW/PoS\",\"PoW\",\"PoW\",\"PoC\",\"PoS\",\"PoW\",\"PoW/PoS\",\"PoW/PoS\",\"PoW\",\"PoS\",\"PoW\",\"PoW/PoS\",\"PoW\",\"PoS\",\"PoW\",\"PoW/PoS\",\"PoW/PoS\",\"PoW\",\"PoW\",\"PoS\",\"PoW\",\"PoW\",\"PoW\",\"PoW/PoS\",\"PoW\",\"PoW\",\"PoW\",\"PoW\",\"PoW\",\"PoW/PoS\",\"PoW/nPoS\",\"PoW\",\"PoW\",\"PoW\",\"PoW/PoS\",\"PoW\",\"PoS/PoW\",\"PoW\",\"PoW\",\"PoS\",\"PoW\",\"PoW/PoS\",\"PoW\",\"PoW/PoS\",\"PoW/PoS\",\"PoW\",\"PoW\",\"PoW/PoS\",\"PoW\",\"PoW\",\"PoW/PoS\",\"PoW/PoS\",\"PoW\",\"PoW/PoS\",\"PoW\",\"PoW/PoS\",\"PoW/PoS\",\"PoS\",\"PoW\",\"PoW\",\"PoW\",\"PoW\",\"PoW/PoS\",\"PoS\",\"PoW/PoS\",\"PoC\",\"PoS\",\"PoW\",\"PoW\",\"PoW/PoS\",\"PoW/PoS\",\"PoW/PoS\",\"PoW/PoS\",\"PoW/PoS\",\"PoW\",\"PoS\",\"PoW/PoS\",\"PoW/PoS\",\"PoW/PoS\",\"PoS\",\"PoW\",\"PoS\",\"dPoW/PoW\",\"PoW/PoS\",\"PoW/PoS\",\"PoW\",\"PoW/PoS\",\"PoW\",\"PoW/PoS\",\"PoW/PoS\",\"PoW\",\"PoW/PoS\",\"PoW\",\"PoS\",\"PoW\",\"PoW/PoW\",\"PoW\",\"PoW/PoS\",\"PoS\",\"PoW/PoS\",\"PoW/PoS\",\"PoW\",\"PoS\",\"PoS\",\"PoW/PoS\",\"PoS\",\"PoW/PoS\",\"PoW\",\"PoW\",\"DPoS\",\"PoW/PoS\",\"PoW\",\"PoW\",\"PoW/PoS\",\"PoW/PoS\",\"PoS\",\"PoW/PoS\",\"PoW/PoS\",\"PoW\",\"PoS\",\"PoW/PoS\",\"PoW/PoS\",\"PoW/PoS\",\"TPoS\",\"PoW/PoS\",\"PoW/PoS\",\"PoW/PoS\",\"PoW\",\"PoW/PoS\",\"PoS\",\"PoW/PoS\",\"PoW/PoS\",\"PoS\",\"PoW/PoS\",\"PoW\",\"PoW\",\"PoW\",\"PoW/PoS\",\"PoW/PoS\",\"PoW/PoS\",\"PoW/PoS\",\"PoW\",\"PoW/PoS\",\"PoW\",\"PoS\",\"PoW/PoS \",\"PoW\",\"PoS\",\"PoW\",\"PoW\",\"PoW/PoS\",\"PoW\",\"PoW\",\"PoS\",\"PoW\",\"PoW/PoS\",\"PoW/PoS\",\"PoW/PoS\",\"PoW\",\"PoS\",\"PoW/PoS\",\"PoW\",\"PoS\",\"PoW/PoS\",\"PoW/PoS\",\"PoW/PoS\",\"PoW/PoS\",\"PoS\",\"PoW/PoS\",\"PoW\",\"PoS\",\"PoW\",\"PoS\",\"PoW/PoS\",\"PoW/PoS\",\"PoS\",\"PoW\",\"PoS\",\"PoW\",\"PoW/PoS\",\"PoW\",\"PoW\",\"PoW\",\"PoW\",\"PoW/PoS\",\"PoW\",\"PoW/PoS\",\"PoW/PoS\",\"PoW\",\"PoW/PoS\",\"PoW\",\"PoW\",\"PoW\",\"PoW/PoS\",\"PoW\",\"PoW/PoS\",\"PoW\",\"PoW\",\"PoW\",\"PoS\",\"PoW\",\"PoW/PoS\",\"PoW\",\"PoW/PoS\",\"PoS\",\"Proof of Authority\",\"PoW\",\"PoS\",\"PoW\",\"PoW\",\"PoW\",\"PoW\",\"PoW\",\"PoW/PoS\",\"PoW/PoS\",\"PoW\",\"PoS\",\"PoS\",\"PoW/PoS\",\"PoW\",\"PoW/PoS\",\"PoW\",\"PoW/PoS\",\"PoW\",\"PoS\",\"PoW\",\"PoW/PoS\",\"PoW/PoS\",\"PoW/PoS\",\"PoW/PoS\",\"PoW\",\"PoW/PoS\",\"PoW/PoS\",\"PoW\",\"PoS\",\"PoW/PoS\",\"PoS\",\"PoW\",\"PoW\",\"PoW\",\"PoW\",\"PoW/PoS\",\"DPoS\",\"PoW/PoS\",\"PoW/PoS\",\"PoW\",\"PoW/PoS\",\"PoW\",\"PoW\",\"PoW\",\"PoS\",\"PoS\",\"PoW\",\"PoW\",\"PoW/PoS\",\"PoW/PoS\",\"PoW\",\"PoW/PoS\",\"PoW\",\"PoW\",\"PoW\",\"PoS\",\"PoW\",\"PoW\",\"PoW/PoS\",\"PoW/PoS\",\"PoS\",\"PoW\",\"PoW\",\"PoW\",\"PoS\",\"PoS\",\"PoW and PoS\",\"PoW\",\"PoW\",\"PoW/PoS\",\"PoW\",\"PoW\",\"PoW\",\"PoW\",\"PoS\",\"POBh\",\"PoW + Hive\",\"PoW\",\"PoW\",\"PoW\",\"PoW/PoS\",\"PoA\",\"PoW/PoS\",\"PoW/PoS\",\"PoS\",\"PoS\",\"PoW\",\"PoW\",\"PoW\",\"PoW\",\"PoW/PoS\",\"PoW/PoS\",\"PoW/PoS\",\"PoW\",\"PoS\",\"PoW\",\"PoS\",\"PoS\",\"PoW/PoS\",\"DPoS\",\"PoW\",\"PoW/PoS\",\"PoS\",\"PoW\",\"PoS\",\"PoW/PoS\",\"PoW\",\"PoW\",\"PoS/PoW\",\"PoW\",\"PoS\",\"PoW\",\"PoW\",\"PoW\",\"PoW\",\"PoW/PoS\",\"PoS\",\"PoW\",\"PoW/PoS\",\"PoW\",\"PoW/PoS\",\"PoS\",\"HPoW\",\"PoS\",\"PoS\",\"PoS\",\"PoW\",\"PoW\",\"PoW\",\"PoW/PoS\",\"PoS\",\"PoW/PoS\",\"PoS\",\"PoW/PoS\",\"PoS\",\"PoW\",\"PoW/PoS\",\"PoW\",\"PoW\",\"PoW\",\"PoW\",\"PoS\",\"PoW/PoS\",\"PoS\",\"PoS\",\"PoW\",\"PoW/PoS\",\"PoS\",\"PoW\",\"PoW/PoS\",\"Zero-Knowledge Proof\",\"PoW\",\"DPOS\",\"PoW\",\"PoS\",\"PoW\",\"PoW\",\"Pos\",\"PoS\",\"PoW\",\"PoW/PoS\",\"PoW\",\"PoW\",\"PoS\",\"PoW\",\"PoW\",\"PoW/PoS\",\"PoW\",\"PoW/PoS\",\"PoW\",\"PoS\",\"PoW/PoS\",\"PoW\",\"PoS\",\"PoW/PoS\",\"PoW/PoS\",\"PoW/PoS\",\"PoW/PoS\",\"PoW\",\"PoW\",\"PoW\",\"PoW/PoS\",\"DPoS\",\"PoW/PoS\",\"PoW\",\"PoW/PoS\",\"PoW\",\"PoW/PoS\",\"PoW\",\"PoW/PoS\",\"PoS\",\"PoW/PoS\",\"PoW/PoS\",\"PoW\",\"PoW/PoS\",\"PoW/PoS\",\"PoW/PoS\",\"PoW\",\"PoW/PoS\",\"PoW\",\"PoW/PoS\",\"PoW\",\"PoW/PoS\",\"PoW/PoS\",\"PoS\",\"PoW\",\"PoW\",\"Proof of Trust\",\"PoW/PoS\",\"DPoS\",\"PoS\",\"PoW/PoS\",\"PoW/PoS\",\"DPoC\",\"PoW\",\"PoW/PoS\",\"PoW\",\"DPoS\",\"PoW\",\"DPoS\",\"PoS\",\"LPoS\",\"PoS\",\"DPoS\",\"PoS/LPoS\",\"DPoS\",\"PoW/PoS\",\"PoW\",\"PoW\",\"PoS\"],\"TotalCoinSupply\":[\"42\",\"532000000\",\"314159265359\",\"21000000\",\"0\",\"84000000\",\"22000000\",\"0\",\"210000000\",\"21000000\",\"3600570502\",\"21000000000\",\"22000000\",\"12500000\",\"21000000\",\"350000000\",\"20000000\",\"64000000\",\"16768584\",\"0\",\"2000000000\",\"384000000000\",\"169795588\",\"250000000\",\"100000000\",\"0\",\"247000000\",\"84000000\",\"48166000\",\"500000\",\"21000000 \",\"1000000\",\"13140000\",\"18000000\",\"40000000000\",\"4380000\",\"16555000000\",\"21000000000\",\"13500000000\",\"21000000 \",\"299792458\",\"32000000\",\"0\",\"0\",\"11235813\",\"336000000\",\"1420609614\",\"70000000\",\"72245700\",\"120000000\",\"0\",\"90600000000\",\"22000000\",\"21000000\",\"265420800\",\"20000000\",\"1350000\",\"100000000\",\"42000000\",\"200000000\",\"0\",\"10000000\",\"2419200000\",\"16180000\",\"0\",\"15000000000\",\"21000000\",\"337000000\",\"0\",\"3770000\",\"420000000\",\"98000000\",\"0\",\"21000000\",\"250000000\",\"51200000\",\"0\",\"1000\",\"888000000\",\"100000000\",\"47011968\",\"2300000000\",\"10000000\",\"42000000\",\"80000000\",\"250000\",\"0\",\"1600000000\",\"100000000\",\"23000000\",\"0\",\"84000000\",\"265420800\",\"5500000\",\"0\",\"45000000\",\"0\",\"1000000000\",\"184467440735\",\"10000000000\",\"2158812800\",\"500000000\",\"105120000\",\"68000000\",\"0\",\"1680000000\",\"0\",\"166386000\",\"12000000\",\"2628000\",\"500000000\",\"160000000\",\"0\",\"10000000\",\"1000000000\",\"1000000000\",\"20000000\",\"0\",\"0\",\"3371337\",\"20000000\",\"10000000000\",\"1840000000\",\"619478\",\"21000000\",\"92000000000\",\"0\",\"78000000\",\"33000000\",\"65789100\",\"53760000\",\"5060000\",\"21000000\",\"0\",\"210240000\",\"250000000\",\"100000000\",\"16906397\",\"50000000\",\"0\",\"1000000000\",\"26298000\",\"16000000\",\"21000000\",\"21000000\",\"210000000\",\"81962100\",\"22000000\",\"26550000000\",\"84000000\",\"10500000\",\"21626280000 \",\"0\",\"42000000\",\"221052632\",\"84000000\",\"30000000\",\"168351300\",\"24000000\",\"384000000\",\" 99000000000\",\"40000000\",\"2147483647\",\"20000000\",\"20000000\",\"25000000\",\"75000000\",\"222725000\",\"525000000\",\"90000000\",\"139000000\",\"616448\",\"33500000\",\"2000000000\",\"44333333\",\"100000000\",\"200000000\",\"25000000\",\"657000000\",\"200000000\",\"50000000\",\"90000000\",\"10000000\",\"21000000\",\"9736000\",\"3000000\",\"21000000\",\"1200000000\",\"0\",\"200000000\",\"0\",\"10638298\",\"3100000000\",\"30000000\",\"20000000000\",\"74000000\",\"0\",\"1500000000\",\"21400000\",\"39999898\",\"2500124\",\"100000000\",\"301000000\",\"7506000000\",\"26205539\",\"21000000\",\"125000000\",\"30000000\",\"10000000000\",\"500000000\",\"850000000\",\"3853326.77707314\",\"50000000\",\"38540000 \",\"42000000\",\"228000000\",\"20000000\",\"60000000\",\"20000000\",\"33000000\",\"76500000\",\"28000000\",\"650659833\",\"5000000\",\"21000000\",\"144000000\",\"32514916898\",\"13000000\",\"3315789\",\"15000000\",\"78835200\",\"2714286\",\"25000000\",\"9999999\",\"500000000\",\"21000000\",\"9354000\",\"20000000\",\"100000000000\",\"21933333\",\"185000000\",\"55000000\",\"110000000\",\"3360000\",\"14524851.4827\",\"1000000000\",\"17000000\",\"1000000000\",\"100000000 \",\"21000000\",\"34426423\",\"2232901\",\"100000000\",\"36900000\",\"110000000\",\"4000000000\",\"110290030\",\"100000000\",\"48252000\",\"400000000\",\"500000000\",\"21212121\",\"28600000\",\"1000000000\",\"75000000000\",\"40000000\",\"35520400\",\"2000000000\",\"2500000000\",\"30000000\",\"105000000\",\"90000000000\",\"200084200\",\"72000000\",\"100000000\",\"105000000\",\"50000000000\",\"0\",\"340282367\",\"30000000\",\"2000000000\",\"10000000\",\"100000000\",\"120000000\",\"100000000\",\"19276800\",\"30000000\",\" 75000000\",\"60000000\",\"18900000\",\"50000000000\",\"54000000\",\"18898187.6216583\",\"21000000\",\"200000000000\",\"5000000000\",\"137500000\",\"1100000000\",\"100000000\",\"21000000\",\"9507271\",\"17405891.19707116\",\"86712634466\",\"10500000000\",\"61599965\",\"0\",\"20000000\",\"84000000\",\"100000000\",\"100000000\",\"48252000\",\"4200000\",\"88888888\",\"91388946\",\"45000000000\",\"27000000\",\"21000000000\",\"400000000\",\"1800000000\",\"15733333\",\"27000000\",\"24000000\",\"21000000\",\"25000000000\",\"100000000\",\"1200000000\",\"60000000\",\"156306732.71\",\"21000000\",\"200000000\",\"100000000\",\"21000000\",\"14788275.991\",\"9000000000\",\"350000000\",\"45000000\",\"280000000\",\"31800000\",\"144000000\",\"500000000\",\"30000000000\",\"210000000\",\"660000000\",\"210000000\",\"85000000000\",\"12500000\",\"10000000000\",\"27716121\",\"20000000\",\"550000000\",\"999481516\",\"50000000000\",\"150000000\",\"4999999999\",\"50000000\",\" 90000000000\",\"19800000\",\"21000000\",\"120000000\",\"500000000\",\"64000000\",\"900000000\",\"4000000\",\"21000000\",\"23000000\",\"20166000\",\"23000000\",\"25000000\",\"1618033\",\"30000000\",\"1000000000000\",\"16600000\",\"232000000\",\"336000000\",\"10000000000\",\"100000000\",\"1100000000\",\"800000000\",\"5200000000\",\"840000000\",\"40000000\",\"18406979840\",\"500000000\",\"19340594\",\"252460800\",\"25000000\",\"60000000\",\"124000000\",\"1000000000\",\"6500000000\",\"1000000000\",\"21000000\",\"25000000\",\"50000000\",\"3000000\",\"5000000\",\"70000000\",\"500000000\",\"300000000\",\"21000000\",\"88000000\",\"30000000\",\"100000000\",\"100000000\",\"200000000\",\"80000000\",\"18400000\",\"45000000\",\"5121951220\",\"21000000\",\"26280000\",\"21000000\",\"18000000\",\"26000000\",\"10500000\",\"600000518\",\"150000000\",\"184000000000\",\"10200000000\",\"44000000\",\"168000000\",\"100000000\",\"1000000000\",\"84000000\",\"90000000\",\"92000000000\",\"650000000 \",\"100262205\",\"18081806 \",\"22075700\",\"21000000\",\"21000000\",\"82546564\",\"21000000\",\"5151000\",\"16880000000\",\"52500000\",\"100000000\",\"22105263\",\"1000000000\",\"1750000000\",\"88188888\",\"210000000\",\"184470000000\",\"55000000\",\"50000000\",\"260000000\",\"210000000\",\"2100000000\",\"366000000\",\"100000000\",\"25000000\",\"18000000000\",\"1000000000\",\"100000000\",\"1000000000\",\"7600000000\",\"50000000\",\"84000000\",\"21000000\",\"70000000000\",\"0\",\"8080000000\",\"54000000\",\"105120001.44\",\"25228800\",\"105000000\",\"21000000\",\"120000000\",\"21000000\",\"262800000\",\"19035999\",\"30886000\",\"13370000\",\"74800000000\",\"100000000\",\"19700000\",\"84000000\",\"500000000\",\"5000000000\",\"420000000\",\"64000000\",\"2100000\",\"168000000\",\"30000000\",\"1000000000\",\"35000000000\",\"98100000000\",\"0\",\"4000000000\",\"200000000\",\"7000000000\",\"54256119\",\"21000000\",\"0\",\"500000000\",\"1000000000\",\"10500000000\",\"190000000\",\"1000000000\",\"42000000\",\"15000000\",\"50000000000\",\"400000000\",\"105000000\",\"208000000\",\"160000000\",\"9000000\",\"5000000\",\"182000000\",\"16504333\",\"105000000\",\"159918400\",\"10008835635\",\"300000000\",\"60168145\",\"5000000000\",\"2800000\",\"120000\",\"2100000000\",\"0\",\"24487944\",\"0\",\"1000000000\",\"100000000\",\"8634140\",\"990000000000\",\"1000000000\",\"2000000000\",\"250000000\",\"1400222610\",\"21000000\",\"1000000\"],\"TotalCoinsMined\":{\"__ndarray__\":\"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\",\"dtype\":\"float64\",\"order\":\"little\",\"shape\":[533]},\"class\":{\"__ndarray__\":\"AAAAAAAAAAAAAAAAAQAAAAEAAAABAAAAAAAAAAEAAAABAAAAAQAAAAAAAAABAAAAAAAAAAAAAAABAAAAAAAAAAEAAAABAAAAAAAAAAAAAAABAAAAAQAAAAEAAAABAAAAAQAAAAAAAAABAAAAAQAAAAEAAAAAAAAAAQAAAAAAAAABAAAAAQAAAAAAAAAAAAAAAQAAAAEAAAABAAAAAQAAAAEAAAABAAAAAAAAAAAAAAABAAAAAQAAAAEAAAABAAAAAQAAAAAAAAAAAAAAAQAAAAAAAAABAAAAAQAAAAEAAAABAAAAAAAAAAEAAAABAAAAAAAAAAEAAAAAAAAAAAAAAAAAAAABAAAAAQAAAAEAAAAAAAAAAAAAAAAAAAAAAAAAAAAAAAEAAAABAAAAAQAAAAAAAAAAAAAAAQAAAAAAAAABAAAAAAAAAAAAAAABAAAAAQAAAAEAAAABAAAAAAAAAAAAAAABAAAAAAAAAAEAAAABAAAAAAAAAAAAAAABAAAAAAAAAAAAAAABAAAAAQAAAAEAAAAAAAAAAQAAAAAAAAAAAAAAAQAAAAAAAAABAAAAAAAAAAEAAAAAAAAAAQAAAAAAAAAAAAAAAQAAAAEAAAAAAAAAAQAAAAEAAAABAAAAAAAAAAEAAAABAAAAAQAAAAEAAAABAAAAAAAAAAAAAAABAAAAAQAAAAEAAAAAAAAAAQAAAAAAAAABAAAAAQAAAAAAAAABAAAAAAAAAAEAAAAAAAAAAAAAAAEAAAABAAAAAAAAAAEAAAABAAAAAAAAAAAAAAABAAAAAAAAAAEAAAAAAAAAAAAAAAAAAAABAAAAAQAAAAEAAAABAAAAAAAAAAAAAAAAAAAAAAAAAAAAAAABAAAAAQAAAAAAAAAAAAAAAAAAAAAAAAAAAAAAAQAAAAAAAAAAAAAAAAAAAAAAAAAAAAAAAQAAAAAAAAABAAAAAAAAAAAAAAABAAAAAAAAAAEAAAAAAAAAAAAAAAEAAAAAAAAAAQAAAAAAAAABAAAAAAAAAAEAAAAAAAAAAAAAAAAAAAAAAAAAAQAAAAAAAAAAAAAAAAAAAAAAAAAAAAAAAQAAAAEAAAAAAAAAAAAAAAEAAAABAAAAAAAAAAAAAAAAAAAAAAAAAAAAAAABAAAAAAAAAAAAAAAAAAAAAAAAAAAAAAAAAAAAAAAAAAAAAAABAAAAAAAAAAAAAAAAAAAAAAAAAAAAAAAAAAAAAQAAAAEAAAABAAAAAAAAAAAAAAAAAAAAAAAAAAEAAAAAAAAAAQAAAAAAAAAAAAAAAQAAAAAAAAABAAAAAQAAAAAAAAABAAAAAQAAAAAAAAABAAAAAAAAAAAAAAAAAAAAAQAAAAAAAAAAAAAAAQAAAAAAAAAAAAAAAAAAAAAAAAAAAAAAAAAAAAAAAAABAAAAAAAAAAEAAAAAAAAAAAAAAAAAAAAAAAAAAQAAAAAAAAABAAAAAAAAAAEAAAABAAAAAQAAAAEAAAAAAAAAAQAAAAAAAAAAAAAAAQAAAAAAAAABAAAAAQAAAAEAAAAAAAAAAQAAAAAAAAABAAAAAQAAAAEAAAAAAAAAAQAAAAAAAAABAAAAAAAAAAAAAAAAAAAAAQAAAAAAAAABAAAAAQAAAAEAAAABAAAAAQAAAAAAAAAAAAAAAQAAAAAAAAAAAAAAAAAAAAEAAAAAAAAAAQAAAAAAAAABAAAAAAAAAAEAAAAAAAAAAAAAAAAAAAAAAAAAAQAAAAAAAAAAAAAAAQAAAAAAAAAAAAAAAAAAAAEAAAABAAAAAQAAAAEAAAAAAAAAAAAAAAAAAAAAAAAAAQAAAAAAAAABAAAAAQAAAAEAAAAAAAAAAAAAAAEAAAABAAAAAAAAAAAAAAABAAAAAAAAAAEAAAABAAAAAQAAAAAAAAABAAAAAQAAAAAAAAAAAAAAAAAAAAEAAAABAAAAAQAAAAAAAAAAAAAAAAAAAAEAAAABAAAAAAAAAAEAAAABAAAAAQAAAAEAAAAAAAAAAwAAAAAAAAABAAAAAQAAAAEAAAAAAAAAAAAAAAAAAAAAAAAAAAAAAAAAAAABAAAAAQAAAAEAAAABAAAAAAAAAAAAAAAAAAAAAQAAAAAAAAABAAAAAAAAAAAAAAAAAAAAAAAAAAEAAAAAAAAAAAAAAAEAAAAAAAAAAAAAAAEAAAABAAAAAAAAAAEAAAAAAAAAAQAAAAEAAAABAAAAAQAAAAAAAAAAAAAAAQAAAAAAAAABAAAAAAAAAAAAAAAAAAAAAAAAAAAAAAAAAAAAAQAAAAEAAAABAAAAAAAAAAAAAAAAAAAAAAAAAAAAAAAAAAAAAQAAAAAAAAABAAAAAQAAAAEAAAABAAAAAAAAAAAAAAAAAAAAAAAAAAEAAAAAAAAAAAAAAAEAAAAAAAAAAAAAAAEAAAADAAAAAQAAAAAAAAABAAAAAQAAAAAAAAAAAAAAAQAAAAAAAAABAAAAAQAAAAAAAAABAAAAAQAAAAAAAAABAAAAAAAAAAEAAAAAAAAAAAAAAAEAAAAAAAAAAAAAAAAAAAAAAAAAAAAAAAEAAAABAAAAAQAAAAAAAAAAAAAAAAAAAAEAAAAAAAAAAQAAAAAAAAABAAAAAAAAAAAAAAAAAAAAAAAAAAEAAAAAAAAAAAAAAAAAAAABAAAAAAAAAAEAAAAAAAAAAQAAAAAAAAAAAAAAAAAAAAEAAAABAAAAAAAAAAAAAAAAAAAAAAAAAAAAAAAAAAAAAwAAAAEAAAAAAAAAAQAAAAAAAAABAAAAAAAAAAAAAAADAAAAAAAAAAIAAAAAAAAAAAAAAAAAAAABAAAAAQAAAAAAAAA=\",\"dtype\":\"int32\",\"order\":\"little\",\"shape\":[533]}},\"selected\":{\"id\":\"2401\"},\"selection_policy\":{\"id\":\"2435\"}},\"id\":\"2400\",\"type\":\"ColumnDataSource\"},{\"attributes\":{},\"id\":\"2428\",\"type\":\"IntEditor\"},{\"attributes\":{\"editor\":{\"id\":\"2423\"},\"field\":\"TotalCoinsMined\",\"formatter\":{\"id\":\"2422\"},\"title\":\"TotalCoinsMined\"},\"id\":\"2424\",\"type\":\"TableColumn\"},{\"attributes\":{\"editor\":{\"id\":\"2428\"},\"field\":\"class\",\"formatter\":{\"id\":\"2427\"},\"title\":\"class\"},\"id\":\"2429\",\"type\":\"TableColumn\"},{\"attributes\":{\"source\":{\"id\":\"2400\"}},\"id\":\"2434\",\"type\":\"CDSView\"},{\"attributes\":{\"columns\":[{\"id\":\"2404\"},{\"id\":\"2409\"},{\"id\":\"2414\"},{\"id\":\"2419\"},{\"id\":\"2424\"},{\"id\":\"2429\"}],\"height\":300,\"reorderable\":false,\"source\":{\"id\":\"2400\"},\"view\":{\"id\":\"2434\"},\"width\":700},\"id\":\"2432\",\"type\":\"DataTable\"}],\"root_ids\":[\"2398\"]},\"title\":\"Bokeh Application\",\"version\":\"2.3.2\"}};\n",
       "    var render_items = [{\"docid\":\"bbee8e02-ec90-482f-8cc3-edeb4cff7b38\",\"root_ids\":[\"2398\"],\"roots\":{\"2398\":\"8f994afa-bd96-42fc-bb5e-d3efef0280a6\"}}];\n",
       "    root.Bokeh.embed.embed_items_notebook(docs_json, render_items);\n",
       "  }\n",
       "  if (root.Bokeh !== undefined && root.Bokeh.Panel !== undefined) {\n",
       "    embed_document(root);\n",
       "  } else {\n",
       "    var attempts = 0;\n",
       "    var timer = setInterval(function(root) {\n",
       "      if (root.Bokeh !== undefined && root.Bokeh.Panel !== undefined) {\n",
       "        clearInterval(timer);\n",
       "        embed_document(root);\n",
       "      } else if (document.readyState == \"complete\") {\n",
       "        attempts++;\n",
       "        if (attempts > 200) {\n",
       "          clearInterval(timer);\n",
       "          console.log(\"Bokeh: ERROR: Unable to run BokehJS code because BokehJS library is missing\");\n",
       "        }\n",
       "      }\n",
       "    }, 25, root)\n",
       "  }\n",
       "})(window);</script>"
      ],
      "text/plain": [
       ":Table   [CoinName,Algorithm,ProofType,TotalCoinSupply,TotalCoinsMined,class]"
      ]
     },
     "execution_count": 91,
     "metadata": {
      "application/vnd.holoviews_exec.v0+json": {
       "id": "2398"
      }
     },
     "output_type": "execute_result"
    }
   ],
   "source": [
    "# Create a table with tradable cryptocurrencies.\n",
    "clustered_df.hvplot.table()"
   ]
  },
  {
   "cell_type": "code",
   "execution_count": 92,
   "metadata": {},
   "outputs": [
    {
     "data": {
      "text/plain": [
       "533"
      ]
     },
     "execution_count": 92,
     "metadata": {},
     "output_type": "execute_result"
    }
   ],
   "source": [
    "# Print the total number of tradable cryptocurrencies.\n",
    "len(clustered_df)"
   ]
  },
  {
   "cell_type": "code",
   "execution_count": 93,
   "metadata": {},
   "outputs": [
    {
     "data": {
      "text/html": [
       "<div>\n",
       "<style scoped>\n",
       "    .dataframe tbody tr th:only-of-type {\n",
       "        vertical-align: middle;\n",
       "    }\n",
       "\n",
       "    .dataframe tbody tr th {\n",
       "        vertical-align: top;\n",
       "    }\n",
       "\n",
       "    .dataframe thead th {\n",
       "        text-align: right;\n",
       "    }\n",
       "</style>\n",
       "<table border=\"1\" class=\"dataframe\">\n",
       "  <thead>\n",
       "    <tr style=\"text-align: right;\">\n",
       "      <th></th>\n",
       "      <th>TotalCoinSupply</th>\n",
       "      <th>TotalCoinsMined</th>\n",
       "    </tr>\n",
       "  </thead>\n",
       "  <tbody>\n",
       "    <tr>\n",
       "      <th>42</th>\n",
       "      <td>42</td>\n",
       "      <td>4.199995e+01</td>\n",
       "    </tr>\n",
       "    <tr>\n",
       "      <th>404</th>\n",
       "      <td>532000000</td>\n",
       "      <td>1.055185e+09</td>\n",
       "    </tr>\n",
       "    <tr>\n",
       "      <th>1337</th>\n",
       "      <td>314159265359</td>\n",
       "      <td>2.927942e+10</td>\n",
       "    </tr>\n",
       "    <tr>\n",
       "      <th>BTC</th>\n",
       "      <td>21000000</td>\n",
       "      <td>1.792718e+07</td>\n",
       "    </tr>\n",
       "    <tr>\n",
       "      <th>ETH</th>\n",
       "      <td>0</td>\n",
       "      <td>1.076842e+08</td>\n",
       "    </tr>\n",
       "    <tr>\n",
       "      <th>...</th>\n",
       "      <td>...</td>\n",
       "      <td>...</td>\n",
       "    </tr>\n",
       "    <tr>\n",
       "      <th>ZEPH</th>\n",
       "      <td>2000000000</td>\n",
       "      <td>2.000000e+09</td>\n",
       "    </tr>\n",
       "    <tr>\n",
       "      <th>GAP</th>\n",
       "      <td>250000000</td>\n",
       "      <td>1.493105e+07</td>\n",
       "    </tr>\n",
       "    <tr>\n",
       "      <th>BDX</th>\n",
       "      <td>1400222610</td>\n",
       "      <td>9.802226e+08</td>\n",
       "    </tr>\n",
       "    <tr>\n",
       "      <th>ZEN</th>\n",
       "      <td>21000000</td>\n",
       "      <td>7.296538e+06</td>\n",
       "    </tr>\n",
       "    <tr>\n",
       "      <th>XBC</th>\n",
       "      <td>1000000</td>\n",
       "      <td>1.283270e+05</td>\n",
       "    </tr>\n",
       "  </tbody>\n",
       "</table>\n",
       "<p>533 rows × 2 columns</p>\n",
       "</div>"
      ],
      "text/plain": [
       "     TotalCoinSupply  TotalCoinsMined\n",
       "42                42     4.199995e+01\n",
       "404        532000000     1.055185e+09\n",
       "1337    314159265359     2.927942e+10\n",
       "BTC         21000000     1.792718e+07\n",
       "ETH                0     1.076842e+08\n",
       "...              ...              ...\n",
       "ZEPH      2000000000     2.000000e+09\n",
       "GAP        250000000     1.493105e+07\n",
       "BDX       1400222610     9.802226e+08\n",
       "ZEN         21000000     7.296538e+06\n",
       "XBC          1000000     1.283270e+05\n",
       "\n",
       "[533 rows x 2 columns]"
      ]
     },
     "execution_count": 93,
     "metadata": {},
     "output_type": "execute_result"
    }
   ],
   "source": [
    "numerical_features = clustered_df.iloc[:,3:5]\n",
    "numerical_features"
   ]
  },
  {
   "cell_type": "code",
   "execution_count": 94,
   "metadata": {
    "scrolled": false
   },
   "outputs": [
    {
     "name": "stdout",
     "output_type": "stream",
     "text": [
      "[[4.20000000e-11 5.94230127e-03]\n",
      " [5.32000000e-04 7.00182308e-03]\n",
      " [3.14159265e-01 3.53420682e-02]\n",
      " [2.10000000e-05 5.96030208e-03]\n",
      " [0.00000000e+00 6.05042804e-03]]\n"
     ]
    }
   ],
   "source": [
    "# Scaling data to create the scatter plot with tradable cryptocurrencies.\n",
    "#crypto_scaled = StandardScaler().fit_transform(numerical_features)\n",
    "crypto_scaled = MinMaxScaler().fit_transform(numerical_features)\n",
    "print(crypto_scaled[0:5])"
   ]
  },
  {
   "cell_type": "code",
   "execution_count": 95,
   "metadata": {},
   "outputs": [
    {
     "data": {
      "text/html": [
       "<div>\n",
       "<style scoped>\n",
       "    .dataframe tbody tr th:only-of-type {\n",
       "        vertical-align: middle;\n",
       "    }\n",
       "\n",
       "    .dataframe tbody tr th {\n",
       "        vertical-align: top;\n",
       "    }\n",
       "\n",
       "    .dataframe thead th {\n",
       "        text-align: right;\n",
       "    }\n",
       "</style>\n",
       "<table border=\"1\" class=\"dataframe\">\n",
       "  <thead>\n",
       "    <tr style=\"text-align: right;\">\n",
       "      <th></th>\n",
       "      <th>TotalCoinSupply</th>\n",
       "      <th>TotalCoinsMined</th>\n",
       "      <th>CoinName</th>\n",
       "      <th>class</th>\n",
       "    </tr>\n",
       "  </thead>\n",
       "  <tbody>\n",
       "    <tr>\n",
       "      <th>42</th>\n",
       "      <td>4.200000e-11</td>\n",
       "      <td>0.005942</td>\n",
       "      <td>42 Coin</td>\n",
       "      <td>0</td>\n",
       "    </tr>\n",
       "    <tr>\n",
       "      <th>404</th>\n",
       "      <td>5.320000e-04</td>\n",
       "      <td>0.007002</td>\n",
       "      <td>404Coin</td>\n",
       "      <td>0</td>\n",
       "    </tr>\n",
       "    <tr>\n",
       "      <th>1337</th>\n",
       "      <td>3.141593e-01</td>\n",
       "      <td>0.035342</td>\n",
       "      <td>EliteCoin</td>\n",
       "      <td>0</td>\n",
       "    </tr>\n",
       "    <tr>\n",
       "      <th>BTC</th>\n",
       "      <td>2.100000e-05</td>\n",
       "      <td>0.005960</td>\n",
       "      <td>Bitcoin</td>\n",
       "      <td>1</td>\n",
       "    </tr>\n",
       "    <tr>\n",
       "      <th>ETH</th>\n",
       "      <td>0.000000e+00</td>\n",
       "      <td>0.006050</td>\n",
       "      <td>Ethereum</td>\n",
       "      <td>1</td>\n",
       "    </tr>\n",
       "    <tr>\n",
       "      <th>LTC</th>\n",
       "      <td>8.400000e-05</td>\n",
       "      <td>0.006006</td>\n",
       "      <td>Litecoin</td>\n",
       "      <td>1</td>\n",
       "    </tr>\n",
       "    <tr>\n",
       "      <th>DASH</th>\n",
       "      <td>2.200000e-05</td>\n",
       "      <td>0.005951</td>\n",
       "      <td>Dash</td>\n",
       "      <td>0</td>\n",
       "    </tr>\n",
       "    <tr>\n",
       "      <th>XMR</th>\n",
       "      <td>0.000000e+00</td>\n",
       "      <td>0.005960</td>\n",
       "      <td>Monero</td>\n",
       "      <td>1</td>\n",
       "    </tr>\n",
       "    <tr>\n",
       "      <th>ETC</th>\n",
       "      <td>2.100000e-04</td>\n",
       "      <td>0.006056</td>\n",
       "      <td>Ethereum Classic</td>\n",
       "      <td>1</td>\n",
       "    </tr>\n",
       "    <tr>\n",
       "      <th>ZEC</th>\n",
       "      <td>2.100000e-05</td>\n",
       "      <td>0.005950</td>\n",
       "      <td>ZCash</td>\n",
       "      <td>1</td>\n",
       "    </tr>\n",
       "  </tbody>\n",
       "</table>\n",
       "</div>"
      ],
      "text/plain": [
       "      TotalCoinSupply  TotalCoinsMined          CoinName  class\n",
       "42       4.200000e-11         0.005942           42 Coin      0\n",
       "404      5.320000e-04         0.007002           404Coin      0\n",
       "1337     3.141593e-01         0.035342         EliteCoin      0\n",
       "BTC      2.100000e-05         0.005960           Bitcoin      1\n",
       "ETH      0.000000e+00         0.006050          Ethereum      1\n",
       "LTC      8.400000e-05         0.006006          Litecoin      1\n",
       "DASH     2.200000e-05         0.005951              Dash      0\n",
       "XMR      0.000000e+00         0.005960            Monero      1\n",
       "ETC      2.100000e-04         0.006056  Ethereum Classic      1\n",
       "ZEC      2.100000e-05         0.005950             ZCash      1"
      ]
     },
     "execution_count": 95,
     "metadata": {},
     "output_type": "execute_result"
    }
   ],
   "source": [
    "# Create a new DataFrame that has the scaled data with the clustered_df DataFrame index.\n",
    "#df_iris_pca = pd.DataFrame(\n",
    "#    data=iris_pca, columns=[\"principal component 1\", \"principal component 2\"])\n",
    "\n",
    "plot_df = pd.DataFrame(\n",
    "    data=crypto_scaled, columns=[\"TotalCoinSupply\", \"TotalCoinsMined\"],index=clustered_df.index)\n",
    "\n",
    "# Add the \"CoinName\" column from the clustered_df DataFrame to the new DataFrame.\n",
    "# clustered_df = clustered_df.join(coin_name, how = 'outer')\n",
    "plot_df = plot_df.join(coin_name, how = 'outer')\n",
    "\n",
    "# Add the \"Class\" column from the clustered_df DataFrame to the new DataFrame. \n",
    "# YOUR CODE HERE\n",
    "plot_df['class'] = clustered_df['class']\n",
    "\n",
    "plot_df.head(10)"
   ]
  },
  {
   "cell_type": "code",
   "execution_count": 96,
   "metadata": {},
   "outputs": [
    {
     "data": {},
     "metadata": {},
     "output_type": "display_data"
    },
    {
     "data": {
      "application/vnd.holoviews_exec.v0+json": "",
      "text/html": [
       "<div id='2451'>\n",
       "\n",
       "\n",
       "\n",
       "\n",
       "\n",
       "  <div class=\"bk-root\" id=\"9e0369bc-40bb-4cf0-94c2-7bef27096580\" data-root-id=\"2451\"></div>\n",
       "</div>\n",
       "<script type=\"application/javascript\">(function(root) {\n",
       "  function embed_document(root) {\n",
       "    var docs_json = {\"2bf5966a-6ae5-4842-9014-ffb0b92df5f5\":{\"defs\":[{\"extends\":null,\"module\":null,\"name\":\"ReactiveHTML1\",\"overrides\":[],\"properties\":[]},{\"extends\":null,\"module\":null,\"name\":\"FlexBox1\",\"overrides\":[],\"properties\":[{\"default\":\"flex-start\",\"kind\":null,\"name\":\"align_content\"},{\"default\":\"flex-start\",\"kind\":null,\"name\":\"align_items\"},{\"default\":\"row\",\"kind\":null,\"name\":\"flex_direction\"},{\"default\":\"wrap\",\"kind\":null,\"name\":\"flex_wrap\"},{\"default\":\"flex-start\",\"kind\":null,\"name\":\"justify_content\"}]},{\"extends\":null,\"module\":null,\"name\":\"TemplateActions1\",\"overrides\":[],\"properties\":[{\"default\":0,\"kind\":null,\"name\":\"open_modal\"},{\"default\":0,\"kind\":null,\"name\":\"close_modal\"}]},{\"extends\":null,\"module\":null,\"name\":\"MaterialTemplateActions1\",\"overrides\":[],\"properties\":[{\"default\":0,\"kind\":null,\"name\":\"open_modal\"},{\"default\":0,\"kind\":null,\"name\":\"close_modal\"}]}],\"roots\":{\"references\":[{\"attributes\":{},\"id\":\"2473\",\"type\":\"BasicTicker\"},{\"attributes\":{\"axis_label\":\"TotalCoinSupply\",\"formatter\":{\"id\":\"2492\"},\"major_label_policy\":{\"id\":\"2494\"},\"ticker\":{\"id\":\"2473\"}},\"id\":\"2472\",\"type\":\"LinearAxis\"},{\"attributes\":{},\"id\":\"2492\",\"type\":\"BasicTickFormatter\"},{\"attributes\":{\"axis\":{\"id\":\"2472\"},\"dimension\":1,\"grid_line_color\":null,\"ticker\":null},\"id\":\"2475\",\"type\":\"Grid\"},{\"attributes\":{\"data\":{\"TotalCoinSupply\":{\"__ndarray__\":\"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\",\"dtype\":\"float64\",\"order\":\"little\",\"shape\":[239]},\"TotalCoinsMined\":{\"__ndarray__\":\"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\",\"dtype\":\"float64\",\"order\":\"little\",\"shape\":[239]},\"class\":{\"__ndarray__\":\"AQAAAAEAAAABAAAAAQAAAAEAAAABAAAAAQAAAAEAAAABAAAAAQAAAAEAAAABAAAAAQAAAAEAAAABAAAAAQAAAAEAAAABAAAAAQAAAAEAAAABAAAAAQAAAAEAAAABAAAAAQAAAAEAAAABAAAAAQAAAAEAAAABAAAAAQAAAAEAAAABAAAAAQAAAAEAAAABAAAAAQAAAAEAAAABAAAAAQAAAAEAAAABAAAAAQAAAAEAAAABAAAAAQAAAAEAAAABAAAAAQAAAAEAAAABAAAAAQAAAAEAAAABAAAAAQAAAAEAAAABAAAAAQAAAAEAAAABAAAAAQAAAAEAAAABAAAAAQAAAAEAAAABAAAAAQAAAAEAAAABAAAAAQAAAAEAAAABAAAAAQAAAAEAAAABAAAAAQAAAAEAAAABAAAAAQAAAAEAAAABAAAAAQAAAAEAAAABAAAAAQAAAAEAAAABAAAAAQAAAAEAAAABAAAAAQAAAAEAAAABAAAAAQAAAAEAAAABAAAAAQAAAAEAAAABAAAAAQAAAAEAAAABAAAAAQAAAAEAAAABAAAAAQAAAAEAAAABAAAAAQAAAAEAAAABAAAAAQAAAAEAAAABAAAAAQAAAAEAAAABAAAAAQAAAAEAAAABAAAAAQAAAAEAAAABAAAAAQAAAAEAAAABAAAAAQAAAAEAAAABAAAAAQAAAAEAAAABAAAAAQAAAAEAAAABAAAAAQAAAAEAAAABAAAAAQAAAAEAAAABAAAAAQAAAAEAAAABAAAAAQAAAAEAAAABAAAAAQAAAAEAAAABAAAAAQAAAAEAAAABAAAAAQAAAAEAAAABAAAAAQAAAAEAAAABAAAAAQAAAAEAAAABAAAAAQAAAAEAAAABAAAAAQAAAAEAAAABAAAAAQAAAAEAAAABAAAAAQAAAAEAAAABAAAAAQAAAAEAAAABAAAAAQAAAAEAAAABAAAAAQAAAAEAAAABAAAAAQAAAAEAAAABAAAAAQAAAAEAAAABAAAAAQAAAAEAAAABAAAAAQAAAAEAAAABAAAAAQAAAAEAAAABAAAAAQAAAAEAAAABAAAAAQAAAAEAAAABAAAAAQAAAAEAAAABAAAAAQAAAAEAAAABAAAAAQAAAAEAAAABAAAAAQAAAAEAAAABAAAAAQAAAAEAAAABAAAAAQAAAAEAAAABAAAAAQAAAAEAAAABAAAAAQAAAAEAAAABAAAAAQAAAAEAAAABAAAAAQAAAAEAAAABAAAAAQAAAAEAAAABAAAAAQAAAAEAAAA=\",\"dtype\":\"int32\",\"order\":\"little\",\"shape\":[239]}},\"selected\":{\"id\":\"2517\"},\"selection_policy\":{\"id\":\"2534\"}},\"id\":\"2516\",\"type\":\"ColumnDataSource\"},{\"attributes\":{},\"id\":\"2489\",\"type\":\"BasicTickFormatter\"},{\"attributes\":{\"data\":{\"TotalCoinSupply\":{\"__ndarray__\":\"NkOMefkWxz3VCP1MvW5BP1XynHYvG9Q/oib6fJQR9z7McLKR8X5tP6Im+nyUEfc+LEMc6+I26j7HuriNBvA2P03ubVFIlfE+AAAAAAAAAAAAAAAAAAAAAI3ttaD3xqA+je21oPfGsD57FK5H4XqkP/WHfzv9XtI+AAAAAAAAAAAAAAAAAAAAAGkdVU0QdR8/AAAAAAAAAACiJvp8lBH3PixDHOviNho/AAAAAAAAAABoTT0cbtFjP8naMiJJ9/A+AAAAAAAAAAAAAAAAAAAAAIF+GWsDoM8+vHmqQ26GOz/AkxYuq7AZPwAAAAAAAAAAAAAAAAAAAACV1iboCy4RPixDHOviNho/SFD8GHPXYj/waOOItfjkPixDHOviNlo/LEMc6+I2Gj8AAAAAAAAAAKIm+nyUEdc+AAAAAAAAAAAAAAAAAAAAAPyp8dJNYlA//Knx0k1iQD9mTMEaZ9MRPwAAAAAAAAAAAAAAAAAAAABU5BBxcyrpPvyp8dJNYkA/AAAAAAAAAADwaOOItfjkPvBo44i1+PQ+8GjjiLX49D4AAAAAAAAAAIS53ct9chQ/lfqJNSI51T4AAAAAAAAAACxDHOviNho/LEMc6+I2Cj/8qfHSTWJQP9yWmMxQk/s+ycfuAiUF9j6iJvp8lBH3PqvP1VbsL5s/ycfuAiUF5j4AAAAAAAAAAMnH7gIlBQY/9Q54pkv5LD9U5BBxcyo5P/LSTWIQWLk/8GjjiLX4BD/eugqBmZdhP/Bo44i1+PQ+YTJVMCqpEz8Aw5cuaTEtPxWMSuoENEE/Dtb/OcyXFz/3j4XoEDgiP7B0PjxLkAE//Knx0k1iYD8xcg25UT4HPyxDHOviNho/LEMc6+I2Kj9Uc7nBUIdFPyxDHOviNgo/Dtb/OcyXFz/Jx+4CJQX2PlTkEHFzKsk+ycfuAiUF9j4AAAAAAAAAAAAAAAAAAAAAE2HD0ytlaT97FK5H4XqUP6ta0lEOZhM/AAAAAAAAAAD6fmq8dJNYPzTUrwey+AQ/gj1WtPn4xD4sQxzr4jYaP0/o9SfxuTM/8WJhiJy+fj/8qfHSTWIgP2kdVU0Qdf8+XwfOGVHaSz8RdDVmeinQPixDHOviNgo/8W0TUcA0BD/Jx+4CJQUGP/Bo44i1+PQ+aR1VTRB1Dz/waOOItfj0Pvqcu10vTQE/83UZ/tMNFD+3Xz5ZMVz9Pv4dDlohUkU/8GjjiLX41D4/q8yU1t8iP+4Ka5HLpaA/BaInZVJD6z6ptsZHmtDLPmkdVU0Qde8+betPbIqqFD/8qfHSTWJAP8nH7gIlBfY+5diE+OOd4z7waOOItfj0PgLLtSqv//Y+S7A4nPnVDD9LsDic+dUcP/MyGmP4de4+/Knx0k1iUD/iPyHjogwCPyxDHOviNho/VPyEWKJYAz9LsDic+dUcP5Krpklw6Rw/LEMc6+I2Gj8sQxzr4jY6P/yp8dJNYkA/f1YH2xU+9j7Ty94IQf39Pvyp8dJNYlA/MzMzMzMzsz/waOOItfgEP/yp8dJNYmA/aR1VTRB1/z68eapDboYbPwrXo3A9Crc/KVfeMLY5Kj8sQxzr4jYaP5mZmZmZmak/8GjjiLX45D5pHVVNEHUfPyxDHOviNho/aR1VTRB1/z6ZmZmZmZmpP8fgipDx0PM+L26jAbwFIj8sQxzr4jYaPxbSaWAt8OM+Wy41vFtA8j76dC6ZzDK2P0cCJ1fnJRA/yvCBGEZMCT8H04s1t53RPnnYGyMC9Rc/CtejcD0Kpz/eADPfwU/8PixDHOviNjo/jxg8aWJ/8D5U5BBxcyr5PpmZmZmZmZk/LEMc6+I2Gj9hMlUwKqlTP2kdVU0QdQ8/ycfuAiUF9j4sQxzr4jYqP8nH7gIlBfY+EAoFLWUD7z4730+Nl26CPz+rzJTW3yI//Knx0k1iQD+4HoXrUbieP7x5qkNuhis/vHmqQ26GKz9twQ9V/Q/9PvBo44i1+PQ+mZmZmZmZqT9hMlUwKqkjPyxDHOviNgo/aR1VTRB1Hz+Sy39Iv31NP43ttaD3xtA+ycfuAiUF9j4sQxzr4jb6Pn34/RhmJbs+aR1VTRB1/z6QvknToGguPyxDHOviNko/vHmqQ26GSz8ohtt/s0f0PoRaKOGWizA/LEMc6+I2+j5pHVVNEHUPPyE+sOO/QCA//Knx0k1iUD8sQxzr4jYKP1TkEHFzKsk+8GjjiLX41D78qfHSTWJAP8nH7gIlBfY+oib6fJQRFz9pHVVNEHX/PixDHOviNho/LEMc6+I2Kj/waOOItfgUPw7W/znMlwc/26m0T8H6dD/Jx+4CJQX2PgWiJ2VSQ/s+h4Va07zjhD+iJvp8lBEHPyxDHOviNho/ycfuAiUFFj8O1v85zJcXP1pkO99Pjbc/lPYGX5hMRT8JVuWQe0gaPx3JKz/M9fI+WcfNK5ujFT/Jx+4CJQX2PnpXQhnYmtU+fm/Tn/1IkT+8eapDboYLPyxDHOviNho//Knx0k1iUD9LsDic+dUMPyxDHOviNgo/Q8U4fxMKMT+8eapDboYrP6AZxAd2/Dc/LEMc6+I2Gj8730+Nl26SP/yp8dJNYlA/LEMc6+I2Cj/rUbgeheuxPwAAAAAAAAAA3gAz38FPDD+8eapDboYbP8nH7gIlBfY+bwbz4+/18z4W49PO9gnsPhKlvcEXJrM/4zITsS2o9D7Jx+4CJQUWP/yp8dJNYkA/exSuR+F6dD+8eapDboY7P2kdVU0Qdf8+/Knx0k1iUD/rUbgeheuhPwAAAAAAAAAALEMc6+I2Kj8RfL8NInIMP8nH7gIlBfY+AAAAAAAAAAD8qfHSTWJAPxsv3SQGgYU/nQyOklfnKD/8qfHSTWJQP2kdVU0Qde8+LEMc6+I2Oj8FoidlUkMrP/Bo44i1+CQ/P6vMlNbf4j5wzKwgWU7xPrx5qkNuhhs/8zWXmPj1JD9Fc8ktg3+EP2EyVTAqqTM/eMlkuKGLDz8raaQpKxuAPgAAAAAAAAAAAAAAAAAAAAD8qfHSTWJQP1NUbSprG+I+/Knx0k1iUD/8qfHSTWJgP/yp8dJNYjA/je21oPfGsD4=\",\"dtype\":\"float64\",\"order\":\"little\",\"shape\":[289]},\"TotalCoinsMined\":{\"__ndarray__\":\"qPiOWfRWeD8cYvKR8a18P0/E+wVbGKI/lL9Wn3ZgeD8Tn0Dcwc6BPzvmnbxPWHg/pWjVi5VjeD87g7sK2XF4P5mzbnMMang/payitfvzej8zTpSIhth4P2/nudD/Vng/0B61awxYeD+zKjBCTJunPxZVqwZvWng/fyE6Pe9ceD80uDFmNT16P3YWvTzxtHg/cTyZkD4+fz/DhKrxiWl4P8B/XF2ml3g/Gc9GqMH6mz9lRtq4I/p+Pzz9xXn9Z3g/3ihhX4mceD/2nvGQ6WZ4P5FuYGtYWng/N6hye2hBeT9h9dM606R4P1SdIsAcHaI/Qg7UBFiMeD++K+Cn9FZ4P/w//qR1q3g/o/seNhQDfz8l/CFHdlh4P8jywagG3Hw/BPTTrNiLeD+fG7dEq3h4PxA/X9tFXng/uQv0Nj7AeD8iyllhzHl4P0vXp3HF8ng/jKz/e9WMeD8RT8YmJYB4P7SQSSP2jng/+HLFnJNzeD/mbKB4FVl4P+mdWjzWDnk/sQ+D+n9YeD+NZdo1bV54P0FY3FjJWXg/PCDLQixjeD+WqyVXjFh4PwKsP236mXg/BW7IwflfeD9NNRgSTVd4P7kL9DY+wHg/TkylNjdveD9biE2fSoR4PyRRElkzZXg/BGfUHt5heD+JSnR20Vp4P3NXKJM0ZJE/4Td9zlpceD+ouCzKO3CQP1F8P9ltYHg/6ZNkeJKBeD9vyUmA6WF4P3J2XjCuDKY/z1G1IZBbeD+MiOE1AZaAP751Hh0DbHg/KuVWHKDkeD8xLy+UNlh4P5wlSJ1/aHg/RsXvdNGueD/O/YvGoXB4P0PvqcmVf3g/ZXyKPQyvez9HX7hbuFt4P7kL9DY+wHg/n2lGCDhceD9bVgZOswp7P0hc02dXZ3g/8yIqHWeEeD/8B2jUlFd4P3I01ZilV3g/XCuOR6xZeD/rTrs2/1h4P0FeSr2FCXk/cdO5iVUTez9ueo43CDeaPxbmsFHnpHg/AdonE0B6eD/TfT1xoW15Py2w70iJ83g/kyIGOJZZeD+5C/Q2PsB4P79u/im3aXg/AjJvHVnKfD/RdYX+4Mh4Pz+CB3BEang/58pseTc4uT9TIZ71Alt4P/yNzkaZi3g/aCjspfJoeD+EYTaYiFl4P751Hh0DbHg/WUyYTFhdeD/dNsMUB2R4P9ssOONEbHg/4u9534qmeD/W1c8Fn2J4Pz90fTJyYng/OqWG7M9XeD/W6AGAxl94P4aI1KcKbaQ/kWsqcZxaeD/qOHoSclp4P2tPNEkHYng/ykWJ48d2eD87gGnvL3B4PzfD7jadWXg/CIU7r+lceD9375/AZmN4P26gmmdHV3g/ttekGAhaeD94vi6axcp4P8nMV1k/Zng//+KWGddzfD8m7ipP6Xx4PwyKqDXQZHg/Rc+bc8hjeD8/DiiEb8t4P4awHMH3y3g/DlhDK51teD82+Dv3mv15P5ohx+QN13g/IzRueZtceD8WfDnbKVh4P8kynxt7V3g/LGFoUNHAeD8mqgmxCGl4P90pXcmyjXk/1bwncvJieD9ronJacW14P940YkcI8qc/qLJYNdhheD+5C/Q2PsB4P4NQyuauh50/LSgKsFhbeD/8WN6qOZl4P3cDuWAeXng/lsrn6VhteD/2hkDpHcWOP/34DNMHbng/AWwjL6PIeD/vCgwYyoh4P3/38T0wZHg/XtAQ0ppqeD9dGOybTo2vP4wkWn4qW3g/uD7OA4dreD/DmLxmYFt4Px3Pu85GcXg/Plc2WiZfoD9hzl3WmV54P04JdndAF3k/6i6QzydYeD8Kis9EOXB4P6+Ow9Cn9Ks/MhjemN+3eD8tgMPaKaV6P471IBGzX3g/Ox9EwzdZeD8C/LNKSnd4P8m4AfjvY3g/25a6rS5oeD/yaSqYdq2OPwE7KFcsf3g/d5HL6UeGeT+E+pGDgKShP6D6TN8xGHk/Opd+78zLeD/C/3n35mR4P9saC5POaHg/RaXbBBpFhj+AR5yx0V94P5b3TIqEhng/YWQTqbJzeD8vZsTgO8V6P0GsBmWXWXg/2fKFQ5hbeD+UFmxKe2x4P/p7DHaoWHg/bn9e09lgeD+5kZeCOE55P315VdNuSXk/cI0lHxn3ej+zKugCzWJ4P+HRjF0/Lnk/HR3mpjxZeD+8xXdZZVd4PyZsvHLgcXg/eDNSRTkEez+ljSSzeGV4P8KuS0XYV3g/C22G+TJYeD//BlJsY3B5Pw5XN9BGYXg/Qms47fxteD/31FKEW2F4P126Ky5AWHg/JViHkxXqeD8mYH2MnWJ4Pw4fVFWXW3g/DdRJOF8dfj+YTxWmb2J4P7Ks8VK1f3g/rVAi7ZiSkD+wWlXr/F54P3d+QFHzeXg/Nr+hMrJteD9IuXEa13Z4PyB6J27VibU/O1QqetBZeD+7WuWk0pN4P6liO5Qcang//Nf7jNR9eD+ZK1hRaV54P2FQ1t4vXXg/xviFMw1YeD8UoO/+/WR4P93FO2uAnHg/5nps36RceD8fceY3Pmt4P3YAhllad3g/itzE4GrIeD9RD61cxmB4P0a/GcPfW3g/eNtpg7JbeD+sQ20M97J8P//ilhnXc3w/cWarzhleeD/fUENyfzJ5P4YVWHfCx5c//ilhVyJ8eD9zuw2fJGV4PyAa/HWDZng/lhKPdy9qeD+s2cvQ/Vh4P8cMCgHd46I/T8CJPLVXeD/gup1slmx4P/1XKuFpKHk/UCvkargGfD8V4H6wMGd4P2RbpOH8b3g//+KWGddzfD85fBiM/9WVPzemX3ZbVnk/SuXPvK1aeD9phO+Cnmx4P8vn7DiUW3g/BOT6URhheD8tyNONYiJ6P4P9CcWNX3w/s8fm5tuHmD+1jgFbVV96P7tACaoglng/BObxTKcAej8iU3bU9yp5P9eZX3MOxHg/4uz2T/paeD8yOU/Rv2h4P+sXvW6UpXg/32AYQ1DVeD/wqMt5BF6QPxCyLZtJYHk/6VJhUyJYeD97mZhIGld4P/7hL6V4iXw/fHB53rH0fD//4pYZ13N8P6aoAIG6YHg//+KWGddzfD+U5BjuXEiAP15xjtWsZng/Xkx47RZXeD8=\",\"dtype\":\"float64\",\"order\":\"little\",\"shape\":[289]},\"class\":{\"__ndarray__\":\"AAAAAAAAAAAAAAAAAAAAAAAAAAAAAAAAAAAAAAAAAAAAAAAAAAAAAAAAAAAAAAAAAAAAAAAAAAAAAAAAAAAAAAAAAAAAAAAAAAAAAAAAAAAAAAAAAAAAAAAAAAAAAAAAAAAAAAAAAAAAAAAAAAAAAAAAAAAAAAAAAAAAAAAAAAAAAAAAAAAAAAAAAAAAAAAAAAAAAAAAAAAAAAAAAAAAAAAAAAAAAAAAAAAAAAAAAAAAAAAAAAAAAAAAAAAAAAAAAAAAAAAAAAAAAAAAAAAAAAAAAAAAAAAAAAAAAAAAAAAAAAAAAAAAAAAAAAAAAAAAAAAAAAAAAAAAAAAAAAAAAAAAAAAAAAAAAAAAAAAAAAAAAAAAAAAAAAAAAAAAAAAAAAAAAAAAAAAAAAAAAAAAAAAAAAAAAAAAAAAAAAAAAAAAAAAAAAAAAAAAAAAAAAAAAAAAAAAAAAAAAAAAAAAAAAAAAAAAAAAAAAAAAAAAAAAAAAAAAAAAAAAAAAAAAAAAAAAAAAAAAAAAAAAAAAAAAAAAAAAAAAAAAAAAAAAAAAAAAAAAAAAAAAAAAAAAAAAAAAAAAAAAAAAAAAAAAAAAAAAAAAAAAAAAAAAAAAAAAAAAAAAAAAAAAAAAAAAAAAAAAAAAAAAAAAAAAAAAAAAAAAAAAAAAAAAAAAAAAAAAAAAAAAAAAAAAAAAAAAAAAAAAAAAAAAAAAAAAAAAAAAAAAAAAAAAAAAAAAAAAAAAAAAAAAAAAAAAAAAAAAAAAAAAAAAAAAAAAAAAAAAAAAAAAAAAAAAAAAAAAAAAAAAAAAAAAAAAAAAAAAAAAAAAAAAAAAAAAAAAAAAAAAAAAAAAAAAAAAAAAAAAAAAAAAAAAAAAAAAAAAAAAAAAAAAAAAAAAAAAAAAAAAAAAAAAAAAAAAAAAAAAAAAAAAAAAAAAAAAAAAAAAAAAAAAAAAAAAAAAAAAAAAAAAAAAAAAAAAAAAAAAAAAAAAAAAAAAAAAAAAAAAAAAAAAAAAAAAAAAAAAAAAAAAAAAAAAAAAAAAAAAAAAAAAAAAAAAAAAAAAAAAAAAAAAAAAAAAAAAAAAAAAAAAAAAAAAAAAAAAAAAAAAAAAAAAAAAAAAAAAAAAAAAAAAAAAAAAAAAAAAAAAAAAAAAAAAAAAAAAAAAAAAAAAAAAAAAAAAAAAAAAAAAAAAAAAAAAAAAAAAAAAAAAAAAAAAAAAAAAAAAAAAAAAAAAAAAAAAAAAAAAAAAAAAAAAAAAAAAAAAAAAAAAAAAAAAAAAAAAAAAAAAAAAAAAAAAAAAAAAAAAAAAAAAAAAAAAAAAAAAAAAAAAAAAAAAAAAAAAAAAAAAAAAAAAAAAAAAAAAAAAAAAAAAAAAAAAAAAAAAAAAAAAAAAAAAAAAAAAAAAAAAAAAAAAAAAAAAAAAAAAAAAAAAAAAAAAAAAAAAAAAAAAAAAAAAAAAAAAAAAAAAAAAAAAAAAAAAAAAAAAAAAAAAAAAAAAAAAAAAAAAAAAAAAAAAAAAAAAAAAAAAAAAAAAAAAAAAAAAA==\",\"dtype\":\"int32\",\"order\":\"little\",\"shape\":[289]}},\"selected\":{\"id\":\"2496\"},\"selection_policy\":{\"id\":\"2511\"}},\"id\":\"2495\",\"type\":\"ColumnDataSource\"},{\"attributes\":{\"end\":1.042857142857143,\"reset_end\":1.042857142857143,\"reset_start\":-0.04285714285714286,\"start\":-0.04285714285714286,\"tags\":[[[\"TotalCoinsMined\",\"TotalCoinsMined\",null]]]},\"id\":\"2453\",\"type\":\"Range1d\"},{\"attributes\":{\"margin\":[5,5,5,5],\"name\":\"HSpacer04717\",\"sizing_mode\":\"stretch_width\"},\"id\":\"2732\",\"type\":\"Spacer\"},{\"attributes\":{},\"id\":\"2464\",\"type\":\"LinearScale\"},{\"attributes\":{},\"id\":\"2476\",\"type\":\"SaveTool\"},{\"attributes\":{},\"id\":\"2477\",\"type\":\"PanTool\"},{\"attributes\":{\"angle\":{\"value\":0.0},\"fill_alpha\":{\"value\":1.0},\"fill_color\":{\"value\":\"#e5ae38\"},\"hatch_alpha\":{\"value\":1.0},\"hatch_color\":{\"value\":\"black\"},\"hatch_scale\":{\"value\":12.0},\"hatch_weight\":{\"value\":1.0},\"line_alpha\":{\"value\":1.0},\"line_cap\":{\"value\":\"butt\"},\"line_color\":{\"value\":\"#e5ae38\"},\"line_dash\":{\"value\":[]},\"line_dash_offset\":{\"value\":0},\"line_join\":{\"value\":\"bevel\"},\"line_width\":{\"value\":1},\"marker\":{\"value\":\"circle\"},\"size\":{\"value\":5.477225575051661},\"x\":{\"field\":\"TotalCoinsMined\"},\"y\":{\"field\":\"TotalCoinSupply\"}},\"id\":\"2561\",\"type\":\"Scatter\"},{\"attributes\":{},\"id\":\"2480\",\"type\":\"ResetTool\"},{\"attributes\":{\"fill_alpha\":{\"value\":0.2},\"fill_color\":{\"value\":\"#30a2da\"},\"line_alpha\":{\"value\":0.2},\"line_color\":{\"value\":\"#30a2da\"},\"size\":{\"value\":5.477225575051661},\"x\":{\"field\":\"TotalCoinsMined\"},\"y\":{\"field\":\"TotalCoinSupply\"}},\"id\":\"2500\",\"type\":\"Scatter\"},{\"attributes\":{\"below\":[{\"id\":\"2468\"}],\"center\":[{\"id\":\"2471\"},{\"id\":\"2475\"}],\"height\":300,\"left\":[{\"id\":\"2472\"}],\"margin\":[5,5,5,5],\"min_border_bottom\":10,\"min_border_left\":10,\"min_border_right\":10,\"min_border_top\":10,\"renderers\":[{\"id\":\"2501\"},{\"id\":\"2522\"},{\"id\":\"2544\"},{\"id\":\"2568\"}],\"right\":[{\"id\":\"2513\"}],\"sizing_mode\":\"fixed\",\"title\":{\"id\":\"2460\"},\"toolbar\":{\"id\":\"2482\"},\"width\":700,\"x_range\":{\"id\":\"2453\"},\"x_scale\":{\"id\":\"2464\"},\"y_range\":{\"id\":\"2454\"},\"y_scale\":{\"id\":\"2466\"}},\"id\":\"2459\",\"subtype\":\"Figure\",\"type\":\"Plot\"},{\"attributes\":{},\"id\":\"2478\",\"type\":\"WheelZoomTool\"},{\"attributes\":{\"overlay\":{\"id\":\"2481\"}},\"id\":\"2479\",\"type\":\"BoxZoomTool\"},{\"attributes\":{},\"id\":\"2511\",\"type\":\"UnionRenderers\"},{\"attributes\":{\"fill_color\":{\"value\":\"#30a2da\"},\"line_color\":{\"value\":\"#30a2da\"},\"size\":{\"value\":5.477225575051661},\"x\":{\"field\":\"TotalCoinsMined\"},\"y\":{\"field\":\"TotalCoinSupply\"}},\"id\":\"2498\",\"type\":\"Scatter\"},{\"attributes\":{\"fill_alpha\":{\"value\":0.2},\"fill_color\":{\"value\":\"#fc4f30\"},\"line_alpha\":{\"value\":0.2},\"line_color\":{\"value\":\"#fc4f30\"},\"size\":{\"value\":5.477225575051661},\"x\":{\"field\":\"TotalCoinsMined\"},\"y\":{\"field\":\"TotalCoinSupply\"}},\"id\":\"2521\",\"type\":\"Scatter\"},{\"attributes\":{\"data_source\":{\"id\":\"2495\"},\"glyph\":{\"id\":\"2498\"},\"hover_glyph\":null,\"muted_glyph\":{\"id\":\"2500\"},\"nonselection_glyph\":{\"id\":\"2499\"},\"selection_glyph\":{\"id\":\"2515\"},\"view\":{\"id\":\"2502\"}},\"id\":\"2501\",\"type\":\"GlyphRenderer\"},{\"attributes\":{\"label\":{\"value\":\"1\"},\"renderers\":[{\"id\":\"2522\"}]},\"id\":\"2536\",\"type\":\"LegendItem\"},{\"attributes\":{\"angle\":{\"value\":0.0},\"fill_alpha\":{\"value\":1.0},\"fill_color\":{\"value\":\"#fc4f30\"},\"hatch_alpha\":{\"value\":1.0},\"hatch_color\":{\"value\":\"black\"},\"hatch_scale\":{\"value\":12.0},\"hatch_weight\":{\"value\":1.0},\"line_alpha\":{\"value\":1.0},\"line_cap\":{\"value\":\"butt\"},\"line_color\":{\"value\":\"#fc4f30\"},\"line_dash\":{\"value\":[]},\"line_dash_offset\":{\"value\":0},\"line_join\":{\"value\":\"bevel\"},\"line_width\":{\"value\":1},\"marker\":{\"value\":\"circle\"},\"size\":{\"value\":5.477225575051661},\"x\":{\"field\":\"TotalCoinsMined\"},\"y\":{\"field\":\"TotalCoinSupply\"}},\"id\":\"2537\",\"type\":\"Scatter\"},{\"attributes\":{\"fill_color\":{\"value\":\"#fc4f30\"},\"line_color\":{\"value\":\"#fc4f30\"},\"size\":{\"value\":5.477225575051661},\"x\":{\"field\":\"TotalCoinsMined\"},\"y\":{\"field\":\"TotalCoinSupply\"}},\"id\":\"2519\",\"type\":\"Scatter\"},{\"attributes\":{\"fill_alpha\":{\"value\":0.1},\"fill_color\":{\"value\":\"#fc4f30\"},\"line_alpha\":{\"value\":0.1},\"line_color\":{\"value\":\"#fc4f30\"},\"size\":{\"value\":5.477225575051661},\"x\":{\"field\":\"TotalCoinsMined\"},\"y\":{\"field\":\"TotalCoinSupply\"}},\"id\":\"2520\",\"type\":\"Scatter\"},{\"attributes\":{\"label\":{\"value\":\"0\"},\"renderers\":[{\"id\":\"2501\"}]},\"id\":\"2514\",\"type\":\"LegendItem\"},{\"attributes\":{\"source\":{\"id\":\"2495\"}},\"id\":\"2502\",\"type\":\"CDSView\"},{\"attributes\":{\"source\":{\"id\":\"2516\"}},\"id\":\"2523\",\"type\":\"CDSView\"},{\"attributes\":{\"fill_alpha\":{\"value\":0.1},\"fill_color\":{\"value\":\"#e5ae38\"},\"line_alpha\":{\"value\":0.1},\"line_color\":{\"value\":\"#e5ae38\"},\"size\":{\"value\":5.477225575051661},\"x\":{\"field\":\"TotalCoinsMined\"},\"y\":{\"field\":\"TotalCoinSupply\"}},\"id\":\"2542\",\"type\":\"Scatter\"},{\"attributes\":{},\"id\":\"2534\",\"type\":\"UnionRenderers\"},{\"attributes\":{\"data_source\":{\"id\":\"2516\"},\"glyph\":{\"id\":\"2519\"},\"hover_glyph\":null,\"muted_glyph\":{\"id\":\"2521\"},\"nonselection_glyph\":{\"id\":\"2520\"},\"selection_glyph\":{\"id\":\"2537\"},\"view\":{\"id\":\"2523\"}},\"id\":\"2522\",\"type\":\"GlyphRenderer\"},{\"attributes\":{\"data\":{\"TotalCoinSupply\":{\"__ndarray__\":\"rkfhehSu7z8=\",\"dtype\":\"float64\",\"order\":\"little\",\"shape\":[1]},\"TotalCoinsMined\":{\"__ndarray__\":\"AAAAAAAA8D8=\",\"dtype\":\"float64\",\"order\":\"little\",\"shape\":[1]},\"class\":{\"__ndarray__\":\"AgAAAA==\",\"dtype\":\"int32\",\"order\":\"little\",\"shape\":[1]}},\"selected\":{\"id\":\"2539\"},\"selection_policy\":{\"id\":\"2558\"}},\"id\":\"2538\",\"type\":\"ColumnDataSource\"},{\"attributes\":{\"fill_color\":{\"value\":\"#6d904f\"},\"line_color\":{\"value\":\"#6d904f\"},\"size\":{\"value\":5.477225575051661},\"x\":{\"field\":\"TotalCoinsMined\"},\"y\":{\"field\":\"TotalCoinSupply\"}},\"id\":\"2565\",\"type\":\"Scatter\"},{\"attributes\":{\"bottom_units\":\"screen\",\"fill_alpha\":0.5,\"fill_color\":\"lightgrey\",\"left_units\":\"screen\",\"level\":\"overlay\",\"line_alpha\":1.0,\"line_color\":\"black\",\"line_dash\":[4,4],\"line_width\":2,\"right_units\":\"screen\",\"syncable\":false,\"top_units\":\"screen\"},\"id\":\"2481\",\"type\":\"BoxAnnotation\"},{\"attributes\":{},\"id\":\"2558\",\"type\":\"UnionRenderers\"},{\"attributes\":{\"active_multi\":null,\"tools\":[{\"id\":\"2455\"},{\"id\":\"2476\"},{\"id\":\"2477\"},{\"id\":\"2478\"},{\"id\":\"2479\"},{\"id\":\"2480\"}]},\"id\":\"2482\",\"type\":\"Toolbar\"},{\"attributes\":{\"fill_color\":{\"value\":\"#e5ae38\"},\"line_color\":{\"value\":\"#e5ae38\"},\"size\":{\"value\":5.477225575051661},\"x\":{\"field\":\"TotalCoinsMined\"},\"y\":{\"field\":\"TotalCoinSupply\"}},\"id\":\"2541\",\"type\":\"Scatter\"},{\"attributes\":{\"click_policy\":\"mute\",\"items\":[{\"id\":\"2514\"},{\"id\":\"2536\"},{\"id\":\"2560\"},{\"id\":\"2586\"}],\"location\":[0,0],\"title\":\"class\"},\"id\":\"2513\",\"type\":\"Legend\"},{\"attributes\":{\"label\":{\"value\":\"2\"},\"renderers\":[{\"id\":\"2544\"}]},\"id\":\"2560\",\"type\":\"LegendItem\"},{\"attributes\":{\"data_source\":{\"id\":\"2538\"},\"glyph\":{\"id\":\"2541\"},\"hover_glyph\":null,\"muted_glyph\":{\"id\":\"2543\"},\"nonselection_glyph\":{\"id\":\"2542\"},\"selection_glyph\":{\"id\":\"2561\"},\"view\":{\"id\":\"2545\"}},\"id\":\"2544\",\"type\":\"GlyphRenderer\"},{\"attributes\":{\"callback\":null,\"renderers\":[{\"id\":\"2501\"},{\"id\":\"2522\"},{\"id\":\"2544\"},{\"id\":\"2568\"}],\"tags\":[\"hv_created\"],\"tooltips\":[[\"class\",\"@{class}\"],[\"TotalCoinsMined\",\"@{TotalCoinsMined}\"],[\"TotalCoinSupply\",\"@{TotalCoinSupply}\"]]},\"id\":\"2455\",\"type\":\"HoverTool\"},{\"attributes\":{\"fill_alpha\":{\"value\":0.2},\"fill_color\":{\"value\":\"#e5ae38\"},\"line_alpha\":{\"value\":0.2},\"line_color\":{\"value\":\"#e5ae38\"},\"size\":{\"value\":5.477225575051661},\"x\":{\"field\":\"TotalCoinsMined\"},\"y\":{\"field\":\"TotalCoinSupply\"}},\"id\":\"2543\",\"type\":\"Scatter\"},{\"attributes\":{},\"id\":\"2563\",\"type\":\"Selection\"},{\"attributes\":{\"axis\":{\"id\":\"2468\"},\"grid_line_color\":null,\"ticker\":null},\"id\":\"2471\",\"type\":\"Grid\"},{\"attributes\":{\"margin\":[5,5,5,5],\"name\":\"HSpacer04716\",\"sizing_mode\":\"stretch_width\"},\"id\":\"2452\",\"type\":\"Spacer\"},{\"attributes\":{},\"id\":\"2584\",\"type\":\"UnionRenderers\"},{\"attributes\":{\"angle\":{\"value\":0.0},\"fill_alpha\":{\"value\":1.0},\"fill_color\":{\"value\":\"#30a2da\"},\"hatch_alpha\":{\"value\":1.0},\"hatch_color\":{\"value\":\"black\"},\"hatch_scale\":{\"value\":12.0},\"hatch_weight\":{\"value\":1.0},\"line_alpha\":{\"value\":1.0},\"line_cap\":{\"value\":\"butt\"},\"line_color\":{\"value\":\"#30a2da\"},\"line_dash\":{\"value\":[]},\"line_dash_offset\":{\"value\":0},\"line_join\":{\"value\":\"bevel\"},\"line_width\":{\"value\":1},\"marker\":{\"value\":\"circle\"},\"size\":{\"value\":5.477225575051661},\"x\":{\"field\":\"TotalCoinsMined\"},\"y\":{\"field\":\"TotalCoinSupply\"}},\"id\":\"2515\",\"type\":\"Scatter\"},{\"attributes\":{\"source\":{\"id\":\"2538\"}},\"id\":\"2545\",\"type\":\"CDSView\"},{\"attributes\":{\"label\":{\"value\":\"3\"},\"renderers\":[{\"id\":\"2568\"}]},\"id\":\"2586\",\"type\":\"LegendItem\"},{\"attributes\":{\"fill_alpha\":{\"value\":0.1},\"fill_color\":{\"value\":\"#6d904f\"},\"line_alpha\":{\"value\":0.1},\"line_color\":{\"value\":\"#6d904f\"},\"size\":{\"value\":5.477225575051661},\"x\":{\"field\":\"TotalCoinsMined\"},\"y\":{\"field\":\"TotalCoinSupply\"}},\"id\":\"2566\",\"type\":\"Scatter\"},{\"attributes\":{\"data\":{\"TotalCoinSupply\":{\"__ndarray__\":\"lPYGX5hMdT/8qfHSTWJQP3sUrkfhenQ/LEMc6+I2Gj8=\",\"dtype\":\"float64\",\"order\":\"little\",\"shape\":[4]},\"TotalCoinsMined\":{\"__ndarray__\":\"eHs1s8Ogfz//4pYZ13N8PwAAAAAAAAAAuQv0Nj7AeD8=\",\"dtype\":\"float64\",\"order\":\"little\",\"shape\":[4]},\"class\":{\"__ndarray__\":\"AwAAAAMAAAADAAAAAwAAAA==\",\"dtype\":\"int32\",\"order\":\"little\",\"shape\":[4]}},\"selected\":{\"id\":\"2563\"},\"selection_policy\":{\"id\":\"2584\"}},\"id\":\"2562\",\"type\":\"ColumnDataSource\"},{\"attributes\":{},\"id\":\"2494\",\"type\":\"AllLabels\"},{\"attributes\":{\"data_source\":{\"id\":\"2562\"},\"glyph\":{\"id\":\"2565\"},\"hover_glyph\":null,\"muted_glyph\":{\"id\":\"2567\"},\"nonselection_glyph\":{\"id\":\"2566\"},\"selection_glyph\":{\"id\":\"2587\"},\"view\":{\"id\":\"2569\"}},\"id\":\"2568\",\"type\":\"GlyphRenderer\"},{\"attributes\":{\"text_color\":\"black\",\"text_font_size\":\"12pt\"},\"id\":\"2460\",\"type\":\"Title\"},{\"attributes\":{\"end\":1.1,\"reset_end\":1.1,\"reset_start\":-0.1,\"start\":-0.1,\"tags\":[[[\"TotalCoinSupply\",\"TotalCoinSupply\",null]]]},\"id\":\"2454\",\"type\":\"Range1d\"},{\"attributes\":{\"angle\":{\"value\":0.0},\"fill_alpha\":{\"value\":1.0},\"fill_color\":{\"value\":\"#6d904f\"},\"hatch_alpha\":{\"value\":1.0},\"hatch_color\":{\"value\":\"black\"},\"hatch_scale\":{\"value\":12.0},\"hatch_weight\":{\"value\":1.0},\"line_alpha\":{\"value\":1.0},\"line_cap\":{\"value\":\"butt\"},\"line_color\":{\"value\":\"#6d904f\"},\"line_dash\":{\"value\":[]},\"line_dash_offset\":{\"value\":0},\"line_join\":{\"value\":\"bevel\"},\"line_width\":{\"value\":1},\"marker\":{\"value\":\"circle\"},\"size\":{\"value\":5.477225575051661},\"x\":{\"field\":\"TotalCoinsMined\"},\"y\":{\"field\":\"TotalCoinSupply\"}},\"id\":\"2587\",\"type\":\"Scatter\"},{\"attributes\":{},\"id\":\"2496\",\"type\":\"Selection\"},{\"attributes\":{},\"id\":\"2469\",\"type\":\"BasicTicker\"},{\"attributes\":{},\"id\":\"2517\",\"type\":\"Selection\"},{\"attributes\":{\"children\":[{\"id\":\"2452\"},{\"id\":\"2459\"},{\"id\":\"2732\"}],\"margin\":[0,0,0,0],\"name\":\"Row04712\",\"tags\":[\"embedded\"]},\"id\":\"2451\",\"type\":\"Row\"},{\"attributes\":{\"fill_alpha\":{\"value\":0.1},\"fill_color\":{\"value\":\"#30a2da\"},\"line_alpha\":{\"value\":0.1},\"line_color\":{\"value\":\"#30a2da\"},\"size\":{\"value\":5.477225575051661},\"x\":{\"field\":\"TotalCoinsMined\"},\"y\":{\"field\":\"TotalCoinSupply\"}},\"id\":\"2499\",\"type\":\"Scatter\"},{\"attributes\":{\"fill_alpha\":{\"value\":0.2},\"fill_color\":{\"value\":\"#6d904f\"},\"line_alpha\":{\"value\":0.2},\"line_color\":{\"value\":\"#6d904f\"},\"size\":{\"value\":5.477225575051661},\"x\":{\"field\":\"TotalCoinsMined\"},\"y\":{\"field\":\"TotalCoinSupply\"}},\"id\":\"2567\",\"type\":\"Scatter\"},{\"attributes\":{},\"id\":\"2539\",\"type\":\"Selection\"},{\"attributes\":{\"source\":{\"id\":\"2562\"}},\"id\":\"2569\",\"type\":\"CDSView\"},{\"attributes\":{},\"id\":\"2466\",\"type\":\"LinearScale\"},{\"attributes\":{},\"id\":\"2491\",\"type\":\"AllLabels\"},{\"attributes\":{\"axis_label\":\"TotalCoinsMined\",\"formatter\":{\"id\":\"2489\"},\"major_label_policy\":{\"id\":\"2491\"},\"ticker\":{\"id\":\"2469\"}},\"id\":\"2468\",\"type\":\"LinearAxis\"}],\"root_ids\":[\"2451\"]},\"title\":\"Bokeh Application\",\"version\":\"2.3.2\"}};\n",
       "    var render_items = [{\"docid\":\"2bf5966a-6ae5-4842-9014-ffb0b92df5f5\",\"root_ids\":[\"2451\"],\"roots\":{\"2451\":\"9e0369bc-40bb-4cf0-94c2-7bef27096580\"}}];\n",
       "    root.Bokeh.embed.embed_items_notebook(docs_json, render_items);\n",
       "  }\n",
       "  if (root.Bokeh !== undefined && root.Bokeh.Panel !== undefined) {\n",
       "    embed_document(root);\n",
       "  } else {\n",
       "    var attempts = 0;\n",
       "    var timer = setInterval(function(root) {\n",
       "      if (root.Bokeh !== undefined && root.Bokeh.Panel !== undefined) {\n",
       "        clearInterval(timer);\n",
       "        embed_document(root);\n",
       "      } else if (document.readyState == \"complete\") {\n",
       "        attempts++;\n",
       "        if (attempts > 200) {\n",
       "          clearInterval(timer);\n",
       "          console.log(\"Bokeh: ERROR: Unable to run BokehJS code because BokehJS library is missing\");\n",
       "        }\n",
       "      }\n",
       "    }, 25, root)\n",
       "  }\n",
       "})(window);</script>"
      ],
      "text/plain": [
       ":NdOverlay   [class]\n",
       "   :Scatter   [TotalCoinsMined]   (TotalCoinSupply,class)"
      ]
     },
     "execution_count": 96,
     "metadata": {
      "application/vnd.holoviews_exec.v0+json": {
       "id": "2451"
      }
     },
     "output_type": "execute_result"
    }
   ],
   "source": [
    "# Create a hvplot.scatter plot using x=\"TotalCoinsMined\" and y=\"TotalCoinSupply\".\n",
    "plot_df.hvplot.scatter(\n",
    "    x=\"TotalCoinsMined\",\n",
    "    y=\"TotalCoinSupply\",\n",
    "    hover_cols=[\"class\"],\n",
    "    by=\"class\"\n",
    ")"
   ]
  },
  {
   "cell_type": "code",
   "execution_count": null,
   "metadata": {},
   "outputs": [],
   "source": []
  }
 ],
 "metadata": {
  "file_extension": ".py",
  "kernelspec": {
   "display_name": "PythonData",
   "language": "python",
   "name": "pythondata"
  },
  "language_info": {
   "codemirror_mode": {
    "name": "ipython",
    "version": 3
   },
   "file_extension": ".py",
   "mimetype": "text/x-python",
   "name": "python",
   "nbconvert_exporter": "python",
   "pygments_lexer": "ipython3",
   "version": "3.7.10"
  },
  "latex_envs": {
   "LaTeX_envs_menu_present": true,
   "autoclose": false,
   "autocomplete": true,
   "bibliofile": "biblio.bib",
   "cite_by": "apalike",
   "current_citInitial": 1,
   "eqLabelWithNumbers": true,
   "eqNumInitial": 1,
   "hotkeys": {
    "equation": "Ctrl-E",
    "itemize": "Ctrl-I"
   },
   "labels_anchors": false,
   "latex_user_defs": false,
   "report_style_numbering": false,
   "user_envs_cfg": false
  },
  "mimetype": "text/x-python",
  "name": "python",
  "npconvert_exporter": "python",
  "pygments_lexer": "ipython3",
  "version": 3
 },
 "nbformat": 4,
 "nbformat_minor": 2
}
